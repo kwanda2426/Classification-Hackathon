{
  "nbformat": 4,
  "nbformat_minor": 5,
  "metadata": {
    "colab": {
      "name": "Team 10 Project.ipynb",
      "provenance": [],
      "include_colab_link": true
    },
    "kernelspec": {
      "display_name": "Python 3",
      "language": "python",
      "name": "python3"
    },
    "language_info": {
      "codemirror_mode": {
        "name": "ipython",
        "version": 3
      },
      "file_extension": ".py",
      "mimetype": "text/x-python",
      "name": "python",
      "nbconvert_exporter": "python",
      "pygments_lexer": "ipython3",
      "version": "3.8.8"
    }
  },
  "cells": [
    {
      "cell_type": "markdown",
      "metadata": {
        "id": "view-in-github",
        "colab_type": "text"
      },
      "source": [
        "<a href=\"https://colab.research.google.com/github/kwanda2426/Classification-Hackathon/blob/main/hackathon.ipynb\" target=\"_parent\"><img src=\"https://colab.research.google.com/assets/colab-badge.svg\" alt=\"Open In Colab\"/></a>"
      ]
    },
    {
      "cell_type": "markdown",
      "metadata": {
        "id": "5aab9478"
      },
      "source": [
        "<img src=\"https://explore-datascience.net/images/images_admissions2/main-logo.jpg\">"
      ],
      "id": "5aab9478"
    },
    {
      "cell_type": "markdown",
      "metadata": {
        "id": "dec97410"
      },
      "source": [
        "<img src=\"https://ak.picdn.net/shutterstock/videos/29784268/thumb/12.jpg\" width=1200 height=300 />"
      ],
      "id": "dec97410"
    },
    {
      "cell_type": "markdown",
      "metadata": {
        "id": "1795aa8b"
      },
      "source": [
        "<img src=\"https://image.slidesharecdn.com/attacksimulationhuntingmadeeasy-171204085132/95/attack-simulation-and-hunting-1-638.jpg?cb=1512377787\" width=1200 height=300 />"
      ],
      "id": "1795aa8b"
    },
    {
      "cell_type": "markdown",
      "metadata": {
        "id": "81ec0ed2"
      },
      "source": [
        "<a id=\"top\"></a>\n",
        "#  Classification Hackathon \n",
        "##### Kwanda Mazibuko <sup> </sup>"
      ],
      "id": "81ec0ed2"
    },
    {
      "cell_type": "markdown",
      "metadata": {
        "id": "c5877ba3"
      },
      "source": [
        "## Table of contents\n",
        "1. [Introduction](#intro)\n",
        "2. [Data Collection](#data)\n",
        "3. [Data Preprocessing](#cleaning)\n",
        "4. [Exploratory Data Analysis](#EDA)\n",
        "5. [Feature Engineering and Feature Selection](#features)\n",
        "6. [Modelling](#model)\n",
        "7. [Model Evaluation](#evaluation)\n",
        "8. [Hyperparameter Tuning](#tuning)\n",
        "9. [Conclusion](#conclusion) "
      ],
      "id": "c5877ba3"
    },
    {
      "cell_type": "markdown",
      "metadata": {
        "id": "d9565abd"
      },
      "source": [
        "<a id=\"intro\"></a>\n",
        "## 1. Introduction"
      ],
      "id": "d9565abd"
    },
    {
      "cell_type": "markdown",
      "metadata": {
        "id": "fd672a8e"
      },
      "source": [
        "South Africa is a multicultural society that is characterised by its rich linguistic diversity. Language is an indispensable tool that can be used to deepen democracy and also contribute to the social, cultural, intellectual, economic and political life of the South African society.\n",
        "\n",
        "\n",
        "### Problem Statement\n",
        "\n",
        "The country is multilingual with 11 official languages, each of which is guaranteed equal status. Most South Africans are multilingual and able to speak at least two or more of the official languages.With such a multilingual population, it is only obvious that our systems and devices also communicate in multi-languages.\n",
        "\n",
        "### Objectives\n",
        "The key objective is to build a Machine Learning model that will take text which is in any of South Africa's 11 Official languages and identify which language the text is in."
      ],
      "id": "fd672a8e"
    },
    {
      "cell_type": "markdown",
      "metadata": {
        "id": "7311d5a9"
      },
      "source": [
        "<a id=\"data\"></a>\n",
        "## 2. Data Collection\n",
        "\n",
        "Data collection is the process of gathering and measuring information on variables of interest, in an established systematic fashion that enables one to answer stated questions, test hypotheses, and evaluate outcomes. We don't need to collect data because it has been provided to us with different classes.\n",
        "\n",
        "#### Class Description \n",
        "\n",
        "- afr - Afrikaans\n",
        "- eng - English\n",
        "- nbl - isiNdebele\n",
        "- nso - Sepedi\n",
        "- sot - Sesotho\n",
        "- ssw - siSwati\n",
        "- tsn - Setswana\n",
        "- tso - Xitsonga\n",
        "- ven - Tshivenda\n",
        "- xho - isiXhosa\n",
        "- zul - isiZulu"
      ],
      "id": "7311d5a9"
    },
    {
      "cell_type": "code",
      "metadata": {
        "colab": {
          "base_uri": "https://localhost:8080/"
        },
        "id": "Mqc7IB59PmmX",
        "outputId": "a2631d15-92e9-438a-c4f5-0fc45afff500"
      },
      "source": [
        "!pip install comet_ml\n",
        "!pip install unidecode\n",
        "!pip install unicode\n",
        "!pip install wordcloud"
      ],
      "id": "Mqc7IB59PmmX",
      "execution_count": 2,
      "outputs": [
        {
          "output_type": "stream",
          "name": "stdout",
          "text": [
            "Collecting comet_ml\n",
            "  Downloading comet_ml-3.23.0-py2.py3-none-any.whl (308 kB)\n",
            "\u001b[?25l\r\u001b[K     |█                               | 10 kB 26.7 MB/s eta 0:00:01\r\u001b[K     |██▏                             | 20 kB 28.6 MB/s eta 0:00:01\r\u001b[K     |███▏                            | 30 kB 12.9 MB/s eta 0:00:01\r\u001b[K     |████▎                           | 40 kB 9.8 MB/s eta 0:00:01\r\u001b[K     |█████▎                          | 51 kB 4.3 MB/s eta 0:00:01\r\u001b[K     |██████▍                         | 61 kB 4.5 MB/s eta 0:00:01\r\u001b[K     |███████▌                        | 71 kB 4.4 MB/s eta 0:00:01\r\u001b[K     |████████▌                       | 81 kB 5.0 MB/s eta 0:00:01\r\u001b[K     |█████████▋                      | 92 kB 4.9 MB/s eta 0:00:01\r\u001b[K     |██████████▋                     | 102 kB 4.2 MB/s eta 0:00:01\r\u001b[K     |███████████▊                    | 112 kB 4.2 MB/s eta 0:00:01\r\u001b[K     |████████████▊                   | 122 kB 4.2 MB/s eta 0:00:01\r\u001b[K     |█████████████▉                  | 133 kB 4.2 MB/s eta 0:00:01\r\u001b[K     |███████████████                 | 143 kB 4.2 MB/s eta 0:00:01\r\u001b[K     |████████████████                | 153 kB 4.2 MB/s eta 0:00:01\r\u001b[K     |█████████████████               | 163 kB 4.2 MB/s eta 0:00:01\r\u001b[K     |██████████████████              | 174 kB 4.2 MB/s eta 0:00:01\r\u001b[K     |███████████████████▏            | 184 kB 4.2 MB/s eta 0:00:01\r\u001b[K     |████████████████████▏           | 194 kB 4.2 MB/s eta 0:00:01\r\u001b[K     |█████████████████████▎          | 204 kB 4.2 MB/s eta 0:00:01\r\u001b[K     |██████████████████████▍         | 215 kB 4.2 MB/s eta 0:00:01\r\u001b[K     |███████████████████████▍        | 225 kB 4.2 MB/s eta 0:00:01\r\u001b[K     |████████████████████████▌       | 235 kB 4.2 MB/s eta 0:00:01\r\u001b[K     |█████████████████████████▌      | 245 kB 4.2 MB/s eta 0:00:01\r\u001b[K     |██████████████████████████▋     | 256 kB 4.2 MB/s eta 0:00:01\r\u001b[K     |███████████████████████████▋    | 266 kB 4.2 MB/s eta 0:00:01\r\u001b[K     |████████████████████████████▊   | 276 kB 4.2 MB/s eta 0:00:01\r\u001b[K     |█████████████████████████████▉  | 286 kB 4.2 MB/s eta 0:00:01\r\u001b[K     |██████████████████████████████▉ | 296 kB 4.2 MB/s eta 0:00:01\r\u001b[K     |████████████████████████████████| 307 kB 4.2 MB/s eta 0:00:01\r\u001b[K     |████████████████████████████████| 308 kB 4.2 MB/s \n",
            "\u001b[?25hRequirement already satisfied: six in /usr/local/lib/python3.7/dist-packages (from comet_ml) (1.15.0)\n",
            "Collecting websocket-client>=0.55.0\n",
            "  Downloading websocket_client-1.2.1-py2.py3-none-any.whl (52 kB)\n",
            "\u001b[K     |████████████████████████████████| 52 kB 1.4 MB/s \n",
            "\u001b[?25hRequirement already satisfied: wrapt>=1.11.2 in /usr/local/lib/python3.7/dist-packages (from comet_ml) (1.13.3)\n",
            "Collecting wurlitzer>=1.0.2\n",
            "  Downloading wurlitzer-3.0.2-py3-none-any.whl (7.3 kB)\n",
            "Collecting dulwich>=0.20.6\n",
            "  Downloading dulwich-0.20.26-cp37-cp37m-manylinux_2_5_x86_64.manylinux1_x86_64.manylinux_2_12_x86_64.manylinux2010_x86_64.whl (546 kB)\n",
            "\u001b[K     |████████████████████████████████| 546 kB 48.9 MB/s \n",
            "\u001b[?25hRequirement already satisfied: jsonschema!=3.1.0,>=2.6.0 in /usr/local/lib/python3.7/dist-packages (from comet_ml) (2.6.0)\n",
            "Collecting everett[ini]>=1.0.1\n",
            "  Downloading everett-2.0.1-py2.py3-none-any.whl (33 kB)\n",
            "Requirement already satisfied: nvidia-ml-py3>=7.352.0 in /usr/local/lib/python3.7/dist-packages (from comet_ml) (7.352.0)\n",
            "Requirement already satisfied: requests>=2.18.4 in /usr/local/lib/python3.7/dist-packages (from comet_ml) (2.23.0)\n",
            "Collecting requests-toolbelt>=0.8.0\n",
            "  Downloading requests_toolbelt-0.9.1-py2.py3-none-any.whl (54 kB)\n",
            "\u001b[K     |████████████████████████████████| 54 kB 2.8 MB/s \n",
            "\u001b[?25hCollecting semantic-version>=2.8.0\n",
            "  Downloading semantic_version-2.8.5-py2.py3-none-any.whl (15 kB)\n",
            "Requirement already satisfied: certifi in /usr/local/lib/python3.7/dist-packages (from dulwich>=0.20.6->comet_ml) (2021.10.8)\n",
            "Requirement already satisfied: urllib3>=1.24.1 in /usr/local/lib/python3.7/dist-packages (from dulwich>=0.20.6->comet_ml) (1.24.3)\n",
            "Collecting configobj\n",
            "  Downloading configobj-5.0.6.tar.gz (33 kB)\n",
            "Requirement already satisfied: chardet<4,>=3.0.2 in /usr/local/lib/python3.7/dist-packages (from requests>=2.18.4->comet_ml) (3.0.4)\n",
            "Requirement already satisfied: idna<3,>=2.5 in /usr/local/lib/python3.7/dist-packages (from requests>=2.18.4->comet_ml) (2.10)\n",
            "Building wheels for collected packages: configobj\n",
            "  Building wheel for configobj (setup.py) ... \u001b[?25l\u001b[?25hdone\n",
            "  Created wheel for configobj: filename=configobj-5.0.6-py3-none-any.whl size=34546 sha256=5ecba8c6f3201a24519207ecaa799be1406147aeeb250f9cd173f7447c609f67\n",
            "  Stored in directory: /root/.cache/pip/wheels/0d/c4/19/13d74440f2a571841db6b6e0a273694327498884dafb9cf978\n",
            "Successfully built configobj\n",
            "Installing collected packages: everett, configobj, wurlitzer, websocket-client, semantic-version, requests-toolbelt, dulwich, comet-ml\n",
            "Successfully installed comet-ml-3.23.0 configobj-5.0.6 dulwich-0.20.26 everett-2.0.1 requests-toolbelt-0.9.1 semantic-version-2.8.5 websocket-client-1.2.1 wurlitzer-3.0.2\n",
            "Collecting unidecode\n",
            "  Downloading Unidecode-1.3.2-py3-none-any.whl (235 kB)\n",
            "\u001b[K     |████████████████████████████████| 235 kB 4.3 MB/s \n",
            "\u001b[?25hInstalling collected packages: unidecode\n",
            "Successfully installed unidecode-1.3.2\n",
            "Collecting unicode\n",
            "  Downloading unicode-2.8-py2.py3-none-any.whl (14 kB)\n",
            "Installing collected packages: unicode\n",
            "Successfully installed unicode-2.8\n",
            "Requirement already satisfied: wordcloud in /usr/local/lib/python3.7/dist-packages (1.5.0)\n",
            "Requirement already satisfied: pillow in /usr/local/lib/python3.7/dist-packages (from wordcloud) (7.1.2)\n",
            "Requirement already satisfied: numpy>=1.6.1 in /usr/local/lib/python3.7/dist-packages (from wordcloud) (1.19.5)\n"
          ]
        }
      ]
    },
    {
      "cell_type": "code",
      "metadata": {
        "colab": {
          "base_uri": "https://localhost:8080/"
        },
        "id": "0edc932a",
        "outputId": "66b68694-44dc-4ac6-d467-770f6c99fe57"
      },
      "source": [
        "# Data manipulation\n",
        "import pandas as pd\n",
        "import numpy as np\n",
        "import nltk\n",
        "nltk.download('wordnet')\n",
        "nltk.download('stopwords')\n",
        "nltk.download('averaged_perceptron_tagger')\n",
        "nltk.download('punkt')\n",
        "import unidecode\n",
        "import unicodedata\n",
        "from nltk.tokenize import word_tokenize, TreebankWordTokenizer\n",
        "from nltk import word_tokenize, pos_tag, pos_tag_sents\n",
        "from nltk.corpus import stopwords, wordnet\n",
        "from nltk.stem import WordNetLemmatizer\n",
        "from collections import Counter\n",
        "# For searching patterns on the tweets (regex)\n",
        "import re\n",
        "# datetime\n",
        "import datetime\n",
        "\n",
        "# Libraries for data preparation and model building\n",
        "from sklearn.pipeline import Pipeline\n",
        "import statsmodels.formula.api as sm\n",
        "from statsmodels.formula.api import ols\n",
        "from sklearn import metrics\n",
        "from sklearn.svm import SVC\n",
        "from sklearn.svm import LinearSVC\n",
        "from sklearn.model_selection import train_test_split, GridSearchCV\n",
        "from sklearn.linear_model import LogisticRegression\n",
        "from sklearn.linear_model import SGDClassifier\n",
        "from sklearn.feature_extraction.text import TfidfTransformer\n",
        "from sklearn.pipeline import Pipeline\n",
        "from sklearn.feature_extraction.text import CountVectorizer\n",
        "from sklearn.tree import DecisionTreeClassifier\n",
        "from sklearn.neighbors import KNeighborsClassifier\n",
        "from sklearn.feature_extraction.text import TfidfVectorizer\n",
        "from sklearn.metrics import f1_score, precision_score, recall_score, confusion_matrix, accuracy_score\n",
        "from sklearn.model_selection import cross_val_score\n",
        "from sklearn.model_selection import RepeatedKFold\n",
        "from sklearn.feature_selection import RFE\n",
        "from sklearn.feature_selection import RFECV\n",
        "from sklearn.feature_selection import SelectKBest, chi2\n",
        "from scipy.stats import boxcox, zscore\n",
        "from sklearn.metrics import mean_squared_error\n",
        "from sklearn.tree import DecisionTreeRegressor\n",
        "from sklearn.compose import ColumnTransformer\n",
        "from sklearn.ensemble import RandomForestClassifier\n",
        "from sklearn.model_selection import train_test_split, KFold, cross_val_score, GridSearchCV\n",
        "from sklearn.preprocessing import LabelEncoder, OneHotEncoder, StandardScaler, PolynomialFeatures\n",
        "\n",
        "# visualizations\n",
        "import plotly.express as px\n",
        "import plotly.graph_objects as go\n",
        "import matplotlib.pyplot as plt\n",
        "import seaborn as sns\n",
        "from wordcloud import WordCloud\n",
        "# saving my model\n",
        "import pickle\n",
        "\n",
        "#ignoring warnings\n",
        "import warnings\n",
        "warnings.filterwarnings('ignore')\n",
        "%matplotlib inline"
      ],
      "id": "0edc932a",
      "execution_count": 3,
      "outputs": [
        {
          "output_type": "stream",
          "name": "stdout",
          "text": [
            "[nltk_data] Downloading package wordnet to /root/nltk_data...\n",
            "[nltk_data]   Package wordnet is already up-to-date!\n",
            "[nltk_data] Downloading package stopwords to /root/nltk_data...\n",
            "[nltk_data]   Package stopwords is already up-to-date!\n",
            "[nltk_data] Downloading package averaged_perceptron_tagger to\n",
            "[nltk_data]     /root/nltk_data...\n",
            "[nltk_data]   Package averaged_perceptron_tagger is already up-to-\n",
            "[nltk_data]       date!\n",
            "[nltk_data] Downloading package punkt to /root/nltk_data...\n",
            "[nltk_data]   Package punkt is already up-to-date!\n"
          ]
        },
        {
          "output_type": "stream",
          "name": "stderr",
          "text": [
            "/usr/local/lib/python3.7/dist-packages/statsmodels/tools/_testing.py:19: FutureWarning: pandas.util.testing is deprecated. Use the functions in the public API at pandas.testing instead.\n",
            "  import pandas.util.testing as tm\n"
          ]
        }
      ]
    },
    {
      "cell_type": "code",
      "metadata": {
        "colab": {
          "base_uri": "https://localhost:8080/",
          "height": 206
        },
        "id": "0fa9a342",
        "outputId": "67e1f45c-a822-4d5e-cf76-1631728a0136"
      },
      "source": [
        "# Read data\n",
        "df_test = pd.read_csv('https://raw.githubusercontent.com/kwanda2426/Classification-Hackathon/main/Data/test_set.csv')\n",
        "df_train = pd.read_csv('https://raw.githubusercontent.com/kwanda2426/Classification-Hackathon/main/Data/train_set.csv')\n",
        "df_train.head()"
      ],
      "id": "0fa9a342",
      "execution_count": 4,
      "outputs": [
        {
          "output_type": "execute_result",
          "data": {
            "text/html": [
              "<div>\n",
              "<style scoped>\n",
              "    .dataframe tbody tr th:only-of-type {\n",
              "        vertical-align: middle;\n",
              "    }\n",
              "\n",
              "    .dataframe tbody tr th {\n",
              "        vertical-align: top;\n",
              "    }\n",
              "\n",
              "    .dataframe thead th {\n",
              "        text-align: right;\n",
              "    }\n",
              "</style>\n",
              "<table border=\"1\" class=\"dataframe\">\n",
              "  <thead>\n",
              "    <tr style=\"text-align: right;\">\n",
              "      <th></th>\n",
              "      <th>lang_id</th>\n",
              "      <th>text</th>\n",
              "    </tr>\n",
              "  </thead>\n",
              "  <tbody>\n",
              "    <tr>\n",
              "      <th>0</th>\n",
              "      <td>xho</td>\n",
              "      <td>umgaqo-siseko wenza amalungiselelo kumaziko ax...</td>\n",
              "    </tr>\n",
              "    <tr>\n",
              "      <th>1</th>\n",
              "      <td>xho</td>\n",
              "      <td>i-dha iya kuba nobulumko bokubeka umsebenzi na...</td>\n",
              "    </tr>\n",
              "    <tr>\n",
              "      <th>2</th>\n",
              "      <td>eng</td>\n",
              "      <td>the province of kwazulu-natal department of tr...</td>\n",
              "    </tr>\n",
              "    <tr>\n",
              "      <th>3</th>\n",
              "      <td>nso</td>\n",
              "      <td>o netefatša gore o ba file dilo ka moka tše le...</td>\n",
              "    </tr>\n",
              "    <tr>\n",
              "      <th>4</th>\n",
              "      <td>ven</td>\n",
              "      <td>khomishini ya ndinganyiso ya mbeu yo ewa maana...</td>\n",
              "    </tr>\n",
              "  </tbody>\n",
              "</table>\n",
              "</div>"
            ],
            "text/plain": [
              "  lang_id                                               text\n",
              "0     xho  umgaqo-siseko wenza amalungiselelo kumaziko ax...\n",
              "1     xho  i-dha iya kuba nobulumko bokubeka umsebenzi na...\n",
              "2     eng  the province of kwazulu-natal department of tr...\n",
              "3     nso  o netefatša gore o ba file dilo ka moka tše le...\n",
              "4     ven  khomishini ya ndinganyiso ya mbeu yo ewa maana..."
            ]
          },
          "metadata": {},
          "execution_count": 4
        }
      ]
    },
    {
      "cell_type": "code",
      "metadata": {
        "colab": {
          "base_uri": "https://localhost:8080/",
          "height": 206
        },
        "id": "5fa886db",
        "outputId": "4d74151b-ac2e-4745-a282-3240f6809bb5"
      },
      "source": [
        "df_test.head()"
      ],
      "id": "5fa886db",
      "execution_count": 5,
      "outputs": [
        {
          "output_type": "execute_result",
          "data": {
            "text/html": [
              "<div>\n",
              "<style scoped>\n",
              "    .dataframe tbody tr th:only-of-type {\n",
              "        vertical-align: middle;\n",
              "    }\n",
              "\n",
              "    .dataframe tbody tr th {\n",
              "        vertical-align: top;\n",
              "    }\n",
              "\n",
              "    .dataframe thead th {\n",
              "        text-align: right;\n",
              "    }\n",
              "</style>\n",
              "<table border=\"1\" class=\"dataframe\">\n",
              "  <thead>\n",
              "    <tr style=\"text-align: right;\">\n",
              "      <th></th>\n",
              "      <th>index</th>\n",
              "      <th>text</th>\n",
              "    </tr>\n",
              "  </thead>\n",
              "  <tbody>\n",
              "    <tr>\n",
              "      <th>0</th>\n",
              "      <td>1</td>\n",
              "      <td>Mmasepala, fa maemo a a kgethegileng a letlele...</td>\n",
              "    </tr>\n",
              "    <tr>\n",
              "      <th>1</th>\n",
              "      <td>2</td>\n",
              "      <td>Uzakwaziswa ngokufaneleko nakungafuneka eminye...</td>\n",
              "    </tr>\n",
              "    <tr>\n",
              "      <th>2</th>\n",
              "      <td>3</td>\n",
              "      <td>Tshivhumbeo tshi fana na ngano dza vhathu.</td>\n",
              "    </tr>\n",
              "    <tr>\n",
              "      <th>3</th>\n",
              "      <td>4</td>\n",
              "      <td>Kube inja nelikati betingevakala kutsi titsini...</td>\n",
              "    </tr>\n",
              "    <tr>\n",
              "      <th>4</th>\n",
              "      <td>5</td>\n",
              "      <td>Winste op buitelandse valuta.</td>\n",
              "    </tr>\n",
              "  </tbody>\n",
              "</table>\n",
              "</div>"
            ],
            "text/plain": [
              "   index                                               text\n",
              "0      1  Mmasepala, fa maemo a a kgethegileng a letlele...\n",
              "1      2  Uzakwaziswa ngokufaneleko nakungafuneka eminye...\n",
              "2      3         Tshivhumbeo tshi fana na ngano dza vhathu.\n",
              "3      4  Kube inja nelikati betingevakala kutsi titsini...\n",
              "4      5                      Winste op buitelandse valuta."
            ]
          },
          "metadata": {},
          "execution_count": 5
        }
      ]
    },
    {
      "cell_type": "markdown",
      "metadata": {
        "id": "e9f119f4"
      },
      "source": [
        "### Data Overview\n",
        "\n",
        "**Train dataset**"
      ],
      "id": "e9f119f4"
    },
    {
      "cell_type": "code",
      "metadata": {
        "colab": {
          "base_uri": "https://localhost:8080/"
        },
        "id": "d394c7c8",
        "outputId": "0a37fc56-4108-4456-a19d-5435962ebc30"
      },
      "source": [
        "# Checking how our training dataset looks like\n",
        "print(\"Rows    : \", df_train.shape[0])\n",
        "\n",
        "print(\"Columns : \", df_train.shape[1])\n",
        "\n",
        "print(\"\\nMissing values: \", df_train.isnull().sum().values.sum())\n",
        "\n",
        "print(\"\\nInformation about the data: \")\n",
        "print(\"  \\n\", df_train.info())\n",
        " \n",
        "print(\"\\nAbout the data: \\n\")\n",
        "\n",
        "# Check how many unique items are in each column of the dateframe\n",
        "for col_name in df_train.columns:\n",
        "    unique_out = len(df_train[col_name].unique())\n",
        "    print(f\"Feature '{col_name}' has {unique_out} unique categories\") "
      ],
      "id": "d394c7c8",
      "execution_count": 6,
      "outputs": [
        {
          "output_type": "stream",
          "name": "stdout",
          "text": [
            "Rows    :  33000\n",
            "Columns :  2\n",
            "\n",
            "Missing values:  0\n",
            "\n",
            "Information about the data: \n",
            "<class 'pandas.core.frame.DataFrame'>\n",
            "RangeIndex: 33000 entries, 0 to 32999\n",
            "Data columns (total 2 columns):\n",
            " #   Column   Non-Null Count  Dtype \n",
            "---  ------   --------------  ----- \n",
            " 0   lang_id  33000 non-null  object\n",
            " 1   text     33000 non-null  object\n",
            "dtypes: object(2)\n",
            "memory usage: 515.8+ KB\n",
            "  \n",
            " None\n",
            "\n",
            "About the data: \n",
            "\n",
            "Feature 'lang_id' has 11 unique categories\n",
            "Feature 'text' has 29948 unique categories\n"
          ]
        }
      ]
    },
    {
      "cell_type": "markdown",
      "metadata": {
        "id": "36746705"
      },
      "source": [
        "**Test dataset**"
      ],
      "id": "36746705"
    },
    {
      "cell_type": "code",
      "metadata": {
        "colab": {
          "base_uri": "https://localhost:8080/"
        },
        "id": "bc875a75",
        "outputId": "8cae8767-2e3e-46e4-e664-4e9baa68220b"
      },
      "source": [
        "# Checking how our data looks like\n",
        "print(\"Rows    : \", df_test.shape[0])\n",
        "\n",
        "print(\"Columns : \", df_test.shape[1])\n",
        "\n",
        "print(\"\\nMissing values: \", df_test.isnull().sum().values.sum())\n",
        "\n",
        "print(\"\\nInformation about the data: \")\n",
        "print(\"  \\n\", df_test.info())\n",
        " \n",
        "print(\"\\nAbout the data: \\n\")\n",
        "\n",
        "# Check how many unique items are in each column of the dateframe\n",
        "for col_name in df_test.columns:\n",
        "    unique_out = len(df_test[col_name].unique())\n",
        "    print(f\"Feature '{col_name}' has {unique_out} unique categories\") "
      ],
      "id": "bc875a75",
      "execution_count": 7,
      "outputs": [
        {
          "output_type": "stream",
          "name": "stdout",
          "text": [
            "Rows    :  5682\n",
            "Columns :  2\n",
            "\n",
            "Missing values:  0\n",
            "\n",
            "Information about the data: \n",
            "<class 'pandas.core.frame.DataFrame'>\n",
            "RangeIndex: 5682 entries, 0 to 5681\n",
            "Data columns (total 2 columns):\n",
            " #   Column  Non-Null Count  Dtype \n",
            "---  ------  --------------  ----- \n",
            " 0   index   5682 non-null   int64 \n",
            " 1   text    5682 non-null   object\n",
            "dtypes: int64(1), object(1)\n",
            "memory usage: 88.9+ KB\n",
            "  \n",
            " None\n",
            "\n",
            "About the data: \n",
            "\n",
            "Feature 'index' has 5682 unique categories\n",
            "Feature 'text' has 5459 unique categories\n"
          ]
        }
      ]
    },
    {
      "cell_type": "markdown",
      "metadata": {
        "id": "UN3HlY72BmG3"
      },
      "source": [
        "<a id=\"cleaning\"></a>\n",
        "## 3. Data Preprocessing"
      ],
      "id": "UN3HlY72BmG3"
    },
    {
      "cell_type": "markdown",
      "metadata": {
        "id": "c63eb017"
      },
      "source": [
        "Data preprocessing is a technique that involves taking in raw data and transforming it into a understable format. The technique includes data cleaning, intergration, transformation, reduction and discretization. The data preprocessing plan will include the following processes:\n",
        "\n",
        "- **Data cleaning**\n",
        "\n"
      ],
      "id": "c63eb017"
    },
    {
      "cell_type": "markdown",
      "metadata": {
        "id": "78450afd"
      },
      "source": [
        "### Data Cleaning "
      ],
      "id": "78450afd"
    },
    {
      "cell_type": "markdown",
      "metadata": {
        "id": "ebbc0753"
      },
      "source": [
        "Data cleaning is a process of improving the quality of the data by identifying corrupt or erroneous records from a data set and rectifying them.\n",
        "\n",
        "The data cleaning process will include the following:\n",
        "- Expanding contractions where necessary\n",
        "- Removal of the noise:\n",
        "    - punctuations\n",
        "    - numbers"
      ],
      "id": "ebbc0753"
    },
    {
      "cell_type": "markdown",
      "metadata": {
        "id": "5JmjrWTC3zxe"
      },
      "source": [
        "#### Convert text to lowercase"
      ],
      "id": "5JmjrWTC3zxe"
    },
    {
      "cell_type": "code",
      "metadata": {
        "id": "88faa14d"
      },
      "source": [
        "def lowercase(text):\n",
        "    text = text.lower() # making text to be lowercase\n",
        "    return text\n",
        "\n",
        "df_train['text'] = df_train['text'].apply(lowercase)\n",
        "\n",
        "df_test['text'] = df_test['text'].apply(lowercase)"
      ],
      "id": "88faa14d",
      "execution_count": 8,
      "outputs": []
    },
    {
      "cell_type": "markdown",
      "metadata": {
        "id": "f9bc81be"
      },
      "source": [
        "#### Remove Noise from Text"
      ],
      "id": "f9bc81be"
    },
    {
      "cell_type": "markdown",
      "metadata": {
        "id": "DeMiKw4_9-n9"
      },
      "source": [
        "Data that can not be processed/interpreted by a machine is classified as noisy data. Text data contains a lot of noise, this comes in a  form of special characters punctuation and numbers. During this process the data will be changed from accent letters to normal letters and the noise will be removed."
      ],
      "id": "DeMiKw4_9-n9"
    },
    {
      "cell_type": "code",
      "metadata": {
        "id": "Y2nzYYT_80S5"
      },
      "source": [
        " \n",
        "def clean_text(text):\n",
        "    \n",
        "    \"\"\"takes string of text and return a string of text with no punctuations,\n",
        "    white spaces \"\"\"\n",
        "    \n",
        "    text = re.sub(\"\\\\s+\", \" \", text)  # Remove extra whitespace\n",
        "                  \n",
        "    text = re.sub(\"(\\#)|(\\.)|(\\;)|(\\:)|(\\!)|(\\')|(\\?)|(\\,)|(\\\")|(\\|)|(\\-)\", \" \", text) # replace punctuation with space\n",
        "    \n",
        "    text = re.sub(\"(\\()|(\\))|(\\[)|(\\])|(\\%)|(\\$)|(\\>)|(\\<)|(\\{)|(\\})\",\" \",text)# replace punctuation with space\n",
        "    \n",
        "    text = text.lstrip()  # removes whitespaces before string\n",
        "    \n",
        "    text = text.rstrip()  # removes whitespaces after string\n",
        "    \n",
        "    return text\n",
        "\n",
        "df_train['clean_text'] = df_train['text'].apply(clean_text)\n",
        "\n",
        "df_test['clean_text'] = df_test['text'].apply(clean_text)"
      ],
      "id": "Y2nzYYT_80S5",
      "execution_count": 9,
      "outputs": []
    },
    {
      "cell_type": "code",
      "metadata": {
        "id": "3a709973"
      },
      "source": [
        "# remove numbers\n",
        "\n",
        "def remove_numbers(text):\n",
        "    \n",
        "    \"\"\"takes a string of text and remove numbers\"\"\"\n",
        "    \n",
        "    number_pattern = r'\\d+'\n",
        "    \n",
        "    without_number = re.sub(pattern = number_pattern, repl = \" \", string = text)\n",
        "    \n",
        "    return without_number\n",
        "\n",
        "df_train['clean_text'] = df_train['clean_text'].apply(lambda x: remove_numbers(x))\n",
        "\n",
        "df_test['clean_text'] = df_test['clean_text'].apply(lambda x: remove_numbers(x))"
      ],
      "id": "3a709973",
      "execution_count": 10,
      "outputs": []
    },
    {
      "cell_type": "code",
      "metadata": {
        "id": "12eea049",
        "outputId": "200c1537-5a78-400d-df78-f0b4f2f5a6fa",
        "colab": {
          "base_uri": "https://localhost:8080/",
          "height": 0
        }
      },
      "source": [
        "df_train.head()"
      ],
      "id": "12eea049",
      "execution_count": 11,
      "outputs": [
        {
          "output_type": "execute_result",
          "data": {
            "text/html": [
              "<div>\n",
              "<style scoped>\n",
              "    .dataframe tbody tr th:only-of-type {\n",
              "        vertical-align: middle;\n",
              "    }\n",
              "\n",
              "    .dataframe tbody tr th {\n",
              "        vertical-align: top;\n",
              "    }\n",
              "\n",
              "    .dataframe thead th {\n",
              "        text-align: right;\n",
              "    }\n",
              "</style>\n",
              "<table border=\"1\" class=\"dataframe\">\n",
              "  <thead>\n",
              "    <tr style=\"text-align: right;\">\n",
              "      <th></th>\n",
              "      <th>lang_id</th>\n",
              "      <th>text</th>\n",
              "      <th>clean_text</th>\n",
              "    </tr>\n",
              "  </thead>\n",
              "  <tbody>\n",
              "    <tr>\n",
              "      <th>0</th>\n",
              "      <td>xho</td>\n",
              "      <td>umgaqo-siseko wenza amalungiselelo kumaziko ax...</td>\n",
              "      <td>umgaqo siseko wenza amalungiselelo kumaziko ax...</td>\n",
              "    </tr>\n",
              "    <tr>\n",
              "      <th>1</th>\n",
              "      <td>xho</td>\n",
              "      <td>i-dha iya kuba nobulumko bokubeka umsebenzi na...</td>\n",
              "      <td>i dha iya kuba nobulumko bokubeka umsebenzi na...</td>\n",
              "    </tr>\n",
              "    <tr>\n",
              "      <th>2</th>\n",
              "      <td>eng</td>\n",
              "      <td>the province of kwazulu-natal department of tr...</td>\n",
              "      <td>the province of kwazulu natal department of tr...</td>\n",
              "    </tr>\n",
              "    <tr>\n",
              "      <th>3</th>\n",
              "      <td>nso</td>\n",
              "      <td>o netefatša gore o ba file dilo ka moka tše le...</td>\n",
              "      <td>o netefatša gore o ba file dilo ka moka tše le...</td>\n",
              "    </tr>\n",
              "    <tr>\n",
              "      <th>4</th>\n",
              "      <td>ven</td>\n",
              "      <td>khomishini ya ndinganyiso ya mbeu yo ewa maana...</td>\n",
              "      <td>khomishini ya ndinganyiso ya mbeu yo ewa maana...</td>\n",
              "    </tr>\n",
              "  </tbody>\n",
              "</table>\n",
              "</div>"
            ],
            "text/plain": [
              "  lang_id  ...                                         clean_text\n",
              "0     xho  ...  umgaqo siseko wenza amalungiselelo kumaziko ax...\n",
              "1     xho  ...  i dha iya kuba nobulumko bokubeka umsebenzi na...\n",
              "2     eng  ...  the province of kwazulu natal department of tr...\n",
              "3     nso  ...  o netefatša gore o ba file dilo ka moka tše le...\n",
              "4     ven  ...  khomishini ya ndinganyiso ya mbeu yo ewa maana...\n",
              "\n",
              "[5 rows x 3 columns]"
            ]
          },
          "metadata": {},
          "execution_count": 11
        }
      ]
    },
    {
      "cell_type": "markdown",
      "metadata": {
        "id": "88b21ca7"
      },
      "source": [
        "#### Tokenization"
      ],
      "id": "88b21ca7"
    },
    {
      "cell_type": "markdown",
      "metadata": {
        "id": "nbrYOW_k-NaV"
      },
      "source": [
        "Tokenization is a process of breaking down unstructured data and natural language text into smaller units called tokens. During this process we will first tokenize the tweets and then transform the data using the TreebankWord."
      ],
      "id": "nbrYOW_k-NaV"
    },
    {
      "cell_type": "code",
      "metadata": {
        "colab": {
          "base_uri": "https://localhost:8080/",
          "height": 0
        },
        "id": "c71c7e33",
        "outputId": "12c29af9-3d32-44b6-d903-b47c913b91ac"
      },
      "source": [
        "#start by tokenizing the tweets\n",
        "tokeniser = TreebankWordTokenizer()\n",
        "\n",
        "# transforming the data using the Treebankword tokenizer\n",
        "df_train['tokenized'] = df_train['clean_text'].apply(tokeniser.tokenize)\n",
        "\n",
        "df_train"
      ],
      "id": "c71c7e33",
      "execution_count": 12,
      "outputs": [
        {
          "output_type": "execute_result",
          "data": {
            "text/html": [
              "<div>\n",
              "<style scoped>\n",
              "    .dataframe tbody tr th:only-of-type {\n",
              "        vertical-align: middle;\n",
              "    }\n",
              "\n",
              "    .dataframe tbody tr th {\n",
              "        vertical-align: top;\n",
              "    }\n",
              "\n",
              "    .dataframe thead th {\n",
              "        text-align: right;\n",
              "    }\n",
              "</style>\n",
              "<table border=\"1\" class=\"dataframe\">\n",
              "  <thead>\n",
              "    <tr style=\"text-align: right;\">\n",
              "      <th></th>\n",
              "      <th>lang_id</th>\n",
              "      <th>text</th>\n",
              "      <th>clean_text</th>\n",
              "      <th>tokenized</th>\n",
              "    </tr>\n",
              "  </thead>\n",
              "  <tbody>\n",
              "    <tr>\n",
              "      <th>0</th>\n",
              "      <td>xho</td>\n",
              "      <td>umgaqo-siseko wenza amalungiselelo kumaziko ax...</td>\n",
              "      <td>umgaqo siseko wenza amalungiselelo kumaziko ax...</td>\n",
              "      <td>[umgaqo, siseko, wenza, amalungiselelo, kumazi...</td>\n",
              "    </tr>\n",
              "    <tr>\n",
              "      <th>1</th>\n",
              "      <td>xho</td>\n",
              "      <td>i-dha iya kuba nobulumko bokubeka umsebenzi na...</td>\n",
              "      <td>i dha iya kuba nobulumko bokubeka umsebenzi na...</td>\n",
              "      <td>[i, dha, iya, kuba, nobulumko, bokubeka, umseb...</td>\n",
              "    </tr>\n",
              "    <tr>\n",
              "      <th>2</th>\n",
              "      <td>eng</td>\n",
              "      <td>the province of kwazulu-natal department of tr...</td>\n",
              "      <td>the province of kwazulu natal department of tr...</td>\n",
              "      <td>[the, province, of, kwazulu, natal, department...</td>\n",
              "    </tr>\n",
              "    <tr>\n",
              "      <th>3</th>\n",
              "      <td>nso</td>\n",
              "      <td>o netefatša gore o ba file dilo ka moka tše le...</td>\n",
              "      <td>o netefatša gore o ba file dilo ka moka tše le...</td>\n",
              "      <td>[o, netefatša, gore, o, ba, file, dilo, ka, mo...</td>\n",
              "    </tr>\n",
              "    <tr>\n",
              "      <th>4</th>\n",
              "      <td>ven</td>\n",
              "      <td>khomishini ya ndinganyiso ya mbeu yo ewa maana...</td>\n",
              "      <td>khomishini ya ndinganyiso ya mbeu yo ewa maana...</td>\n",
              "      <td>[khomishini, ya, ndinganyiso, ya, mbeu, yo, ew...</td>\n",
              "    </tr>\n",
              "    <tr>\n",
              "      <th>...</th>\n",
              "      <td>...</td>\n",
              "      <td>...</td>\n",
              "      <td>...</td>\n",
              "      <td>...</td>\n",
              "    </tr>\n",
              "    <tr>\n",
              "      <th>32995</th>\n",
              "      <td>tsn</td>\n",
              "      <td>popo ya dipolateforomo tse ke go tlisa boetele...</td>\n",
              "      <td>popo ya dipolateforomo tse ke go tlisa boetele...</td>\n",
              "      <td>[popo, ya, dipolateforomo, tse, ke, go, tlisa,...</td>\n",
              "    </tr>\n",
              "    <tr>\n",
              "      <th>32996</th>\n",
              "      <td>sot</td>\n",
              "      <td>modise mosadi na o ntse o sa utlwe hore thaban...</td>\n",
              "      <td>modise mosadi na o ntse o sa utlwe hore thaban...</td>\n",
              "      <td>[modise, mosadi, na, o, ntse, o, sa, utlwe, ho...</td>\n",
              "    </tr>\n",
              "    <tr>\n",
              "      <th>32997</th>\n",
              "      <td>eng</td>\n",
              "      <td>closing date for the submission of completed t...</td>\n",
              "      <td>closing date for the submission of completed t...</td>\n",
              "      <td>[closing, date, for, the, submission, of, comp...</td>\n",
              "    </tr>\n",
              "    <tr>\n",
              "      <th>32998</th>\n",
              "      <td>xho</td>\n",
              "      <td>nawuphina umntu ofunyenwe enetyala phantsi kwa...</td>\n",
              "      <td>nawuphina umntu ofunyenwe enetyala phantsi kwa...</td>\n",
              "      <td>[nawuphina, umntu, ofunyenwe, enetyala, phants...</td>\n",
              "    </tr>\n",
              "    <tr>\n",
              "      <th>32999</th>\n",
              "      <td>sot</td>\n",
              "      <td>mafapha a mang le ona a lokela ho etsa ditlale...</td>\n",
              "      <td>mafapha a mang le ona a lokela ho etsa ditlale...</td>\n",
              "      <td>[mafapha, a, mang, le, ona, a, lokela, ho, ets...</td>\n",
              "    </tr>\n",
              "  </tbody>\n",
              "</table>\n",
              "<p>33000 rows × 4 columns</p>\n",
              "</div>"
            ],
            "text/plain": [
              "      lang_id  ...                                          tokenized\n",
              "0         xho  ...  [umgaqo, siseko, wenza, amalungiselelo, kumazi...\n",
              "1         xho  ...  [i, dha, iya, kuba, nobulumko, bokubeka, umseb...\n",
              "2         eng  ...  [the, province, of, kwazulu, natal, department...\n",
              "3         nso  ...  [o, netefatša, gore, o, ba, file, dilo, ka, mo...\n",
              "4         ven  ...  [khomishini, ya, ndinganyiso, ya, mbeu, yo, ew...\n",
              "...       ...  ...                                                ...\n",
              "32995     tsn  ...  [popo, ya, dipolateforomo, tse, ke, go, tlisa,...\n",
              "32996     sot  ...  [modise, mosadi, na, o, ntse, o, sa, utlwe, ho...\n",
              "32997     eng  ...  [closing, date, for, the, submission, of, comp...\n",
              "32998     xho  ...  [nawuphina, umntu, ofunyenwe, enetyala, phants...\n",
              "32999     sot  ...  [mafapha, a, mang, le, ona, a, lokela, ho, ets...\n",
              "\n",
              "[33000 rows x 4 columns]"
            ]
          },
          "metadata": {},
          "execution_count": 12
        }
      ]
    },
    {
      "cell_type": "markdown",
      "metadata": {
        "id": "18dbcfe5"
      },
      "source": [
        "#### Lemmatization"
      ],
      "id": "18dbcfe5"
    },
    {
      "cell_type": "markdown",
      "metadata": {
        "id": "iyqJOMUp-gZN"
      },
      "source": [
        "Lemmatization is a process of converting/reducing a word to it meaningful root/base. During this process we will first change the column clean_message into a list, tagging the tweets and performing POS tagging."
      ],
      "id": "iyqJOMUp-gZN"
    },
    {
      "cell_type": "code",
      "metadata": {
        "colab": {
          "base_uri": "https://localhost:8080/",
          "height": 0
        },
        "id": "aa9a5314",
        "outputId": "769bd972-4974-4445-df12-a423a264b278"
      },
      "source": [
        "\n",
        "from nltk.stem import WordNetLemmatizer\n",
        "from nltk import word_tokenize\n",
        "\n",
        "nltk.download(\"wordnet\")\n",
        "\n",
        "def lemmatizing(text):\n",
        "    lemmatizer = WordNetLemmatizer()\n",
        "    tokens = word_tokenize(text)\n",
        "    for i in range(len(tokens)):\n",
        "        lemma_word = lemmatizer.lemmatize(tokens[i])\n",
        "        tokens[i] = lemma_word\n",
        "    return \" \".join(tokens)\n",
        "\n",
        "df_train[\"lemma_text\"] = df_train[\"clean_text\"].apply(lambda x: lemmatizing(x))\n",
        "\n",
        "df_train.head()"
      ],
      "id": "aa9a5314",
      "execution_count": 13,
      "outputs": [
        {
          "output_type": "stream",
          "name": "stdout",
          "text": [
            "[nltk_data] Downloading package wordnet to /root/nltk_data...\n",
            "[nltk_data]   Package wordnet is already up-to-date!\n"
          ]
        },
        {
          "output_type": "execute_result",
          "data": {
            "text/html": [
              "<div>\n",
              "<style scoped>\n",
              "    .dataframe tbody tr th:only-of-type {\n",
              "        vertical-align: middle;\n",
              "    }\n",
              "\n",
              "    .dataframe tbody tr th {\n",
              "        vertical-align: top;\n",
              "    }\n",
              "\n",
              "    .dataframe thead th {\n",
              "        text-align: right;\n",
              "    }\n",
              "</style>\n",
              "<table border=\"1\" class=\"dataframe\">\n",
              "  <thead>\n",
              "    <tr style=\"text-align: right;\">\n",
              "      <th></th>\n",
              "      <th>lang_id</th>\n",
              "      <th>text</th>\n",
              "      <th>clean_text</th>\n",
              "      <th>tokenized</th>\n",
              "      <th>lemma_text</th>\n",
              "    </tr>\n",
              "  </thead>\n",
              "  <tbody>\n",
              "    <tr>\n",
              "      <th>0</th>\n",
              "      <td>xho</td>\n",
              "      <td>umgaqo-siseko wenza amalungiselelo kumaziko ax...</td>\n",
              "      <td>umgaqo siseko wenza amalungiselelo kumaziko ax...</td>\n",
              "      <td>[umgaqo, siseko, wenza, amalungiselelo, kumazi...</td>\n",
              "      <td>umgaqo siseko wenza amalungiselelo kumaziko ax...</td>\n",
              "    </tr>\n",
              "    <tr>\n",
              "      <th>1</th>\n",
              "      <td>xho</td>\n",
              "      <td>i-dha iya kuba nobulumko bokubeka umsebenzi na...</td>\n",
              "      <td>i dha iya kuba nobulumko bokubeka umsebenzi na...</td>\n",
              "      <td>[i, dha, iya, kuba, nobulumko, bokubeka, umseb...</td>\n",
              "      <td>i dha iya kuba nobulumko bokubeka umsebenzi na...</td>\n",
              "    </tr>\n",
              "    <tr>\n",
              "      <th>2</th>\n",
              "      <td>eng</td>\n",
              "      <td>the province of kwazulu-natal department of tr...</td>\n",
              "      <td>the province of kwazulu natal department of tr...</td>\n",
              "      <td>[the, province, of, kwazulu, natal, department...</td>\n",
              "      <td>the province of kwazulu natal department of tr...</td>\n",
              "    </tr>\n",
              "    <tr>\n",
              "      <th>3</th>\n",
              "      <td>nso</td>\n",
              "      <td>o netefatša gore o ba file dilo ka moka tše le...</td>\n",
              "      <td>o netefatša gore o ba file dilo ka moka tše le...</td>\n",
              "      <td>[o, netefatša, gore, o, ba, file, dilo, ka, mo...</td>\n",
              "      <td>o netefatša gore o ba file dilo ka moka tše le...</td>\n",
              "    </tr>\n",
              "    <tr>\n",
              "      <th>4</th>\n",
              "      <td>ven</td>\n",
              "      <td>khomishini ya ndinganyiso ya mbeu yo ewa maana...</td>\n",
              "      <td>khomishini ya ndinganyiso ya mbeu yo ewa maana...</td>\n",
              "      <td>[khomishini, ya, ndinganyiso, ya, mbeu, yo, ew...</td>\n",
              "      <td>khomishini ya ndinganyiso ya mbeu yo ewa maana...</td>\n",
              "    </tr>\n",
              "  </tbody>\n",
              "</table>\n",
              "</div>"
            ],
            "text/plain": [
              "  lang_id  ...                                         lemma_text\n",
              "0     xho  ...  umgaqo siseko wenza amalungiselelo kumaziko ax...\n",
              "1     xho  ...  i dha iya kuba nobulumko bokubeka umsebenzi na...\n",
              "2     eng  ...  the province of kwazulu natal department of tr...\n",
              "3     nso  ...  o netefatša gore o ba file dilo ka moka tše le...\n",
              "4     ven  ...  khomishini ya ndinganyiso ya mbeu yo ewa maana...\n",
              "\n",
              "[5 rows x 5 columns]"
            ]
          },
          "metadata": {},
          "execution_count": 13
        }
      ]
    },
    {
      "cell_type": "code",
      "metadata": {
        "id": "78a62265"
      },
      "source": [
        ""
      ],
      "id": "78a62265",
      "execution_count": 13,
      "outputs": []
    },
    {
      "cell_type": "markdown",
      "metadata": {
        "id": "a2355ff4"
      },
      "source": [
        "<a id=\"EDA\"></a>\n",
        "## 4. Exploratory Data Analysis"
      ],
      "id": "a2355ff4"
    },
    {
      "cell_type": "markdown",
      "metadata": {
        "id": "12auUCT1tLOu"
      },
      "source": [
        "During the exploratory data analysis process we will be looking into gaining ana accurate and deep understanding of the dataset. We will achieve this by performing the following processes:\n",
        "\n",
        "- Sentiment distribution\n",
        "- Tweet length distribution\n",
        "- Hashtag analysis\n",
        "- Frequently words from each sentiment\n",
        "- Other frequent words without common words\n",
        "- Mentions analysis\n",
        "- Representation of mentions on wordcloud"
      ],
      "id": "12auUCT1tLOu"
    },
    {
      "cell_type": "markdown",
      "metadata": {
        "id": "c2c935f7"
      },
      "source": [
        "### Language_id Distribution"
      ],
      "id": "c2c935f7"
    },
    {
      "cell_type": "markdown",
      "metadata": {
        "id": "9mA9TwqAB_cx"
      },
      "source": [
        "Based on the plot below we observe that sentiment distribution is disproportional with the pro climate change class taking up a large portion of the data."
      ],
      "id": "9mA9TwqAB_cx"
    },
    {
      "cell_type": "code",
      "metadata": {
        "colab": {
          "base_uri": "https://localhost:8080/",
          "height": 0
        },
        "id": "be839591",
        "scrolled": false,
        "outputId": "2202e93c-2d71-4ca9-c3df-000763ed720b"
      },
      "source": [
        "# labels\n",
        "lab = list(set(df_train['lang_id']))\n",
        "# values\n",
        "val = df_train.lang_id.value_counts().values.tolist()\n",
        "# create pie chart\n",
        "fig = px.pie(df_train, \n",
        "             values = val,\n",
        "             names = lab,\n",
        "             title = \"Sentiment distribution in data\",\n",
        "             hole = .5\n",
        "            )\n",
        "# update traces\n",
        "fig.update_traces(\n",
        "            textposition = \"inside\",\n",
        "            textinfo = \"percent +label\")\n",
        "# update layout\n",
        "fig.update_layout(\n",
        "    title_font_size = 22,\n",
        "    plot_bgcolor = \"rgb(243,243,243)\",\n",
        "    paper_bgcolor= \"rgb(243,243,243)\")"
      ],
      "id": "be839591",
      "execution_count": 14,
      "outputs": [
        {
          "output_type": "display_data",
          "data": {
            "text/html": [
              "<html>\n",
              "<head><meta charset=\"utf-8\" /></head>\n",
              "<body>\n",
              "    <div>\n",
              "            <script src=\"https://cdnjs.cloudflare.com/ajax/libs/mathjax/2.7.5/MathJax.js?config=TeX-AMS-MML_SVG\"></script><script type=\"text/javascript\">if (window.MathJax) {MathJax.Hub.Config({SVG: {font: \"STIX-Web\"}});}</script>\n",
              "                <script type=\"text/javascript\">window.PlotlyConfig = {MathJaxConfig: 'local'};</script>\n",
              "        <script src=\"https://cdn.plot.ly/plotly-latest.min.js\"></script>    \n",
              "            <div id=\"b2de7651-9753-478e-b5e6-f9a8e2c60824\" class=\"plotly-graph-div\" style=\"height:525px; width:100%;\"></div>\n",
              "            <script type=\"text/javascript\">\n",
              "                \n",
              "                    window.PLOTLYENV=window.PLOTLYENV || {};\n",
              "                    \n",
              "                if (document.getElementById(\"b2de7651-9753-478e-b5e6-f9a8e2c60824\")) {\n",
              "                    Plotly.newPlot(\n",
              "                        'b2de7651-9753-478e-b5e6-f9a8e2c60824',\n",
              "                        [{\"domain\": {\"x\": [0.0, 1.0], \"y\": [0.0, 1.0]}, \"hole\": 0.5, \"hoverlabel\": {\"namelength\": 0}, \"hovertemplate\": \"label=%{label}<br>value=%{value}\", \"labels\": [\"eng\", \"afr\", \"ssw\", \"ven\", \"tsn\", \"zul\", \"nbl\", \"xho\", \"tso\", \"nso\", \"sot\"], \"legendgroup\": \"\", \"name\": \"\", \"showlegend\": true, \"textinfo\": \"percent+label\", \"textposition\": \"inside\", \"type\": \"pie\", \"values\": [3000, 3000, 3000, 3000, 3000, 3000, 3000, 3000, 3000, 3000, 3000]}],\n",
              "                        {\"legend\": {\"tracegroupgap\": 0}, \"paper_bgcolor\": \"rgb(243,243,243)\", \"plot_bgcolor\": \"rgb(243,243,243)\", \"template\": {\"data\": {\"bar\": [{\"error_x\": {\"color\": \"#2a3f5f\"}, \"error_y\": {\"color\": \"#2a3f5f\"}, \"marker\": {\"line\": {\"color\": \"#E5ECF6\", \"width\": 0.5}}, \"type\": \"bar\"}], \"barpolar\": [{\"marker\": {\"line\": {\"color\": \"#E5ECF6\", \"width\": 0.5}}, \"type\": \"barpolar\"}], \"carpet\": [{\"aaxis\": {\"endlinecolor\": \"#2a3f5f\", \"gridcolor\": \"white\", \"linecolor\": \"white\", \"minorgridcolor\": \"white\", \"startlinecolor\": \"#2a3f5f\"}, \"baxis\": {\"endlinecolor\": \"#2a3f5f\", \"gridcolor\": \"white\", \"linecolor\": \"white\", \"minorgridcolor\": \"white\", \"startlinecolor\": \"#2a3f5f\"}, \"type\": \"carpet\"}], \"choropleth\": [{\"colorbar\": {\"outlinewidth\": 0, \"ticks\": \"\"}, \"type\": \"choropleth\"}], \"contour\": [{\"colorbar\": {\"outlinewidth\": 0, \"ticks\": \"\"}, \"colorscale\": [[0.0, \"#0d0887\"], [0.1111111111111111, \"#46039f\"], [0.2222222222222222, \"#7201a8\"], [0.3333333333333333, \"#9c179e\"], [0.4444444444444444, \"#bd3786\"], [0.5555555555555556, \"#d8576b\"], [0.6666666666666666, \"#ed7953\"], [0.7777777777777778, \"#fb9f3a\"], [0.8888888888888888, \"#fdca26\"], [1.0, \"#f0f921\"]], \"type\": \"contour\"}], \"contourcarpet\": [{\"colorbar\": {\"outlinewidth\": 0, \"ticks\": \"\"}, \"type\": \"contourcarpet\"}], \"heatmap\": [{\"colorbar\": {\"outlinewidth\": 0, \"ticks\": \"\"}, \"colorscale\": [[0.0, \"#0d0887\"], [0.1111111111111111, \"#46039f\"], [0.2222222222222222, \"#7201a8\"], [0.3333333333333333, \"#9c179e\"], [0.4444444444444444, \"#bd3786\"], [0.5555555555555556, \"#d8576b\"], [0.6666666666666666, \"#ed7953\"], [0.7777777777777778, \"#fb9f3a\"], [0.8888888888888888, \"#fdca26\"], [1.0, \"#f0f921\"]], \"type\": \"heatmap\"}], \"heatmapgl\": [{\"colorbar\": {\"outlinewidth\": 0, \"ticks\": \"\"}, \"colorscale\": [[0.0, \"#0d0887\"], [0.1111111111111111, \"#46039f\"], [0.2222222222222222, \"#7201a8\"], [0.3333333333333333, \"#9c179e\"], [0.4444444444444444, \"#bd3786\"], [0.5555555555555556, \"#d8576b\"], [0.6666666666666666, \"#ed7953\"], [0.7777777777777778, \"#fb9f3a\"], [0.8888888888888888, \"#fdca26\"], [1.0, \"#f0f921\"]], \"type\": \"heatmapgl\"}], \"histogram\": [{\"marker\": {\"colorbar\": {\"outlinewidth\": 0, \"ticks\": \"\"}}, \"type\": \"histogram\"}], \"histogram2d\": [{\"colorbar\": {\"outlinewidth\": 0, \"ticks\": \"\"}, \"colorscale\": [[0.0, \"#0d0887\"], [0.1111111111111111, \"#46039f\"], [0.2222222222222222, \"#7201a8\"], [0.3333333333333333, \"#9c179e\"], [0.4444444444444444, \"#bd3786\"], [0.5555555555555556, \"#d8576b\"], [0.6666666666666666, \"#ed7953\"], [0.7777777777777778, \"#fb9f3a\"], [0.8888888888888888, \"#fdca26\"], [1.0, \"#f0f921\"]], \"type\": \"histogram2d\"}], \"histogram2dcontour\": [{\"colorbar\": {\"outlinewidth\": 0, \"ticks\": \"\"}, \"colorscale\": [[0.0, \"#0d0887\"], [0.1111111111111111, \"#46039f\"], [0.2222222222222222, \"#7201a8\"], [0.3333333333333333, \"#9c179e\"], [0.4444444444444444, \"#bd3786\"], [0.5555555555555556, \"#d8576b\"], [0.6666666666666666, \"#ed7953\"], [0.7777777777777778, \"#fb9f3a\"], [0.8888888888888888, \"#fdca26\"], [1.0, \"#f0f921\"]], \"type\": \"histogram2dcontour\"}], \"mesh3d\": [{\"colorbar\": {\"outlinewidth\": 0, \"ticks\": \"\"}, \"type\": \"mesh3d\"}], \"parcoords\": [{\"line\": {\"colorbar\": {\"outlinewidth\": 0, \"ticks\": \"\"}}, \"type\": \"parcoords\"}], \"pie\": [{\"automargin\": true, \"type\": \"pie\"}], \"scatter\": [{\"marker\": {\"colorbar\": {\"outlinewidth\": 0, \"ticks\": \"\"}}, \"type\": \"scatter\"}], \"scatter3d\": [{\"line\": {\"colorbar\": {\"outlinewidth\": 0, \"ticks\": \"\"}}, \"marker\": {\"colorbar\": {\"outlinewidth\": 0, \"ticks\": \"\"}}, \"type\": \"scatter3d\"}], \"scattercarpet\": [{\"marker\": {\"colorbar\": {\"outlinewidth\": 0, \"ticks\": \"\"}}, \"type\": \"scattercarpet\"}], \"scattergeo\": [{\"marker\": {\"colorbar\": {\"outlinewidth\": 0, \"ticks\": \"\"}}, \"type\": \"scattergeo\"}], \"scattergl\": [{\"marker\": {\"colorbar\": {\"outlinewidth\": 0, \"ticks\": \"\"}}, \"type\": \"scattergl\"}], \"scattermapbox\": [{\"marker\": {\"colorbar\": {\"outlinewidth\": 0, \"ticks\": \"\"}}, \"type\": \"scattermapbox\"}], \"scatterpolar\": [{\"marker\": {\"colorbar\": {\"outlinewidth\": 0, \"ticks\": \"\"}}, \"type\": \"scatterpolar\"}], \"scatterpolargl\": [{\"marker\": {\"colorbar\": {\"outlinewidth\": 0, \"ticks\": \"\"}}, \"type\": \"scatterpolargl\"}], \"scatterternary\": [{\"marker\": {\"colorbar\": {\"outlinewidth\": 0, \"ticks\": \"\"}}, \"type\": \"scatterternary\"}], \"surface\": [{\"colorbar\": {\"outlinewidth\": 0, \"ticks\": \"\"}, \"colorscale\": [[0.0, \"#0d0887\"], [0.1111111111111111, \"#46039f\"], [0.2222222222222222, \"#7201a8\"], [0.3333333333333333, \"#9c179e\"], [0.4444444444444444, \"#bd3786\"], [0.5555555555555556, \"#d8576b\"], [0.6666666666666666, \"#ed7953\"], [0.7777777777777778, \"#fb9f3a\"], [0.8888888888888888, \"#fdca26\"], [1.0, \"#f0f921\"]], \"type\": \"surface\"}], \"table\": [{\"cells\": {\"fill\": {\"color\": \"#EBF0F8\"}, \"line\": {\"color\": \"white\"}}, \"header\": {\"fill\": {\"color\": \"#C8D4E3\"}, \"line\": {\"color\": \"white\"}}, \"type\": \"table\"}]}, \"layout\": {\"annotationdefaults\": {\"arrowcolor\": \"#2a3f5f\", \"arrowhead\": 0, \"arrowwidth\": 1}, \"coloraxis\": {\"colorbar\": {\"outlinewidth\": 0, \"ticks\": \"\"}}, \"colorscale\": {\"diverging\": [[0, \"#8e0152\"], [0.1, \"#c51b7d\"], [0.2, \"#de77ae\"], [0.3, \"#f1b6da\"], [0.4, \"#fde0ef\"], [0.5, \"#f7f7f7\"], [0.6, \"#e6f5d0\"], [0.7, \"#b8e186\"], [0.8, \"#7fbc41\"], [0.9, \"#4d9221\"], [1, \"#276419\"]], \"sequential\": [[0.0, \"#0d0887\"], [0.1111111111111111, \"#46039f\"], [0.2222222222222222, \"#7201a8\"], [0.3333333333333333, \"#9c179e\"], [0.4444444444444444, \"#bd3786\"], [0.5555555555555556, \"#d8576b\"], [0.6666666666666666, \"#ed7953\"], [0.7777777777777778, \"#fb9f3a\"], [0.8888888888888888, \"#fdca26\"], [1.0, \"#f0f921\"]], \"sequentialminus\": [[0.0, \"#0d0887\"], [0.1111111111111111, \"#46039f\"], [0.2222222222222222, \"#7201a8\"], [0.3333333333333333, \"#9c179e\"], [0.4444444444444444, \"#bd3786\"], [0.5555555555555556, \"#d8576b\"], [0.6666666666666666, \"#ed7953\"], [0.7777777777777778, \"#fb9f3a\"], [0.8888888888888888, \"#fdca26\"], [1.0, \"#f0f921\"]]}, \"colorway\": [\"#636efa\", \"#EF553B\", \"#00cc96\", \"#ab63fa\", \"#FFA15A\", \"#19d3f3\", \"#FF6692\", \"#B6E880\", \"#FF97FF\", \"#FECB52\"], \"font\": {\"color\": \"#2a3f5f\"}, \"geo\": {\"bgcolor\": \"white\", \"lakecolor\": \"white\", \"landcolor\": \"#E5ECF6\", \"showlakes\": true, \"showland\": true, \"subunitcolor\": \"white\"}, \"hoverlabel\": {\"align\": \"left\"}, \"hovermode\": \"closest\", \"mapbox\": {\"style\": \"light\"}, \"paper_bgcolor\": \"white\", \"plot_bgcolor\": \"#E5ECF6\", \"polar\": {\"angularaxis\": {\"gridcolor\": \"white\", \"linecolor\": \"white\", \"ticks\": \"\"}, \"bgcolor\": \"#E5ECF6\", \"radialaxis\": {\"gridcolor\": \"white\", \"linecolor\": \"white\", \"ticks\": \"\"}}, \"scene\": {\"xaxis\": {\"backgroundcolor\": \"#E5ECF6\", \"gridcolor\": \"white\", \"gridwidth\": 2, \"linecolor\": \"white\", \"showbackground\": true, \"ticks\": \"\", \"zerolinecolor\": \"white\"}, \"yaxis\": {\"backgroundcolor\": \"#E5ECF6\", \"gridcolor\": \"white\", \"gridwidth\": 2, \"linecolor\": \"white\", \"showbackground\": true, \"ticks\": \"\", \"zerolinecolor\": \"white\"}, \"zaxis\": {\"backgroundcolor\": \"#E5ECF6\", \"gridcolor\": \"white\", \"gridwidth\": 2, \"linecolor\": \"white\", \"showbackground\": true, \"ticks\": \"\", \"zerolinecolor\": \"white\"}}, \"shapedefaults\": {\"line\": {\"color\": \"#2a3f5f\"}}, \"ternary\": {\"aaxis\": {\"gridcolor\": \"white\", \"linecolor\": \"white\", \"ticks\": \"\"}, \"baxis\": {\"gridcolor\": \"white\", \"linecolor\": \"white\", \"ticks\": \"\"}, \"bgcolor\": \"#E5ECF6\", \"caxis\": {\"gridcolor\": \"white\", \"linecolor\": \"white\", \"ticks\": \"\"}}, \"title\": {\"x\": 0.05}, \"xaxis\": {\"automargin\": true, \"gridcolor\": \"white\", \"linecolor\": \"white\", \"ticks\": \"\", \"title\": {\"standoff\": 15}, \"zerolinecolor\": \"white\", \"zerolinewidth\": 2}, \"yaxis\": {\"automargin\": true, \"gridcolor\": \"white\", \"linecolor\": \"white\", \"ticks\": \"\", \"title\": {\"standoff\": 15}, \"zerolinecolor\": \"white\", \"zerolinewidth\": 2}}}, \"title\": {\"font\": {\"size\": 22}, \"text\": \"Sentiment distribution in data\"}},\n",
              "                        {\"responsive\": true}\n",
              "                    ).then(function(){\n",
              "                            \n",
              "var gd = document.getElementById('b2de7651-9753-478e-b5e6-f9a8e2c60824');\n",
              "var x = new MutationObserver(function (mutations, observer) {{\n",
              "        var display = window.getComputedStyle(gd).display;\n",
              "        if (!display || display === 'none') {{\n",
              "            console.log([gd, 'removed!']);\n",
              "            Plotly.purge(gd);\n",
              "            observer.disconnect();\n",
              "        }}\n",
              "}});\n",
              "\n",
              "// Listen for the removal of the full notebook cells\n",
              "var notebookContainer = gd.closest('#notebook-container');\n",
              "if (notebookContainer) {{\n",
              "    x.observe(notebookContainer, {childList: true});\n",
              "}}\n",
              "\n",
              "// Listen for the clearing of the current output cell\n",
              "var outputEl = gd.closest('.output');\n",
              "if (outputEl) {{\n",
              "    x.observe(outputEl, {childList: true});\n",
              "}}\n",
              "\n",
              "                        })\n",
              "                };\n",
              "                \n",
              "            </script>\n",
              "        </div>\n",
              "</body>\n",
              "</html>"
            ]
          },
          "metadata": {}
        }
      ]
    },
    {
      "cell_type": "markdown",
      "metadata": {
        "id": "9a982e30"
      },
      "source": [
        "### Length of character distribution for each language"
      ],
      "id": "9a982e30"
    },
    {
      "cell_type": "markdown",
      "metadata": {
        "id": "P3zM5UTkCWdK"
      },
      "source": [
        "#### Length of characters in each tweet per sentiment boxplots\n",
        "\n",
        "From the boxplots below we observed that tweets that fall under the news climate change class have the lowest length of characters per tweet, followed by the pro climate change class that has a cluster of outliers below the lower whisker. The neutral climate change class have the highest length of characters per tweet."
      ],
      "id": "P3zM5UTkCWdK"
    },
    {
      "cell_type": "code",
      "metadata": {
        "id": "f10da753"
      },
      "source": [
        "# Finding Number of Words per Tweet from the lemmatized words\n",
        "df_train[\"num_words\"] = df_train[\"lemma_text\"].apply(lambda x: len(str(x).split()))\n"
      ],
      "id": "f10da753",
      "execution_count": 15,
      "outputs": []
    },
    {
      "cell_type": "code",
      "metadata": {
        "colab": {
          "base_uri": "https://localhost:8080/",
          "height": 0
        },
        "id": "8238ae2e",
        "outputId": "c946aaf4-6a72-42a4-f8f1-f13f4c568e8c"
      },
      "source": [
        "# Boxplot for the number of characters in each tweet\n",
        "fig_dims = (10, 6)\n",
        "fig, ax = plt.subplots(figsize=fig_dims)\n",
        "\n",
        "# plotting boxplot for the length of how long each tweet is per sentiment \n",
        "sns.boxplot(x = df_train['lang_id'], y = df_train['lemma_text'].str.len(), data = df_train, palette=(\"rainbow\"), ax = ax)\n",
        "\n",
        "# title of the boxplot\n",
        "plt.title('Length of characters in each text per lang_id')\n",
        "\n",
        "# showing the plot\n",
        "plt.show()"
      ],
      "id": "8238ae2e",
      "execution_count": 16,
      "outputs": [
        {
          "output_type": "display_data",
          "data": {
            "image/png": "[encoded data removed]",
            "text/plain": [
              "<Figure size 720x432 with 1 Axes>"
            ]
          },
          "metadata": {
            "needs_background": "light"
          }
        }
      ]
    },
    {
      "cell_type": "markdown",
      "metadata": {
        "id": "GY2VB_mhCz6c"
      },
      "source": [
        "#### Number of words in each text for each lang_id boxplots\n",
        "\n",
        "From the boxplots below we observed that tweets that fall under the news climate change class have the lowest number of words per tweet and the tweets are more compact compared to other classes. The neutral climate change class have generally the highest number of words per tweet."
      ],
      "id": "GY2VB_mhCz6c"
    },
    {
      "cell_type": "code",
      "metadata": {
        "colab": {
          "base_uri": "https://localhost:8080/",
          "height": 0
        },
        "id": "a1ac63a1",
        "outputId": "75874272-a69f-47c2-96be-77e2bb3be3a3"
      },
      "source": [
        "#Boxplot for number of words in each tweet\n",
        "fig_dims = (10, 6)\n",
        "fig, ax = plt.subplots(figsize = fig_dims)\n",
        "\n",
        "# plotting boxplot for the length of how long each tweet is per sentiment \n",
        "sns.boxplot(x = 'lang_id', y = 'num_words', data = df_train, palette = (\"hls\"))\n",
        "\n",
        "# title of the boxplot\n",
        "plt.title('Number of words in each text for each language_id')\n",
        "\n",
        "# showing the plot\n",
        "plt.show()"
      ],
      "id": "a1ac63a1",
      "execution_count": 17,
      "outputs": [
        {
          "output_type": "display_data",
          "data": {
            "image/png": "[encoded data removed]",
            "text/plain": [
              "<Figure size 720x432 with 1 Axes>"
            ]
          },
          "metadata": {
            "needs_background": "light"
          }
        }
      ]
    },
    {
      "cell_type": "markdown",
      "metadata": {
        "id": "lmmRnDEApln0"
      },
      "source": [
        "#### Observations\n",
        "​\n",
        "- The words **believe, warm, world** and **real** are words that will most likely be used by the pro climate chage class to express their beliefs and reality of climate change. There is also EPA (United States Environmental Protection Agency), whose mission is to protect humans and  environment health.This brings us to the conclusion that the top frequent words are more aligned with the the pro climate change class"
      ],
      "id": "lmmRnDEApln0"
    },
    {
      "cell_type": "markdown",
      "metadata": {
        "id": "fe277226"
      },
      "source": [
        "<a id=\"features\"></a>\n",
        "## 5. Feature Engineering and Feature Selection"
      ],
      "id": "fe277226"
    },
    {
      "cell_type": "code",
      "metadata": {
        "id": "6958d2fd"
      },
      "source": [
        ""
      ],
      "id": "6958d2fd",
      "execution_count": null,
      "outputs": []
    },
    {
      "cell_type": "code",
      "metadata": {
        "id": "89a6a283"
      },
      "source": [
        ""
      ],
      "id": "89a6a283",
      "execution_count": null,
      "outputs": []
    },
    {
      "cell_type": "markdown",
      "metadata": {
        "id": "tZPcZaPDyX_e"
      },
      "source": [
        ""
      ],
      "id": "tZPcZaPDyX_e"
    },
    {
      "cell_type": "markdown",
      "metadata": {
        "id": "6e011abd"
      },
      "source": [
        "<a id=\"model\"></a>\n",
        "## 6. Modelling"
      ],
      "id": "6e011abd"
    },
    {
      "cell_type": "markdown",
      "metadata": {
        "id": "LEqWtz5qG4Ac"
      },
      "source": [
        "The process of training an ML model involves providing an ML algorithm (that is, the learning algorithm) with training data to learn from. The term ML model refers to the model artifact that is created by the training process.\n",
        "\n",
        "The training data must contain the correct answer, which is known as a target or target attribute. The learning algorithm finds patterns in the training data that map the input data attributes to the target (the answer that you want to predict), and it outputs an ML model that captures these patterns.\n",
        "We train different models on the training data.\n",
        "\n",
        "- **The training** set is a subset of the dataset to build predictive models.\n",
        "\n",
        "- **Test** set or unseen examples is a subset of the dataset to assess the likely future performance of a model. If a model fit to the training set much better than it fits the test set, overfitting is probably the cause."
      ],
      "id": "LEqWtz5qG4Ac"
    },
    {
      "cell_type": "markdown",
      "metadata": {
        "id": "50706fb7"
      },
      "source": [
        "Data is randomly split into training and validation data sets. 80% is for training the model and 20% is for validation. "
      ],
      "id": "50706fb7"
    },
    {
      "cell_type": "code",
      "metadata": {
        "id": "65a3de57"
      },
      "source": [
        "y = df_train['lang_id']"
      ],
      "id": "65a3de57",
      "execution_count": 20,
      "outputs": []
    },
    {
      "cell_type": "code",
      "metadata": {
        "id": "58a7e877"
      },
      "source": [
        ""
      ],
      "id": "58a7e877",
      "execution_count": null,
      "outputs": []
    },
    {
      "cell_type": "code",
      "metadata": {
        "id": "ZgvD8L3_4FRh"
      },
      "source": [
        "X_train, X_test, y_train, y_test = train_test_split(df_train['clean_text'],\n",
        "                                                    y,\n",
        "                                                    test_size = 0.20,\n",
        "                                                    random_state = 42)"
      ],
      "id": "ZgvD8L3_4FRh",
      "execution_count": 21,
      "outputs": []
    },
    {
      "cell_type": "code",
      "metadata": {
        "id": "b3cb8d9b"
      },
      "source": [
        ""
      ],
      "id": "b3cb8d9b",
      "execution_count": null,
      "outputs": []
    },
    {
      "cell_type": "markdown",
      "metadata": {
        "id": "1a4a9db0"
      },
      "source": [
        "Models are put in a pipeline with a vectorizer. Machine learning algorithms operate on a numeric feature space, expecting input as a two-dimensional array where rows are instances and columns are features. In order to perform machine learning on text, we need to transform our documents into vector representations such that we can apply numeric machine learning. This process is called feature extraction or more simply, vectorization, and is an essential first step toward language-aware analysis.\n",
        "\n",
        "- CountVectorizer creates a matrix in which each unique word is represented by a column of the matrix, and each text sample from the document is a row in the matrix. The value of each cell is nothing but the count of the word in that particular text sample.\n",
        "\n",
        "- Frequency–Inverse Document Frequency Vectorizer Transforms text to feature vectors that can be used as input to estimator. vocabulary_ Is a dictionary that converts each token (word) to feature index in the matrix, each unique token gets a feature index. "
      ],
      "id": "1a4a9db0"
    },
    {
      "cell_type": "markdown",
      "metadata": {
        "id": "58de419d"
      },
      "source": [
        "**Random Forest Classifier**\n",
        "\n",
        "A random forest is a meta estimator that fits a number of decision tree classifiers on various sub-samples of the dataset and uses averaging to improve the predictive accuracy and control over-fitting. \n",
        "\n",
        "A decision tree is arriving at an estimate by asking a series of questions to the data, each question narrowing our possible values until the model get confident enough to make a single prediction. The order of the question as well as their content are being determined by the model. In addition, the questions asked  are all in a True/False form.\n",
        "\n",
        "Decision Trees can be summarized as:\n",
        "\n",
        "- predictive models that use a set of binary rules to calculate a target value.\n",
        "\n",
        "- Each individual tree is a fairly simple model that has branches, nodes and leaves."
      ],
      "id": "58de419d"
    },
    {
      "cell_type": "code",
      "metadata": {
        "colab": {
          "base_uri": "https://localhost:8080/"
        },
        "id": "iQwna1ORA_pD",
        "outputId": "cd9e61a0-2e4a-4c26-9fdd-c2fafce2ffad"
      },
      "source": [
        "# random forest with CountVectorizer\n",
        "\n",
        "rfc = Pipeline([('vect', CountVectorizer(max_df = 0.8, min_df = 0.1,\n",
        "                                          ngram_range = (1,3))),\n",
        "                \n",
        "                         ('rfc', RandomForestClassifier(max_depth = 5, n_estimators = 100))])\n",
        "\n",
        "rfc.fit(X_train, y_train)\n",
        "metrics.f1_score(y_test, rfc.predict(X_test), average = 'macro')"
      ],
      "id": "iQwna1ORA_pD",
      "execution_count": 27,
      "outputs": [
        {
          "output_type": "execute_result",
          "data": {
            "text/plain": [
              "0.5154908326699204"
            ]
          },
          "metadata": {},
          "execution_count": 27
        }
      ]
    },
    {
      "cell_type": "markdown",
      "metadata": {
        "id": "c2cea61e"
      },
      "source": [
        "**Linear Support Vector Classification**\n",
        "\n",
        "A support vector machine takes these data points and outputs the hyperplane (which in two dimensions it's simply a line) that best separates the tags. This line is the decision boundary.\n",
        "Linear SVC (Support Vector Classifier) fits to the data you provide, returning a \"best fit\" hyperplane that divides, or categorizes, your data.\n",
        "\n",
        "Similar to SVC with parameter kernel = ’linear’, but implemented in terms of liblinear rather than libsvm, so it has more flexibility in the choice of penalties and loss functions and should scale better to large numbers of samples.\n",
        "This class supports both dense and sparse input and the multiclass support is handled according to a one-vs-the-rest scheme."
      ],
      "id": "c2cea61e"
    },
    {
      "cell_type": "code",
      "metadata": {
        "id": "51ac8941",
        "outputId": "33eba14a-6875-4690-91a9-630b2f18ea0d",
        "colab": {
          "base_uri": "https://localhost:8080/"
        }
      },
      "source": [
        "# Linear Support Vector Classifier with TfidfVectorizer\n",
        "\n",
        "lsvc = Pipeline([('tfidf', TfidfVectorizer(ngram_range = (1,3))), \n",
        "                 \n",
        "                 ('lsvc', LinearSVC(C = 5, class_weight='balanced',\n",
        "                                  max_iter = 8000))])\n",
        "\n",
        "# Train model\n",
        "lsvc.fit(X_train, y_train)"
      ],
      "id": "51ac8941",
      "execution_count": 28,
      "outputs": [
        {
          "output_type": "execute_result",
          "data": {
            "text/plain": [
              "Pipeline(steps=[('tfidf', TfidfVectorizer(ngram_range=(1, 3))),\n",
              "                ('lsvc',\n",
              "                 LinearSVC(C=5, class_weight='balanced', max_iter=8000))])"
            ]
          },
          "metadata": {},
          "execution_count": 28
        }
      ]
    },
    {
      "cell_type": "code",
      "metadata": {
        "id": "16f7ec13",
        "outputId": "8b7940bf-a8c0-471f-c02c-f7ab83b44d85",
        "colab": {
          "base_uri": "https://localhost:8080/"
        }
      },
      "source": [
        "metrics.f1_score(y_test, lsvc.predict(X_test), average='macro')"
      ],
      "id": "16f7ec13",
      "execution_count": 29,
      "outputs": [
        {
          "output_type": "execute_result",
          "data": {
            "text/plain": [
              "0.9968038818089898"
            ]
          },
          "metadata": {},
          "execution_count": 29
        }
      ]
    },
    {
      "cell_type": "code",
      "metadata": {
        "id": "0b3d5586",
        "outputId": "02f7dfab-2b02-48bc-f68c-0c3bf77ba081",
        "colab": {
          "base_uri": "https://localhost:8080/"
        }
      },
      "source": [
        "\n",
        "\n",
        "lr = Pipeline([('tfidf', TfidfVectorizer(ngram_range = (1,3))), \n",
        "                 \n",
        "                 ('lr', LogisticRegression(multi_class='multinomial', solver='lbfgs'))])\n",
        "\n",
        "lr.fit(X_train, y_train)"
      ],
      "id": "0b3d5586",
      "execution_count": 38,
      "outputs": [
        {
          "output_type": "execute_result",
          "data": {
            "text/plain": [
              "Pipeline(steps=[('tfidf', TfidfVectorizer(ngram_range=(1, 3))),\n",
              "                ('lr', LogisticRegression(multi_class='multinomial'))])"
            ]
          },
          "metadata": {},
          "execution_count": 38
        }
      ]
    },
    {
      "cell_type": "code",
      "metadata": {
        "id": "EPNOoyJnvT0S",
        "outputId": "c75d9722-d0b8-4624-a1cd-92cebbaed1aa",
        "colab": {
          "base_uri": "https://localhost:8080/"
        }
      },
      "source": [
        "metrics.f1_score(y_test, lr.predict(X_test), average='macro')"
      ],
      "id": "EPNOoyJnvT0S",
      "execution_count": 39,
      "outputs": [
        {
          "output_type": "execute_result",
          "data": {
            "text/plain": [
              "0.9940451517097277"
            ]
          },
          "metadata": {},
          "execution_count": 39
        }
      ]
    },
    {
      "cell_type": "markdown",
      "metadata": {
        "id": "365965f9"
      },
      "source": [
        "<a id=\"evaluation\"></a>\n",
        "## 7. Model Evaluation"
      ],
      "id": "365965f9"
    },
    {
      "cell_type": "markdown",
      "metadata": {
        "id": "dSIm-LfpTtg2"
      },
      "source": [
        "Evaluating a model is a very important step throughout the development of the model. It is important to note that we can evaluate models successfully. Especially, when working in a supervised learning environment as the actual values are available. These values help in order for the evaluation methods to function.\n",
        "\n",
        "Model Evaluation is an integral part of the model development process. It helps to find the best model that represents our data. It also focuses on how well the chosen model will work in the future.\n",
        "\n",
        "Evaluating model performance with the training data is not acceptable in data science. It can easily generate overoptimistically and overfit models. There are two methods of evaluating models in data science, Hold-Out and Cross-Validation. To avoid overfitting, both methods use a test set (not seen by the model) to evaluate model performance.\n",
        "\n",
        "We use the f-score to evaluate model performance. The F1-score or F1-measure is a measure of a model's accuracy in test data set. It is calculated from the precision and recall of the test data, where the precision is the number of true positive results divided by the number of all positive results, including those not identified correctly, and the recall is the number of true positive results divided by the number of all samples that should have been identified as positive."
      ],
      "id": "dSIm-LfpTtg2"
    },
    {
      "cell_type": "markdown",
      "metadata": {
        "id": "2110e946",
        "outputId": "7e47ae6d-6be9-48ec-d3a4-9b501b453f87"
      },
      "source": [
        "**Linear Support Vector Classification**"
      ],
      "id": "2110e946"
    },
    {
      "cell_type": "code",
      "metadata": {
        "id": "fBQX39LCCENP"
      },
      "source": [
        "metrics.f1_score(y_test, lsvc.predict(X_test), average='macro')"
      ],
      "id": "fBQX39LCCENP",
      "execution_count": null,
      "outputs": []
    },
    {
      "cell_type": "code",
      "metadata": {
        "id": "NexqE8UCCKCu"
      },
      "source": [
        "# fit the new hyperparameter\n",
        "\n",
        "svc = LinearSVC(C = 0.1, class_weight='balanced',\n",
        "                                  max_iter = 5000,random_state = 42)\n",
        "\n",
        "svc.fit(X_train, y_train) # fit the model\n",
        "\n",
        "# check performance\n",
        "\n",
        "score = f1_score(y_test, svc.predict(X_test) , average='macro')"
      ],
      "id": "NexqE8UCCKCu",
      "execution_count": null,
      "outputs": []
    },
    {
      "cell_type": "code",
      "metadata": {
        "id": "88id95NOQ7sS"
      },
      "source": [
        "#params = {'random_state' : 42,\n",
        "          'model_name' : 'LinearSVC'}\n",
        "\n",
        "#metrics = {'f1_score' : score}"
      ],
      "id": "88id95NOQ7sS",
      "execution_count": null,
      "outputs": []
    },
    {
      "cell_type": "code",
      "metadata": {
        "id": "71ERGRWzQPty"
      },
      "source": [
        "# log our parameters and results\n",
        "\n",
        "#experiment.log_parameters(params)\n",
        "\n",
        "#experiment.log_parameters(metrics)"
      ],
      "id": "71ERGRWzQPty",
      "execution_count": null,
      "outputs": []
    },
    {
      "cell_type": "code",
      "metadata": {
        "id": "D5BoNfs8QMIh"
      },
      "source": [
        "#experiment.end()"
      ],
      "id": "D5BoNfs8QMIh",
      "execution_count": 18,
      "outputs": []
    },
    {
      "cell_type": "markdown",
      "metadata": {
        "id": "6abd1885"
      },
      "source": [
        "<a id=\"tuning\"></a>\n",
        "## 8. Hyperparameter Tuning"
      ],
      "id": "6abd1885"
    },
    {
      "cell_type": "markdown",
      "metadata": {
        "id": "BBhv09cODrJy"
      },
      "source": [
        "Hyperparameter optimization or tuning is the problem of choosing a set of optimal hyperparameters for a learning algorithm. A hyperparameter is a parameter whose value is used to control the learning process.\n",
        "\n",
        "Hyperparameters control the over-fitting and under-fitting of the model. Optimal hyperparameters often differ for different datasets. To get the best hyperparameters the following steps are followed:\n",
        "\n",
        "- For each proposed hyperparameter setting the model is evaluated.\n",
        "\n",
        "- The hyperparameters that give the best model are selected.\n",
        "\n",
        "Hyperparameters Search: Grid search picks out a grid of hyperparameter values and evaluates all of them. Guesswork is necessary to specify the min and max values for each hyperparameter. Hyperparameter tuning picks a few hyperparameter settings, evaluates the validation matrices, adjusts the hyperparameters, and re-evaluates the validation matrices."
      ],
      "id": "BBhv09cODrJy"
    },
    {
      "cell_type": "code",
      "metadata": {
        "id": "32e244c7"
      },
      "source": [
        "# vectorized the data set\n",
        "\n",
        "vectorizer = CountVectorizer(stop_words = 'english', max_df = 0.8, min_df = 1,\n",
        "                                          ngram_range = (1,2))\n",
        "test_data = df_test['clean_message']\n",
        "vectorizer.fit(list(x_train) + list(x_test) + list(test_data))\n",
        "\n",
        "X_train = vectorizer.transform(x_train) # vectorized x_train\n",
        "X_test = vectorizer.transform(x_test) # vectorized x_test\n",
        "\n",
        "# defining parameters\n",
        "\n",
        "params = {\n",
        "            'C': [0.1, 0.5, 1.0, 5.0],'max_iter' : [5000, 6000, 7000]\n",
        "         }\n",
        "\n",
        "# GridSearch\n",
        "\n",
        "linear_svc_classifier_grid = GridSearchCV(LinearSVC(random_state = 42, class_weight='balanced'), \n",
        "                                          param_grid = params, n_jobs = -1, cv = 5, verbose = 5)\n",
        "\n",
        "# fit the data set\n",
        "\n",
        "linear_svc_classifier_grid.fit(X_train,y_train)"
      ],
      "id": "32e244c7",
      "execution_count": null,
      "outputs": []
    },
    {
      "cell_type": "code",
      "metadata": {
        "id": "8267496c"
      },
      "source": [
        "# print best parameters\n",
        "\n",
        "linear_svc_classifier_grid.best_params_"
      ],
      "id": "8267496c",
      "execution_count": null,
      "outputs": []
    },
    {
      "cell_type": "markdown",
      "metadata": {
        "id": "339491d3"
      },
      "source": [
        "<a id=\"conclusion\"></a>\n",
        "## 9. Conclusion"
      ],
      "id": "339491d3"
    },
    {
      "cell_type": "markdown",
      "metadata": {
        "id": "213a2b7f"
      },
      "source": [
        "- https://learn.g2.com/logistic-regression\n",
        "\n",
        "- https://www.nationalgeographic.com/environment/article/global-warming-overview\n",
        "\n",
        "- https://www.pewresearch.org/fact-tank/2020/10/15/64-of-americans-say-social-media-have-a-mostly-negative-effect-on-the-way-things-are-going-in-the-u-s-today/\n",
        "\n",
        "- https://machinelearningmastery.com/what-is-imbalanced-classification/\n",
        "\n",
        "- https://www.un.org/en/climatechange/cop26"
      ],
      "id": "213a2b7f"
    }
  ]
}