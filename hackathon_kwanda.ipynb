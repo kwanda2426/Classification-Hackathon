{
 "cells": [
  {
   "cell_type": "markdown",
   "id": "5aab9478",
   "metadata": {
    "id": "5aab9478"
   },
   "source": [
    "<img src=\"https://explore-datascience.net/images/images_admissions2/main-logo.jpg\">"
   ]
  },
  {
   "cell_type": "markdown",
   "id": "dec97410",
   "metadata": {
    "id": "dec97410"
   },
   "source": [
    "<img src=\"https://ak.picdn.net/shutterstock/videos/29784268/thumb/12.jpg\" width=1200 height=300 />"
   ]
  },
  {
   "cell_type": "markdown",
   "id": "1795aa8b",
   "metadata": {
    "id": "1795aa8b"
   },
   "source": [
    "<img src=\"https://image.slidesharecdn.com/attacksimulationhuntingmadeeasy-171204085132/95/attack-simulation-and-hunting-1-638.jpg?cb=1512377787\" width=1200 height=300 />"
   ]
  },
  {
   "cell_type": "markdown",
   "id": "81ec0ed2",
   "metadata": {
    "id": "81ec0ed2"
   },
   "source": [
    "<a id=\"top\"></a>\n",
    "#  Classification Hackathon \n",
    "##### Kwanda Mazibuko <sup> </sup>"
   ]
  },
  {
   "cell_type": "markdown",
   "id": "c5877ba3",
   "metadata": {
    "id": "c5877ba3"
   },
   "source": [
    "## Table of contents\n",
    "1. [Introduction](#intro)\n",
    "2. [Data Collection](#data)\n",
    "3. [Data Preprocessing](#cleaning)\n",
    "4. [Exploratory Data Analysis](#EDA)\n",
    "5. [Feature Engineering and Feature Selection](#features)\n",
    "6. [Modelling](#model)\n",
    "7. [Model Evaluation](#evaluation)\n",
    "8. [Hyperparameter Tuning](#tuning)\n",
    "9. [Conclusion](#conclusion) "
   ]
  },
  {
   "cell_type": "markdown",
   "id": "d9565abd",
   "metadata": {
    "id": "d9565abd"
   },
   "source": [
    "<a id=\"intro\"></a>\n",
    "## 1. Introduction"
   ]
  },
  {
   "cell_type": "markdown",
   "id": "fd672a8e",
   "metadata": {
    "id": "fd672a8e"
   },
   "source": [
    "South Africa is a multicultural society that is characterised by its rich linguistic diversity. Language is an indispensable tool that can be used to deepen democracy and also contribute to the social, cultural, intellectual, economic and political life of the South African society.\n",
    "\n",
    "\n",
    "### Problem Statement\n",
    "\n",
    "The country is multilingual with 11 official languages, each of which is guaranteed equal status. Most South Africans are multilingual and able to speak at least two or more of the official languages.With such a multilingual population, it is only obvious that our systems and devices also communicate in multi-languages.\n",
    "\n",
    "### Objectives\n",
    "The key objective is to build a Machine Learning model that will take text which is in any of South Africa's 11 Official languages and identify which language the text is in."
   ]
  },
  {
   "cell_type": "markdown",
   "id": "7311d5a9",
   "metadata": {
    "id": "7311d5a9"
   },
   "source": [
    "<a id=\"data\"></a>\n",
    "## 2. Data Collection\n",
    "\n",
    "Data collection is the process of gathering and measuring information on variables of interest, in an established systematic fashion that enables one to answer stated questions, test hypotheses, and evaluate outcomes. We don't need to collect data because it has been provided to us with different classes.\n",
    "\n",
    "#### Class Description \n",
    "\n",
    "- afr - Afrikaans\n",
    "- eng - English\n",
    "- nbl - isiNdebele\n",
    "- nso - Sepedi\n",
    "- sot - Sesotho\n",
    "- ssw - siSwati\n",
    "- tsn - Setswana\n",
    "- tso - Xitsonga\n",
    "- ven - Tshivenda\n",
    "- xho - isiXhosa\n",
    "- zul - isiZulu"
   ]
  },
  {
   "cell_type": "code",
   "execution_count": 1,
   "id": "Htah1_DGbg6S",
   "metadata": {
    "colab": {
     "base_uri": "https://localhost:8080/"
    },
    "id": "Htah1_DGbg6S",
    "outputId": "9423628e-94f5-49f5-b001-3940be785c8f"
   },
   "outputs": [
    {
     "name": "stdout",
     "output_type": "stream",
     "text": [
      "Requirement already satisfied: comet_ml in c:\\users\\thaba\\anaconda3\\lib\\site-packages (3.22.0)\n",
      "Requirement already satisfied: wurlitzer>=1.0.2 in c:\\users\\thaba\\anaconda3\\lib\\site-packages (from comet_ml) (3.0.2)\n",
      "Requirement already satisfied: websocket-client>=0.55.0 in c:\\users\\thaba\\anaconda3\\lib\\site-packages (from comet_ml) (1.2.1)\n",
      "Requirement already satisfied: six in c:\\users\\thaba\\anaconda3\\lib\\site-packages (from comet_ml) (1.15.0)\n",
      "Requirement already satisfied: jsonschema!=3.1.0,>=2.6.0 in c:\\users\\thaba\\anaconda3\\lib\\site-packages (from comet_ml) (3.2.0)\n",
      "Requirement already satisfied: dulwich>=0.20.6 in c:\\users\\thaba\\anaconda3\\lib\\site-packages (from comet_ml) (0.20.26)\n",
      "Requirement already satisfied: requests-toolbelt>=0.8.0 in c:\\users\\thaba\\anaconda3\\lib\\site-packages (from comet_ml) (0.9.1)\n",
      "Requirement already satisfied: semantic-version>=2.8.0 in c:\\users\\thaba\\anaconda3\\lib\\site-packages (from comet_ml) (2.8.5)\n",
      "Requirement already satisfied: nvidia-ml-py3>=7.352.0 in c:\\users\\thaba\\anaconda3\\lib\\site-packages (from comet_ml) (7.352.0)\n",
      "Requirement already satisfied: wrapt>=1.11.2 in c:\\users\\thaba\\anaconda3\\lib\\site-packages (from comet_ml) (1.12.1)\n",
      "Requirement already satisfied: requests>=2.18.4 in c:\\users\\thaba\\anaconda3\\lib\\site-packages (from comet_ml) (2.25.1)\n",
      "Requirement already satisfied: everett[ini]>=1.0.1 in c:\\users\\thaba\\anaconda3\\lib\\site-packages (from comet_ml) (2.0.1)\n",
      "Requirement already satisfied: urllib3>=1.24.1 in c:\\users\\thaba\\anaconda3\\lib\\site-packages (from dulwich>=0.20.6->comet_ml) (1.26.4)\n",
      "Requirement already satisfied: certifi in c:\\users\\thaba\\anaconda3\\lib\\site-packages (from dulwich>=0.20.6->comet_ml) (2020.12.5)\n",
      "Requirement already satisfied: configobj in c:\\users\\thaba\\anaconda3\\lib\\site-packages (from everett[ini]>=1.0.1->comet_ml) (5.0.6)\n",
      "Requirement already satisfied: setuptools in c:\\users\\thaba\\anaconda3\\lib\\site-packages (from jsonschema!=3.1.0,>=2.6.0->comet_ml) (52.0.0.post20210125)\n",
      "Requirement already satisfied: attrs>=17.4.0 in c:\\users\\thaba\\anaconda3\\lib\\site-packages (from jsonschema!=3.1.0,>=2.6.0->comet_ml) (20.3.0)\n",
      "Requirement already satisfied: pyrsistent>=0.14.0 in c:\\users\\thaba\\anaconda3\\lib\\site-packages (from jsonschema!=3.1.0,>=2.6.0->comet_ml) (0.17.3)\n",
      "Requirement already satisfied: chardet<5,>=3.0.2 in c:\\users\\thaba\\anaconda3\\lib\\site-packages (from requests>=2.18.4->comet_ml) (4.0.0)\n",
      "Requirement already satisfied: idna<3,>=2.5 in c:\\users\\thaba\\anaconda3\\lib\\site-packages (from requests>=2.18.4->comet_ml) (2.10)\n"
     ]
    }
   ],
   "source": [
    "!pip install comet_ml"
   ]
  },
  {
   "cell_type": "code",
   "execution_count": 2,
   "id": "Mqc7IB59PmmX",
   "metadata": {
    "colab": {
     "base_uri": "https://localhost:8080/"
    },
    "id": "Mqc7IB59PmmX",
    "outputId": "ddd35e61-2a15-4f5c-b860-b99a22777baa"
   },
   "outputs": [
    {
     "name": "stdout",
     "output_type": "stream",
     "text": [
      "Requirement already satisfied: unidecode in c:\\users\\thaba\\anaconda3\\lib\\site-packages (1.3.2)\n",
      "Requirement already satisfied: unicode in c:\\users\\thaba\\anaconda3\\lib\\site-packages (2.8)\n",
      "Requirement already satisfied: wordcloud in c:\\users\\thaba\\anaconda3\\lib\\site-packages (1.8.1)\n",
      "Requirement already satisfied: numpy>=1.6.1 in c:\\users\\thaba\\appdata\\roaming\\python\\python38\\site-packages (from wordcloud) (1.21.4)\n",
      "Requirement already satisfied: pillow in c:\\users\\thaba\\anaconda3\\lib\\site-packages (from wordcloud) (8.2.0)\n",
      "Requirement already satisfied: matplotlib in c:\\users\\thaba\\anaconda3\\lib\\site-packages (from wordcloud) (3.3.4)\n",
      "Requirement already satisfied: pyparsing!=2.0.4,!=2.1.2,!=2.1.6,>=2.0.3 in c:\\users\\thaba\\anaconda3\\lib\\site-packages (from matplotlib->wordcloud) (2.4.7)\n",
      "Requirement already satisfied: python-dateutil>=2.1 in c:\\users\\thaba\\anaconda3\\lib\\site-packages (from matplotlib->wordcloud) (2.8.1)\n",
      "Requirement already satisfied: kiwisolver>=1.0.1 in c:\\users\\thaba\\anaconda3\\lib\\site-packages (from matplotlib->wordcloud) (1.3.1)\n",
      "Requirement already satisfied: cycler>=0.10 in c:\\users\\thaba\\anaconda3\\lib\\site-packages (from matplotlib->wordcloud) (0.10.0)\n",
      "Requirement already satisfied: six in c:\\users\\thaba\\anaconda3\\lib\\site-packages (from cycler>=0.10->matplotlib->wordcloud) (1.15.0)\n"
     ]
    }
   ],
   "source": [
    "\n",
    "!pip install unidecode\n",
    "!pip install unicode\n",
    "!pip install wordcloud"
   ]
  },
  {
   "cell_type": "code",
   "execution_count": 3,
   "id": "J5FpW1Wrazpa",
   "metadata": {
    "id": "J5FpW1Wrazpa"
   },
   "outputs": [],
   "source": [
    "# import comet_ml at the top of your file\n",
    "import comet_ml\n",
    "\n",
    "from comet_ml import Experiment"
   ]
  },
  {
   "cell_type": "code",
   "execution_count": 4,
   "id": "ef1bAfqBPU0Z",
   "metadata": {
    "colab": {
     "base_uri": "https://localhost:8080/",
     "height": 589
    },
    "id": "ef1bAfqBPU0Z",
    "outputId": "6d866236-b648-4d34-8b30-1ecad6c1704d"
   },
   "outputs": [
    {
     "name": "stderr",
     "output_type": "stream",
     "text": [
      "COMET WARNING: As you are running in a Jupyter environment, you will need to call `experiment.end()` when finished to ensure all metrics and code are logged before exiting.\n",
      "COMET INFO: Couldn't find a Git repository in 'C:\\\\Users\\\\thaba\\\\OneDrive\\\\Desktop' and lookings in parents. You can override where Comet is looking for a Git Patch by setting the configuration `COMET_GIT_DIRECTORY`\n",
      "COMET INFO: Experiment is live on comet.ml https://www.comet.ml/kwanda2426/hackathon/b021204d56a44df9917449a1156b7a2f\n",
      "\n"
     ]
    }
   ],
   "source": [
    "\n",
    "\n",
    "# Create an experiment with your api key\n",
    "experiment = Experiment(\n",
    "    api_key=\"cDBGt9YOCyyinNTUvxRUB3hxd\",\n",
    "    project_name=\"hackathon\",\n",
    "    workspace=\"kwanda2426\",\n",
    ")"
   ]
  },
  {
   "cell_type": "code",
   "execution_count": 43,
   "id": "0edc932a",
   "metadata": {
    "colab": {
     "base_uri": "https://localhost:8080/"
    },
    "id": "0edc932a",
    "outputId": "f3adb9b2-7c76-4fbf-9c37-8cb83771520b"
   },
   "outputs": [
    {
     "name": "stderr",
     "output_type": "stream",
     "text": [
      "[nltk_data] Downloading package wordnet to\n",
      "[nltk_data]     C:\\Users\\thaba\\AppData\\Roaming\\nltk_data...\n",
      "[nltk_data]   Package wordnet is already up-to-date!\n",
      "[nltk_data] Downloading package stopwords to\n",
      "[nltk_data]     C:\\Users\\thaba\\AppData\\Roaming\\nltk_data...\n",
      "[nltk_data]   Package stopwords is already up-to-date!\n",
      "[nltk_data] Downloading package averaged_perceptron_tagger to\n",
      "[nltk_data]     C:\\Users\\thaba\\AppData\\Roaming\\nltk_data...\n",
      "[nltk_data]   Package averaged_perceptron_tagger is already up-to-\n",
      "[nltk_data]       date!\n",
      "[nltk_data] Downloading package punkt to\n",
      "[nltk_data]     C:\\Users\\thaba\\AppData\\Roaming\\nltk_data...\n",
      "[nltk_data]   Package punkt is already up-to-date!\n"
     ]
    }
   ],
   "source": [
    "# Data manipulation\n",
    "import pandas as pd\n",
    "import numpy as np\n",
    "import nltk\n",
    "nltk.download('wordnet')\n",
    "nltk.download('stopwords')\n",
    "nltk.download('averaged_perceptron_tagger')\n",
    "nltk.download('punkt')\n",
    "import unidecode\n",
    "import unicodedata\n",
    "from nltk.tokenize import word_tokenize, TreebankWordTokenizer\n",
    "from nltk import word_tokenize, pos_tag, pos_tag_sents\n",
    "from nltk.corpus import stopwords, wordnet\n",
    "from nltk.stem import WordNetLemmatizer\n",
    "from collections import Counter\n",
    "# For searching patterns on the tweets (regex)\n",
    "import re\n",
    "# datetime\n",
    "import datetime\n",
    "\n",
    "# Libraries for data preparation and model building\n",
    "from sklearn.pipeline import Pipeline\n",
    "import statsmodels.formula.api as sm\n",
    "from statsmodels.formula.api import ols\n",
    "from sklearn import metrics\n",
    "from sklearn.svm import SVC\n",
    "from sklearn.svm import LinearSVC\n",
    "from sklearn.model_selection import train_test_split, GridSearchCV\n",
    "from sklearn.linear_model import LogisticRegression\n",
    "from sklearn.linear_model import SGDClassifier\n",
    "from sklearn.feature_extraction.text import TfidfTransformer\n",
    "from sklearn.pipeline import Pipeline\n",
    "from sklearn.feature_extraction.text import CountVectorizer\n",
    "from sklearn.tree import DecisionTreeClassifier\n",
    "from sklearn.neighbors import KNeighborsClassifier\n",
    "from sklearn.feature_extraction.text import TfidfVectorizer\n",
    "from sklearn.metrics import f1_score, precision_score, recall_score, confusion_matrix, accuracy_score\n",
    "from sklearn.model_selection import cross_val_score\n",
    "from sklearn.model_selection import RepeatedKFold\n",
    "from sklearn.feature_selection import RFE\n",
    "from sklearn.feature_selection import RFECV\n",
    "from sklearn.feature_selection import SelectKBest, chi2\n",
    "from scipy.stats import boxcox, zscore\n",
    "from sklearn.metrics import mean_squared_error\n",
    "from sklearn.tree import DecisionTreeRegressor\n",
    "from sklearn.compose import ColumnTransformer\n",
    "from sklearn.ensemble import RandomForestClassifier\n",
    "from sklearn.model_selection import train_test_split, KFold, cross_val_score, GridSearchCV\n",
    "from sklearn.preprocessing import LabelEncoder, OneHotEncoder, StandardScaler, PolynomialFeatures\n",
    "\n",
    "# visualizations\n",
    "import plotly.express as px\n",
    "import plotly.graph_objects as go\n",
    "import matplotlib.pyplot as plt\n",
    "import seaborn as sns\n",
    "from wordcloud import WordCloud\n",
    "# saving my model\n",
    "import pickle\n",
    "\n",
    "#ignoring warnings\n",
    "import warnings\n",
    "warnings.filterwarnings('ignore')\n",
    "%matplotlib inline"
   ]
  },
  {
   "cell_type": "code",
   "execution_count": 44,
   "id": "0fa9a342",
   "metadata": {
    "colab": {
     "base_uri": "https://localhost:8080/",
     "height": 206
    },
    "id": "0fa9a342",
    "outputId": "67e1f45c-a822-4d5e-cf76-1631728a0136"
   },
   "outputs": [
    {
     "data": {
      "text/html": [
       "<div>\n",
       "<style scoped>\n",
       "    .dataframe tbody tr th:only-of-type {\n",
       "        vertical-align: middle;\n",
       "    }\n",
       "\n",
       "    .dataframe tbody tr th {\n",
       "        vertical-align: top;\n",
       "    }\n",
       "\n",
       "    .dataframe thead th {\n",
       "        text-align: right;\n",
       "    }\n",
       "</style>\n",
       "<table border=\"1\" class=\"dataframe\">\n",
       "  <thead>\n",
       "    <tr style=\"text-align: right;\">\n",
       "      <th></th>\n",
       "      <th>lang_id</th>\n",
       "      <th>text</th>\n",
       "    </tr>\n",
       "  </thead>\n",
       "  <tbody>\n",
       "    <tr>\n",
       "      <th>0</th>\n",
       "      <td>xho</td>\n",
       "      <td>umgaqo-siseko wenza amalungiselelo kumaziko ax...</td>\n",
       "    </tr>\n",
       "    <tr>\n",
       "      <th>1</th>\n",
       "      <td>xho</td>\n",
       "      <td>i-dha iya kuba nobulumko bokubeka umsebenzi na...</td>\n",
       "    </tr>\n",
       "    <tr>\n",
       "      <th>2</th>\n",
       "      <td>eng</td>\n",
       "      <td>the province of kwazulu-natal department of tr...</td>\n",
       "    </tr>\n",
       "    <tr>\n",
       "      <th>3</th>\n",
       "      <td>nso</td>\n",
       "      <td>o netefatša gore o ba file dilo ka moka tše le...</td>\n",
       "    </tr>\n",
       "    <tr>\n",
       "      <th>4</th>\n",
       "      <td>ven</td>\n",
       "      <td>khomishini ya ndinganyiso ya mbeu yo ewa maana...</td>\n",
       "    </tr>\n",
       "  </tbody>\n",
       "</table>\n",
       "</div>"
      ],
      "text/plain": [
       "  lang_id                                               text\n",
       "0     xho  umgaqo-siseko wenza amalungiselelo kumaziko ax...\n",
       "1     xho  i-dha iya kuba nobulumko bokubeka umsebenzi na...\n",
       "2     eng  the province of kwazulu-natal department of tr...\n",
       "3     nso  o netefatša gore o ba file dilo ka moka tše le...\n",
       "4     ven  khomishini ya ndinganyiso ya mbeu yo ewa maana..."
      ]
     },
     "execution_count": 44,
     "metadata": {},
     "output_type": "execute_result"
    }
   ],
   "source": [
    "# Read data\n",
    "df_test = pd.read_csv('https://raw.githubusercontent.com/kwanda2426/Classification-Hackathon/main/Data/test_set.csv')\n",
    "df_train = pd.read_csv('https://raw.githubusercontent.com/kwanda2426/Classification-Hackathon/main/Data/train_set.csv')\n",
    "df_train.head()"
   ]
  },
  {
   "cell_type": "code",
   "execution_count": 45,
   "id": "5fa886db",
   "metadata": {
    "colab": {
     "base_uri": "https://localhost:8080/",
     "height": 206
    },
    "id": "5fa886db",
    "outputId": "4d74151b-ac2e-4745-a282-3240f6809bb5"
   },
   "outputs": [
    {
     "data": {
      "text/html": [
       "<div>\n",
       "<style scoped>\n",
       "    .dataframe tbody tr th:only-of-type {\n",
       "        vertical-align: middle;\n",
       "    }\n",
       "\n",
       "    .dataframe tbody tr th {\n",
       "        vertical-align: top;\n",
       "    }\n",
       "\n",
       "    .dataframe thead th {\n",
       "        text-align: right;\n",
       "    }\n",
       "</style>\n",
       "<table border=\"1\" class=\"dataframe\">\n",
       "  <thead>\n",
       "    <tr style=\"text-align: right;\">\n",
       "      <th></th>\n",
       "      <th>index</th>\n",
       "      <th>text</th>\n",
       "    </tr>\n",
       "  </thead>\n",
       "  <tbody>\n",
       "    <tr>\n",
       "      <th>0</th>\n",
       "      <td>1</td>\n",
       "      <td>Mmasepala, fa maemo a a kgethegileng a letlele...</td>\n",
       "    </tr>\n",
       "    <tr>\n",
       "      <th>1</th>\n",
       "      <td>2</td>\n",
       "      <td>Uzakwaziswa ngokufaneleko nakungafuneka eminye...</td>\n",
       "    </tr>\n",
       "    <tr>\n",
       "      <th>2</th>\n",
       "      <td>3</td>\n",
       "      <td>Tshivhumbeo tshi fana na ngano dza vhathu.</td>\n",
       "    </tr>\n",
       "    <tr>\n",
       "      <th>3</th>\n",
       "      <td>4</td>\n",
       "      <td>Kube inja nelikati betingevakala kutsi titsini...</td>\n",
       "    </tr>\n",
       "    <tr>\n",
       "      <th>4</th>\n",
       "      <td>5</td>\n",
       "      <td>Winste op buitelandse valuta.</td>\n",
       "    </tr>\n",
       "  </tbody>\n",
       "</table>\n",
       "</div>"
      ],
      "text/plain": [
       "   index                                               text\n",
       "0      1  Mmasepala, fa maemo a a kgethegileng a letlele...\n",
       "1      2  Uzakwaziswa ngokufaneleko nakungafuneka eminye...\n",
       "2      3         Tshivhumbeo tshi fana na ngano dza vhathu.\n",
       "3      4  Kube inja nelikati betingevakala kutsi titsini...\n",
       "4      5                      Winste op buitelandse valuta."
      ]
     },
     "execution_count": 45,
     "metadata": {},
     "output_type": "execute_result"
    }
   ],
   "source": [
    "df_test.head()"
   ]
  },
  {
   "cell_type": "markdown",
   "id": "e9f119f4",
   "metadata": {
    "id": "e9f119f4"
   },
   "source": [
    "### Data Overview\n",
    "\n",
    "**Train dataset**"
   ]
  },
  {
   "cell_type": "code",
   "execution_count": 46,
   "id": "d394c7c8",
   "metadata": {
    "colab": {
     "base_uri": "https://localhost:8080/"
    },
    "id": "d394c7c8",
    "outputId": "0a37fc56-4108-4456-a19d-5435962ebc30"
   },
   "outputs": [
    {
     "name": "stdout",
     "output_type": "stream",
     "text": [
      "Rows    :  33000\n",
      "Columns :  2\n",
      "\n",
      "Missing values:  0\n",
      "\n",
      "Information about the data: \n",
      "<class 'pandas.core.frame.DataFrame'>\n",
      "RangeIndex: 33000 entries, 0 to 32999\n",
      "Data columns (total 2 columns):\n",
      " #   Column   Non-Null Count  Dtype \n",
      "---  ------   --------------  ----- \n",
      " 0   lang_id  33000 non-null  object\n",
      " 1   text     33000 non-null  object\n",
      "dtypes: object(2)\n",
      "memory usage: 515.8+ KB\n",
      "  \n",
      " None\n",
      "\n",
      "About the data: \n",
      "\n",
      "Feature 'lang_id' has 11 unique categories\n",
      "Feature 'text' has 29948 unique categories\n"
     ]
    }
   ],
   "source": [
    "# Checking how our training dataset looks like\n",
    "print(\"Rows    : \", df_train.shape[0])\n",
    "\n",
    "print(\"Columns : \", df_train.shape[1])\n",
    "\n",
    "print(\"\\nMissing values: \", df_train.isnull().sum().values.sum())\n",
    "\n",
    "print(\"\\nInformation about the data: \")\n",
    "print(\"  \\n\", df_train.info())\n",
    " \n",
    "print(\"\\nAbout the data: \\n\")\n",
    "\n",
    "# Check how many unique items are in each column of the dateframe\n",
    "for col_name in df_train.columns:\n",
    "    unique_out = len(df_train[col_name].unique())\n",
    "    print(f\"Feature '{col_name}' has {unique_out} unique categories\") "
   ]
  },
  {
   "cell_type": "markdown",
   "id": "36746705",
   "metadata": {
    "id": "36746705"
   },
   "source": [
    "**Test dataset**"
   ]
  },
  {
   "cell_type": "code",
   "execution_count": 47,
   "id": "bc875a75",
   "metadata": {
    "colab": {
     "base_uri": "https://localhost:8080/"
    },
    "id": "bc875a75",
    "outputId": "8cae8767-2e3e-46e4-e664-4e9baa68220b"
   },
   "outputs": [
    {
     "name": "stdout",
     "output_type": "stream",
     "text": [
      "Rows    :  5682\n",
      "Columns :  2\n",
      "\n",
      "Missing values:  0\n",
      "\n",
      "Information about the data: \n",
      "<class 'pandas.core.frame.DataFrame'>\n",
      "RangeIndex: 5682 entries, 0 to 5681\n",
      "Data columns (total 2 columns):\n",
      " #   Column  Non-Null Count  Dtype \n",
      "---  ------  --------------  ----- \n",
      " 0   index   5682 non-null   int64 \n",
      " 1   text    5682 non-null   object\n",
      "dtypes: int64(1), object(1)\n",
      "memory usage: 88.9+ KB\n",
      "  \n",
      " None\n",
      "\n",
      "About the data: \n",
      "\n",
      "Feature 'index' has 5682 unique categories\n",
      "Feature 'text' has 5459 unique categories\n"
     ]
    }
   ],
   "source": [
    "# Checking how our data looks like\n",
    "print(\"Rows    : \", df_test.shape[0])\n",
    "\n",
    "print(\"Columns : \", df_test.shape[1])\n",
    "\n",
    "print(\"\\nMissing values: \", df_test.isnull().sum().values.sum())\n",
    "\n",
    "print(\"\\nInformation about the data: \")\n",
    "print(\"  \\n\", df_test.info())\n",
    " \n",
    "print(\"\\nAbout the data: \\n\")\n",
    "\n",
    "# Check how many unique items are in each column of the dateframe\n",
    "for col_name in df_test.columns:\n",
    "    unique_out = len(df_test[col_name].unique())\n",
    "    print(f\"Feature '{col_name}' has {unique_out} unique categories\") "
   ]
  },
  {
   "cell_type": "markdown",
   "id": "UN3HlY72BmG3",
   "metadata": {
    "id": "UN3HlY72BmG3"
   },
   "source": [
    "<a id=\"cleaning\"></a>\n",
    "## 3. Data Preprocessing"
   ]
  },
  {
   "cell_type": "markdown",
   "id": "c63eb017",
   "metadata": {
    "id": "c63eb017"
   },
   "source": [
    "Data preprocessing is a technique that involves taking in raw data and transforming it into a understable format. The technique includes data cleaning, intergration, transformation, reduction and discretization. The data preprocessing plan will include the following processes:\n",
    "\n",
    "- **Data cleaning**\n",
    "\n"
   ]
  },
  {
   "cell_type": "markdown",
   "id": "78450afd",
   "metadata": {
    "id": "78450afd"
   },
   "source": [
    "### Data Cleaning "
   ]
  },
  {
   "cell_type": "markdown",
   "id": "ebbc0753",
   "metadata": {
    "id": "ebbc0753"
   },
   "source": [
    "Data cleaning is a process of improving the quality of the data by identifying corrupt or erroneous records from a data set and rectifying them.\n",
    "\n",
    "The data cleaning process will include the following:\n",
    "- Expanding contractions where necessary\n",
    "- Removal of the noise:\n",
    "    - punctuations\n",
    "    - numbers"
   ]
  },
  {
   "cell_type": "markdown",
   "id": "5JmjrWTC3zxe",
   "metadata": {
    "id": "5JmjrWTC3zxe"
   },
   "source": [
    "#### Convert text to lowercase"
   ]
  },
  {
   "cell_type": "code",
   "execution_count": 48,
   "id": "88faa14d",
   "metadata": {
    "id": "88faa14d"
   },
   "outputs": [],
   "source": [
    "def lowercase(text):\n",
    "    text = text.lower() # making text to be lowercase\n",
    "    return text\n",
    "\n",
    "df_train['text'] = df_train['text'].apply(lowercase)\n",
    "\n",
    "df_test['text'] = df_test['text'].apply(lowercase)"
   ]
  },
  {
   "cell_type": "markdown",
   "id": "f9bc81be",
   "metadata": {
    "id": "f9bc81be"
   },
   "source": [
    "#### Remove Noise from Text"
   ]
  },
  {
   "cell_type": "markdown",
   "id": "DeMiKw4_9-n9",
   "metadata": {
    "id": "DeMiKw4_9-n9"
   },
   "source": [
    "Data that can not be processed/interpreted by a machine is classified as noisy data. Text data contains a lot of noise, this comes in a  form of special characters punctuation and numbers. During this process the data will be changed from accent letters to normal letters and the noise will be removed."
   ]
  },
  {
   "cell_type": "code",
   "execution_count": 49,
   "id": "Y2nzYYT_80S5",
   "metadata": {
    "id": "Y2nzYYT_80S5"
   },
   "outputs": [],
   "source": [
    " \n",
    "def clean_text(text):\n",
    "    \n",
    "    \"\"\"takes string of text and return a string of text with no punctuations,\n",
    "    white spaces \"\"\"\n",
    "    \n",
    "    text = re.sub(\"\\\\s+\", \" \", text)  # Remove extra whitespace\n",
    "                  \n",
    "    text = re.sub(\"(\\#)|(\\.)|(\\;)|(\\:)|(\\!)|(\\')|(\\?)|(\\,)|(\\\")|(\\|)|(\\-)\", \" \", text) # replace punctuation with space\n",
    "    \n",
    "    text = re.sub(\"(\\()|(\\))|(\\[)|(\\])|(\\%)|(\\$)|(\\>)|(\\<)|(\\{)|(\\})\",\" \",text)# replace punctuation with space\n",
    "    \n",
    "    text = text.lstrip()  # removes whitespaces before string\n",
    "    \n",
    "    text = text.rstrip()  # removes whitespaces after string\n",
    "    \n",
    "    return text\n",
    "\n",
    "df_train['clean_text'] = df_train['text'].apply(clean_text)\n",
    "\n",
    "df_test['clean_text'] = df_test['text'].apply(clean_text)"
   ]
  },
  {
   "cell_type": "code",
   "execution_count": 50,
   "id": "3a709973",
   "metadata": {
    "id": "3a709973"
   },
   "outputs": [],
   "source": [
    "# remove numbers\n",
    "\n",
    "def remove_numbers(text):\n",
    "    \n",
    "    \"\"\"takes a string of text and remove numbers\"\"\"\n",
    "    \n",
    "    number_pattern = r'\\d+'\n",
    "    \n",
    "    without_number = re.sub(pattern = number_pattern, repl = \" \", string = text)\n",
    "    \n",
    "    return without_number\n",
    "\n",
    "df_train['clean_text'] = df_train['clean_text'].apply(lambda x: remove_numbers(x))\n",
    "\n",
    "df_test['clean_text'] = df_test['clean_text'].apply(lambda x: remove_numbers(x))"
   ]
  },
  {
   "cell_type": "code",
   "execution_count": 51,
   "id": "12eea049",
   "metadata": {
    "colab": {
     "base_uri": "https://localhost:8080/"
    },
    "id": "12eea049",
    "outputId": "200c1537-5a78-400d-df78-f0b4f2f5a6fa"
   },
   "outputs": [
    {
     "data": {
      "text/html": [
       "<div>\n",
       "<style scoped>\n",
       "    .dataframe tbody tr th:only-of-type {\n",
       "        vertical-align: middle;\n",
       "    }\n",
       "\n",
       "    .dataframe tbody tr th {\n",
       "        vertical-align: top;\n",
       "    }\n",
       "\n",
       "    .dataframe thead th {\n",
       "        text-align: right;\n",
       "    }\n",
       "</style>\n",
       "<table border=\"1\" class=\"dataframe\">\n",
       "  <thead>\n",
       "    <tr style=\"text-align: right;\">\n",
       "      <th></th>\n",
       "      <th>lang_id</th>\n",
       "      <th>text</th>\n",
       "      <th>clean_text</th>\n",
       "    </tr>\n",
       "  </thead>\n",
       "  <tbody>\n",
       "    <tr>\n",
       "      <th>0</th>\n",
       "      <td>xho</td>\n",
       "      <td>umgaqo-siseko wenza amalungiselelo kumaziko ax...</td>\n",
       "      <td>umgaqo siseko wenza amalungiselelo kumaziko ax...</td>\n",
       "    </tr>\n",
       "    <tr>\n",
       "      <th>1</th>\n",
       "      <td>xho</td>\n",
       "      <td>i-dha iya kuba nobulumko bokubeka umsebenzi na...</td>\n",
       "      <td>i dha iya kuba nobulumko bokubeka umsebenzi na...</td>\n",
       "    </tr>\n",
       "    <tr>\n",
       "      <th>2</th>\n",
       "      <td>eng</td>\n",
       "      <td>the province of kwazulu-natal department of tr...</td>\n",
       "      <td>the province of kwazulu natal department of tr...</td>\n",
       "    </tr>\n",
       "    <tr>\n",
       "      <th>3</th>\n",
       "      <td>nso</td>\n",
       "      <td>o netefatša gore o ba file dilo ka moka tše le...</td>\n",
       "      <td>o netefatša gore o ba file dilo ka moka tše le...</td>\n",
       "    </tr>\n",
       "    <tr>\n",
       "      <th>4</th>\n",
       "      <td>ven</td>\n",
       "      <td>khomishini ya ndinganyiso ya mbeu yo ewa maana...</td>\n",
       "      <td>khomishini ya ndinganyiso ya mbeu yo ewa maana...</td>\n",
       "    </tr>\n",
       "  </tbody>\n",
       "</table>\n",
       "</div>"
      ],
      "text/plain": [
       "  lang_id                                               text  \\\n",
       "0     xho  umgaqo-siseko wenza amalungiselelo kumaziko ax...   \n",
       "1     xho  i-dha iya kuba nobulumko bokubeka umsebenzi na...   \n",
       "2     eng  the province of kwazulu-natal department of tr...   \n",
       "3     nso  o netefatša gore o ba file dilo ka moka tše le...   \n",
       "4     ven  khomishini ya ndinganyiso ya mbeu yo ewa maana...   \n",
       "\n",
       "                                          clean_text  \n",
       "0  umgaqo siseko wenza amalungiselelo kumaziko ax...  \n",
       "1  i dha iya kuba nobulumko bokubeka umsebenzi na...  \n",
       "2  the province of kwazulu natal department of tr...  \n",
       "3  o netefatša gore o ba file dilo ka moka tše le...  \n",
       "4  khomishini ya ndinganyiso ya mbeu yo ewa maana...  "
      ]
     },
     "execution_count": 51,
     "metadata": {},
     "output_type": "execute_result"
    }
   ],
   "source": [
    "df_train.head()"
   ]
  },
  {
   "cell_type": "markdown",
   "id": "88b21ca7",
   "metadata": {
    "id": "88b21ca7"
   },
   "source": [
    "#### Tokenization"
   ]
  },
  {
   "cell_type": "markdown",
   "id": "nbrYOW_k-NaV",
   "metadata": {
    "id": "nbrYOW_k-NaV"
   },
   "source": [
    "Tokenization is a process of breaking down unstructured data and natural language text into smaller units called tokens. During this process we will first tokenize the tweets and then transform the data using the TreebankWord."
   ]
  },
  {
   "cell_type": "code",
   "execution_count": 52,
   "id": "c71c7e33",
   "metadata": {
    "colab": {
     "base_uri": "https://localhost:8080/"
    },
    "id": "c71c7e33",
    "outputId": "12c29af9-3d32-44b6-d903-b47c913b91ac"
   },
   "outputs": [
    {
     "data": {
      "text/html": [
       "<div>\n",
       "<style scoped>\n",
       "    .dataframe tbody tr th:only-of-type {\n",
       "        vertical-align: middle;\n",
       "    }\n",
       "\n",
       "    .dataframe tbody tr th {\n",
       "        vertical-align: top;\n",
       "    }\n",
       "\n",
       "    .dataframe thead th {\n",
       "        text-align: right;\n",
       "    }\n",
       "</style>\n",
       "<table border=\"1\" class=\"dataframe\">\n",
       "  <thead>\n",
       "    <tr style=\"text-align: right;\">\n",
       "      <th></th>\n",
       "      <th>lang_id</th>\n",
       "      <th>text</th>\n",
       "      <th>clean_text</th>\n",
       "      <th>tokenized</th>\n",
       "    </tr>\n",
       "  </thead>\n",
       "  <tbody>\n",
       "    <tr>\n",
       "      <th>0</th>\n",
       "      <td>xho</td>\n",
       "      <td>umgaqo-siseko wenza amalungiselelo kumaziko ax...</td>\n",
       "      <td>umgaqo siseko wenza amalungiselelo kumaziko ax...</td>\n",
       "      <td>[umgaqo, siseko, wenza, amalungiselelo, kumazi...</td>\n",
       "    </tr>\n",
       "    <tr>\n",
       "      <th>1</th>\n",
       "      <td>xho</td>\n",
       "      <td>i-dha iya kuba nobulumko bokubeka umsebenzi na...</td>\n",
       "      <td>i dha iya kuba nobulumko bokubeka umsebenzi na...</td>\n",
       "      <td>[i, dha, iya, kuba, nobulumko, bokubeka, umseb...</td>\n",
       "    </tr>\n",
       "    <tr>\n",
       "      <th>2</th>\n",
       "      <td>eng</td>\n",
       "      <td>the province of kwazulu-natal department of tr...</td>\n",
       "      <td>the province of kwazulu natal department of tr...</td>\n",
       "      <td>[the, province, of, kwazulu, natal, department...</td>\n",
       "    </tr>\n",
       "    <tr>\n",
       "      <th>3</th>\n",
       "      <td>nso</td>\n",
       "      <td>o netefatša gore o ba file dilo ka moka tše le...</td>\n",
       "      <td>o netefatša gore o ba file dilo ka moka tše le...</td>\n",
       "      <td>[o, netefatša, gore, o, ba, file, dilo, ka, mo...</td>\n",
       "    </tr>\n",
       "    <tr>\n",
       "      <th>4</th>\n",
       "      <td>ven</td>\n",
       "      <td>khomishini ya ndinganyiso ya mbeu yo ewa maana...</td>\n",
       "      <td>khomishini ya ndinganyiso ya mbeu yo ewa maana...</td>\n",
       "      <td>[khomishini, ya, ndinganyiso, ya, mbeu, yo, ew...</td>\n",
       "    </tr>\n",
       "    <tr>\n",
       "      <th>...</th>\n",
       "      <td>...</td>\n",
       "      <td>...</td>\n",
       "      <td>...</td>\n",
       "      <td>...</td>\n",
       "    </tr>\n",
       "    <tr>\n",
       "      <th>32995</th>\n",
       "      <td>tsn</td>\n",
       "      <td>popo ya dipolateforomo tse ke go tlisa boetele...</td>\n",
       "      <td>popo ya dipolateforomo tse ke go tlisa boetele...</td>\n",
       "      <td>[popo, ya, dipolateforomo, tse, ke, go, tlisa,...</td>\n",
       "    </tr>\n",
       "    <tr>\n",
       "      <th>32996</th>\n",
       "      <td>sot</td>\n",
       "      <td>modise mosadi na o ntse o sa utlwe hore thaban...</td>\n",
       "      <td>modise mosadi na o ntse o sa utlwe hore thaban...</td>\n",
       "      <td>[modise, mosadi, na, o, ntse, o, sa, utlwe, ho...</td>\n",
       "    </tr>\n",
       "    <tr>\n",
       "      <th>32997</th>\n",
       "      <td>eng</td>\n",
       "      <td>closing date for the submission of completed t...</td>\n",
       "      <td>closing date for the submission of completed t...</td>\n",
       "      <td>[closing, date, for, the, submission, of, comp...</td>\n",
       "    </tr>\n",
       "    <tr>\n",
       "      <th>32998</th>\n",
       "      <td>xho</td>\n",
       "      <td>nawuphina umntu ofunyenwe enetyala phantsi kwa...</td>\n",
       "      <td>nawuphina umntu ofunyenwe enetyala phantsi kwa...</td>\n",
       "      <td>[nawuphina, umntu, ofunyenwe, enetyala, phants...</td>\n",
       "    </tr>\n",
       "    <tr>\n",
       "      <th>32999</th>\n",
       "      <td>sot</td>\n",
       "      <td>mafapha a mang le ona a lokela ho etsa ditlale...</td>\n",
       "      <td>mafapha a mang le ona a lokela ho etsa ditlale...</td>\n",
       "      <td>[mafapha, a, mang, le, ona, a, lokela, ho, ets...</td>\n",
       "    </tr>\n",
       "  </tbody>\n",
       "</table>\n",
       "<p>33000 rows × 4 columns</p>\n",
       "</div>"
      ],
      "text/plain": [
       "      lang_id                                               text  \\\n",
       "0         xho  umgaqo-siseko wenza amalungiselelo kumaziko ax...   \n",
       "1         xho  i-dha iya kuba nobulumko bokubeka umsebenzi na...   \n",
       "2         eng  the province of kwazulu-natal department of tr...   \n",
       "3         nso  o netefatša gore o ba file dilo ka moka tše le...   \n",
       "4         ven  khomishini ya ndinganyiso ya mbeu yo ewa maana...   \n",
       "...       ...                                                ...   \n",
       "32995     tsn  popo ya dipolateforomo tse ke go tlisa boetele...   \n",
       "32996     sot  modise mosadi na o ntse o sa utlwe hore thaban...   \n",
       "32997     eng  closing date for the submission of completed t...   \n",
       "32998     xho  nawuphina umntu ofunyenwe enetyala phantsi kwa...   \n",
       "32999     sot  mafapha a mang le ona a lokela ho etsa ditlale...   \n",
       "\n",
       "                                              clean_text  \\\n",
       "0      umgaqo siseko wenza amalungiselelo kumaziko ax...   \n",
       "1      i dha iya kuba nobulumko bokubeka umsebenzi na...   \n",
       "2      the province of kwazulu natal department of tr...   \n",
       "3      o netefatša gore o ba file dilo ka moka tše le...   \n",
       "4      khomishini ya ndinganyiso ya mbeu yo ewa maana...   \n",
       "...                                                  ...   \n",
       "32995  popo ya dipolateforomo tse ke go tlisa boetele...   \n",
       "32996  modise mosadi na o ntse o sa utlwe hore thaban...   \n",
       "32997  closing date for the submission of completed t...   \n",
       "32998  nawuphina umntu ofunyenwe enetyala phantsi kwa...   \n",
       "32999  mafapha a mang le ona a lokela ho etsa ditlale...   \n",
       "\n",
       "                                               tokenized  \n",
       "0      [umgaqo, siseko, wenza, amalungiselelo, kumazi...  \n",
       "1      [i, dha, iya, kuba, nobulumko, bokubeka, umseb...  \n",
       "2      [the, province, of, kwazulu, natal, department...  \n",
       "3      [o, netefatša, gore, o, ba, file, dilo, ka, mo...  \n",
       "4      [khomishini, ya, ndinganyiso, ya, mbeu, yo, ew...  \n",
       "...                                                  ...  \n",
       "32995  [popo, ya, dipolateforomo, tse, ke, go, tlisa,...  \n",
       "32996  [modise, mosadi, na, o, ntse, o, sa, utlwe, ho...  \n",
       "32997  [closing, date, for, the, submission, of, comp...  \n",
       "32998  [nawuphina, umntu, ofunyenwe, enetyala, phants...  \n",
       "32999  [mafapha, a, mang, le, ona, a, lokela, ho, ets...  \n",
       "\n",
       "[33000 rows x 4 columns]"
      ]
     },
     "execution_count": 52,
     "metadata": {},
     "output_type": "execute_result"
    }
   ],
   "source": [
    "#start by tokenizing the tweets\n",
    "tokeniser = TreebankWordTokenizer()\n",
    "\n",
    "# transforming the data using the Treebankword tokenizer\n",
    "df_train['tokenized'] = df_train['clean_text'].apply(tokeniser.tokenize)\n",
    "\n",
    "df_train"
   ]
  },
  {
   "cell_type": "markdown",
   "id": "18dbcfe5",
   "metadata": {
    "id": "18dbcfe5"
   },
   "source": [
    "#### Lemmatization"
   ]
  },
  {
   "cell_type": "markdown",
   "id": "iyqJOMUp-gZN",
   "metadata": {
    "id": "iyqJOMUp-gZN"
   },
   "source": [
    "Lemmatization is a process of converting/reducing a word to it meaningful root/base. During this process we will first change the column clean_message into a list, tagging the tweets and performing POS tagging."
   ]
  },
  {
   "cell_type": "code",
   "execution_count": 53,
   "id": "aa9a5314",
   "metadata": {
    "colab": {
     "base_uri": "https://localhost:8080/"
    },
    "id": "aa9a5314",
    "outputId": "769bd972-4974-4445-df12-a423a264b278"
   },
   "outputs": [
    {
     "name": "stderr",
     "output_type": "stream",
     "text": [
      "[nltk_data] Downloading package wordnet to\n",
      "[nltk_data]     C:\\Users\\thaba\\AppData\\Roaming\\nltk_data...\n",
      "[nltk_data]   Package wordnet is already up-to-date!\n"
     ]
    },
    {
     "data": {
      "text/html": [
       "<div>\n",
       "<style scoped>\n",
       "    .dataframe tbody tr th:only-of-type {\n",
       "        vertical-align: middle;\n",
       "    }\n",
       "\n",
       "    .dataframe tbody tr th {\n",
       "        vertical-align: top;\n",
       "    }\n",
       "\n",
       "    .dataframe thead th {\n",
       "        text-align: right;\n",
       "    }\n",
       "</style>\n",
       "<table border=\"1\" class=\"dataframe\">\n",
       "  <thead>\n",
       "    <tr style=\"text-align: right;\">\n",
       "      <th></th>\n",
       "      <th>lang_id</th>\n",
       "      <th>text</th>\n",
       "      <th>clean_text</th>\n",
       "      <th>tokenized</th>\n",
       "      <th>lemma_text</th>\n",
       "    </tr>\n",
       "  </thead>\n",
       "  <tbody>\n",
       "    <tr>\n",
       "      <th>0</th>\n",
       "      <td>xho</td>\n",
       "      <td>umgaqo-siseko wenza amalungiselelo kumaziko ax...</td>\n",
       "      <td>umgaqo siseko wenza amalungiselelo kumaziko ax...</td>\n",
       "      <td>[umgaqo, siseko, wenza, amalungiselelo, kumazi...</td>\n",
       "      <td>umgaqo siseko wenza amalungiselelo kumaziko ax...</td>\n",
       "    </tr>\n",
       "    <tr>\n",
       "      <th>1</th>\n",
       "      <td>xho</td>\n",
       "      <td>i-dha iya kuba nobulumko bokubeka umsebenzi na...</td>\n",
       "      <td>i dha iya kuba nobulumko bokubeka umsebenzi na...</td>\n",
       "      <td>[i, dha, iya, kuba, nobulumko, bokubeka, umseb...</td>\n",
       "      <td>i dha iya kuba nobulumko bokubeka umsebenzi na...</td>\n",
       "    </tr>\n",
       "    <tr>\n",
       "      <th>2</th>\n",
       "      <td>eng</td>\n",
       "      <td>the province of kwazulu-natal department of tr...</td>\n",
       "      <td>the province of kwazulu natal department of tr...</td>\n",
       "      <td>[the, province, of, kwazulu, natal, department...</td>\n",
       "      <td>the province of kwazulu natal department of tr...</td>\n",
       "    </tr>\n",
       "    <tr>\n",
       "      <th>3</th>\n",
       "      <td>nso</td>\n",
       "      <td>o netefatša gore o ba file dilo ka moka tše le...</td>\n",
       "      <td>o netefatša gore o ba file dilo ka moka tše le...</td>\n",
       "      <td>[o, netefatša, gore, o, ba, file, dilo, ka, mo...</td>\n",
       "      <td>o netefatša gore o ba file dilo ka moka tše le...</td>\n",
       "    </tr>\n",
       "    <tr>\n",
       "      <th>4</th>\n",
       "      <td>ven</td>\n",
       "      <td>khomishini ya ndinganyiso ya mbeu yo ewa maana...</td>\n",
       "      <td>khomishini ya ndinganyiso ya mbeu yo ewa maana...</td>\n",
       "      <td>[khomishini, ya, ndinganyiso, ya, mbeu, yo, ew...</td>\n",
       "      <td>khomishini ya ndinganyiso ya mbeu yo ewa maana...</td>\n",
       "    </tr>\n",
       "  </tbody>\n",
       "</table>\n",
       "</div>"
      ],
      "text/plain": [
       "  lang_id                                               text  \\\n",
       "0     xho  umgaqo-siseko wenza amalungiselelo kumaziko ax...   \n",
       "1     xho  i-dha iya kuba nobulumko bokubeka umsebenzi na...   \n",
       "2     eng  the province of kwazulu-natal department of tr...   \n",
       "3     nso  o netefatša gore o ba file dilo ka moka tše le...   \n",
       "4     ven  khomishini ya ndinganyiso ya mbeu yo ewa maana...   \n",
       "\n",
       "                                          clean_text  \\\n",
       "0  umgaqo siseko wenza amalungiselelo kumaziko ax...   \n",
       "1  i dha iya kuba nobulumko bokubeka umsebenzi na...   \n",
       "2  the province of kwazulu natal department of tr...   \n",
       "3  o netefatša gore o ba file dilo ka moka tše le...   \n",
       "4  khomishini ya ndinganyiso ya mbeu yo ewa maana...   \n",
       "\n",
       "                                           tokenized  \\\n",
       "0  [umgaqo, siseko, wenza, amalungiselelo, kumazi...   \n",
       "1  [i, dha, iya, kuba, nobulumko, bokubeka, umseb...   \n",
       "2  [the, province, of, kwazulu, natal, department...   \n",
       "3  [o, netefatša, gore, o, ba, file, dilo, ka, mo...   \n",
       "4  [khomishini, ya, ndinganyiso, ya, mbeu, yo, ew...   \n",
       "\n",
       "                                          lemma_text  \n",
       "0  umgaqo siseko wenza amalungiselelo kumaziko ax...  \n",
       "1  i dha iya kuba nobulumko bokubeka umsebenzi na...  \n",
       "2  the province of kwazulu natal department of tr...  \n",
       "3  o netefatša gore o ba file dilo ka moka tše le...  \n",
       "4  khomishini ya ndinganyiso ya mbeu yo ewa maana...  "
      ]
     },
     "execution_count": 53,
     "metadata": {},
     "output_type": "execute_result"
    }
   ],
   "source": [
    "\n",
    "from nltk.stem import WordNetLemmatizer\n",
    "from nltk import word_tokenize\n",
    "\n",
    "nltk.download(\"wordnet\")\n",
    "\n",
    "def lemmatizing(text):\n",
    "    lemmatizer = WordNetLemmatizer()\n",
    "    tokens = word_tokenize(text)\n",
    "    for i in range(len(tokens)):\n",
    "        lemma_word = lemmatizer.lemmatize(tokens[i])\n",
    "        tokens[i] = lemma_word\n",
    "    return \" \".join(tokens)\n",
    "\n",
    "df_train[\"lemma_text\"] = df_train[\"clean_text\"].apply(lambda x: lemmatizing(x))\n",
    "\n",
    "df_train.head()"
   ]
  },
  {
   "cell_type": "code",
   "execution_count": null,
   "id": "78a62265",
   "metadata": {
    "id": "78a62265"
   },
   "outputs": [],
   "source": []
  },
  {
   "cell_type": "markdown",
   "id": "a2355ff4",
   "metadata": {
    "id": "a2355ff4"
   },
   "source": [
    "<a id=\"EDA\"></a>\n",
    "## 4. Exploratory Data Analysis"
   ]
  },
  {
   "cell_type": "markdown",
   "id": "12auUCT1tLOu",
   "metadata": {
    "id": "12auUCT1tLOu"
   },
   "source": [
    "During the exploratory data analysis process we will be looking into gaining ana accurate and deep understanding of the dataset. We will achieve this by performing the following processes:\n",
    "\n",
    "- Sentiment distribution\n",
    "- Tweet length distribution\n",
    "- Hashtag analysis\n",
    "- Frequently words from each sentiment\n",
    "- Other frequent words without common words\n",
    "- Mentions analysis\n",
    "- Representation of mentions on wordcloud"
   ]
  },
  {
   "cell_type": "markdown",
   "id": "c2c935f7",
   "metadata": {
    "id": "c2c935f7"
   },
   "source": [
    "### Language_id Distribution"
   ]
  },
  {
   "cell_type": "markdown",
   "id": "9mA9TwqAB_cx",
   "metadata": {
    "id": "9mA9TwqAB_cx"
   },
   "source": [
    "Based on the plot below we observe that sentiment distribution is disproportional with the pro climate change class taking up a large portion of the data."
   ]
  },
  {
   "cell_type": "code",
   "execution_count": 54,
   "id": "be839591",
   "metadata": {
    "colab": {
     "base_uri": "https://localhost:8080/"
    },
    "id": "be839591",
    "outputId": "2202e93c-2d71-4ca9-c3df-000763ed720b",
    "scrolled": false
   },
   "outputs": [
    {
     "data": {
      "application/vnd.plotly.v1+json": {
       "config": {
        "plotlyServerURL": "https://plot.ly"
       },
       "data": [
        {
         "domain": {
          "x": [
           0,
           1
          ],
          "y": [
           0,
           1
          ]
         },
         "hole": 0.5,
         "hovertemplate": "label=%{label}<br>value=%{value}<extra></extra>",
         "labels": [
          "zul",
          "sot",
          "ven",
          "tso",
          "afr",
          "nbl",
          "tsn",
          "eng",
          "nso",
          "ssw",
          "xho"
         ],
         "legendgroup": "",
         "name": "",
         "showlegend": true,
         "textinfo": "percent+label",
         "textposition": "inside",
         "type": "pie",
         "values": [
          3000,
          3000,
          3000,
          3000,
          3000,
          3000,
          3000,
          3000,
          3000,
          3000,
          3000
         ]
        }
       ],
       "layout": {
        "legend": {
         "tracegroupgap": 0
        },
        "paper_bgcolor": "rgb(243,243,243)",
        "plot_bgcolor": "rgb(243,243,243)",
        "template": {
         "data": {
          "bar": [
           {
            "error_x": {
             "color": "#2a3f5f"
            },
            "error_y": {
             "color": "#2a3f5f"
            },
            "marker": {
             "line": {
              "color": "#E5ECF6",
              "width": 0.5
             },
             "pattern": {
              "fillmode": "overlay",
              "size": 10,
              "solidity": 0.2
             }
            },
            "type": "bar"
           }
          ],
          "barpolar": [
           {
            "marker": {
             "line": {
              "color": "#E5ECF6",
              "width": 0.5
             },
             "pattern": {
              "fillmode": "overlay",
              "size": 10,
              "solidity": 0.2
             }
            },
            "type": "barpolar"
           }
          ],
          "carpet": [
           {
            "aaxis": {
             "endlinecolor": "#2a3f5f",
             "gridcolor": "white",
             "linecolor": "white",
             "minorgridcolor": "white",
             "startlinecolor": "#2a3f5f"
            },
            "baxis": {
             "endlinecolor": "#2a3f5f",
             "gridcolor": "white",
             "linecolor": "white",
             "minorgridcolor": "white",
             "startlinecolor": "#2a3f5f"
            },
            "type": "carpet"
           }
          ],
          "choropleth": [
           {
            "colorbar": {
             "outlinewidth": 0,
             "ticks": ""
            },
            "type": "choropleth"
           }
          ],
          "contour": [
           {
            "colorbar": {
             "outlinewidth": 0,
             "ticks": ""
            },
            "colorscale": [
             [
              0,
              "#0d0887"
             ],
             [
              0.1111111111111111,
              "#46039f"
             ],
             [
              0.2222222222222222,
              "#7201a8"
             ],
             [
              0.3333333333333333,
              "#9c179e"
             ],
             [
              0.4444444444444444,
              "#bd3786"
             ],
             [
              0.5555555555555556,
              "#d8576b"
             ],
             [
              0.6666666666666666,
              "#ed7953"
             ],
             [
              0.7777777777777778,
              "#fb9f3a"
             ],
             [
              0.8888888888888888,
              "#fdca26"
             ],
             [
              1,
              "#f0f921"
             ]
            ],
            "type": "contour"
           }
          ],
          "contourcarpet": [
           {
            "colorbar": {
             "outlinewidth": 0,
             "ticks": ""
            },
            "type": "contourcarpet"
           }
          ],
          "heatmap": [
           {
            "colorbar": {
             "outlinewidth": 0,
             "ticks": ""
            },
            "colorscale": [
             [
              0,
              "#0d0887"
             ],
             [
              0.1111111111111111,
              "#46039f"
             ],
             [
              0.2222222222222222,
              "#7201a8"
             ],
             [
              0.3333333333333333,
              "#9c179e"
             ],
             [
              0.4444444444444444,
              "#bd3786"
             ],
             [
              0.5555555555555556,
              "#d8576b"
             ],
             [
              0.6666666666666666,
              "#ed7953"
             ],
             [
              0.7777777777777778,
              "#fb9f3a"
             ],
             [
              0.8888888888888888,
              "#fdca26"
             ],
             [
              1,
              "#f0f921"
             ]
            ],
            "type": "heatmap"
           }
          ],
          "heatmapgl": [
           {
            "colorbar": {
             "outlinewidth": 0,
             "ticks": ""
            },
            "colorscale": [
             [
              0,
              "#0d0887"
             ],
             [
              0.1111111111111111,
              "#46039f"
             ],
             [
              0.2222222222222222,
              "#7201a8"
             ],
             [
              0.3333333333333333,
              "#9c179e"
             ],
             [
              0.4444444444444444,
              "#bd3786"
             ],
             [
              0.5555555555555556,
              "#d8576b"
             ],
             [
              0.6666666666666666,
              "#ed7953"
             ],
             [
              0.7777777777777778,
              "#fb9f3a"
             ],
             [
              0.8888888888888888,
              "#fdca26"
             ],
             [
              1,
              "#f0f921"
             ]
            ],
            "type": "heatmapgl"
           }
          ],
          "histogram": [
           {
            "marker": {
             "pattern": {
              "fillmode": "overlay",
              "size": 10,
              "solidity": 0.2
             }
            },
            "type": "histogram"
           }
          ],
          "histogram2d": [
           {
            "colorbar": {
             "outlinewidth": 0,
             "ticks": ""
            },
            "colorscale": [
             [
              0,
              "#0d0887"
             ],
             [
              0.1111111111111111,
              "#46039f"
             ],
             [
              0.2222222222222222,
              "#7201a8"
             ],
             [
              0.3333333333333333,
              "#9c179e"
             ],
             [
              0.4444444444444444,
              "#bd3786"
             ],
             [
              0.5555555555555556,
              "#d8576b"
             ],
             [
              0.6666666666666666,
              "#ed7953"
             ],
             [
              0.7777777777777778,
              "#fb9f3a"
             ],
             [
              0.8888888888888888,
              "#fdca26"
             ],
             [
              1,
              "#f0f921"
             ]
            ],
            "type": "histogram2d"
           }
          ],
          "histogram2dcontour": [
           {
            "colorbar": {
             "outlinewidth": 0,
             "ticks": ""
            },
            "colorscale": [
             [
              0,
              "#0d0887"
             ],
             [
              0.1111111111111111,
              "#46039f"
             ],
             [
              0.2222222222222222,
              "#7201a8"
             ],
             [
              0.3333333333333333,
              "#9c179e"
             ],
             [
              0.4444444444444444,
              "#bd3786"
             ],
             [
              0.5555555555555556,
              "#d8576b"
             ],
             [
              0.6666666666666666,
              "#ed7953"
             ],
             [
              0.7777777777777778,
              "#fb9f3a"
             ],
             [
              0.8888888888888888,
              "#fdca26"
             ],
             [
              1,
              "#f0f921"
             ]
            ],
            "type": "histogram2dcontour"
           }
          ],
          "mesh3d": [
           {
            "colorbar": {
             "outlinewidth": 0,
             "ticks": ""
            },
            "type": "mesh3d"
           }
          ],
          "parcoords": [
           {
            "line": {
             "colorbar": {
              "outlinewidth": 0,
              "ticks": ""
             }
            },
            "type": "parcoords"
           }
          ],
          "pie": [
           {
            "automargin": true,
            "type": "pie"
           }
          ],
          "scatter": [
           {
            "marker": {
             "colorbar": {
              "outlinewidth": 0,
              "ticks": ""
             }
            },
            "type": "scatter"
           }
          ],
          "scatter3d": [
           {
            "line": {
             "colorbar": {
              "outlinewidth": 0,
              "ticks": ""
             }
            },
            "marker": {
             "colorbar": {
              "outlinewidth": 0,
              "ticks": ""
             }
            },
            "type": "scatter3d"
           }
          ],
          "scattercarpet": [
           {
            "marker": {
             "colorbar": {
              "outlinewidth": 0,
              "ticks": ""
             }
            },
            "type": "scattercarpet"
           }
          ],
          "scattergeo": [
           {
            "marker": {
             "colorbar": {
              "outlinewidth": 0,
              "ticks": ""
             }
            },
            "type": "scattergeo"
           }
          ],
          "scattergl": [
           {
            "marker": {
             "colorbar": {
              "outlinewidth": 0,
              "ticks": ""
             }
            },
            "type": "scattergl"
           }
          ],
          "scattermapbox": [
           {
            "marker": {
             "colorbar": {
              "outlinewidth": 0,
              "ticks": ""
             }
            },
            "type": "scattermapbox"
           }
          ],
          "scatterpolar": [
           {
            "marker": {
             "colorbar": {
              "outlinewidth": 0,
              "ticks": ""
             }
            },
            "type": "scatterpolar"
           }
          ],
          "scatterpolargl": [
           {
            "marker": {
             "colorbar": {
              "outlinewidth": 0,
              "ticks": ""
             }
            },
            "type": "scatterpolargl"
           }
          ],
          "scatterternary": [
           {
            "marker": {
             "colorbar": {
              "outlinewidth": 0,
              "ticks": ""
             }
            },
            "type": "scatterternary"
           }
          ],
          "surface": [
           {
            "colorbar": {
             "outlinewidth": 0,
             "ticks": ""
            },
            "colorscale": [
             [
              0,
              "#0d0887"
             ],
             [
              0.1111111111111111,
              "#46039f"
             ],
             [
              0.2222222222222222,
              "#7201a8"
             ],
             [
              0.3333333333333333,
              "#9c179e"
             ],
             [
              0.4444444444444444,
              "#bd3786"
             ],
             [
              0.5555555555555556,
              "#d8576b"
             ],
             [
              0.6666666666666666,
              "#ed7953"
             ],
             [
              0.7777777777777778,
              "#fb9f3a"
             ],
             [
              0.8888888888888888,
              "#fdca26"
             ],
             [
              1,
              "#f0f921"
             ]
            ],
            "type": "surface"
           }
          ],
          "table": [
           {
            "cells": {
             "fill": {
              "color": "#EBF0F8"
             },
             "line": {
              "color": "white"
             }
            },
            "header": {
             "fill": {
              "color": "#C8D4E3"
             },
             "line": {
              "color": "white"
             }
            },
            "type": "table"
           }
          ]
         },
         "layout": {
          "annotationdefaults": {
           "arrowcolor": "#2a3f5f",
           "arrowhead": 0,
           "arrowwidth": 1
          },
          "autotypenumbers": "strict",
          "coloraxis": {
           "colorbar": {
            "outlinewidth": 0,
            "ticks": ""
           }
          },
          "colorscale": {
           "diverging": [
            [
             0,
             "#8e0152"
            ],
            [
             0.1,
             "#c51b7d"
            ],
            [
             0.2,
             "#de77ae"
            ],
            [
             0.3,
             "#f1b6da"
            ],
            [
             0.4,
             "#fde0ef"
            ],
            [
             0.5,
             "#f7f7f7"
            ],
            [
             0.6,
             "#e6f5d0"
            ],
            [
             0.7,
             "#b8e186"
            ],
            [
             0.8,
             "#7fbc41"
            ],
            [
             0.9,
             "#4d9221"
            ],
            [
             1,
             "#276419"
            ]
           ],
           "sequential": [
            [
             0,
             "#0d0887"
            ],
            [
             0.1111111111111111,
             "#46039f"
            ],
            [
             0.2222222222222222,
             "#7201a8"
            ],
            [
             0.3333333333333333,
             "#9c179e"
            ],
            [
             0.4444444444444444,
             "#bd3786"
            ],
            [
             0.5555555555555556,
             "#d8576b"
            ],
            [
             0.6666666666666666,
             "#ed7953"
            ],
            [
             0.7777777777777778,
             "#fb9f3a"
            ],
            [
             0.8888888888888888,
             "#fdca26"
            ],
            [
             1,
             "#f0f921"
            ]
           ],
           "sequentialminus": [
            [
             0,
             "#0d0887"
            ],
            [
             0.1111111111111111,
             "#46039f"
            ],
            [
             0.2222222222222222,
             "#7201a8"
            ],
            [
             0.3333333333333333,
             "#9c179e"
            ],
            [
             0.4444444444444444,
             "#bd3786"
            ],
            [
             0.5555555555555556,
             "#d8576b"
            ],
            [
             0.6666666666666666,
             "#ed7953"
            ],
            [
             0.7777777777777778,
             "#fb9f3a"
            ],
            [
             0.8888888888888888,
             "#fdca26"
            ],
            [
             1,
             "#f0f921"
            ]
           ]
          },
          "colorway": [
           "#636efa",
           "#EF553B",
           "#00cc96",
           "#ab63fa",
           "#FFA15A",
           "#19d3f3",
           "#FF6692",
           "#B6E880",
           "#FF97FF",
           "#FECB52"
          ],
          "font": {
           "color": "#2a3f5f"
          },
          "geo": {
           "bgcolor": "white",
           "lakecolor": "white",
           "landcolor": "#E5ECF6",
           "showlakes": true,
           "showland": true,
           "subunitcolor": "white"
          },
          "hoverlabel": {
           "align": "left"
          },
          "hovermode": "closest",
          "mapbox": {
           "style": "light"
          },
          "paper_bgcolor": "white",
          "plot_bgcolor": "#E5ECF6",
          "polar": {
           "angularaxis": {
            "gridcolor": "white",
            "linecolor": "white",
            "ticks": ""
           },
           "bgcolor": "#E5ECF6",
           "radialaxis": {
            "gridcolor": "white",
            "linecolor": "white",
            "ticks": ""
           }
          },
          "scene": {
           "xaxis": {
            "backgroundcolor": "#E5ECF6",
            "gridcolor": "white",
            "gridwidth": 2,
            "linecolor": "white",
            "showbackground": true,
            "ticks": "",
            "zerolinecolor": "white"
           },
           "yaxis": {
            "backgroundcolor": "#E5ECF6",
            "gridcolor": "white",
            "gridwidth": 2,
            "linecolor": "white",
            "showbackground": true,
            "ticks": "",
            "zerolinecolor": "white"
           },
           "zaxis": {
            "backgroundcolor": "#E5ECF6",
            "gridcolor": "white",
            "gridwidth": 2,
            "linecolor": "white",
            "showbackground": true,
            "ticks": "",
            "zerolinecolor": "white"
           }
          },
          "shapedefaults": {
           "line": {
            "color": "#2a3f5f"
           }
          },
          "ternary": {
           "aaxis": {
            "gridcolor": "white",
            "linecolor": "white",
            "ticks": ""
           },
           "baxis": {
            "gridcolor": "white",
            "linecolor": "white",
            "ticks": ""
           },
           "bgcolor": "#E5ECF6",
           "caxis": {
            "gridcolor": "white",
            "linecolor": "white",
            "ticks": ""
           }
          },
          "title": {
           "x": 0.05
          },
          "xaxis": {
           "automargin": true,
           "gridcolor": "white",
           "linecolor": "white",
           "ticks": "",
           "title": {
            "standoff": 15
           },
           "zerolinecolor": "white",
           "zerolinewidth": 2
          },
          "yaxis": {
           "automargin": true,
           "gridcolor": "white",
           "linecolor": "white",
           "ticks": "",
           "title": {
            "standoff": 15
           },
           "zerolinecolor": "white",
           "zerolinewidth": 2
          }
         }
        },
        "title": {
         "font": {
          "size": 22
         },
         "text": "Sentiment distribution in data"
        }
       }
      },
      "text/html": [
       "<div>                            <div id=\"6c2ec6b2-0379-42bc-9e9b-9edce4c1288e\" class=\"plotly-graph-div\" style=\"height:525px; width:100%;\"></div>            <script type=\"text/javascript\">                require([\"plotly\"], function(Plotly) {                    window.PLOTLYENV=window.PLOTLYENV || {};                                    if (document.getElementById(\"6c2ec6b2-0379-42bc-9e9b-9edce4c1288e\")) {                    Plotly.newPlot(                        \"6c2ec6b2-0379-42bc-9e9b-9edce4c1288e\",                        [{\"domain\":{\"x\":[0.0,1.0],\"y\":[0.0,1.0]},\"hole\":0.5,\"hovertemplate\":\"label=%{label}<br>value=%{value}<extra></extra>\",\"labels\":[\"zul\",\"sot\",\"ven\",\"tso\",\"afr\",\"nbl\",\"tsn\",\"eng\",\"nso\",\"ssw\",\"xho\"],\"legendgroup\":\"\",\"name\":\"\",\"showlegend\":true,\"textinfo\":\"percent+label\",\"textposition\":\"inside\",\"type\":\"pie\",\"values\":[3000,3000,3000,3000,3000,3000,3000,3000,3000,3000,3000]}],                        {\"legend\":{\"tracegroupgap\":0},\"paper_bgcolor\":\"rgb(243,243,243)\",\"plot_bgcolor\":\"rgb(243,243,243)\",\"template\":{\"data\":{\"bar\":[{\"error_x\":{\"color\":\"#2a3f5f\"},\"error_y\":{\"color\":\"#2a3f5f\"},\"marker\":{\"line\":{\"color\":\"#E5ECF6\",\"width\":0.5},\"pattern\":{\"fillmode\":\"overlay\",\"size\":10,\"solidity\":0.2}},\"type\":\"bar\"}],\"barpolar\":[{\"marker\":{\"line\":{\"color\":\"#E5ECF6\",\"width\":0.5},\"pattern\":{\"fillmode\":\"overlay\",\"size\":10,\"solidity\":0.2}},\"type\":\"barpolar\"}],\"carpet\":[{\"aaxis\":{\"endlinecolor\":\"#2a3f5f\",\"gridcolor\":\"white\",\"linecolor\":\"white\",\"minorgridcolor\":\"white\",\"startlinecolor\":\"#2a3f5f\"},\"baxis\":{\"endlinecolor\":\"#2a3f5f\",\"gridcolor\":\"white\",\"linecolor\":\"white\",\"minorgridcolor\":\"white\",\"startlinecolor\":\"#2a3f5f\"},\"type\":\"carpet\"}],\"choropleth\":[{\"colorbar\":{\"outlinewidth\":0,\"ticks\":\"\"},\"type\":\"choropleth\"}],\"contour\":[{\"colorbar\":{\"outlinewidth\":0,\"ticks\":\"\"},\"colorscale\":[[0.0,\"#0d0887\"],[0.1111111111111111,\"#46039f\"],[0.2222222222222222,\"#7201a8\"],[0.3333333333333333,\"#9c179e\"],[0.4444444444444444,\"#bd3786\"],[0.5555555555555556,\"#d8576b\"],[0.6666666666666666,\"#ed7953\"],[0.7777777777777778,\"#fb9f3a\"],[0.8888888888888888,\"#fdca26\"],[1.0,\"#f0f921\"]],\"type\":\"contour\"}],\"contourcarpet\":[{\"colorbar\":{\"outlinewidth\":0,\"ticks\":\"\"},\"type\":\"contourcarpet\"}],\"heatmap\":[{\"colorbar\":{\"outlinewidth\":0,\"ticks\":\"\"},\"colorscale\":[[0.0,\"#0d0887\"],[0.1111111111111111,\"#46039f\"],[0.2222222222222222,\"#7201a8\"],[0.3333333333333333,\"#9c179e\"],[0.4444444444444444,\"#bd3786\"],[0.5555555555555556,\"#d8576b\"],[0.6666666666666666,\"#ed7953\"],[0.7777777777777778,\"#fb9f3a\"],[0.8888888888888888,\"#fdca26\"],[1.0,\"#f0f921\"]],\"type\":\"heatmap\"}],\"heatmapgl\":[{\"colorbar\":{\"outlinewidth\":0,\"ticks\":\"\"},\"colorscale\":[[0.0,\"#0d0887\"],[0.1111111111111111,\"#46039f\"],[0.2222222222222222,\"#7201a8\"],[0.3333333333333333,\"#9c179e\"],[0.4444444444444444,\"#bd3786\"],[0.5555555555555556,\"#d8576b\"],[0.6666666666666666,\"#ed7953\"],[0.7777777777777778,\"#fb9f3a\"],[0.8888888888888888,\"#fdca26\"],[1.0,\"#f0f921\"]],\"type\":\"heatmapgl\"}],\"histogram\":[{\"marker\":{\"pattern\":{\"fillmode\":\"overlay\",\"size\":10,\"solidity\":0.2}},\"type\":\"histogram\"}],\"histogram2d\":[{\"colorbar\":{\"outlinewidth\":0,\"ticks\":\"\"},\"colorscale\":[[0.0,\"#0d0887\"],[0.1111111111111111,\"#46039f\"],[0.2222222222222222,\"#7201a8\"],[0.3333333333333333,\"#9c179e\"],[0.4444444444444444,\"#bd3786\"],[0.5555555555555556,\"#d8576b\"],[0.6666666666666666,\"#ed7953\"],[0.7777777777777778,\"#fb9f3a\"],[0.8888888888888888,\"#fdca26\"],[1.0,\"#f0f921\"]],\"type\":\"histogram2d\"}],\"histogram2dcontour\":[{\"colorbar\":{\"outlinewidth\":0,\"ticks\":\"\"},\"colorscale\":[[0.0,\"#0d0887\"],[0.1111111111111111,\"#46039f\"],[0.2222222222222222,\"#7201a8\"],[0.3333333333333333,\"#9c179e\"],[0.4444444444444444,\"#bd3786\"],[0.5555555555555556,\"#d8576b\"],[0.6666666666666666,\"#ed7953\"],[0.7777777777777778,\"#fb9f3a\"],[0.8888888888888888,\"#fdca26\"],[1.0,\"#f0f921\"]],\"type\":\"histogram2dcontour\"}],\"mesh3d\":[{\"colorbar\":{\"outlinewidth\":0,\"ticks\":\"\"},\"type\":\"mesh3d\"}],\"parcoords\":[{\"line\":{\"colorbar\":{\"outlinewidth\":0,\"ticks\":\"\"}},\"type\":\"parcoords\"}],\"pie\":[{\"automargin\":true,\"type\":\"pie\"}],\"scatter\":[{\"marker\":{\"colorbar\":{\"outlinewidth\":0,\"ticks\":\"\"}},\"type\":\"scatter\"}],\"scatter3d\":[{\"line\":{\"colorbar\":{\"outlinewidth\":0,\"ticks\":\"\"}},\"marker\":{\"colorbar\":{\"outlinewidth\":0,\"ticks\":\"\"}},\"type\":\"scatter3d\"}],\"scattercarpet\":[{\"marker\":{\"colorbar\":{\"outlinewidth\":0,\"ticks\":\"\"}},\"type\":\"scattercarpet\"}],\"scattergeo\":[{\"marker\":{\"colorbar\":{\"outlinewidth\":0,\"ticks\":\"\"}},\"type\":\"scattergeo\"}],\"scattergl\":[{\"marker\":{\"colorbar\":{\"outlinewidth\":0,\"ticks\":\"\"}},\"type\":\"scattergl\"}],\"scattermapbox\":[{\"marker\":{\"colorbar\":{\"outlinewidth\":0,\"ticks\":\"\"}},\"type\":\"scattermapbox\"}],\"scatterpolar\":[{\"marker\":{\"colorbar\":{\"outlinewidth\":0,\"ticks\":\"\"}},\"type\":\"scatterpolar\"}],\"scatterpolargl\":[{\"marker\":{\"colorbar\":{\"outlinewidth\":0,\"ticks\":\"\"}},\"type\":\"scatterpolargl\"}],\"scatterternary\":[{\"marker\":{\"colorbar\":{\"outlinewidth\":0,\"ticks\":\"\"}},\"type\":\"scatterternary\"}],\"surface\":[{\"colorbar\":{\"outlinewidth\":0,\"ticks\":\"\"},\"colorscale\":[[0.0,\"#0d0887\"],[0.1111111111111111,\"#46039f\"],[0.2222222222222222,\"#7201a8\"],[0.3333333333333333,\"#9c179e\"],[0.4444444444444444,\"#bd3786\"],[0.5555555555555556,\"#d8576b\"],[0.6666666666666666,\"#ed7953\"],[0.7777777777777778,\"#fb9f3a\"],[0.8888888888888888,\"#fdca26\"],[1.0,\"#f0f921\"]],\"type\":\"surface\"}],\"table\":[{\"cells\":{\"fill\":{\"color\":\"#EBF0F8\"},\"line\":{\"color\":\"white\"}},\"header\":{\"fill\":{\"color\":\"#C8D4E3\"},\"line\":{\"color\":\"white\"}},\"type\":\"table\"}]},\"layout\":{\"annotationdefaults\":{\"arrowcolor\":\"#2a3f5f\",\"arrowhead\":0,\"arrowwidth\":1},\"autotypenumbers\":\"strict\",\"coloraxis\":{\"colorbar\":{\"outlinewidth\":0,\"ticks\":\"\"}},\"colorscale\":{\"diverging\":[[0,\"#8e0152\"],[0.1,\"#c51b7d\"],[0.2,\"#de77ae\"],[0.3,\"#f1b6da\"],[0.4,\"#fde0ef\"],[0.5,\"#f7f7f7\"],[0.6,\"#e6f5d0\"],[0.7,\"#b8e186\"],[0.8,\"#7fbc41\"],[0.9,\"#4d9221\"],[1,\"#276419\"]],\"sequential\":[[0.0,\"#0d0887\"],[0.1111111111111111,\"#46039f\"],[0.2222222222222222,\"#7201a8\"],[0.3333333333333333,\"#9c179e\"],[0.4444444444444444,\"#bd3786\"],[0.5555555555555556,\"#d8576b\"],[0.6666666666666666,\"#ed7953\"],[0.7777777777777778,\"#fb9f3a\"],[0.8888888888888888,\"#fdca26\"],[1.0,\"#f0f921\"]],\"sequentialminus\":[[0.0,\"#0d0887\"],[0.1111111111111111,\"#46039f\"],[0.2222222222222222,\"#7201a8\"],[0.3333333333333333,\"#9c179e\"],[0.4444444444444444,\"#bd3786\"],[0.5555555555555556,\"#d8576b\"],[0.6666666666666666,\"#ed7953\"],[0.7777777777777778,\"#fb9f3a\"],[0.8888888888888888,\"#fdca26\"],[1.0,\"#f0f921\"]]},\"colorway\":[\"#636efa\",\"#EF553B\",\"#00cc96\",\"#ab63fa\",\"#FFA15A\",\"#19d3f3\",\"#FF6692\",\"#B6E880\",\"#FF97FF\",\"#FECB52\"],\"font\":{\"color\":\"#2a3f5f\"},\"geo\":{\"bgcolor\":\"white\",\"lakecolor\":\"white\",\"landcolor\":\"#E5ECF6\",\"showlakes\":true,\"showland\":true,\"subunitcolor\":\"white\"},\"hoverlabel\":{\"align\":\"left\"},\"hovermode\":\"closest\",\"mapbox\":{\"style\":\"light\"},\"paper_bgcolor\":\"white\",\"plot_bgcolor\":\"#E5ECF6\",\"polar\":{\"angularaxis\":{\"gridcolor\":\"white\",\"linecolor\":\"white\",\"ticks\":\"\"},\"bgcolor\":\"#E5ECF6\",\"radialaxis\":{\"gridcolor\":\"white\",\"linecolor\":\"white\",\"ticks\":\"\"}},\"scene\":{\"xaxis\":{\"backgroundcolor\":\"#E5ECF6\",\"gridcolor\":\"white\",\"gridwidth\":2,\"linecolor\":\"white\",\"showbackground\":true,\"ticks\":\"\",\"zerolinecolor\":\"white\"},\"yaxis\":{\"backgroundcolor\":\"#E5ECF6\",\"gridcolor\":\"white\",\"gridwidth\":2,\"linecolor\":\"white\",\"showbackground\":true,\"ticks\":\"\",\"zerolinecolor\":\"white\"},\"zaxis\":{\"backgroundcolor\":\"#E5ECF6\",\"gridcolor\":\"white\",\"gridwidth\":2,\"linecolor\":\"white\",\"showbackground\":true,\"ticks\":\"\",\"zerolinecolor\":\"white\"}},\"shapedefaults\":{\"line\":{\"color\":\"#2a3f5f\"}},\"ternary\":{\"aaxis\":{\"gridcolor\":\"white\",\"linecolor\":\"white\",\"ticks\":\"\"},\"baxis\":{\"gridcolor\":\"white\",\"linecolor\":\"white\",\"ticks\":\"\"},\"bgcolor\":\"#E5ECF6\",\"caxis\":{\"gridcolor\":\"white\",\"linecolor\":\"white\",\"ticks\":\"\"}},\"title\":{\"x\":0.05},\"xaxis\":{\"automargin\":true,\"gridcolor\":\"white\",\"linecolor\":\"white\",\"ticks\":\"\",\"title\":{\"standoff\":15},\"zerolinecolor\":\"white\",\"zerolinewidth\":2},\"yaxis\":{\"automargin\":true,\"gridcolor\":\"white\",\"linecolor\":\"white\",\"ticks\":\"\",\"title\":{\"standoff\":15},\"zerolinecolor\":\"white\",\"zerolinewidth\":2}}},\"title\":{\"font\":{\"size\":22},\"text\":\"Sentiment distribution in data\"}},                        {\"responsive\": true}                    ).then(function(){\n",
       "                            \n",
       "var gd = document.getElementById('6c2ec6b2-0379-42bc-9e9b-9edce4c1288e');\n",
       "var x = new MutationObserver(function (mutations, observer) {{\n",
       "        var display = window.getComputedStyle(gd).display;\n",
       "        if (!display || display === 'none') {{\n",
       "            console.log([gd, 'removed!']);\n",
       "            Plotly.purge(gd);\n",
       "            observer.disconnect();\n",
       "        }}\n",
       "}});\n",
       "\n",
       "// Listen for the removal of the full notebook cells\n",
       "var notebookContainer = gd.closest('#notebook-container');\n",
       "if (notebookContainer) {{\n",
       "    x.observe(notebookContainer, {childList: true});\n",
       "}}\n",
       "\n",
       "// Listen for the clearing of the current output cell\n",
       "var outputEl = gd.closest('.output');\n",
       "if (outputEl) {{\n",
       "    x.observe(outputEl, {childList: true});\n",
       "}}\n",
       "\n",
       "                        })                };                });            </script>        </div>"
      ]
     },
     "metadata": {},
     "output_type": "display_data"
    }
   ],
   "source": [
    "# labels\n",
    "lab = list(set(df_train['lang_id']))\n",
    "# values\n",
    "val = df_train.lang_id.value_counts().values.tolist()\n",
    "# create pie chart\n",
    "fig = px.pie(df_train, \n",
    "             values = val,\n",
    "             names = lab,\n",
    "             title = \"Sentiment distribution in data\",\n",
    "             hole = .5\n",
    "            )\n",
    "# update traces\n",
    "fig.update_traces(\n",
    "            textposition = \"inside\",\n",
    "            textinfo = \"percent +label\")\n",
    "# update layout\n",
    "fig.update_layout(\n",
    "    title_font_size = 22,\n",
    "    plot_bgcolor = \"rgb(243,243,243)\",\n",
    "    paper_bgcolor= \"rgb(243,243,243)\")"
   ]
  },
  {
   "cell_type": "markdown",
   "id": "9a982e30",
   "metadata": {
    "id": "9a982e30"
   },
   "source": [
    "### Length of character distribution for each language"
   ]
  },
  {
   "cell_type": "markdown",
   "id": "P3zM5UTkCWdK",
   "metadata": {
    "id": "P3zM5UTkCWdK"
   },
   "source": [
    "#### Length of characters in each tweet per sentiment boxplots\n",
    "\n",
    "From the boxplots below we observed that tweets that fall under the news climate change class have the lowest length of characters per tweet, followed by the pro climate change class that has a cluster of outliers below the lower whisker. The neutral climate change class have the highest length of characters per tweet."
   ]
  },
  {
   "cell_type": "code",
   "execution_count": 55,
   "id": "f10da753",
   "metadata": {
    "id": "f10da753"
   },
   "outputs": [],
   "source": [
    "# Finding Number of Words per Tweet from the lemmatized words\n",
    "df_train[\"num_words\"] = df_train[\"lemma_text\"].apply(lambda x: len(str(x).split()))\n"
   ]
  },
  {
   "cell_type": "code",
   "execution_count": 56,
   "id": "8238ae2e",
   "metadata": {
    "colab": {
     "base_uri": "https://localhost:8080/"
    },
    "id": "8238ae2e",
    "outputId": "c946aaf4-6a72-42a4-f8f1-f13f4c568e8c"
   },
   "outputs": [
    {
     "data": {
      "image/png": "[encoded data removed]",
      "text/plain": [
       "<Figure size 720x432 with 1 Axes>"
      ]
     },
     "metadata": {
      "needs_background": "light"
     },
     "output_type": "display_data"
    }
   ],
   "source": [
    "# Boxplot for the number of characters in each tweet\n",
    "fig_dims = (10, 6)\n",
    "fig, ax = plt.subplots(figsize=fig_dims)\n",
    "\n",
    "# plotting boxplot for the length of how long each tweet is per sentiment \n",
    "sns.boxplot(x = df_train['lang_id'], y = df_train['lemma_text'].str.len(), data = df_train, palette=(\"rainbow\"), ax = ax)\n",
    "\n",
    "# title of the boxplot\n",
    "plt.title('Length of characters in each text per lang_id')\n",
    "\n",
    "# showing the plot\n",
    "plt.show()"
   ]
  },
  {
   "cell_type": "markdown",
   "id": "GY2VB_mhCz6c",
   "metadata": {
    "id": "GY2VB_mhCz6c"
   },
   "source": [
    "#### Number of words in each text for each lang_id boxplots\n",
    "\n",
    "From the boxplots below we observed that tweets that fall under the news climate change class have the lowest number of words per tweet and the tweets are more compact compared to other classes. The neutral climate change class have generally the highest number of words per tweet."
   ]
  },
  {
   "cell_type": "code",
   "execution_count": 57,
   "id": "a1ac63a1",
   "metadata": {
    "colab": {
     "base_uri": "https://localhost:8080/"
    },
    "id": "a1ac63a1",
    "outputId": "75874272-a69f-47c2-96be-77e2bb3be3a3"
   },
   "outputs": [
    {
     "data": {
      "image/png": "[encoded data removed]",
      "text/plain": [
       "<Figure size 720x432 with 1 Axes>"
      ]
     },
     "metadata": {
      "needs_background": "light"
     },
     "output_type": "display_data"
    }
   ],
   "source": [
    "#Boxplot for number of words in each tweet\n",
    "fig_dims = (10, 6)\n",
    "fig, ax = plt.subplots(figsize = fig_dims)\n",
    "\n",
    "# plotting boxplot for the length of how long each tweet is per sentiment \n",
    "sns.boxplot(x = 'lang_id', y = 'num_words', data = df_train, palette = (\"hls\"))\n",
    "\n",
    "# title of the boxplot\n",
    "plt.title('Number of words in each text for each language_id')\n",
    "\n",
    "# showing the plot\n",
    "plt.show()"
   ]
  },
  {
   "cell_type": "markdown",
   "id": "lmmRnDEApln0",
   "metadata": {
    "id": "lmmRnDEApln0"
   },
   "source": [
    "#### Observations\n",
    "​\n",
    "- The words **believe, warm, world** and **real** are words that will most likely be used by the pro climate chage class to express their beliefs and reality of climate change. There is also EPA (United States Environmental Protection Agency), whose mission is to protect humans and  environment health.This brings us to the conclusion that the top frequent words are more aligned with the the pro climate change class"
   ]
  },
  {
   "cell_type": "markdown",
   "id": "fe277226",
   "metadata": {
    "id": "fe277226"
   },
   "source": [
    "<a id=\"features\"></a>\n",
    "## 5. Feature Engineering and Feature Selection"
   ]
  },
  {
   "cell_type": "code",
   "execution_count": null,
   "id": "6958d2fd",
   "metadata": {
    "id": "6958d2fd"
   },
   "outputs": [],
   "source": []
  },
  {
   "cell_type": "code",
   "execution_count": null,
   "id": "89a6a283",
   "metadata": {
    "id": "89a6a283"
   },
   "outputs": [],
   "source": []
  },
  {
   "cell_type": "markdown",
   "id": "tZPcZaPDyX_e",
   "metadata": {
    "id": "tZPcZaPDyX_e"
   },
   "source": []
  },
  {
   "cell_type": "markdown",
   "id": "6e011abd",
   "metadata": {
    "id": "6e011abd"
   },
   "source": [
    "<a id=\"model\"></a>\n",
    "## 6. Modelling"
   ]
  },
  {
   "cell_type": "markdown",
   "id": "LEqWtz5qG4Ac",
   "metadata": {
    "id": "LEqWtz5qG4Ac"
   },
   "source": [
    "The process of training an ML model involves providing an ML algorithm (that is, the learning algorithm) with training data to learn from. The term ML model refers to the model artifact that is created by the training process.\n",
    "\n",
    "The training data must contain the correct answer, which is known as a target or target attribute. The learning algorithm finds patterns in the training data that map the input data attributes to the target (the answer that you want to predict), and it outputs an ML model that captures these patterns.\n",
    "We train different models on the training data.\n",
    "\n",
    "- **The training** set is a subset of the dataset to build predictive models.\n",
    "\n",
    "- **Test** set or unseen examples is a subset of the dataset to assess the likely future performance of a model. If a model fit to the training set much better than it fits the test set, overfitting is probably the cause."
   ]
  },
  {
   "cell_type": "markdown",
   "id": "50706fb7",
   "metadata": {
    "id": "50706fb7"
   },
   "source": [
    "Data is randomly split into training and validation data sets. 80% is for training the model and 20% is for validation. "
   ]
  },
  {
   "cell_type": "code",
   "execution_count": 58,
   "id": "65a3de57",
   "metadata": {
    "id": "65a3de57"
   },
   "outputs": [],
   "source": [
    "y = df_train['lang_id']"
   ]
  },
  {
   "cell_type": "code",
   "execution_count": null,
   "id": "58a7e877",
   "metadata": {
    "id": "58a7e877"
   },
   "outputs": [],
   "source": []
  },
  {
   "cell_type": "code",
   "execution_count": 59,
   "id": "ZgvD8L3_4FRh",
   "metadata": {
    "id": "ZgvD8L3_4FRh"
   },
   "outputs": [],
   "source": [
    "X_train, X_test, y_train, y_test = train_test_split(df_train['clean_text'],\n",
    "                                                    y,\n",
    "                                                    test_size = 0.20,\n",
    "                                                    random_state = 42)"
   ]
  },
  {
   "cell_type": "markdown",
   "id": "1a4a9db0",
   "metadata": {
    "id": "1a4a9db0"
   },
   "source": [
    "Models are put in a pipeline with a vectorizer. Machine learning algorithms operate on a numeric feature space, expecting input as a two-dimensional array where rows are instances and columns are features. In order to perform machine learning on text, we need to transform our documents into vector representations such that we can apply numeric machine learning. This process is called feature extraction or more simply, vectorization, and is an essential first step toward language-aware analysis.\n",
    "\n",
    "- CountVectorizer creates a matrix in which each unique word is represented by a column of the matrix, and each text sample from the document is a row in the matrix. The value of each cell is nothing but the count of the word in that particular text sample.\n",
    "\n",
    "- Frequency–Inverse Document Frequency Vectorizer Transforms text to feature vectors that can be used as input to estimator. vocabulary_ Is a dictionary that converts each token (word) to feature index in the matrix, each unique token gets a feature index. "
   ]
  },
  {
   "cell_type": "markdown",
   "id": "58de419d",
   "metadata": {
    "id": "58de419d"
   },
   "source": [
    "**Random Forest Classifier**\n",
    "\n",
    "A random forest is a meta estimator that fits a number of decision tree classifiers on various sub-samples of the dataset and uses averaging to improve the predictive accuracy and control over-fitting. \n",
    "\n",
    "A decision tree is arriving at an estimate by asking a series of questions to the data, each question narrowing our possible values until the model get confident enough to make a single prediction. The order of the question as well as their content are being determined by the model. In addition, the questions asked  are all in a True/False form.\n",
    "\n",
    "Decision Trees can be summarized as:\n",
    "\n",
    "- predictive models that use a set of binary rules to calculate a target value.\n",
    "\n",
    "- Each individual tree is a fairly simple model that has branches, nodes and leaves."
   ]
  },
  {
   "cell_type": "code",
   "execution_count": 60,
   "id": "iQwna1ORA_pD",
   "metadata": {
    "colab": {
     "base_uri": "https://localhost:8080/"
    },
    "id": "iQwna1ORA_pD",
    "outputId": "c98e4832-fdcc-4bbd-a534-1a441f977fc4"
   },
   "outputs": [
    {
     "data": {
      "text/plain": [
       "Pipeline(steps=[('vect',\n",
       "                 CountVectorizer(max_df=0.8, min_df=0.1, ngram_range=(1, 3))),\n",
       "                ('rfc', RandomForestClassifier(max_depth=5, random_state=42))])"
      ]
     },
     "execution_count": 60,
     "metadata": {},
     "output_type": "execute_result"
    }
   ],
   "source": [
    "# random forest with CountVectorizer\n",
    "\n",
    "rfc = Pipeline([('vect', CountVectorizer(max_df = 0.8, min_df = 0.1,\n",
    "                                          ngram_range = (1,3))),\n",
    "                \n",
    "                ('rfc', RandomForestClassifier(max_depth = 5, n_estimators = 100, random_state = 42))])\n",
    "\n",
    "rfc.fit(X_train, y_train)"
   ]
  },
  {
   "cell_type": "markdown",
   "id": "c2cea61e",
   "metadata": {
    "id": "c2cea61e"
   },
   "source": [
    "**Linear Support Vector Classification**\n",
    "\n",
    "A support vector machine takes these data points and outputs the hyperplane (which in two dimensions it's simply a line) that best separates the tags. This line is the decision boundary.\n",
    "Linear SVC (Support Vector Classifier) fits to the data you provide, returning a \"best fit\" hyperplane that divides, or categorizes, your data.\n",
    "\n",
    "Similar to SVC with parameter kernel = ’linear’, but implemented in terms of liblinear rather than libsvm, so it has more flexibility in the choice of penalties and loss functions and should scale better to large numbers of samples.\n",
    "This class supports both dense and sparse input and the multiclass support is handled according to a one-vs-the-rest scheme."
   ]
  },
  {
   "cell_type": "code",
   "execution_count": 61,
   "id": "51ac8941",
   "metadata": {
    "colab": {
     "base_uri": "https://localhost:8080/"
    },
    "id": "51ac8941",
    "outputId": "38b3c25c-13e0-47f4-8495-98c5e17a0075"
   },
   "outputs": [
    {
     "data": {
      "text/plain": [
       "Pipeline(steps=[('tfidf', TfidfVectorizer(ngram_range=(1, 3))),\n",
       "                ('lsvc',\n",
       "                 LinearSVC(C=5, class_weight='balanced', max_iter=8000))])"
      ]
     },
     "execution_count": 61,
     "metadata": {},
     "output_type": "execute_result"
    }
   ],
   "source": [
    "# Linear Support Vector Classifier with TfidfVectorizer\n",
    "\n",
    "lsvc = Pipeline([('tfidf', TfidfVectorizer(ngram_range = (1,3))), \n",
    "                 \n",
    "                 ('lsvc', LinearSVC(C = 5, class_weight ='balanced',\n",
    "                                  max_iter = 8000))])\n",
    "\n",
    "# Train model\n",
    "lsvc.fit(df_train['clean_text'], df_train['lang_id'])"
   ]
  },
  {
   "cell_type": "code",
   "execution_count": null,
   "id": "fmCCtCm0XxGB",
   "metadata": {
    "id": "fmCCtCm0XxGB"
   },
   "outputs": [],
   "source": []
  },
  {
   "cell_type": "code",
   "execution_count": 62,
   "id": "5BVQTsvcYt7A",
   "metadata": {
    "id": "5BVQTsvcYt7A"
   },
   "outputs": [],
   "source": [
    "params = {'C' : 5,\n",
    "          'random state' : 42,\n",
    "          'max_iter' : 8000,\n",
    "          'model name' : 'LinearSVC'}\n",
    "\n",
    "metric = {'f1 score' : metrics.f1_score(y_test, lsvc.predict(X_test), average = 'macro') }"
   ]
  },
  {
   "cell_type": "code",
   "execution_count": 63,
   "id": "lLEDcYXSZ-Co",
   "metadata": {
    "id": "lLEDcYXSZ-Co"
   },
   "outputs": [],
   "source": [
    " #log our parameters and results\n",
    "\n",
    "experiment.log_parameters(params)\n",
    "\n",
    "experiment.log_parameters(metrics)\n"
   ]
  },
  {
   "cell_type": "code",
   "execution_count": 64,
   "id": "p-1Qy6_vaKxI",
   "metadata": {
    "id": "p-1Qy6_vaKxI"
   },
   "outputs": [],
   "source": [
    "experiment.end()"
   ]
  },
  {
   "cell_type": "markdown",
   "id": "6DyKWyZ8Ge8l",
   "metadata": {
    "id": "6DyKWyZ8Ge8l"
   },
   "source": [
    "**Logistic Regression**"
   ]
  },
  {
   "cell_type": "markdown",
   "id": "oq2XQP2KHR8J",
   "metadata": {
    "id": "oq2XQP2KHR8J"
   },
   "source": [
    "Logistic regression works by measuring the relationship between the target variable (what we want to predict) and one or more predictor. It does this by estimating the probabilities with the help of its underlying logistic function.\n",
    "\n",
    "Logistic regression is named after the function used at its heart, the logistic function. Sigmoid function and logit function are some variations of the logistic function. Logit function is the inverse of the standard logistic function.\n",
    "\n",
    "It's represented by the equation:  $${y}=\\frac{e^{b0 + b1*x}}{1 + e^{b0 + b1*x}}$$\n",
    "where :\n",
    "- ${y}$ = the output of the function\n",
    "-  $b_0$  = the bias or intercept\n",
    "-  $e$  = the base of the natural logarithms\n",
    "- $b_1$ = the coefficient for the input\n",
    "-$x$ = the predictor variable\n",
    "\n",
    "In our case, the outcome variable can have three or more possible unordered types –  types having no quantitative significance. \n",
    "\n",
    "Logistic regression is used to obtain odds ratio in the presence of more than one explanatory variable. The procedure is quite similar to multiple linear regression, with the exception that the response variable is binomial. The result is the impact of each variable on the odds ratio of the observed event of interest. The main advantage is to avoid confounding effects by analyzing the association of all variables together."
   ]
  },
  {
   "cell_type": "code",
   "execution_count": null,
   "id": "0b3d5586",
   "metadata": {
    "colab": {
     "base_uri": "https://localhost:8080/"
    },
    "id": "0b3d5586",
    "outputId": "24b4a7e6-9fd9-46a5-d3ac-57075fac9429"
   },
   "outputs": [],
   "source": [
    "\n",
    "\n",
    "lr = Pipeline([('tfidf', TfidfVectorizer(ngram_range = (1,2))), \n",
    "                 \n",
    "                 ('lr', LogisticRegression(multi_class = 'multinomial', solver ='lbfgs',\n",
    "                                           penalty ='l2', C = 5))])\n",
    "\n",
    "lr.fit(X_train, y_train)"
   ]
  },
  {
   "cell_type": "markdown",
   "id": "365965f9",
   "metadata": {
    "id": "365965f9"
   },
   "source": [
    "<a id=\"evaluation\"></a>\n",
    "## 7. Model Evaluation"
   ]
  },
  {
   "cell_type": "markdown",
   "id": "dSIm-LfpTtg2",
   "metadata": {
    "id": "dSIm-LfpTtg2"
   },
   "source": [
    "Model Evaluation is an integral part of the model development process. It helps to find the best model that represents our data. It also focuses on how well the chosen model will work in the future.\n",
    "\n",
    "We use the f-score to evaluate model performance. The F1-score or F1-measure is a measure of a model's accuracy in test data set. It is calculated from the precision and recall of the test data, where the precision is the number of true positive results divided by the number of all positive results, including those not identified correctly, and the recall is the number of true positive results divided by the number of all samples that should have been identified as positive.\n",
    "\n",
    "A confusion matrix is a summary of prediction results on a classification problem. The number of correct and incorrect predictions are summarized with count values and broken down by each class. This is the key to the confusion matrix."
   ]
  },
  {
   "cell_type": "markdown",
   "id": "h_fu5_YiIxZ-",
   "metadata": {
    "id": "h_fu5_YiIxZ-"
   },
   "source": [
    "**Random Forest Classifier**"
   ]
  },
  {
   "cell_type": "code",
   "execution_count": 35,
   "id": "TdDZYRIkI4IY",
   "metadata": {
    "colab": {
     "base_uri": "https://localhost:8080/"
    },
    "id": "TdDZYRIkI4IY",
    "outputId": "fda8854a-acb1-4d57-a494-f3ef52c864df"
   },
   "outputs": [
    {
     "ename": "AttributeError",
     "evalue": "'dict' object has no attribute 'f1_score'",
     "output_type": "error",
     "traceback": [
      "\u001b[1;31m---------------------------------------------------------------------------\u001b[0m",
      "\u001b[1;31mAttributeError\u001b[0m                            Traceback (most recent call last)",
      "\u001b[1;32m<ipython-input-35-15397c82c0fe>\u001b[0m in \u001b[0;36m<module>\u001b[1;34m\u001b[0m\n\u001b[1;32m----> 1\u001b[1;33m \u001b[0mprint\u001b[0m\u001b[1;33m(\u001b[0m\u001b[1;34m'f1- score: '\u001b[0m\u001b[1;33m+\u001b[0m \u001b[0mstr\u001b[0m\u001b[1;33m(\u001b[0m\u001b[0mmetrics\u001b[0m\u001b[1;33m.\u001b[0m\u001b[0mf1_score\u001b[0m\u001b[1;33m(\u001b[0m\u001b[0my_test\u001b[0m\u001b[1;33m,\u001b[0m \u001b[0mrfc\u001b[0m\u001b[1;33m.\u001b[0m\u001b[0mpredict\u001b[0m\u001b[1;33m(\u001b[0m\u001b[0mX_test\u001b[0m\u001b[1;33m)\u001b[0m\u001b[1;33m,\u001b[0m \u001b[0maverage\u001b[0m \u001b[1;33m=\u001b[0m \u001b[1;34m'macro'\u001b[0m\u001b[1;33m)\u001b[0m\u001b[1;33m)\u001b[0m\u001b[1;33m)\u001b[0m\u001b[1;33m\u001b[0m\u001b[1;33m\u001b[0m\u001b[0m\n\u001b[0m\u001b[0;32m      2\u001b[0m \u001b[1;33m\u001b[0m\u001b[0m\n\u001b[0;32m      3\u001b[0m \u001b[0mprint\u001b[0m\u001b[1;33m(\u001b[0m\u001b[1;34m'\\nConfusion Matrix\\n'\u001b[0m\u001b[1;33m)\u001b[0m\u001b[1;33m\u001b[0m\u001b[1;33m\u001b[0m\u001b[0m\n\u001b[0;32m      4\u001b[0m \u001b[1;33m\u001b[0m\u001b[0m\n\u001b[0;32m      5\u001b[0m \u001b[0mprint\u001b[0m\u001b[1;33m(\u001b[0m\u001b[0mconfusion_matrix\u001b[0m\u001b[1;33m(\u001b[0m\u001b[0my_test\u001b[0m\u001b[1;33m,\u001b[0m \u001b[0mrfc\u001b[0m\u001b[1;33m.\u001b[0m\u001b[0mpredict\u001b[0m\u001b[1;33m(\u001b[0m\u001b[0mX_test\u001b[0m\u001b[1;33m)\u001b[0m\u001b[1;33m)\u001b[0m\u001b[1;33m)\u001b[0m\u001b[1;33m\u001b[0m\u001b[1;33m\u001b[0m\u001b[0m\n",
      "\u001b[1;31mAttributeError\u001b[0m: 'dict' object has no attribute 'f1_score'"
     ]
    }
   ],
   "source": [
    "print('f1- score: '+ str(metrics.f1_score(y_test, rfc.predict(X_test), average = 'macro')))\n",
    "\n",
    "print('\\nConfusion Matrix\\n')\n",
    "\n",
    "print(confusion_matrix(y_test, rfc.predict(X_test)))"
   ]
  },
  {
   "cell_type": "markdown",
   "id": "2110e946",
   "metadata": {
    "id": "2110e946",
    "outputId": "7e47ae6d-6be9-48ec-d3a4-9b501b453f87"
   },
   "source": [
    "**Linear Support Vector Classification**"
   ]
  },
  {
   "cell_type": "code",
   "execution_count": 34,
   "id": "fBQX39LCCENP",
   "metadata": {
    "colab": {
     "base_uri": "https://localhost:8080/"
    },
    "id": "fBQX39LCCENP",
    "outputId": "b8c7371a-a7f7-4d34-8e53-3ff1f2d33fe4"
   },
   "outputs": [
    {
     "name": "stdout",
     "output_type": "stream",
     "text": [
      "f1- score:\n"
     ]
    },
    {
     "ename": "AttributeError",
     "evalue": "'dict' object has no attribute 'f1_score'",
     "output_type": "error",
     "traceback": [
      "\u001b[1;31m---------------------------------------------------------------------------\u001b[0m",
      "\u001b[1;31mAttributeError\u001b[0m                            Traceback (most recent call last)",
      "\u001b[1;32m<ipython-input-34-9b49ea38ea22>\u001b[0m in \u001b[0;36m<module>\u001b[1;34m\u001b[0m\n\u001b[0;32m      1\u001b[0m \u001b[0mprint\u001b[0m\u001b[1;33m(\u001b[0m\u001b[1;34m'f1- score:'\u001b[0m\u001b[1;33m)\u001b[0m\u001b[1;33m\u001b[0m\u001b[1;33m\u001b[0m\u001b[0m\n\u001b[0;32m      2\u001b[0m \u001b[1;33m\u001b[0m\u001b[0m\n\u001b[1;32m----> 3\u001b[1;33m \u001b[0mprint\u001b[0m\u001b[1;33m(\u001b[0m\u001b[0mmetrics\u001b[0m\u001b[1;33m.\u001b[0m\u001b[0mf1_score\u001b[0m\u001b[1;33m(\u001b[0m\u001b[0my_test\u001b[0m\u001b[1;33m,\u001b[0m \u001b[0mlsvc\u001b[0m\u001b[1;33m.\u001b[0m\u001b[0mpredict\u001b[0m\u001b[1;33m(\u001b[0m\u001b[0mX_test\u001b[0m\u001b[1;33m)\u001b[0m\u001b[1;33m,\u001b[0m \u001b[0maverage\u001b[0m \u001b[1;33m=\u001b[0m \u001b[1;34m'macro'\u001b[0m\u001b[1;33m)\u001b[0m\u001b[1;33m)\u001b[0m\u001b[1;33m\u001b[0m\u001b[1;33m\u001b[0m\u001b[0m\n\u001b[0m\u001b[0;32m      4\u001b[0m \u001b[1;33m\u001b[0m\u001b[0m\n\u001b[0;32m      5\u001b[0m \u001b[0mprint\u001b[0m\u001b[1;33m(\u001b[0m\u001b[1;34m'\\nConfusion Matrix\\n'\u001b[0m\u001b[1;33m)\u001b[0m\u001b[1;33m\u001b[0m\u001b[1;33m\u001b[0m\u001b[0m\n",
      "\u001b[1;31mAttributeError\u001b[0m: 'dict' object has no attribute 'f1_score'"
     ]
    }
   ],
   "source": [
    "print('f1- score:')\n",
    "\n",
    "print(metrics.f1_score(y_test, lsvc.predict(X_test), average = 'macro'))\n",
    "\n",
    "print('\\nConfusion Matrix\\n')\n",
    "\n",
    "print(confusion_matrix(y_test, lsvc.predict(X_test)))"
   ]
  },
  {
   "cell_type": "markdown",
   "id": "hGM3jniqIdUo",
   "metadata": {
    "id": "hGM3jniqIdUo"
   },
   "source": [
    "**Logistic Regression**"
   ]
  },
  {
   "cell_type": "code",
   "execution_count": 31,
   "id": "88id95NOQ7sS",
   "metadata": {
    "colab": {
     "base_uri": "https://localhost:8080/"
    },
    "id": "88id95NOQ7sS",
    "outputId": "5a11c4f0-adcf-4b41-e24e-2e4e05198693"
   },
   "outputs": [
    {
     "ename": "AttributeError",
     "evalue": "'dict' object has no attribute 'f1_score'",
     "output_type": "error",
     "traceback": [
      "\u001b[1;31m---------------------------------------------------------------------------\u001b[0m",
      "\u001b[1;31mAttributeError\u001b[0m                            Traceback (most recent call last)",
      "\u001b[1;32m<ipython-input-31-88a1dca55a2c>\u001b[0m in \u001b[0;36m<module>\u001b[1;34m\u001b[0m\n\u001b[1;32m----> 1\u001b[1;33m \u001b[0mprint\u001b[0m\u001b[1;33m(\u001b[0m\u001b[1;34m'f1- score: '\u001b[0m\u001b[1;33m+\u001b[0m \u001b[0mstr\u001b[0m\u001b[1;33m(\u001b[0m\u001b[0mmetrics\u001b[0m\u001b[1;33m.\u001b[0m\u001b[0mf1_score\u001b[0m\u001b[1;33m(\u001b[0m\u001b[0my_test\u001b[0m\u001b[1;33m,\u001b[0m \u001b[0mlr\u001b[0m\u001b[1;33m.\u001b[0m\u001b[0mpredict\u001b[0m\u001b[1;33m(\u001b[0m\u001b[0mX_test\u001b[0m\u001b[1;33m)\u001b[0m\u001b[1;33m,\u001b[0m \u001b[0maverage\u001b[0m \u001b[1;33m=\u001b[0m \u001b[1;34m'macro'\u001b[0m\u001b[1;33m)\u001b[0m\u001b[1;33m)\u001b[0m\u001b[1;33m)\u001b[0m\u001b[1;33m\u001b[0m\u001b[1;33m\u001b[0m\u001b[0m\n\u001b[0m\u001b[0;32m      2\u001b[0m \u001b[1;33m\u001b[0m\u001b[0m\n\u001b[0;32m      3\u001b[0m \u001b[0mprint\u001b[0m\u001b[1;33m(\u001b[0m\u001b[1;34m'\\nConfusion Matrix\\n'\u001b[0m\u001b[1;33m)\u001b[0m\u001b[1;33m\u001b[0m\u001b[1;33m\u001b[0m\u001b[0m\n\u001b[0;32m      4\u001b[0m \u001b[1;33m\u001b[0m\u001b[0m\n\u001b[0;32m      5\u001b[0m \u001b[0mprint\u001b[0m\u001b[1;33m(\u001b[0m\u001b[0mconfusion_matrix\u001b[0m\u001b[1;33m(\u001b[0m\u001b[0my_test\u001b[0m\u001b[1;33m,\u001b[0m \u001b[0mlr\u001b[0m\u001b[1;33m.\u001b[0m\u001b[0mpredict\u001b[0m\u001b[1;33m(\u001b[0m\u001b[0mX_test\u001b[0m\u001b[1;33m)\u001b[0m\u001b[1;33m)\u001b[0m\u001b[1;33m)\u001b[0m\u001b[1;33m\u001b[0m\u001b[1;33m\u001b[0m\u001b[0m\n",
      "\u001b[1;31mAttributeError\u001b[0m: 'dict' object has no attribute 'f1_score'"
     ]
    }
   ],
   "source": [
    "print('f1- score: '+ str(metrics.f1_score(y_test, lr.predict(X_test), average = 'macro')))\n",
    "\n",
    "print('\\nConfusion Matrix\\n')\n",
    "\n",
    "print(confusion_matrix(y_test, lr.predict(X_test)))"
   ]
  },
  {
   "cell_type": "markdown",
   "id": "6abd1885",
   "metadata": {
    "id": "6abd1885"
   },
   "source": [
    "<a id=\"tuning\"></a>\n",
    "## 8. Hyperparameter Tuning"
   ]
  },
  {
   "cell_type": "markdown",
   "id": "BBhv09cODrJy",
   "metadata": {
    "id": "BBhv09cODrJy"
   },
   "source": [
    "Hyperparameter optimization or tuning is the problem of choosing a set of optimal hyperparameters for a learning algorithm. A hyperparameter is a parameter whose value is used to control the learning process.\n",
    "\n",
    "Hyperparameters control the over-fitting and under-fitting of the model. Optimal hyperparameters often differ for different datasets. To get the best hyperparameters the following steps are followed:\n",
    "\n",
    "- For each proposed hyperparameter setting the model is evaluated.\n",
    "\n",
    "- The hyperparameters that give the best model are selected.\n",
    "\n",
    "Hyperparameters Search: Grid search picks out a grid of hyperparameter values and evaluates all of them. Guesswork is necessary to specify the min and max values for each hyperparameter. Hyperparameter tuning picks a few hyperparameter settings, evaluates the validation matrices, adjusts the hyperparameters, and re-evaluates the validation matrices."
   ]
  },
  {
   "cell_type": "code",
   "execution_count": null,
   "id": "32e244c7",
   "metadata": {
    "colab": {
     "base_uri": "https://localhost:8080/"
    },
    "id": "32e244c7",
    "outputId": "a43d6b2c-180a-4f83-c0e5-e8a60c443233"
   },
   "outputs": [
    {
     "name": "stdout",
     "output_type": "stream",
     "text": [
      "Fitting 5 folds for each of 12 candidates, totalling 60 fits\n"
     ]
    },
    {
     "data": {
      "text/plain": [
       "GridSearchCV(cv=5,\n",
       "             estimator=LinearSVC(class_weight='balanced', random_state=42),\n",
       "             n_jobs=-1,\n",
       "             param_grid={'C': [0.1, 2.5, 5.0, 10],\n",
       "                         'max_iter': [3000, 5000, 7000]},\n",
       "             verbose=5)"
      ]
     },
     "execution_count": 82,
     "metadata": {},
     "output_type": "execute_result"
    }
   ],
   "source": [
    "# vectorized the data set\n",
    "\n",
    "vectorizer = TfidfVectorizer(stop_words = 'english', max_df = 0.8, min_df = 1,\n",
    "                                          ngram_range = (1,3))\n",
    "test_data = df_test['clean_text']\n",
    "\n",
    "vectorizer.fit(list(X_train) + list(X_test) + list(test_data))\n",
    "\n",
    "x_train = vectorizer.transform(X_train) # vectorized x_train\n",
    "x_test = vectorizer.transform(X_test) # vectorized x_test\n",
    "test_data_v = vectorizer.transform(test_data)\n",
    "# defining parameters\n",
    "\n",
    "params = {\n",
    "            'C': [0.1, 2.5, 5.0, 10],'max_iter' : [3000, 5000, 8000]\n",
    "         }\n",
    "\n",
    "# GridSearch\n",
    "\n",
    "linear_svc_classifier_grid = GridSearchCV(LinearSVC(random_state = 42, class_weight = 'balanced'), \n",
    "                                          param_grid = params, n_jobs = -1, cv = 5, verbose = 5)\n",
    "\n",
    "# fit the data set\n",
    "\n",
    "linear_svc_classifier_grid.fit(x_train,y_train)"
   ]
  },
  {
   "cell_type": "code",
   "execution_count": null,
   "id": "8267496c",
   "metadata": {
    "colab": {
     "base_uri": "https://localhost:8080/"
    },
    "id": "8267496c",
    "outputId": "bcdfce6d-fc4f-4f64-bf5a-14c357604ddb"
   },
   "outputs": [
    {
     "data": {
      "text/plain": [
       "{'C': 10, 'max_iter': 3000}"
      ]
     },
     "execution_count": 83,
     "metadata": {},
     "output_type": "execute_result"
    }
   ],
   "source": [
    "# print best parameters\n",
    "\n",
    "linear_svc_classifier_grid.best_params_"
   ]
  },
  {
   "cell_type": "code",
   "execution_count": null,
   "id": "_8bcH8D3NjuG",
   "metadata": {
    "colab": {
     "base_uri": "https://localhost:8080/"
    },
    "id": "_8bcH8D3NjuG",
    "outputId": "3e17be5e-8f4c-46d0-fd7c-b6feb68e7f2a"
   },
   "outputs": [
    {
     "data": {
      "text/plain": [
       "Pipeline(steps=[('tfidf', TfidfVectorizer(ngram_range=(1, 3))),\n",
       "                ('lsvc',\n",
       "                 LinearSVC(C=10, class_weight='balanced', max_iter=3000))])"
      ]
     },
     "execution_count": 84,
     "metadata": {},
     "output_type": "execute_result"
    }
   ],
   "source": [
    "lsvc = Pipeline([('tfidf', TfidfVectorizer(ngram_range = (1,3))), \n",
    "                 \n",
    "                 ('lsvc', LinearSVC(C = 10, class_weight ='balanced',\n",
    "                                  max_iter = 3000))])\n",
    "\n",
    "# Train model\n",
    "lsvc.fit(X_train, y_train)\n"
   ]
  },
  {
   "cell_type": "code",
   "execution_count": null,
   "id": "E774VBa3N35w",
   "metadata": {
    "colab": {
     "base_uri": "https://localhost:8080/"
    },
    "id": "E774VBa3N35w",
    "outputId": "042d9e6c-f613-4699-e3b5-190390b962b0"
   },
   "outputs": [
    {
     "name": "stdout",
     "output_type": "stream",
     "text": [
      "f1- score: 0.9968038818089898\n",
      "\n",
      "Confusion Matrix\n",
      "\n",
      "[[583   0   0   0   0   0   0   0   0   0   0]\n",
      " [  0 615   0   0   0   0   0   0   0   0   0]\n",
      " [  0   0 579   0   0   0   0   0   0   1   3]\n",
      " [  0   0   0 622   2   0   1   0   0   0   0]\n",
      " [  0   0   0   0 618   0   0   0   0   0   0]\n",
      " [  0   0   0   0   0 583   0   0   0   0   1]\n",
      " [  1   0   0   0   1   0 596   0   0   0   0]\n",
      " [  0   0   0   0   0   0   0 561   0   0   0]\n",
      " [  0   0   0   0   0   0   0   0 634   0   0]\n",
      " [  0   0   1   0   0   0   0   0   0 605   3]\n",
      " [  0   1   3   0   0   0   0   0   0   3 583]]\n"
     ]
    }
   ],
   "source": [
    "print('f1- score: '+ str(metrics.f1_score(y_test, lsvc.predict(X_test), average = 'macro')))\n",
    "\n",
    "print('\\nConfusion Matrix\\n')\n",
    "\n",
    "print(confusion_matrix(y_test, lsvc.predict(X_test)))"
   ]
  },
  {
   "cell_type": "code",
   "execution_count": null,
   "id": "RHEbXpAjPY_I",
   "metadata": {
    "id": "RHEbXpAjPY_I"
   },
   "outputs": [],
   "source": [
    "results = pd.DataFrame( data = {'index': df_test['index'],\n",
    "                             'lang_id': lsvc.predict(test_data) })\n",
    "sub.to_csv('submission_lsv.csv', index = False)"
   ]
  },
  {
   "cell_type": "markdown",
   "id": "339491d3",
   "metadata": {
    "id": "339491d3"
   },
   "source": [
    "<a id=\"conclusion\"></a>\n",
    "## 9. Conclusion"
   ]
  },
  {
   "cell_type": "markdown",
   "id": "213a2b7f",
   "metadata": {
    "id": "213a2b7f"
   },
   "source": []
  }
 ],
 "metadata": {
  "colab": {
   "name": "Team 10 Project.ipynb",
   "provenance": []
  },
  "kernelspec": {
   "display_name": "Python 3",
   "language": "python",
   "name": "python3"
  },
  "language_info": {
   "codemirror_mode": {
    "name": "ipython",
    "version": 3
   },
   "file_extension": ".py",
   "mimetype": "text/x-python",
   "name": "python",
   "nbconvert_exporter": "python",
   "pygments_lexer": "ipython3",
   "version": "3.8.8"
  }
 },
 "nbformat": 4,
 "nbformat_minor": 5
}
