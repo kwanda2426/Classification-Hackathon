{
 "cells": [
  {
   "cell_type": "markdown",
   "id": "5aab9478",
   "metadata": {
    "id": "5aab9478"
   },
   "source": [
    "<img src=\"https://explore-datascience.net/images/images_admissions2/main-logo.jpg\">"
   ]
  },
  {
   "cell_type": "markdown",
   "id": "dec97410",
   "metadata": {
    "id": "dec97410"
   },
   "source": [
    "<img src=\"https://ak.picdn.net/shutterstock/videos/29784268/thumb/12.jpg\" width=600 height=100 />"
   ]
  },
  {
   "cell_type": "markdown",
   "id": "1795aa8b",
   "metadata": {},
   "source": [
    "<img src=\"https://image.slidesharecdn.com/attacksimulationhuntingmadeeasy-171204085132/95/attack-simulation-and-hunting-1-638.jpg?cb=1512377787\" width=600 height=200 />"
   ]
  },
  {
   "cell_type": "markdown",
   "id": "81ec0ed2",
   "metadata": {
    "id": "81ec0ed2"
   },
   "source": [
    "<a id=\"top\"></a>\n",
    "#  Classification Hackathon \n",
    "##### Kwanda Mazibuko <sup> </sup>"
   ]
  },
  {
   "cell_type": "markdown",
   "id": "c5877ba3",
   "metadata": {
    "id": "c5877ba3"
   },
   "source": [
    "## Table of contents\n",
    "1. [Introduction](#intro)\n",
    "2. [Data Collection](#data)\n",
    "3. [Data Preprocessing](#cleaning)\n",
    "4. [Exploratory Data Analysis](#EDA)\n",
    "5. [Feature Engineering and Feature Selection](#FEandFS)\n",
    "6. [Modelling](#model)\n",
    "7. [Model Evaluation](#evaluation)\n",
    "8. [Hyperparameter Tuning](#evaluation)\n",
    "9. [Conclusion](#conclusion) "
   ]
  },
  {
   "cell_type": "markdown",
   "id": "d9565abd",
   "metadata": {
    "id": "d9565abd"
   },
   "source": [
    "<a id=\"intro\"></a>\n",
    "## 1. Introduction"
   ]
  },
  {
   "cell_type": "markdown",
   "id": "fd672a8e",
   "metadata": {
    "id": "fd672a8e"
   },
   "source": [
    "The Glasgow Climate Pact, adopted by almost 200 countries has raised an alarm and concerns that human activities have caused a rise of around 1.1°C of global warming to date. The impact is already being felt around the globe. These developments have been shared with the world through various media outlets. In recent years social media in particular Twitter has risen to be the prefered source of information. This has created a massive source of unstructured of data. This type of data contains a variety of topics and can be analysed to find the sentiment behind it.\n",
    "\n",
    "### Problem Statement\n",
    "\n",
    "The developments around global warming and the increase use of social media has forced companies to design products and services around lessen the impact on the environment and the sentiments expressed by their target market on social media platform.\n",
    "Therefore it is important that methods such as sentimental analysis are explored to provide companies with solutions that can provide insights for future marketing strategies thus increasing company profit margins.\n",
    "\n",
    "### Objectives\n",
    "The key objective is to create a Machine Learning model that is able to classify whether or not a person believes in climate change, based on their novel tweet data."
   ]
  },
  {
   "cell_type": "markdown",
   "id": "eh2T0U7ZMPYF",
   "metadata": {
    "id": "eh2T0U7ZMPYF"
   },
   "source": [
    "### Literature Review\n",
    "\n",
    "**Global warming**\n",
    "\n",
    "Glaciers are melting, sea levels are rising, cloud forests are dying, and wildlife is scrambling to keep pace. It has become clear that humans have caused most of the past century's warming by releasing heat-trapping gases as we power our modern lives. Called greenhouse gases, their levels are higher now than at any time in the last 800,000 years.\n",
    "\n",
    "We often call the result global warming, but it is causing a set of changes to the Earth's climate, or long-term weather patterns, that varies from place to place. While many people think of global warming and climate change as synonyms, scientists use “climate change” when describing the complex shifts now affecting our planet’s weather and climate systems—in part because some areas actually get cooler in the short term.\n",
    "\n",
    "Climate change encompasses not only rising average temperatures but also extreme weather events, shifting wildlife populations and habitats, rising seas, and a range of other impacts. All of those changes are emerging as humans continue to add heat-trapping greenhouse gases to the atmosphere, changing the rhythms of climate that all living things have come to rely on.\n",
    "\n",
    "What will we do—what can we do—to slow this human-caused warming? How will we cope with the changes we've already set into motion? While we struggle to figure it all out, the fate of the Earth as we know it—coasts, forests, farms, and snow-capped mountains—hangs in the balance.\n",
    "\n",
    "**Social media and public opinion**\n",
    "\n",
    "About two-thirds of Americans (64%) say social media have a mostly negative effect on the way things are going in the country today, according to a Pew Research Center survey of U.S. adults conducted July 13-19, 2020. Just one-in-ten Americans say social media sites have a mostly positive effect on the way things are going, and one-quarter say these platforms have a neither positive nor negative effect.\n",
    "\n",
    "Mass media and social media can also affirm latent attitudes and “activate” them, prompting people to take action. Just before an election, for example, voters who earlier had only a mild preference for one party or candidate may be inspired by media coverage not only to take the trouble to vote but perhaps also to contribute money or to help a party organization in some other way.\n",
    "\n",
    "This means that people can be agitated to take any action with regards to whatever it is that they feel should be addressed, whether that means boycotting the products. In this case, offer products and services that are environmentally friendly and sustainable, in line with their values and ideals. They would like to determine how people perceive climate change and whether or not they believe it is a real threat. This would add to their market research efforts in gauging how their product/service may be received."
   ]
  },
  {
   "cell_type": "markdown",
   "id": "7311d5a9",
   "metadata": {
    "id": "7311d5a9"
   },
   "source": [
    "<a id=\"data\"></a>\n",
    "## 2. Data Collection\n",
    "\n",
    "Data collection is the process of gathering and measuring information on variables of interest, in an established systematic fashion that enables one to answer stated questions, test hypotheses, and evaluate outcomes. We don't need to collect data because it has been provided to us with different classes.\n",
    "\n",
    "#### Class Description \n",
    "\n",
    "- afr - Afrikaans\n",
    "- eng - English\n",
    "- nbl - isiNdebele\n",
    "- nso - Sepedi\n",
    "- sot - Sesotho\n",
    "- ssw - siSwati\n",
    "- tsn - Setswana\n",
    "- tso - Xitsonga\n",
    "- ven - Tshivenda\n",
    "- xho - isiXhosa\n",
    "- zul - isiZulu"
   ]
  },
  {
   "cell_type": "code",
   "execution_count": 2,
   "id": "Mqc7IB59PmmX",
   "metadata": {
    "colab": {
     "base_uri": "https://localhost:8080/"
    },
    "id": "Mqc7IB59PmmX",
    "outputId": "244208a4-b242-41bb-cd73-7810297806cd"
   },
   "outputs": [
    {
     "name": "stdout",
     "output_type": "stream",
     "text": [
      "Requirement already satisfied: comet_ml in c:\\users\\thaba\\anaconda3\\lib\\site-packages (3.22.0)\n",
      "Requirement already satisfied: wrapt>=1.11.2 in c:\\users\\thaba\\anaconda3\\lib\\site-packages (from comet_ml) (1.12.1)\n",
      "Requirement already satisfied: dulwich>=0.20.6 in c:\\users\\thaba\\anaconda3\\lib\\site-packages (from comet_ml) (0.20.26)\n",
      "Requirement already satisfied: requests>=2.18.4 in c:\\users\\thaba\\anaconda3\\lib\\site-packages (from comet_ml) (2.25.1)\n",
      "Requirement already satisfied: wurlitzer>=1.0.2 in c:\\users\\thaba\\anaconda3\\lib\\site-packages (from comet_ml) (3.0.2)\n",
      "Requirement already satisfied: requests-toolbelt>=0.8.0 in c:\\users\\thaba\\anaconda3\\lib\\site-packages (from comet_ml) (0.9.1)\n",
      "Requirement already satisfied: jsonschema!=3.1.0,>=2.6.0 in c:\\users\\thaba\\anaconda3\\lib\\site-packages (from comet_ml) (3.2.0)\n",
      "Requirement already satisfied: websocket-client>=0.55.0 in c:\\users\\thaba\\anaconda3\\lib\\site-packages (from comet_ml) (1.2.1)\n",
      "Requirement already satisfied: nvidia-ml-py3>=7.352.0 in c:\\users\\thaba\\anaconda3\\lib\\site-packages (from comet_ml) (7.352.0)\n",
      "Requirement already satisfied: semantic-version>=2.8.0 in c:\\users\\thaba\\anaconda3\\lib\\site-packages (from comet_ml) (2.8.5)\n",
      "Requirement already satisfied: six in c:\\users\\thaba\\anaconda3\\lib\\site-packages (from comet_ml) (1.15.0)\n",
      "Requirement already satisfied: everett[ini]>=1.0.1 in c:\\users\\thaba\\anaconda3\\lib\\site-packages (from comet_ml) (2.0.1)\n",
      "Requirement already satisfied: certifi in c:\\users\\thaba\\anaconda3\\lib\\site-packages (from dulwich>=0.20.6->comet_ml) (2020.12.5)\n",
      "Requirement already satisfied: urllib3>=1.24.1 in c:\\users\\thaba\\anaconda3\\lib\\site-packages (from dulwich>=0.20.6->comet_ml) (1.26.4)\n",
      "Requirement already satisfied: configobj in c:\\users\\thaba\\anaconda3\\lib\\site-packages (from everett[ini]>=1.0.1->comet_ml) (5.0.6)\n",
      "Requirement already satisfied: setuptools in c:\\users\\thaba\\anaconda3\\lib\\site-packages (from jsonschema!=3.1.0,>=2.6.0->comet_ml) (52.0.0.post20210125)\n",
      "Requirement already satisfied: pyrsistent>=0.14.0 in c:\\users\\thaba\\anaconda3\\lib\\site-packages (from jsonschema!=3.1.0,>=2.6.0->comet_ml) (0.17.3)\n",
      "Requirement already satisfied: attrs>=17.4.0 in c:\\users\\thaba\\anaconda3\\lib\\site-packages (from jsonschema!=3.1.0,>=2.6.0->comet_ml) (20.3.0)\n",
      "Requirement already satisfied: chardet<5,>=3.0.2 in c:\\users\\thaba\\anaconda3\\lib\\site-packages (from requests>=2.18.4->comet_ml) (4.0.0)\n",
      "Requirement already satisfied: idna<3,>=2.5 in c:\\users\\thaba\\anaconda3\\lib\\site-packages (from requests>=2.18.4->comet_ml) (2.10)\n",
      "Requirement already satisfied: unidecode in c:\\users\\thaba\\anaconda3\\lib\\site-packages (1.3.2)\n",
      "Requirement already satisfied: unicode in c:\\users\\thaba\\anaconda3\\lib\\site-packages (2.8)\n",
      "Requirement already satisfied: wordcloud in c:\\users\\thaba\\anaconda3\\lib\\site-packages (1.8.1)\n",
      "Requirement already satisfied: matplotlib in c:\\users\\thaba\\anaconda3\\lib\\site-packages (from wordcloud) (3.3.4)\n",
      "Requirement already satisfied: pillow in c:\\users\\thaba\\anaconda3\\lib\\site-packages (from wordcloud) (8.2.0)\n",
      "Requirement already satisfied: numpy>=1.6.1 in c:\\users\\thaba\\appdata\\roaming\\python\\python38\\site-packages (from wordcloud) (1.21.4)\n",
      "Requirement already satisfied: python-dateutil>=2.1 in c:\\users\\thaba\\anaconda3\\lib\\site-packages (from matplotlib->wordcloud) (2.8.1)\n",
      "Requirement already satisfied: cycler>=0.10 in c:\\users\\thaba\\anaconda3\\lib\\site-packages (from matplotlib->wordcloud) (0.10.0)\n",
      "Requirement already satisfied: kiwisolver>=1.0.1 in c:\\users\\thaba\\anaconda3\\lib\\site-packages (from matplotlib->wordcloud) (1.3.1)\n",
      "Requirement already satisfied: pyparsing!=2.0.4,!=2.1.2,!=2.1.6,>=2.0.3 in c:\\users\\thaba\\anaconda3\\lib\\site-packages (from matplotlib->wordcloud) (2.4.7)\n",
      "Requirement already satisfied: six in c:\\users\\thaba\\anaconda3\\lib\\site-packages (from cycler>=0.10->matplotlib->wordcloud) (1.15.0)\n"
     ]
    }
   ],
   "source": [
    "!pip install comet_ml\n",
    "!pip install unidecode\n",
    "!pip install unicode\n",
    "!pip install wordcloud"
   ]
  },
  {
   "cell_type": "code",
   "execution_count": null,
   "id": "a5ba8a96",
   "metadata": {
    "colab": {
     "base_uri": "https://localhost:8080/"
    },
    "id": "a5ba8a96",
    "outputId": "e93f3e09-d94d-4838-a8cf-085154fa53da"
   },
   "outputs": [],
   "source": []
  },
  {
   "cell_type": "code",
   "execution_count": 3,
   "id": "0edc932a",
   "metadata": {
    "colab": {
     "base_uri": "https://localhost:8080/"
    },
    "id": "0edc932a",
    "outputId": "7b682dd8-0dee-43a9-b8f9-c4a819b9643f"
   },
   "outputs": [
    {
     "name": "stderr",
     "output_type": "stream",
     "text": [
      "[nltk_data] Downloading package wordnet to\n",
      "[nltk_data]     C:\\Users\\thaba\\AppData\\Roaming\\nltk_data...\n",
      "[nltk_data]   Package wordnet is already up-to-date!\n",
      "[nltk_data] Downloading package stopwords to\n",
      "[nltk_data]     C:\\Users\\thaba\\AppData\\Roaming\\nltk_data...\n",
      "[nltk_data]   Package stopwords is already up-to-date!\n",
      "[nltk_data] Downloading package averaged_perceptron_tagger to\n",
      "[nltk_data]     C:\\Users\\thaba\\AppData\\Roaming\\nltk_data...\n",
      "[nltk_data]   Package averaged_perceptron_tagger is already up-to-\n",
      "[nltk_data]       date!\n",
      "[nltk_data] Downloading package punkt to\n",
      "[nltk_data]     C:\\Users\\thaba\\AppData\\Roaming\\nltk_data...\n",
      "[nltk_data]   Package punkt is already up-to-date!\n"
     ]
    }
   ],
   "source": [
    "# Data manipulation\n",
    "import pandas as pd\n",
    "import numpy as np\n",
    "import nltk\n",
    "nltk.download('wordnet')\n",
    "nltk.download('stopwords')\n",
    "nltk.download('averaged_perceptron_tagger')\n",
    "nltk.download('punkt')\n",
    "import unidecode\n",
    "import unicodedata\n",
    "from nltk.tokenize import word_tokenize, TreebankWordTokenizer\n",
    "from nltk import word_tokenize, pos_tag, pos_tag_sents\n",
    "from nltk.corpus import stopwords, wordnet\n",
    "from nltk.stem import WordNetLemmatizer\n",
    "from collections import Counter\n",
    "# For searching patterns on the tweets (regex)\n",
    "import re\n",
    "# datetime\n",
    "import datetime\n",
    "\n",
    "# Libraries for data preparation and model building\n",
    "from sklearn.pipeline import Pipeline\n",
    "import statsmodels.formula.api as sm\n",
    "from statsmodels.formula.api import ols\n",
    "from sklearn import metrics\n",
    "from sklearn.svm import SVC\n",
    "from sklearn.svm import LinearSVC\n",
    "from sklearn.model_selection import train_test_split, GridSearchCV\n",
    "from sklearn.linear_model import LogisticRegression\n",
    "from sklearn.linear_model import SGDClassifier\n",
    "from sklearn.feature_extraction.text import TfidfTransformer\n",
    "from sklearn.pipeline import Pipeline\n",
    "from sklearn.feature_extraction.text import CountVectorizer\n",
    "from sklearn.tree import DecisionTreeClassifier\n",
    "from sklearn.neighbors import KNeighborsClassifier\n",
    "from sklearn.feature_extraction.text import TfidfVectorizer\n",
    "from sklearn.metrics import f1_score, precision_score, recall_score, confusion_matrix, accuracy_score\n",
    "from sklearn.model_selection import cross_val_score\n",
    "from sklearn.model_selection import RepeatedKFold\n",
    "from sklearn.feature_selection import RFE\n",
    "from sklearn.feature_selection import RFECV\n",
    "from sklearn.feature_selection import SelectKBest, chi2\n",
    "from scipy.stats import boxcox, zscore\n",
    "from sklearn.metrics import mean_squared_error\n",
    "from sklearn.tree import DecisionTreeRegressor\n",
    "from sklearn.compose import ColumnTransformer\n",
    "from sklearn.ensemble import RandomForestClassifier\n",
    "from sklearn.model_selection import train_test_split, KFold, cross_val_score, GridSearchCV\n",
    "from sklearn.preprocessing import LabelEncoder, OneHotEncoder, StandardScaler, PolynomialFeatures\n",
    "\n",
    "# visualizations\n",
    "import plotly.express as px\n",
    "import plotly.graph_objects as go\n",
    "import matplotlib.pyplot as plt\n",
    "import seaborn as sns\n",
    "from wordcloud import WordCloud\n",
    "# saving my model\n",
    "import pickle\n",
    "\n",
    "#ignoring warnings\n",
    "import warnings\n",
    "warnings.filterwarnings('ignore')\n",
    "%matplotlib inline"
   ]
  },
  {
   "cell_type": "code",
   "execution_count": null,
   "id": "4fa1489e",
   "metadata": {
    "id": "4fa1489e"
   },
   "outputs": [],
   "source": []
  },
  {
   "cell_type": "code",
   "execution_count": 4,
   "id": "0fa9a342",
   "metadata": {
    "colab": {
     "base_uri": "https://localhost:8080/",
     "height": 206
    },
    "id": "0fa9a342",
    "outputId": "a41b91eb-4977-4d46-ae9d-3d2e0a68ed50"
   },
   "outputs": [
    {
     "data": {
      "text/html": [
       "<div>\n",
       "<style scoped>\n",
       "    .dataframe tbody tr th:only-of-type {\n",
       "        vertical-align: middle;\n",
       "    }\n",
       "\n",
       "    .dataframe tbody tr th {\n",
       "        vertical-align: top;\n",
       "    }\n",
       "\n",
       "    .dataframe thead th {\n",
       "        text-align: right;\n",
       "    }\n",
       "</style>\n",
       "<table border=\"1\" class=\"dataframe\">\n",
       "  <thead>\n",
       "    <tr style=\"text-align: right;\">\n",
       "      <th></th>\n",
       "      <th>lang_id</th>\n",
       "      <th>text</th>\n",
       "    </tr>\n",
       "  </thead>\n",
       "  <tbody>\n",
       "    <tr>\n",
       "      <th>0</th>\n",
       "      <td>xho</td>\n",
       "      <td>umgaqo-siseko wenza amalungiselelo kumaziko ax...</td>\n",
       "    </tr>\n",
       "    <tr>\n",
       "      <th>1</th>\n",
       "      <td>xho</td>\n",
       "      <td>i-dha iya kuba nobulumko bokubeka umsebenzi na...</td>\n",
       "    </tr>\n",
       "    <tr>\n",
       "      <th>2</th>\n",
       "      <td>eng</td>\n",
       "      <td>the province of kwazulu-natal department of tr...</td>\n",
       "    </tr>\n",
       "    <tr>\n",
       "      <th>3</th>\n",
       "      <td>nso</td>\n",
       "      <td>o netefatša gore o ba file dilo ka moka tše le...</td>\n",
       "    </tr>\n",
       "    <tr>\n",
       "      <th>4</th>\n",
       "      <td>ven</td>\n",
       "      <td>khomishini ya ndinganyiso ya mbeu yo ewa maana...</td>\n",
       "    </tr>\n",
       "  </tbody>\n",
       "</table>\n",
       "</div>"
      ],
      "text/plain": [
       "  lang_id                                               text\n",
       "0     xho  umgaqo-siseko wenza amalungiselelo kumaziko ax...\n",
       "1     xho  i-dha iya kuba nobulumko bokubeka umsebenzi na...\n",
       "2     eng  the province of kwazulu-natal department of tr...\n",
       "3     nso  o netefatša gore o ba file dilo ka moka tše le...\n",
       "4     ven  khomishini ya ndinganyiso ya mbeu yo ewa maana..."
      ]
     },
     "execution_count": 4,
     "metadata": {},
     "output_type": "execute_result"
    }
   ],
   "source": [
    "# Read data\n",
    "df_test = pd.read_csv('https://raw.githubusercontent.com/kwanda2426/Classification-Hackathon/main/Data/test_set.csv')\n",
    "df_train = pd.read_csv('https://raw.githubusercontent.com/kwanda2426/Classification-Hackathon/main/Data/train_set.csv')\n",
    "df_train.head()"
   ]
  },
  {
   "cell_type": "code",
   "execution_count": 5,
   "id": "5fa886db",
   "metadata": {
    "colab": {
     "base_uri": "https://localhost:8080/",
     "height": 206
    },
    "id": "5fa886db",
    "outputId": "d14edc6b-68ac-423d-fd35-d7acd98c2c55"
   },
   "outputs": [
    {
     "data": {
      "text/html": [
       "<div>\n",
       "<style scoped>\n",
       "    .dataframe tbody tr th:only-of-type {\n",
       "        vertical-align: middle;\n",
       "    }\n",
       "\n",
       "    .dataframe tbody tr th {\n",
       "        vertical-align: top;\n",
       "    }\n",
       "\n",
       "    .dataframe thead th {\n",
       "        text-align: right;\n",
       "    }\n",
       "</style>\n",
       "<table border=\"1\" class=\"dataframe\">\n",
       "  <thead>\n",
       "    <tr style=\"text-align: right;\">\n",
       "      <th></th>\n",
       "      <th>index</th>\n",
       "      <th>text</th>\n",
       "    </tr>\n",
       "  </thead>\n",
       "  <tbody>\n",
       "    <tr>\n",
       "      <th>0</th>\n",
       "      <td>1</td>\n",
       "      <td>Mmasepala, fa maemo a a kgethegileng a letlele...</td>\n",
       "    </tr>\n",
       "    <tr>\n",
       "      <th>1</th>\n",
       "      <td>2</td>\n",
       "      <td>Uzakwaziswa ngokufaneleko nakungafuneka eminye...</td>\n",
       "    </tr>\n",
       "    <tr>\n",
       "      <th>2</th>\n",
       "      <td>3</td>\n",
       "      <td>Tshivhumbeo tshi fana na ngano dza vhathu.</td>\n",
       "    </tr>\n",
       "    <tr>\n",
       "      <th>3</th>\n",
       "      <td>4</td>\n",
       "      <td>Kube inja nelikati betingevakala kutsi titsini...</td>\n",
       "    </tr>\n",
       "    <tr>\n",
       "      <th>4</th>\n",
       "      <td>5</td>\n",
       "      <td>Winste op buitelandse valuta.</td>\n",
       "    </tr>\n",
       "  </tbody>\n",
       "</table>\n",
       "</div>"
      ],
      "text/plain": [
       "   index                                               text\n",
       "0      1  Mmasepala, fa maemo a a kgethegileng a letlele...\n",
       "1      2  Uzakwaziswa ngokufaneleko nakungafuneka eminye...\n",
       "2      3         Tshivhumbeo tshi fana na ngano dza vhathu.\n",
       "3      4  Kube inja nelikati betingevakala kutsi titsini...\n",
       "4      5                      Winste op buitelandse valuta."
      ]
     },
     "execution_count": 5,
     "metadata": {},
     "output_type": "execute_result"
    }
   ],
   "source": [
    "df_test.head()"
   ]
  },
  {
   "cell_type": "markdown",
   "id": "e9f119f4",
   "metadata": {
    "id": "e9f119f4"
   },
   "source": [
    "### Data Overview\n",
    "\n",
    "**Train dataset**"
   ]
  },
  {
   "cell_type": "code",
   "execution_count": null,
   "id": "d394c7c8",
   "metadata": {
    "colab": {
     "base_uri": "https://localhost:8080/"
    },
    "id": "d394c7c8",
    "outputId": "fe7872c6-23f1-4a0b-a8d5-4a6b86f06d0f"
   },
   "outputs": [
    {
     "name": "stdout",
     "output_type": "stream",
     "text": [
      "Rows    :  15819\n",
      "Columns :  3\n",
      "\n",
      "Missing values:  0\n",
      "\n",
      "Information about the data: \n",
      "<class 'pandas.core.frame.DataFrame'>\n",
      "RangeIndex: 15819 entries, 0 to 15818\n",
      "Data columns (total 3 columns):\n",
      " #   Column     Non-Null Count  Dtype \n",
      "---  ------     --------------  ----- \n",
      " 0   sentiment  15819 non-null  int64 \n",
      " 1   message    15819 non-null  object\n",
      " 2   tweetid    15819 non-null  int64 \n",
      "dtypes: int64(2), object(1)\n",
      "memory usage: 370.9+ KB\n",
      "  \n",
      " None\n",
      "\n",
      "About the data: \n",
      "\n",
      "Feature 'sentiment' has 4 unique categories\n",
      "Feature 'message' has 14229 unique categories\n",
      "Feature 'tweetid' has 15819 unique categories\n"
     ]
    }
   ],
   "source": [
    "# Checking how our training dataset looks like\n",
    "print(\"Rows    : \", df_train.shape[0])\n",
    "\n",
    "print(\"Columns : \", df_train.shape[1])\n",
    "\n",
    "print(\"\\nMissing values: \", df_train.isnull().sum().values.sum())\n",
    "\n",
    "print(\"\\nInformation about the data: \")\n",
    "print(\"  \\n\", df_train.info())\n",
    " \n",
    "print(\"\\nAbout the data: \\n\")\n",
    "\n",
    "# Check how many unique items are in each column of the dateframe\n",
    "for col_name in df_train.columns:\n",
    "    unique_out = len(df_train[col_name].unique())\n",
    "    print(f\"Feature '{col_name}' has {unique_out} unique categories\") "
   ]
  },
  {
   "cell_type": "markdown",
   "id": "36746705",
   "metadata": {
    "id": "36746705"
   },
   "source": [
    "**Test dataset**"
   ]
  },
  {
   "cell_type": "code",
   "execution_count": null,
   "id": "bc875a75",
   "metadata": {
    "colab": {
     "base_uri": "https://localhost:8080/"
    },
    "id": "bc875a75",
    "outputId": "177db545-7b70-4dc7-896c-9cc9ddebf045"
   },
   "outputs": [
    {
     "name": "stdout",
     "output_type": "stream",
     "text": [
      "Rows    :  10546\n",
      "Columns :  2\n",
      "\n",
      "Missing values:  0\n",
      "\n",
      "Information about the data: \n",
      "<class 'pandas.core.frame.DataFrame'>\n",
      "RangeIndex: 10546 entries, 0 to 10545\n",
      "Data columns (total 2 columns):\n",
      " #   Column   Non-Null Count  Dtype \n",
      "---  ------   --------------  ----- \n",
      " 0   message  10546 non-null  object\n",
      " 1   tweetid  10546 non-null  int64 \n",
      "dtypes: int64(1), object(1)\n",
      "memory usage: 164.9+ KB\n",
      "  \n",
      " None\n",
      "\n",
      "About the data: \n",
      "\n",
      "Feature 'message' has 9575 unique categories\n",
      "Feature 'tweetid' has 10546 unique categories\n"
     ]
    }
   ],
   "source": [
    "# Checking how our data looks like\n",
    "print(\"Rows    : \", df_test.shape[0])\n",
    "\n",
    "print(\"Columns : \", df_test.shape[1])\n",
    "\n",
    "print(\"\\nMissing values: \", df_test.isnull().sum().values.sum())\n",
    "\n",
    "print(\"\\nInformation about the data: \")\n",
    "print(\"  \\n\", df_test.info())\n",
    " \n",
    "print(\"\\nAbout the data: \\n\")\n",
    "\n",
    "# Check how many unique items are in each column of the dateframe\n",
    "for col_name in df_test.columns:\n",
    "    unique_out = len(df_test[col_name].unique())\n",
    "    print(f\"Feature '{col_name}' has {unique_out} unique categories\") "
   ]
  },
  {
   "cell_type": "markdown",
   "id": "UN3HlY72BmG3",
   "metadata": {
    "id": "UN3HlY72BmG3"
   },
   "source": [
    "<a id=\"cleaning\"></a>\n",
    "## 3. Data Preprocessing"
   ]
  },
  {
   "cell_type": "markdown",
   "id": "c63eb017",
   "metadata": {
    "id": "c63eb017"
   },
   "source": [
    "Data preprocessing is a technique that involves taking in raw data and transforming it into a understable format. The technique includes data cleaning, intergration, transformation, reduction and discretization. The data preprocessing plan will include the following processes:\n",
    "\n",
    "- **Extraction process**\n",
    "\n",
    "- **Data cleaning**\n",
    "\n"
   ]
  },
  {
   "cell_type": "markdown",
   "id": "xfqrpMk7BWGs",
   "metadata": {
    "id": "xfqrpMk7BWGs"
   },
   "source": [
    "### Extraction Process "
   ]
  },
  {
   "cell_type": "markdown",
   "id": "26342597",
   "metadata": {
    "id": "26342597"
   },
   "source": [
    "The extraction process is performed to gain an accurate and deep understanding into the data when performing data analysis and is performed prior to data cleaning to ensure that information is not lost.\n",
    "\n",
    "The extraction process will include:\n",
    "- Convert text to lowercase\n",
    "- Extract hashtags and store then in a seperate dataframe\n",
    "- Extract mentions and create a mentions column\n",
    "- Group mentions based on sentiment\n",
    "- Extract urls and create a urls column\n",
    "- Group urls based on sentiment"
   ]
  },
  {
   "cell_type": "markdown",
   "id": "5JmjrWTC3zxe",
   "metadata": {
    "id": "5JmjrWTC3zxe"
   },
   "source": [
    "#### Convert text to lowercase"
   ]
  },
  {
   "cell_type": "code",
   "execution_count": null,
   "id": "88faa14d",
   "metadata": {
    "id": "88faa14d"
   },
   "outputs": [],
   "source": [
    "def lowercase(text):\n",
    "    text = text.lower() # making text to be lowercase\n",
    "    return text\n",
    "\n",
    "df_train['message'] = df_train['message'].apply(lowercase)\n",
    "\n",
    "df_test['message'] = df_test['message'].apply(lowercase)"
   ]
  },
  {
   "cell_type": "code",
   "execution_count": null,
   "id": "cdfd1ae0",
   "metadata": {
    "id": "cdfd1ae0"
   },
   "outputs": [],
   "source": []
  },
  {
   "cell_type": "markdown",
   "id": "f9bc81be",
   "metadata": {
    "id": "f9bc81be"
   },
   "source": [
    "### Data Cleaning "
   ]
  },
  {
   "cell_type": "markdown",
   "id": "lpfkrWBB_9DP",
   "metadata": {
    "id": "lpfkrWBB_9DP"
   },
   "source": [
    "Data cleaning is a process of improving the quality of the data by identifying corrupt or erroneous records from a data set and rectifying them.\n",
    "\n",
    "The data cleaning process will include the following:\n",
    "- Contractions\n",
    "- Removal of the noise:\n",
    "    - urls,\n",
    "    - hashtags,\n",
    "    - mentions,\n",
    "    - punctuations\n",
    "- Tokenization\n",
    "- Lemmatization"
   ]
  },
  {
   "cell_type": "markdown",
   "id": "7c29b102",
   "metadata": {
    "id": "7c29b102"
   },
   "source": [
    "#### Contractions"
   ]
  },
  {
   "cell_type": "code",
   "execution_count": null,
   "id": "b0bfc919",
   "metadata": {
    "id": "b0bfc919"
   },
   "outputs": [],
   "source": [
    "#Function used to lookup shortwords from the dictionary\n",
    "def lookup_dict(text, dictionary):\n",
    "    \n",
    "    for word in text.split(): \n",
    "        \n",
    "        if word.lower() in dictionary:\n",
    "            \n",
    "            if word.lower() in text.split():\n",
    "                \n",
    "                text = text.replace(word, dictionary[word.lower()]) \n",
    "    return text"
   ]
  },
  {
   "cell_type": "markdown",
   "id": "vKFP1h_i9O_z",
   "metadata": {
    "id": "vKFP1h_i9O_z"
   },
   "source": [
    "#### Removal of noise\n"
   ]
  },
  {
   "cell_type": "markdown",
   "id": "DeMiKw4_9-n9",
   "metadata": {
    "id": "DeMiKw4_9-n9"
   },
   "source": [
    "Data that can not be processed/interpreted by a machine is classified as noisy data. Text data contains a lot of noise, this comes in a  form of special characters such as hashtags, punctuation and numbers. During this process the data will be changed from accent letters to normal letters and the noise will be removed."
   ]
  },
  {
   "cell_type": "code",
   "execution_count": null,
   "id": "Y2nzYYT_80S5",
   "metadata": {
    "colab": {
     "base_uri": "https://localhost:8080/",
     "height": 1000
    },
    "id": "Y2nzYYT_80S5",
    "outputId": "1978558d-7716-4093-8689-fe3bbcd279ba"
   },
   "outputs": [
    {
     "data": {
      "text/html": [
       "<div>\n",
       "<style scoped>\n",
       "    .dataframe tbody tr th:only-of-type {\n",
       "        vertical-align: middle;\n",
       "    }\n",
       "\n",
       "    .dataframe tbody tr th {\n",
       "        vertical-align: top;\n",
       "    }\n",
       "\n",
       "    .dataframe thead th {\n",
       "        text-align: right;\n",
       "    }\n",
       "</style>\n",
       "<table border=\"1\" class=\"dataframe\">\n",
       "  <thead>\n",
       "    <tr style=\"text-align: right;\">\n",
       "      <th></th>\n",
       "      <th>sentiment</th>\n",
       "      <th>message</th>\n",
       "      <th>tweetid</th>\n",
       "      <th>mentions</th>\n",
       "      <th>urls</th>\n",
       "      <th>clean_message</th>\n",
       "      <th>tokenized</th>\n",
       "      <th>POS</th>\n",
       "      <th>lemmatized</th>\n",
       "      <th>num_words</th>\n",
       "      <th>word_cloud</th>\n",
       "      <th>word</th>\n",
       "    </tr>\n",
       "  </thead>\n",
       "  <tbody>\n",
       "    <tr>\n",
       "      <th>0</th>\n",
       "      <td>1</td>\n",
       "      <td>polyscimajor epa chief doesn't think carbon di...</td>\n",
       "      <td>625221</td>\n",
       "      <td>[mashable]</td>\n",
       "      <td>[https://t.co/yelvcefxkc]</td>\n",
       "      <td>polyscimajor epa chief doesnt think carbon dio...</td>\n",
       "      <td>[polyscimajor, epa, chief, doesnt, think, carb...</td>\n",
       "      <td>[(polyscimajor, a), (epa, n), (chief, n), (doe...</td>\n",
       "      <td>polyscimajor epa chief doesnt think carbon dio...</td>\n",
       "      <td>17</td>\n",
       "      <td>polyscimajor epa chief doesnt think carbon dio...</td>\n",
       "      <td>polyscimajor epa chief doesnt think carbon dio...</td>\n",
       "    </tr>\n",
       "    <tr>\n",
       "      <th>1</th>\n",
       "      <td>1</td>\n",
       "      <td>it's not like we lack evidence of anthropogeni...</td>\n",
       "      <td>126103</td>\n",
       "      <td>[]</td>\n",
       "      <td>[]</td>\n",
       "      <td>it is not like we lack evidence of anthropogen...</td>\n",
       "      <td>[it, is, not, like, we, lack, evidence, of, an...</td>\n",
       "      <td>[(it, n), (is, v), (not, r), (like, n), (we, n...</td>\n",
       "      <td>it be not like we lack evidence of anthropogen...</td>\n",
       "      <td>11</td>\n",
       "      <td>it be not like we lack evidence of anthropogenic</td>\n",
       "      <td>like lack evidence anthropogenic</td>\n",
       "    </tr>\n",
       "    <tr>\n",
       "      <th>2</th>\n",
       "      <td>2</td>\n",
       "      <td>rt @rawstory: researchers say we have three ye...</td>\n",
       "      <td>698562</td>\n",
       "      <td>[rawstory]</td>\n",
       "      <td>[https://t.co/wdt0kdur2f, https://t.co/z0anpt]</td>\n",
       "      <td>researchers say we have three years to act o...</td>\n",
       "      <td>[researchers, say, we, have, three, years, to,...</td>\n",
       "      <td>[(researchers, n), (say, v), (we, n), (have, v...</td>\n",
       "      <td>researcher say we have three year to act on cl...</td>\n",
       "      <td>15</td>\n",
       "      <td>researcher say we have three year to act on be...</td>\n",
       "      <td>researcher say three year act late</td>\n",
       "    </tr>\n",
       "    <tr>\n",
       "      <th>3</th>\n",
       "      <td>1</td>\n",
       "      <td>#todayinmaker# wired : 2016 was a pivotal year...</td>\n",
       "      <td>573736</td>\n",
       "      <td>[]</td>\n",
       "      <td>[https://t.co/44wotxtlcd]</td>\n",
       "      <td>odayinmaker wired was a pivotal year in the wa...</td>\n",
       "      <td>[odayinmaker, wired, was, a, pivotal, year, in...</td>\n",
       "      <td>[(odayinmaker, n), (wired, v), (was, v), (a, n...</td>\n",
       "      <td>odayinmaker wire be a pivotal year in the war ...</td>\n",
       "      <td>12</td>\n",
       "      <td>odayinmaker wire be pivotal year in the war on</td>\n",
       "      <td>odayinmaker wire pivotal year war</td>\n",
       "    </tr>\n",
       "    <tr>\n",
       "      <th>4</th>\n",
       "      <td>1</td>\n",
       "      <td>rt @soynoviodetodas: it's 2016, and a racist, ...</td>\n",
       "      <td>466954</td>\n",
       "      <td>[soynoviodetodas]</td>\n",
       "      <td>[]</td>\n",
       "      <td>it is and a racist sexist climate change den...</td>\n",
       "      <td>[it, is, and, a, racist, sexist, climate, chan...</td>\n",
       "      <td>[(it, n), (is, v), (and, n), (a, n), (racist, ...</td>\n",
       "      <td>it be and a racist sexist climate change deny ...</td>\n",
       "      <td>16</td>\n",
       "      <td>it be and racist sexist deny bigot be lead in ...</td>\n",
       "      <td>racist sexist deny bigot lead poll electionnigh</td>\n",
       "    </tr>\n",
       "    <tr>\n",
       "      <th>...</th>\n",
       "      <td>...</td>\n",
       "      <td>...</td>\n",
       "      <td>...</td>\n",
       "      <td>...</td>\n",
       "      <td>...</td>\n",
       "      <td>...</td>\n",
       "      <td>...</td>\n",
       "      <td>...</td>\n",
       "      <td>...</td>\n",
       "      <td>...</td>\n",
       "      <td>...</td>\n",
       "      <td>...</td>\n",
       "    </tr>\n",
       "    <tr>\n",
       "      <th>15814</th>\n",
       "      <td>1</td>\n",
       "      <td>rt @ezlusztig: they took down the material on ...</td>\n",
       "      <td>22001</td>\n",
       "      <td>[ezlusztig]</td>\n",
       "      <td>[]</td>\n",
       "      <td>they took down the material on global warmin...</td>\n",
       "      <td>[they, took, down, the, material, on, global, ...</td>\n",
       "      <td>[(they, n), (took, v), (down, r), (the, n), (m...</td>\n",
       "      <td>they take down the material on global warm lgb...</td>\n",
       "      <td>20</td>\n",
       "      <td>they take down the material on warm lgbt right...</td>\n",
       "      <td>take material warm lgbt right health care they...</td>\n",
       "    </tr>\n",
       "    <tr>\n",
       "      <th>15815</th>\n",
       "      <td>2</td>\n",
       "      <td>rt @washingtonpost: how climate change could b...</td>\n",
       "      <td>17856</td>\n",
       "      <td>[washingtonpost]</td>\n",
       "      <td>[https://t.co/rpfgvb2plq]</td>\n",
       "      <td>how climate change could be breaking up a mi...</td>\n",
       "      <td>[how, climate, change, could, be, breaking, up...</td>\n",
       "      <td>[(how, n), (climate, a), (change, n), (could, ...</td>\n",
       "      <td>how climate change could be break up a million...</td>\n",
       "      <td>12</td>\n",
       "      <td>how could be break up million year old relatio...</td>\n",
       "      <td>could break million year old relationship</td>\n",
       "    </tr>\n",
       "    <tr>\n",
       "      <th>15816</th>\n",
       "      <td>0</td>\n",
       "      <td>notiven: rt: nytimesworld :what does trump act...</td>\n",
       "      <td>384248</td>\n",
       "      <td>[]</td>\n",
       "      <td>[https://t.co/0mp2]</td>\n",
       "      <td>notiven rt nytimesworld what does trump actual...</td>\n",
       "      <td>[notiven, rt, nytimesworld, what, does, trump,...</td>\n",
       "      <td>[(notiven, r), (rt, v), (nytimesworld, r), (wh...</td>\n",
       "      <td>notiven rt nytimesworld what do trump actually...</td>\n",
       "      <td>17</td>\n",
       "      <td>notiven nytimesworld what do actually believe ...</td>\n",
       "      <td>notiven nytimesworld actually believe rick per...</td>\n",
       "    </tr>\n",
       "    <tr>\n",
       "      <th>15817</th>\n",
       "      <td>-1</td>\n",
       "      <td>rt @sara8smiles: hey liberals the climate chan...</td>\n",
       "      <td>819732</td>\n",
       "      <td>[sara8smiles]</td>\n",
       "      <td>[]</td>\n",
       "      <td>hey liberals the climate change crap is a ho...</td>\n",
       "      <td>[hey, liberals, the, climate, change, crap, is...</td>\n",
       "      <td>[(hey, n), (liberals, v), (the, n), (climate, ...</td>\n",
       "      <td>hey liberals the climate change crap be a hoax...</td>\n",
       "      <td>19</td>\n",
       "      <td>hey liberals the crap be hoax that tie to agen...</td>\n",
       "      <td>hey liberals crap hoax tie agenda byaaa</td>\n",
       "    </tr>\n",
       "    <tr>\n",
       "      <th>15818</th>\n",
       "      <td>0</td>\n",
       "      <td>rt @chet_cannon: .@kurteichenwald's 'climate c...</td>\n",
       "      <td>806319</td>\n",
       "      <td>[chet_cannon, kurteichenwald]</td>\n",
       "      <td>[https://t.co/lp7uufcxdq]</td>\n",
       "      <td>cannon  climate change equation in screenshots</td>\n",
       "      <td>[cannon, climate, change, equation, in, screen...</td>\n",
       "      <td>[(cannon, n), (climate, n), (change, n), (equa...</td>\n",
       "      <td>cannon climate change equation in screenshots</td>\n",
       "      <td>6</td>\n",
       "      <td>cannon equation in screenshots</td>\n",
       "      <td>cannon equation screenshots</td>\n",
       "    </tr>\n",
       "  </tbody>\n",
       "</table>\n",
       "<p>15819 rows × 12 columns</p>\n",
       "</div>"
      ],
      "text/plain": [
       "       sentiment  ...                                               word\n",
       "0              1  ...  polyscimajor epa chief doesnt think carbon dio...\n",
       "1              1  ...                   like lack evidence anthropogenic\n",
       "2              2  ...                 researcher say three year act late\n",
       "3              1  ...                  odayinmaker wire pivotal year war\n",
       "4              1  ...    racist sexist deny bigot lead poll electionnigh\n",
       "...          ...  ...                                                ...\n",
       "15814          1  ...  take material warm lgbt right health care they...\n",
       "15815          2  ...          could break million year old relationship\n",
       "15816          0  ...  notiven nytimesworld actually believe rick per...\n",
       "15817         -1  ...            hey liberals crap hoax tie agenda byaaa\n",
       "15818          0  ...                        cannon equation screenshots\n",
       "\n",
       "[15819 rows x 12 columns]"
      ]
     },
     "execution_count": 88,
     "metadata": {},
     "output_type": "execute_result"
    }
   ],
   "source": [
    "# Changing accent letter to normals letters\n",
    "def strip_accents(text):\n",
    "    \"\"\"This function is to strip accent letter those special characters then return a normal alphabet\"\"\"\n",
    "    try:\n",
    "        text = unicode(text, 'utf-8')\n",
    "    except NameError: # unicode is a default on python 3\n",
    "        pass\n",
    "\n",
    "    text = unicodedata.normalize('NFD', text)\\\n",
    "           .encode('ascii', 'ignore')\\\n",
    "           .decode(\"utf-8\")\n",
    "\n",
    "    return str(text)\n",
    "\n",
    "# applying the function on our training data\n",
    "df_train['clean_message'] = df_train['message'].apply(strip_accents) \n",
    "\n",
    "# applying the function on our testing data\n",
    "df_test['clean_message'] = df_test['message'].apply(strip_accents)\n",
    "\n",
    "\n",
    "# Cleaning the messages by removing urls, making messages to be lowercase,removing all punctuations and extra whitespaces \n",
    "def clean_text(text):\n",
    "    \"\"\"This function is to clean the data removing urls, punctuations, spaces and making text to be lowercase \"\"\"\n",
    "    \n",
    "    URL = r'http[s]?://(?:[A-Za-z]|[0-9]|[$-_@.&+]|[!*\\(\\),]|(?:%[0-9A-Fa-f][0-9A-Fa-f]))+'\n",
    "    text = re.sub(URL, '', text)\n",
    "    \n",
    "    text = re.sub(\"it's\", \"it is\", text) \n",
    "      \n",
    "    text = re.sub(\"(\\#)|(\\.)|(\\;)|(\\:)|(\\!)|(\\')|(\\?)|(\\,)|(\\\")|(\\|)|(\\()|(\\))|(\\[)|(\\])|(\\%)|(\\$)|(\\>)|(\\<)|(\\{)|(\\})\", \"\", text) # removing all punctuation with no space\n",
    "    \n",
    "    text = re.sub(\"(<br\\s/><br\\s/?)|(-)|(_)|(/)|(:).\", \" \", text) # removing all punctuation with a space\n",
    "    \n",
    "    text = re.sub(r'[0-9]', '', text) # removing numbers from strings\n",
    "    \n",
    "    text = re.sub(\"\\\\s+\", \" \", text)  # Remove extra whitespace\n",
    "       \n",
    "    text = re.sub(r\"U+FFFD \", ' ', text) # Remove that funny diamond\n",
    "    \n",
    "    text = text.lstrip()  # removes whitespaces before string\n",
    "    \n",
    "    text = text.rstrip()  # removes whitespaces after string\n",
    "    \n",
    "    return text\n",
    "\n",
    "df_train['clean_message'] = df_train['clean_message'].apply(clean_text)\n",
    "\n",
    "df_test['clean_message'] = df_test['clean_message'].apply(clean_text)\n",
    "\n",
    "\n",
    "#Removing RT ftom tweets\n",
    "df_train['clean_message'] = df_train['clean_message'].str.strip('rt')\n",
    "\n",
    "df_test['clean_message'] = df_test['clean_message'].str.strip('rt')\n",
    "\n",
    "\n",
    "# Remove @ mentions\n",
    "pattern = r\"@[\\w]+\" # pattern to remove\n",
    "sub = r'' # replace it with with an empty space \n",
    "\n",
    "#transforming our dataframe \n",
    "df_train['clean_message'] = df_train['clean_message'].replace(to_replace = pattern, value = sub, regex = True)\n",
    "\n",
    "#transforming our dataframe \n",
    "df_test['clean_message'] = df_test['clean_message'].replace(to_replace = pattern, value = sub, regex = True) \n",
    "\n",
    "df_train"
   ]
  },
  {
   "cell_type": "markdown",
   "id": "88b21ca7",
   "metadata": {
    "id": "88b21ca7"
   },
   "source": [
    "#### Tokenization"
   ]
  },
  {
   "cell_type": "markdown",
   "id": "nbrYOW_k-NaV",
   "metadata": {
    "id": "nbrYOW_k-NaV"
   },
   "source": [
    "Tokenization is a process of breaking down unstructured data and natural language text into smaller units called tokens. During this process we will first tokenize the tweets and then transform the data using the TreebankWord."
   ]
  },
  {
   "cell_type": "code",
   "execution_count": null,
   "id": "c71c7e33",
   "metadata": {
    "colab": {
     "base_uri": "https://localhost:8080/",
     "height": 1000
    },
    "id": "c71c7e33",
    "outputId": "b654f1c3-a263-4763-d6ad-394f8d88318c"
   },
   "outputs": [
    {
     "data": {
      "text/html": [
       "<div>\n",
       "<style scoped>\n",
       "    .dataframe tbody tr th:only-of-type {\n",
       "        vertical-align: middle;\n",
       "    }\n",
       "\n",
       "    .dataframe tbody tr th {\n",
       "        vertical-align: top;\n",
       "    }\n",
       "\n",
       "    .dataframe thead th {\n",
       "        text-align: right;\n",
       "    }\n",
       "</style>\n",
       "<table border=\"1\" class=\"dataframe\">\n",
       "  <thead>\n",
       "    <tr style=\"text-align: right;\">\n",
       "      <th></th>\n",
       "      <th>sentiment</th>\n",
       "      <th>message</th>\n",
       "      <th>tweetid</th>\n",
       "      <th>mentions</th>\n",
       "      <th>urls</th>\n",
       "      <th>clean_message</th>\n",
       "      <th>tokenized</th>\n",
       "      <th>POS</th>\n",
       "      <th>lemmatized</th>\n",
       "      <th>num_words</th>\n",
       "      <th>word_cloud</th>\n",
       "      <th>word</th>\n",
       "    </tr>\n",
       "  </thead>\n",
       "  <tbody>\n",
       "    <tr>\n",
       "      <th>0</th>\n",
       "      <td>1</td>\n",
       "      <td>polyscimajor epa chief doesn't think carbon di...</td>\n",
       "      <td>625221</td>\n",
       "      <td>[mashable]</td>\n",
       "      <td>[https://t.co/yelvcefxkc]</td>\n",
       "      <td>polyscimajor epa chief doesnt think carbon dio...</td>\n",
       "      <td>[polyscimajor, epa, chief, doesnt, think, carb...</td>\n",
       "      <td>[(polyscimajor, a), (epa, n), (chief, n), (doe...</td>\n",
       "      <td>polyscimajor epa chief doesnt think carbon dio...</td>\n",
       "      <td>17</td>\n",
       "      <td>polyscimajor epa chief doesnt think carbon dio...</td>\n",
       "      <td>polyscimajor epa chief doesnt think carbon dio...</td>\n",
       "    </tr>\n",
       "    <tr>\n",
       "      <th>1</th>\n",
       "      <td>1</td>\n",
       "      <td>it's not like we lack evidence of anthropogeni...</td>\n",
       "      <td>126103</td>\n",
       "      <td>[]</td>\n",
       "      <td>[]</td>\n",
       "      <td>it is not like we lack evidence of anthropogen...</td>\n",
       "      <td>[it, is, not, like, we, lack, evidence, of, an...</td>\n",
       "      <td>[(it, n), (is, v), (not, r), (like, n), (we, n...</td>\n",
       "      <td>it be not like we lack evidence of anthropogen...</td>\n",
       "      <td>11</td>\n",
       "      <td>it be not like we lack evidence of anthropogenic</td>\n",
       "      <td>like lack evidence anthropogenic</td>\n",
       "    </tr>\n",
       "    <tr>\n",
       "      <th>2</th>\n",
       "      <td>2</td>\n",
       "      <td>rt @rawstory: researchers say we have three ye...</td>\n",
       "      <td>698562</td>\n",
       "      <td>[rawstory]</td>\n",
       "      <td>[https://t.co/wdt0kdur2f, https://t.co/z0anpt]</td>\n",
       "      <td>researchers say we have three years to act o...</td>\n",
       "      <td>[researchers, say, we, have, three, years, to,...</td>\n",
       "      <td>[(researchers, n), (say, v), (we, n), (have, v...</td>\n",
       "      <td>researcher say we have three year to act on cl...</td>\n",
       "      <td>15</td>\n",
       "      <td>researcher say we have three year to act on be...</td>\n",
       "      <td>researcher say three year act late</td>\n",
       "    </tr>\n",
       "    <tr>\n",
       "      <th>3</th>\n",
       "      <td>1</td>\n",
       "      <td>#todayinmaker# wired : 2016 was a pivotal year...</td>\n",
       "      <td>573736</td>\n",
       "      <td>[]</td>\n",
       "      <td>[https://t.co/44wotxtlcd]</td>\n",
       "      <td>odayinmaker wired was a pivotal year in the wa...</td>\n",
       "      <td>[odayinmaker, wired, was, a, pivotal, year, in...</td>\n",
       "      <td>[(odayinmaker, n), (wired, v), (was, v), (a, n...</td>\n",
       "      <td>odayinmaker wire be a pivotal year in the war ...</td>\n",
       "      <td>12</td>\n",
       "      <td>odayinmaker wire be pivotal year in the war on</td>\n",
       "      <td>odayinmaker wire pivotal year war</td>\n",
       "    </tr>\n",
       "    <tr>\n",
       "      <th>4</th>\n",
       "      <td>1</td>\n",
       "      <td>rt @soynoviodetodas: it's 2016, and a racist, ...</td>\n",
       "      <td>466954</td>\n",
       "      <td>[soynoviodetodas]</td>\n",
       "      <td>[]</td>\n",
       "      <td>it is and a racist sexist climate change den...</td>\n",
       "      <td>[it, is, and, a, racist, sexist, climate, chan...</td>\n",
       "      <td>[(it, n), (is, v), (and, n), (a, n), (racist, ...</td>\n",
       "      <td>it be and a racist sexist climate change deny ...</td>\n",
       "      <td>16</td>\n",
       "      <td>it be and racist sexist deny bigot be lead in ...</td>\n",
       "      <td>racist sexist deny bigot lead poll electionnigh</td>\n",
       "    </tr>\n",
       "    <tr>\n",
       "      <th>...</th>\n",
       "      <td>...</td>\n",
       "      <td>...</td>\n",
       "      <td>...</td>\n",
       "      <td>...</td>\n",
       "      <td>...</td>\n",
       "      <td>...</td>\n",
       "      <td>...</td>\n",
       "      <td>...</td>\n",
       "      <td>...</td>\n",
       "      <td>...</td>\n",
       "      <td>...</td>\n",
       "      <td>...</td>\n",
       "    </tr>\n",
       "    <tr>\n",
       "      <th>15814</th>\n",
       "      <td>1</td>\n",
       "      <td>rt @ezlusztig: they took down the material on ...</td>\n",
       "      <td>22001</td>\n",
       "      <td>[ezlusztig]</td>\n",
       "      <td>[]</td>\n",
       "      <td>they took down the material on global warmin...</td>\n",
       "      <td>[they, took, down, the, material, on, global, ...</td>\n",
       "      <td>[(they, n), (took, v), (down, r), (the, n), (m...</td>\n",
       "      <td>they take down the material on global warm lgb...</td>\n",
       "      <td>20</td>\n",
       "      <td>they take down the material on warm lgbt right...</td>\n",
       "      <td>take material warm lgbt right health care they...</td>\n",
       "    </tr>\n",
       "    <tr>\n",
       "      <th>15815</th>\n",
       "      <td>2</td>\n",
       "      <td>rt @washingtonpost: how climate change could b...</td>\n",
       "      <td>17856</td>\n",
       "      <td>[washingtonpost]</td>\n",
       "      <td>[https://t.co/rpfgvb2plq]</td>\n",
       "      <td>how climate change could be breaking up a mi...</td>\n",
       "      <td>[how, climate, change, could, be, breaking, up...</td>\n",
       "      <td>[(how, n), (climate, a), (change, n), (could, ...</td>\n",
       "      <td>how climate change could be break up a million...</td>\n",
       "      <td>12</td>\n",
       "      <td>how could be break up million year old relatio...</td>\n",
       "      <td>could break million year old relationship</td>\n",
       "    </tr>\n",
       "    <tr>\n",
       "      <th>15816</th>\n",
       "      <td>0</td>\n",
       "      <td>notiven: rt: nytimesworld :what does trump act...</td>\n",
       "      <td>384248</td>\n",
       "      <td>[]</td>\n",
       "      <td>[https://t.co/0mp2]</td>\n",
       "      <td>notiven rt nytimesworld what does trump actual...</td>\n",
       "      <td>[notiven, rt, nytimesworld, what, does, trump,...</td>\n",
       "      <td>[(notiven, r), (rt, v), (nytimesworld, r), (wh...</td>\n",
       "      <td>notiven rt nytimesworld what do trump actually...</td>\n",
       "      <td>17</td>\n",
       "      <td>notiven nytimesworld what do actually believe ...</td>\n",
       "      <td>notiven nytimesworld actually believe rick per...</td>\n",
       "    </tr>\n",
       "    <tr>\n",
       "      <th>15817</th>\n",
       "      <td>-1</td>\n",
       "      <td>rt @sara8smiles: hey liberals the climate chan...</td>\n",
       "      <td>819732</td>\n",
       "      <td>[sara8smiles]</td>\n",
       "      <td>[]</td>\n",
       "      <td>hey liberals the climate change crap is a ho...</td>\n",
       "      <td>[hey, liberals, the, climate, change, crap, is...</td>\n",
       "      <td>[(hey, n), (liberals, v), (the, n), (climate, ...</td>\n",
       "      <td>hey liberals the climate change crap be a hoax...</td>\n",
       "      <td>19</td>\n",
       "      <td>hey liberals the crap be hoax that tie to agen...</td>\n",
       "      <td>hey liberals crap hoax tie agenda byaaa</td>\n",
       "    </tr>\n",
       "    <tr>\n",
       "      <th>15818</th>\n",
       "      <td>0</td>\n",
       "      <td>rt @chet_cannon: .@kurteichenwald's 'climate c...</td>\n",
       "      <td>806319</td>\n",
       "      <td>[chet_cannon, kurteichenwald]</td>\n",
       "      <td>[https://t.co/lp7uufcxdq]</td>\n",
       "      <td>cannon  climate change equation in screenshots</td>\n",
       "      <td>[cannon, climate, change, equation, in, screen...</td>\n",
       "      <td>[(cannon, n), (climate, n), (change, n), (equa...</td>\n",
       "      <td>cannon climate change equation in screenshots</td>\n",
       "      <td>6</td>\n",
       "      <td>cannon equation in screenshots</td>\n",
       "      <td>cannon equation screenshots</td>\n",
       "    </tr>\n",
       "  </tbody>\n",
       "</table>\n",
       "<p>15819 rows × 12 columns</p>\n",
       "</div>"
      ],
      "text/plain": [
       "       sentiment  ...                                               word\n",
       "0              1  ...  polyscimajor epa chief doesnt think carbon dio...\n",
       "1              1  ...                   like lack evidence anthropogenic\n",
       "2              2  ...                 researcher say three year act late\n",
       "3              1  ...                  odayinmaker wire pivotal year war\n",
       "4              1  ...    racist sexist deny bigot lead poll electionnigh\n",
       "...          ...  ...                                                ...\n",
       "15814          1  ...  take material warm lgbt right health care they...\n",
       "15815          2  ...          could break million year old relationship\n",
       "15816          0  ...  notiven nytimesworld actually believe rick per...\n",
       "15817         -1  ...            hey liberals crap hoax tie agenda byaaa\n",
       "15818          0  ...                        cannon equation screenshots\n",
       "\n",
       "[15819 rows x 12 columns]"
      ]
     },
     "execution_count": 89,
     "metadata": {},
     "output_type": "execute_result"
    }
   ],
   "source": [
    "#start by tokenizing the tweets\n",
    "tokeniser = TreebankWordTokenizer()\n",
    "\n",
    "# transforming the data using the Treebankword tokenizer\n",
    "df_train['tokenized'] = df_train['clean_message'].apply(tokeniser.tokenize)\n",
    "\n",
    "df_train"
   ]
  },
  {
   "cell_type": "markdown",
   "id": "18dbcfe5",
   "metadata": {
    "id": "18dbcfe5"
   },
   "source": [
    "#### Lemmatization"
   ]
  },
  {
   "cell_type": "markdown",
   "id": "iyqJOMUp-gZN",
   "metadata": {
    "id": "iyqJOMUp-gZN"
   },
   "source": [
    "Lemmatization is a process of converting/reducing a word to it meaningful root/base. During this process we will first change the column clean_message into a list, tagging the tweets and performing POS tagging."
   ]
  },
  {
   "cell_type": "code",
   "execution_count": null,
   "id": "aa9a5314",
   "metadata": {
    "colab": {
     "base_uri": "https://localhost:8080/",
     "height": 1000
    },
    "id": "aa9a5314",
    "outputId": "f83c0e71-f7f8-473e-fed9-1151bf3c6d7f"
   },
   "outputs": [
    {
     "data": {
      "text/html": [
       "<div>\n",
       "<style scoped>\n",
       "    .dataframe tbody tr th:only-of-type {\n",
       "        vertical-align: middle;\n",
       "    }\n",
       "\n",
       "    .dataframe tbody tr th {\n",
       "        vertical-align: top;\n",
       "    }\n",
       "\n",
       "    .dataframe thead th {\n",
       "        text-align: right;\n",
       "    }\n",
       "</style>\n",
       "<table border=\"1\" class=\"dataframe\">\n",
       "  <thead>\n",
       "    <tr style=\"text-align: right;\">\n",
       "      <th></th>\n",
       "      <th>sentiment</th>\n",
       "      <th>message</th>\n",
       "      <th>tweetid</th>\n",
       "      <th>mentions</th>\n",
       "      <th>urls</th>\n",
       "      <th>clean_message</th>\n",
       "      <th>tokenized</th>\n",
       "      <th>POS</th>\n",
       "      <th>lemmatized</th>\n",
       "      <th>num_words</th>\n",
       "      <th>word_cloud</th>\n",
       "      <th>word</th>\n",
       "    </tr>\n",
       "  </thead>\n",
       "  <tbody>\n",
       "    <tr>\n",
       "      <th>0</th>\n",
       "      <td>1</td>\n",
       "      <td>polyscimajor epa chief doesn't think carbon di...</td>\n",
       "      <td>625221</td>\n",
       "      <td>[mashable]</td>\n",
       "      <td>[https://t.co/yelvcefxkc]</td>\n",
       "      <td>polyscimajor epa chief doesnt think carbon dio...</td>\n",
       "      <td>[polyscimajor, epa, chief, doesnt, think, carb...</td>\n",
       "      <td>[(polyscimajor, a), (epa, n), (chief, n), (doe...</td>\n",
       "      <td>polyscimajor epa chief doesnt think carbon dio...</td>\n",
       "      <td>17</td>\n",
       "      <td>polyscimajor epa chief doesnt think carbon dio...</td>\n",
       "      <td>polyscimajor epa chief doesnt think carbon dio...</td>\n",
       "    </tr>\n",
       "    <tr>\n",
       "      <th>1</th>\n",
       "      <td>1</td>\n",
       "      <td>it's not like we lack evidence of anthropogeni...</td>\n",
       "      <td>126103</td>\n",
       "      <td>[]</td>\n",
       "      <td>[]</td>\n",
       "      <td>it is not like we lack evidence of anthropogen...</td>\n",
       "      <td>[it, is, not, like, we, lack, evidence, of, an...</td>\n",
       "      <td>[(it, n), (is, v), (not, r), (like, n), (we, n...</td>\n",
       "      <td>it be not like we lack evidence of anthropogen...</td>\n",
       "      <td>11</td>\n",
       "      <td>it be not like we lack evidence of anthropogenic</td>\n",
       "      <td>like lack evidence anthropogenic</td>\n",
       "    </tr>\n",
       "    <tr>\n",
       "      <th>2</th>\n",
       "      <td>2</td>\n",
       "      <td>rt @rawstory: researchers say we have three ye...</td>\n",
       "      <td>698562</td>\n",
       "      <td>[rawstory]</td>\n",
       "      <td>[https://t.co/wdt0kdur2f, https://t.co/z0anpt]</td>\n",
       "      <td>researchers say we have three years to act o...</td>\n",
       "      <td>[researchers, say, we, have, three, years, to,...</td>\n",
       "      <td>[(researchers, n), (say, v), (we, n), (have, v...</td>\n",
       "      <td>researcher say we have three year to act on cl...</td>\n",
       "      <td>15</td>\n",
       "      <td>researcher say we have three year to act on be...</td>\n",
       "      <td>researcher say three year act late</td>\n",
       "    </tr>\n",
       "    <tr>\n",
       "      <th>3</th>\n",
       "      <td>1</td>\n",
       "      <td>#todayinmaker# wired : 2016 was a pivotal year...</td>\n",
       "      <td>573736</td>\n",
       "      <td>[]</td>\n",
       "      <td>[https://t.co/44wotxtlcd]</td>\n",
       "      <td>odayinmaker wired was a pivotal year in the wa...</td>\n",
       "      <td>[odayinmaker, wired, was, a, pivotal, year, in...</td>\n",
       "      <td>[(odayinmaker, n), (wired, v), (was, v), (a, n...</td>\n",
       "      <td>odayinmaker wire be a pivotal year in the war ...</td>\n",
       "      <td>12</td>\n",
       "      <td>odayinmaker wire be pivotal year in the war on</td>\n",
       "      <td>odayinmaker wire pivotal year war</td>\n",
       "    </tr>\n",
       "    <tr>\n",
       "      <th>4</th>\n",
       "      <td>1</td>\n",
       "      <td>rt @soynoviodetodas: it's 2016, and a racist, ...</td>\n",
       "      <td>466954</td>\n",
       "      <td>[soynoviodetodas]</td>\n",
       "      <td>[]</td>\n",
       "      <td>it is and a racist sexist climate change den...</td>\n",
       "      <td>[it, is, and, a, racist, sexist, climate, chan...</td>\n",
       "      <td>[(it, n), (is, v), (and, n), (a, n), (racist, ...</td>\n",
       "      <td>it be and a racist sexist climate change deny ...</td>\n",
       "      <td>16</td>\n",
       "      <td>it be and racist sexist deny bigot be lead in ...</td>\n",
       "      <td>racist sexist deny bigot lead poll electionnigh</td>\n",
       "    </tr>\n",
       "    <tr>\n",
       "      <th>...</th>\n",
       "      <td>...</td>\n",
       "      <td>...</td>\n",
       "      <td>...</td>\n",
       "      <td>...</td>\n",
       "      <td>...</td>\n",
       "      <td>...</td>\n",
       "      <td>...</td>\n",
       "      <td>...</td>\n",
       "      <td>...</td>\n",
       "      <td>...</td>\n",
       "      <td>...</td>\n",
       "      <td>...</td>\n",
       "    </tr>\n",
       "    <tr>\n",
       "      <th>15814</th>\n",
       "      <td>1</td>\n",
       "      <td>rt @ezlusztig: they took down the material on ...</td>\n",
       "      <td>22001</td>\n",
       "      <td>[ezlusztig]</td>\n",
       "      <td>[]</td>\n",
       "      <td>they took down the material on global warmin...</td>\n",
       "      <td>[they, took, down, the, material, on, global, ...</td>\n",
       "      <td>[(they, n), (took, v), (down, r), (the, n), (m...</td>\n",
       "      <td>they take down the material on global warm lgb...</td>\n",
       "      <td>20</td>\n",
       "      <td>they take down the material on warm lgbt right...</td>\n",
       "      <td>take material warm lgbt right health care they...</td>\n",
       "    </tr>\n",
       "    <tr>\n",
       "      <th>15815</th>\n",
       "      <td>2</td>\n",
       "      <td>rt @washingtonpost: how climate change could b...</td>\n",
       "      <td>17856</td>\n",
       "      <td>[washingtonpost]</td>\n",
       "      <td>[https://t.co/rpfgvb2plq]</td>\n",
       "      <td>how climate change could be breaking up a mi...</td>\n",
       "      <td>[how, climate, change, could, be, breaking, up...</td>\n",
       "      <td>[(how, n), (climate, a), (change, n), (could, ...</td>\n",
       "      <td>how climate change could be break up a million...</td>\n",
       "      <td>12</td>\n",
       "      <td>how could be break up million year old relatio...</td>\n",
       "      <td>could break million year old relationship</td>\n",
       "    </tr>\n",
       "    <tr>\n",
       "      <th>15816</th>\n",
       "      <td>0</td>\n",
       "      <td>notiven: rt: nytimesworld :what does trump act...</td>\n",
       "      <td>384248</td>\n",
       "      <td>[]</td>\n",
       "      <td>[https://t.co/0mp2]</td>\n",
       "      <td>notiven rt nytimesworld what does trump actual...</td>\n",
       "      <td>[notiven, rt, nytimesworld, what, does, trump,...</td>\n",
       "      <td>[(notiven, r), (rt, v), (nytimesworld, r), (wh...</td>\n",
       "      <td>notiven rt nytimesworld what do trump actually...</td>\n",
       "      <td>17</td>\n",
       "      <td>notiven nytimesworld what do actually believe ...</td>\n",
       "      <td>notiven nytimesworld actually believe rick per...</td>\n",
       "    </tr>\n",
       "    <tr>\n",
       "      <th>15817</th>\n",
       "      <td>-1</td>\n",
       "      <td>rt @sara8smiles: hey liberals the climate chan...</td>\n",
       "      <td>819732</td>\n",
       "      <td>[sara8smiles]</td>\n",
       "      <td>[]</td>\n",
       "      <td>hey liberals the climate change crap is a ho...</td>\n",
       "      <td>[hey, liberals, the, climate, change, crap, is...</td>\n",
       "      <td>[(hey, n), (liberals, v), (the, n), (climate, ...</td>\n",
       "      <td>hey liberals the climate change crap be a hoax...</td>\n",
       "      <td>19</td>\n",
       "      <td>hey liberals the crap be hoax that tie to agen...</td>\n",
       "      <td>hey liberals crap hoax tie agenda byaaa</td>\n",
       "    </tr>\n",
       "    <tr>\n",
       "      <th>15818</th>\n",
       "      <td>0</td>\n",
       "      <td>rt @chet_cannon: .@kurteichenwald's 'climate c...</td>\n",
       "      <td>806319</td>\n",
       "      <td>[chet_cannon, kurteichenwald]</td>\n",
       "      <td>[https://t.co/lp7uufcxdq]</td>\n",
       "      <td>cannon  climate change equation in screenshots</td>\n",
       "      <td>[cannon, climate, change, equation, in, screen...</td>\n",
       "      <td>[(cannon, n), (climate, n), (change, n), (equa...</td>\n",
       "      <td>cannon climate change equation in screenshots</td>\n",
       "      <td>6</td>\n",
       "      <td>cannon equation in screenshots</td>\n",
       "      <td>cannon equation screenshots</td>\n",
       "    </tr>\n",
       "  </tbody>\n",
       "</table>\n",
       "<p>15819 rows × 12 columns</p>\n",
       "</div>"
      ],
      "text/plain": [
       "       sentiment  ...                                               word\n",
       "0              1  ...  polyscimajor epa chief doesnt think carbon dio...\n",
       "1              1  ...                   like lack evidence anthropogenic\n",
       "2              2  ...                 researcher say three year act late\n",
       "3              1  ...                  odayinmaker wire pivotal year war\n",
       "4              1  ...    racist sexist deny bigot lead poll electionnigh\n",
       "...          ...  ...                                                ...\n",
       "15814          1  ...  take material warm lgbt right health care they...\n",
       "15815          2  ...          could break million year old relationship\n",
       "15816          0  ...  notiven nytimesworld actually believe rick per...\n",
       "15817         -1  ...            hey liberals crap hoax tie agenda byaaa\n",
       "15818          0  ...                        cannon equation screenshots\n",
       "\n",
       "[15819 rows x 12 columns]"
      ]
     },
     "execution_count": 90,
     "metadata": {},
     "output_type": "execute_result"
    }
   ],
   "source": [
    "# converting the column clean_message in the dataframe into a list\n",
    "texts = df_train['clean_message'].tolist()\n",
    "\n",
    "# tagging the tweets\n",
    "tagged_texts = pos_tag_sents(map(word_tokenize, texts))\n",
    "\n",
    "df_train['POS'] = tagged_texts\n",
    "\n",
    "\"\"\" this function indentifies the parts of speech Noun, Adjective, Verb and Adverb \"\"\"\n",
    "def get_wordnet_pos(tag):\n",
    "    \n",
    "    if tag.startswith('J'):\n",
    "        return wordnet.ADJ\n",
    "\n",
    "    elif tag.startswith('V'):\n",
    "        return wordnet.VERB\n",
    "\n",
    "    elif tag.startswith('N'):\n",
    "        return wordnet.NOUN\n",
    "\n",
    "    elif tag.startswith('R'):\n",
    "        return wordnet.ADV\n",
    "    \n",
    "    else:\n",
    "        return wordnet.NOUN\n",
    "\n",
    "# transforming the data with the function we created\n",
    "df_train['POS'] = df_train['POS'].apply(lambda x: [(word, get_wordnet_pos(pos_tag)) for (word, pos_tag) in x])\n",
    "\n",
    "\n",
    "\n",
    "# Initialising our lemmatizer\n",
    "lemmatizer = WordNetLemmatizer()\n",
    "\n",
    "# applying lemmatization to the POS column\n",
    "df_train['lemmatized'] = df_train['POS'].apply(lambda x: [lemmatizer.lemmatize(word, tag) for word, tag in x])\n",
    "\n",
    "# joining the tokenised words after they have been lemmatized\n",
    "df_train['lemmatized'] = [' '.join(map(str, l)) for l in df_train['lemmatized']]\n",
    "\n",
    "df_train\n"
   ]
  },
  {
   "cell_type": "markdown",
   "id": "a2355ff4",
   "metadata": {
    "id": "a2355ff4"
   },
   "source": [
    "<a id=\"EDA\"></a>\n",
    "## 4. Exploratory Data Analysis"
   ]
  },
  {
   "cell_type": "markdown",
   "id": "12auUCT1tLOu",
   "metadata": {
    "id": "12auUCT1tLOu"
   },
   "source": [
    "During the exploratory data analysis process we will be looking into gaining ana accurate and deep understanding of the dataset. We will achieve this by performing the following processes:\n",
    "\n",
    "- Sentiment distribution\n",
    "- Tweet length distribution\n",
    "- Hashtag analysis\n",
    "- Frequently words from each sentiment\n",
    "- Other frequent words without common words\n",
    "- Mentions analysis\n",
    "- Representation of mentions on wordcloud"
   ]
  },
  {
   "cell_type": "markdown",
   "id": "c2c935f7",
   "metadata": {
    "id": "c2c935f7"
   },
   "source": [
    "### Sentiment Distribution"
   ]
  },
  {
   "cell_type": "markdown",
   "id": "9mA9TwqAB_cx",
   "metadata": {
    "id": "9mA9TwqAB_cx"
   },
   "source": [
    "Based on the plot below we observe that sentiment distribution is disproportional with the pro climate change class taking up a large portion of the data."
   ]
  },
  {
   "cell_type": "code",
   "execution_count": null,
   "id": "be839591",
   "metadata": {
    "colab": {
     "base_uri": "https://localhost:8080/",
     "height": 542
    },
    "id": "be839591",
    "outputId": "80904ad7-92c6-421c-f369-c45beb93337a",
    "scrolled": false
   },
   "outputs": [
    {
     "data": {
      "text/html": [
       "<html>\n",
       "<head><meta charset=\"utf-8\" /></head>\n",
       "<body>\n",
       "    <div>\n",
       "            <script src=\"https://cdnjs.cloudflare.com/ajax/libs/mathjax/2.7.5/MathJax.js?config=TeX-AMS-MML_SVG\"></script><script type=\"text/javascript\">if (window.MathJax) {MathJax.Hub.Config({SVG: {font: \"STIX-Web\"}});}</script>\n",
       "                <script type=\"text/javascript\">window.PlotlyConfig = {MathJaxConfig: 'local'};</script>\n",
       "        <script src=\"https://cdn.plot.ly/plotly-latest.min.js\"></script>    \n",
       "            <div id=\"55caa52f-34b5-4240-a76a-33a51218bd5c\" class=\"plotly-graph-div\" style=\"height:525px; width:100%;\"></div>\n",
       "            <script type=\"text/javascript\">\n",
       "                \n",
       "                    window.PLOTLYENV=window.PLOTLYENV || {};\n",
       "                    \n",
       "                if (document.getElementById(\"55caa52f-34b5-4240-a76a-33a51218bd5c\")) {\n",
       "                    Plotly.newPlot(\n",
       "                        '55caa52f-34b5-4240-a76a-33a51218bd5c',\n",
       "                        [{\"domain\": {\"x\": [0.0, 1.0], \"y\": [0.0, 1.0]}, \"hole\": 0.5, \"hoverlabel\": {\"namelength\": 0}, \"hovertemplate\": \"label=%{label}<br>value=%{value}\", \"labels\": [\"Pro\", \"News\", \"Neutral\", \"Anti\"], \"legendgroup\": \"\", \"name\": \"\", \"showlegend\": true, \"textinfo\": \"percent+label\", \"textposition\": \"inside\", \"type\": \"pie\", \"values\": [8530, 3640, 2353, 1296]}],\n",
       "                        {\"legend\": {\"tracegroupgap\": 0}, \"paper_bgcolor\": \"rgb(243,243,243)\", \"plot_bgcolor\": \"rgb(243,243,243)\", \"template\": {\"data\": {\"bar\": [{\"error_x\": {\"color\": \"#2a3f5f\"}, \"error_y\": {\"color\": \"#2a3f5f\"}, \"marker\": {\"line\": {\"color\": \"#E5ECF6\", \"width\": 0.5}}, \"type\": \"bar\"}], \"barpolar\": [{\"marker\": {\"line\": {\"color\": \"#E5ECF6\", \"width\": 0.5}}, \"type\": \"barpolar\"}], \"carpet\": [{\"aaxis\": {\"endlinecolor\": \"#2a3f5f\", \"gridcolor\": \"white\", \"linecolor\": \"white\", \"minorgridcolor\": \"white\", \"startlinecolor\": \"#2a3f5f\"}, \"baxis\": {\"endlinecolor\": \"#2a3f5f\", \"gridcolor\": \"white\", \"linecolor\": \"white\", \"minorgridcolor\": \"white\", \"startlinecolor\": \"#2a3f5f\"}, \"type\": \"carpet\"}], \"choropleth\": [{\"colorbar\": {\"outlinewidth\": 0, \"ticks\": \"\"}, \"type\": \"choropleth\"}], \"contour\": [{\"colorbar\": {\"outlinewidth\": 0, \"ticks\": \"\"}, \"colorscale\": [[0.0, \"#0d0887\"], [0.1111111111111111, \"#46039f\"], [0.2222222222222222, \"#7201a8\"], [0.3333333333333333, \"#9c179e\"], [0.4444444444444444, \"#bd3786\"], [0.5555555555555556, \"#d8576b\"], [0.6666666666666666, \"#ed7953\"], [0.7777777777777778, \"#fb9f3a\"], [0.8888888888888888, \"#fdca26\"], [1.0, \"#f0f921\"]], \"type\": \"contour\"}], \"contourcarpet\": [{\"colorbar\": {\"outlinewidth\": 0, \"ticks\": \"\"}, \"type\": \"contourcarpet\"}], \"heatmap\": [{\"colorbar\": {\"outlinewidth\": 0, \"ticks\": \"\"}, \"colorscale\": [[0.0, \"#0d0887\"], [0.1111111111111111, \"#46039f\"], [0.2222222222222222, \"#7201a8\"], [0.3333333333333333, \"#9c179e\"], [0.4444444444444444, \"#bd3786\"], [0.5555555555555556, \"#d8576b\"], [0.6666666666666666, \"#ed7953\"], [0.7777777777777778, \"#fb9f3a\"], [0.8888888888888888, \"#fdca26\"], [1.0, \"#f0f921\"]], \"type\": \"heatmap\"}], \"heatmapgl\": [{\"colorbar\": {\"outlinewidth\": 0, \"ticks\": \"\"}, \"colorscale\": [[0.0, \"#0d0887\"], [0.1111111111111111, \"#46039f\"], [0.2222222222222222, \"#7201a8\"], [0.3333333333333333, \"#9c179e\"], [0.4444444444444444, \"#bd3786\"], [0.5555555555555556, \"#d8576b\"], [0.6666666666666666, \"#ed7953\"], [0.7777777777777778, \"#fb9f3a\"], [0.8888888888888888, \"#fdca26\"], [1.0, \"#f0f921\"]], \"type\": \"heatmapgl\"}], \"histogram\": [{\"marker\": {\"colorbar\": {\"outlinewidth\": 0, \"ticks\": \"\"}}, \"type\": \"histogram\"}], \"histogram2d\": [{\"colorbar\": {\"outlinewidth\": 0, \"ticks\": \"\"}, \"colorscale\": [[0.0, \"#0d0887\"], [0.1111111111111111, \"#46039f\"], [0.2222222222222222, \"#7201a8\"], [0.3333333333333333, \"#9c179e\"], [0.4444444444444444, \"#bd3786\"], [0.5555555555555556, \"#d8576b\"], [0.6666666666666666, \"#ed7953\"], [0.7777777777777778, \"#fb9f3a\"], [0.8888888888888888, \"#fdca26\"], [1.0, \"#f0f921\"]], \"type\": \"histogram2d\"}], \"histogram2dcontour\": [{\"colorbar\": {\"outlinewidth\": 0, \"ticks\": \"\"}, \"colorscale\": [[0.0, \"#0d0887\"], [0.1111111111111111, \"#46039f\"], [0.2222222222222222, \"#7201a8\"], [0.3333333333333333, \"#9c179e\"], [0.4444444444444444, \"#bd3786\"], [0.5555555555555556, \"#d8576b\"], [0.6666666666666666, \"#ed7953\"], [0.7777777777777778, \"#fb9f3a\"], [0.8888888888888888, \"#fdca26\"], [1.0, \"#f0f921\"]], \"type\": \"histogram2dcontour\"}], \"mesh3d\": [{\"colorbar\": {\"outlinewidth\": 0, \"ticks\": \"\"}, \"type\": \"mesh3d\"}], \"parcoords\": [{\"line\": {\"colorbar\": {\"outlinewidth\": 0, \"ticks\": \"\"}}, \"type\": \"parcoords\"}], \"pie\": [{\"automargin\": true, \"type\": \"pie\"}], \"scatter\": [{\"marker\": {\"colorbar\": {\"outlinewidth\": 0, \"ticks\": \"\"}}, \"type\": \"scatter\"}], \"scatter3d\": [{\"line\": {\"colorbar\": {\"outlinewidth\": 0, \"ticks\": \"\"}}, \"marker\": {\"colorbar\": {\"outlinewidth\": 0, \"ticks\": \"\"}}, \"type\": \"scatter3d\"}], \"scattercarpet\": [{\"marker\": {\"colorbar\": {\"outlinewidth\": 0, \"ticks\": \"\"}}, \"type\": \"scattercarpet\"}], \"scattergeo\": [{\"marker\": {\"colorbar\": {\"outlinewidth\": 0, \"ticks\": \"\"}}, \"type\": \"scattergeo\"}], \"scattergl\": [{\"marker\": {\"colorbar\": {\"outlinewidth\": 0, \"ticks\": \"\"}}, \"type\": \"scattergl\"}], \"scattermapbox\": [{\"marker\": {\"colorbar\": {\"outlinewidth\": 0, \"ticks\": \"\"}}, \"type\": \"scattermapbox\"}], \"scatterpolar\": [{\"marker\": {\"colorbar\": {\"outlinewidth\": 0, \"ticks\": \"\"}}, \"type\": \"scatterpolar\"}], \"scatterpolargl\": [{\"marker\": {\"colorbar\": {\"outlinewidth\": 0, \"ticks\": \"\"}}, \"type\": \"scatterpolargl\"}], \"scatterternary\": [{\"marker\": {\"colorbar\": {\"outlinewidth\": 0, \"ticks\": \"\"}}, \"type\": \"scatterternary\"}], \"surface\": [{\"colorbar\": {\"outlinewidth\": 0, \"ticks\": \"\"}, \"colorscale\": [[0.0, \"#0d0887\"], [0.1111111111111111, \"#46039f\"], [0.2222222222222222, \"#7201a8\"], [0.3333333333333333, \"#9c179e\"], [0.4444444444444444, \"#bd3786\"], [0.5555555555555556, \"#d8576b\"], [0.6666666666666666, \"#ed7953\"], [0.7777777777777778, \"#fb9f3a\"], [0.8888888888888888, \"#fdca26\"], [1.0, \"#f0f921\"]], \"type\": \"surface\"}], \"table\": [{\"cells\": {\"fill\": {\"color\": \"#EBF0F8\"}, \"line\": {\"color\": \"white\"}}, \"header\": {\"fill\": {\"color\": \"#C8D4E3\"}, \"line\": {\"color\": \"white\"}}, \"type\": \"table\"}]}, \"layout\": {\"annotationdefaults\": {\"arrowcolor\": \"#2a3f5f\", \"arrowhead\": 0, \"arrowwidth\": 1}, \"coloraxis\": {\"colorbar\": {\"outlinewidth\": 0, \"ticks\": \"\"}}, \"colorscale\": {\"diverging\": [[0, \"#8e0152\"], [0.1, \"#c51b7d\"], [0.2, \"#de77ae\"], [0.3, \"#f1b6da\"], [0.4, \"#fde0ef\"], [0.5, \"#f7f7f7\"], [0.6, \"#e6f5d0\"], [0.7, \"#b8e186\"], [0.8, \"#7fbc41\"], [0.9, \"#4d9221\"], [1, \"#276419\"]], \"sequential\": [[0.0, \"#0d0887\"], [0.1111111111111111, \"#46039f\"], [0.2222222222222222, \"#7201a8\"], [0.3333333333333333, \"#9c179e\"], [0.4444444444444444, \"#bd3786\"], [0.5555555555555556, \"#d8576b\"], [0.6666666666666666, \"#ed7953\"], [0.7777777777777778, \"#fb9f3a\"], [0.8888888888888888, \"#fdca26\"], [1.0, \"#f0f921\"]], \"sequentialminus\": [[0.0, \"#0d0887\"], [0.1111111111111111, \"#46039f\"], [0.2222222222222222, \"#7201a8\"], [0.3333333333333333, \"#9c179e\"], [0.4444444444444444, \"#bd3786\"], [0.5555555555555556, \"#d8576b\"], [0.6666666666666666, \"#ed7953\"], [0.7777777777777778, \"#fb9f3a\"], [0.8888888888888888, \"#fdca26\"], [1.0, \"#f0f921\"]]}, \"colorway\": [\"#636efa\", \"#EF553B\", \"#00cc96\", \"#ab63fa\", \"#FFA15A\", \"#19d3f3\", \"#FF6692\", \"#B6E880\", \"#FF97FF\", \"#FECB52\"], \"font\": {\"color\": \"#2a3f5f\"}, \"geo\": {\"bgcolor\": \"white\", \"lakecolor\": \"white\", \"landcolor\": \"#E5ECF6\", \"showlakes\": true, \"showland\": true, \"subunitcolor\": \"white\"}, \"hoverlabel\": {\"align\": \"left\"}, \"hovermode\": \"closest\", \"mapbox\": {\"style\": \"light\"}, \"paper_bgcolor\": \"white\", \"plot_bgcolor\": \"#E5ECF6\", \"polar\": {\"angularaxis\": {\"gridcolor\": \"white\", \"linecolor\": \"white\", \"ticks\": \"\"}, \"bgcolor\": \"#E5ECF6\", \"radialaxis\": {\"gridcolor\": \"white\", \"linecolor\": \"white\", \"ticks\": \"\"}}, \"scene\": {\"xaxis\": {\"backgroundcolor\": \"#E5ECF6\", \"gridcolor\": \"white\", \"gridwidth\": 2, \"linecolor\": \"white\", \"showbackground\": true, \"ticks\": \"\", \"zerolinecolor\": \"white\"}, \"yaxis\": {\"backgroundcolor\": \"#E5ECF6\", \"gridcolor\": \"white\", \"gridwidth\": 2, \"linecolor\": \"white\", \"showbackground\": true, \"ticks\": \"\", \"zerolinecolor\": \"white\"}, \"zaxis\": {\"backgroundcolor\": \"#E5ECF6\", \"gridcolor\": \"white\", \"gridwidth\": 2, \"linecolor\": \"white\", \"showbackground\": true, \"ticks\": \"\", \"zerolinecolor\": \"white\"}}, \"shapedefaults\": {\"line\": {\"color\": \"#2a3f5f\"}}, \"ternary\": {\"aaxis\": {\"gridcolor\": \"white\", \"linecolor\": \"white\", \"ticks\": \"\"}, \"baxis\": {\"gridcolor\": \"white\", \"linecolor\": \"white\", \"ticks\": \"\"}, \"bgcolor\": \"#E5ECF6\", \"caxis\": {\"gridcolor\": \"white\", \"linecolor\": \"white\", \"ticks\": \"\"}}, \"title\": {\"x\": 0.05}, \"xaxis\": {\"automargin\": true, \"gridcolor\": \"white\", \"linecolor\": \"white\", \"ticks\": \"\", \"title\": {\"standoff\": 15}, \"zerolinecolor\": \"white\", \"zerolinewidth\": 2}, \"yaxis\": {\"automargin\": true, \"gridcolor\": \"white\", \"linecolor\": \"white\", \"ticks\": \"\", \"title\": {\"standoff\": 15}, \"zerolinecolor\": \"white\", \"zerolinewidth\": 2}}}, \"title\": {\"font\": {\"size\": 22}, \"text\": \"Sentiment distribution in data\"}},\n",
       "                        {\"responsive\": true}\n",
       "                    ).then(function(){\n",
       "                            \n",
       "var gd = document.getElementById('55caa52f-34b5-4240-a76a-33a51218bd5c');\n",
       "var x = new MutationObserver(function (mutations, observer) {{\n",
       "        var display = window.getComputedStyle(gd).display;\n",
       "        if (!display || display === 'none') {{\n",
       "            console.log([gd, 'removed!']);\n",
       "            Plotly.purge(gd);\n",
       "            observer.disconnect();\n",
       "        }}\n",
       "}});\n",
       "\n",
       "// Listen for the removal of the full notebook cells\n",
       "var notebookContainer = gd.closest('#notebook-container');\n",
       "if (notebookContainer) {{\n",
       "    x.observe(notebookContainer, {childList: true});\n",
       "}}\n",
       "\n",
       "// Listen for the clearing of the current output cell\n",
       "var outputEl = gd.closest('.output');\n",
       "if (outputEl) {{\n",
       "    x.observe(outputEl, {childList: true});\n",
       "}}\n",
       "\n",
       "                        })\n",
       "                };\n",
       "                \n",
       "            </script>\n",
       "        </div>\n",
       "</body>\n",
       "</html>"
      ]
     },
     "metadata": {},
     "output_type": "display_data"
    }
   ],
   "source": [
    "# labels\n",
    "lab =[\"Pro\",\"News\",\"Neutral\",\"Anti\"]\n",
    "# values\n",
    "val = df_train.sentiment.value_counts().values.tolist()\n",
    "# create pie chart\n",
    "fig = px.pie(df_train, \n",
    "             values = val,\n",
    "             names = lab,\n",
    "             title = \"Sentiment distribution in data\",\n",
    "             hole = .5\n",
    "            )\n",
    "# update traces\n",
    "fig.update_traces(\n",
    "            textposition = \"inside\",\n",
    "            textinfo = \"percent +label\")\n",
    "# update layout\n",
    "fig.update_layout(\n",
    "    title_font_size = 22,\n",
    "    plot_bgcolor = \"rgb(243,243,243)\",\n",
    "    paper_bgcolor= \"rgb(243,243,243)\")"
   ]
  },
  {
   "cell_type": "markdown",
   "id": "9a982e30",
   "metadata": {
    "id": "9a982e30"
   },
   "source": [
    "### Tweet length distribution"
   ]
  },
  {
   "cell_type": "markdown",
   "id": "P3zM5UTkCWdK",
   "metadata": {
    "id": "P3zM5UTkCWdK"
   },
   "source": [
    "#### Length of characters in each tweet per sentiment boxplots\n",
    "\n",
    "From the boxplots below we observed that tweets that fall under the news climate change class have the lowest length of characters per tweet, followed by the pro climate change class that has a cluster of outliers below the lower whisker. The neutral climate change class have the highest length of characters per tweet."
   ]
  },
  {
   "cell_type": "code",
   "execution_count": null,
   "id": "f10da753",
   "metadata": {
    "id": "f10da753"
   },
   "outputs": [],
   "source": [
    "# Finding Number of Words per Tweet from the lemmatized words\n",
    "df_train[\"num_words\"] = df_train[\"lemmatized\"].apply(lambda x: len(str(x).split()))\n"
   ]
  },
  {
   "cell_type": "code",
   "execution_count": null,
   "id": "8238ae2e",
   "metadata": {
    "colab": {
     "base_uri": "https://localhost:8080/",
     "height": 410
    },
    "id": "8238ae2e",
    "outputId": "65bd4453-3320-47ba-bd6c-d0c207ef1b75"
   },
   "outputs": [
    {
     "data": {
      "image/png": "[encoded data removed]",
      "text/plain": [
       "<Figure size 720x432 with 1 Axes>"
      ]
     },
     "metadata": {},
     "output_type": "display_data"
    }
   ],
   "source": [
    "# Boxplot for the number of characters in each tweet\n",
    "fig_dims = (10, 6)\n",
    "fig, ax = plt.subplots(figsize=fig_dims)\n",
    "\n",
    "# plotting boxplot for the length of how long each tweet is per sentiment \n",
    "sns.boxplot(x=df_train['sentiment'], y=df_train['lemmatized'].str.len(), data=df_train, palette=(\"rainbow\"), ax=ax)\n",
    "\n",
    "# title of the boxplot\n",
    "plt.title('Length of characters in each tweet per sentiment')\n",
    "\n",
    "# showing the plot\n",
    "plt.show()"
   ]
  },
  {
   "cell_type": "markdown",
   "id": "GY2VB_mhCz6c",
   "metadata": {
    "id": "GY2VB_mhCz6c"
   },
   "source": [
    "#### Number of words in each tweet for each sentiment boxplots\n",
    "\n",
    "From the boxplots below we observed that tweets that fall under the news climate change class have the lowest number of words per tweet and the tweets are more compact compared to other classes. The neutral climate change class have generally the highest number of words per tweet."
   ]
  },
  {
   "cell_type": "code",
   "execution_count": null,
   "id": "a1ac63a1",
   "metadata": {
    "colab": {
     "base_uri": "https://localhost:8080/",
     "height": 410
    },
    "id": "a1ac63a1",
    "outputId": "2ed04829-644c-40f8-b979-bb46b3ff96d0"
   },
   "outputs": [
    {
     "data": {
      "image/png": "[encoded data removed]",
      "text/plain": [
       "<Figure size 720x432 with 1 Axes>"
      ]
     },
     "metadata": {},
     "output_type": "display_data"
    }
   ],
   "source": [
    "#Boxplot for number of words in each tweet\n",
    "fig_dims = (10, 6)\n",
    "fig, ax = plt.subplots(figsize=fig_dims)\n",
    "\n",
    "# plotting boxplot for the length of how long each tweet is per sentiment \n",
    "sns.boxplot(x='sentiment', y='num_words', data=df_train, palette=(\"hls\"))\n",
    "\n",
    "# title of the boxplot\n",
    "plt.title('Number of words in each tweet for each sentiment')\n",
    "\n",
    "# showing the plot\n",
    "plt.show()"
   ]
  },
  {
   "cell_type": "markdown",
   "id": "a23a89eb",
   "metadata": {
    "id": "a23a89eb"
   },
   "source": [
    "### Hashtag analysis"
   ]
  },
  {
   "cell_type": "markdown",
   "id": "3e37e52b",
   "metadata": {
    "id": "3e37e52b"
   },
   "source": [
    "### Frequent words from each sentiment"
   ]
  },
  {
   "cell_type": "markdown",
   "id": "104d31de",
   "metadata": {
    "id": "104d31de"
   },
   "source": [
    "### Other frequent words without common words"
   ]
  },
  {
   "cell_type": "code",
   "execution_count": null,
   "id": "01622c2c",
   "metadata": {
    "colab": {
     "base_uri": "https://localhost:8080/"
    },
    "id": "01622c2c",
    "outputId": "7cd7578f-3336-41ac-c933-680b00c1d77e"
   },
   "outputs": [
    {
     "data": {
      "text/plain": [
       "Text(0.5, 1.0, 'WORD FREQUENCY')"
      ]
     },
     "execution_count": 102,
     "metadata": {},
     "output_type": "execute_result"
    },
    {
     "data": {
      "image/png": "[encoded data removed]",
      "text/plain": [
       "<Figure size 648x648 with 1 Axes>"
      ]
     },
     "metadata": {},
     "output_type": "display_data"
    }
   ],
   "source": [
    "# Removing words that has no relevance to the context (https, RT, CO)\n",
    "df_train['word_cloud'] = df_train['lemmatized'].str.replace('http\\S+|www.\\S+', '', case=False)\n",
    "\n",
    "# Removing common words which appear in all sentiments\n",
    "remove_words = ['climate', 'change', 'rt', 'global', 'warming', 'donald', 'trump','amp', 'realDonaldTrump', 's','aaa', 'a']\n",
    "\n",
    "# Function to remove common words listed above\n",
    "def remove_common_words(message):\n",
    "    pattern = re.compile(r'\\b(' + r'|'.join(remove_words) + r')\\b\\s*')\n",
    "    message = pattern.sub('', message)\n",
    "    return message\n",
    "\n",
    "df_train['word_cloud'] = df_train['word_cloud'].apply(remove_common_words)\n",
    "\n",
    "\n",
    "# Adding select words to stop words for better analysis on important word frequency\n",
    "stop = set(stopwords.words('english')) \n",
    "stop_words = [\"via\", \"co\", \"I\",'We','The'] + list(stop)\n",
    "\n",
    "# Removing stop words from the tweets\n",
    "df_train['word'] = df_train['word_cloud'].apply(lambda x: ' '.join([item for item in x.split() if item not in stop_words]))\n",
    "df_train['word'] = df_train['word'].str.replace(r'[^\\w\\s]+', '')\n",
    "\n",
    "# Separating the strings to a list of words\n",
    "word_list = [word for line in df_train['word'] for word in line.split()]\n",
    "\n",
    "# Creating a word frequency counter\n",
    "sns.set(style=\"darkgrid\")\n",
    "counts = Counter(word_list).most_common(15)\n",
    "counts_df = pd.DataFrame(counts)\n",
    "counts_df\n",
    "counts_df.columns = ['word', 'frequency']\n",
    "\n",
    "# Creating a word frequency plot\n",
    "fig, ax = plt.subplots(figsize = (9, 9))\n",
    "ax = sns.barplot(y=\"word\", x='frequency', ax = ax, data=counts_df, palette=\"hls\")\n",
    "plt.title('WORD FREQUENCY')\n",
    "#plt.savefig('wordcount_bar.png')\n"
   ]
  },
  {
   "cell_type": "markdown",
   "id": "lmmRnDEApln0",
   "metadata": {
    "id": "lmmRnDEApln0"
   },
   "source": [
    "#### Observations\n",
    "​\n",
    "- The words **believe, warm, world** and **real** are words that will most likely be used by the pro climate chage class to express their beliefs and reality of climate change. There is also EPA (United States Environmental Protection Agency), whose mission is to protect humans and  environment health.This brings us to the conclusion that the top frequent words are more aligned with the the pro climate change class"
   ]
  },
  {
   "cell_type": "markdown",
   "id": "1f3fbbb9",
   "metadata": {
    "id": "1f3fbbb9"
   },
   "source": [
    "### Mentions analysis"
   ]
  },
  {
   "cell_type": "markdown",
   "id": "f5e921ad",
   "metadata": {
    "id": "f5e921ad"
   },
   "source": [
    "###  Representations of mentions on a wordclouds"
   ]
  },
  {
   "cell_type": "markdown",
   "id": "fe277226",
   "metadata": {
    "id": "fe277226"
   },
   "source": [
    "<a id=\"model\"></a>\n",
    "## 5. Model Building"
   ]
  },
  {
   "cell_type": "markdown",
   "id": "VKvvydSY3Olk",
   "metadata": {
    "id": "VKvvydSY3Olk"
   },
   "source": [
    "The process of training an ML model involves providing an ML algorithm (that is, the learning algorithm) with training data to learn from. The term ML model refers to the model artifact that is created by the training process.\n",
    "\n",
    "The training data must contain the correct answer, which is known as a target or target attribute. The learning algorithm finds patterns in the training data that map the input data attributes to the target (the answer that you want to predict), and it outputs an ML model that captures these patterns.\n",
    "We train different models on the training data."
   ]
  },
  {
   "cell_type": "code",
   "execution_count": null,
   "id": "6958d2fd",
   "metadata": {
    "id": "6958d2fd"
   },
   "outputs": [],
   "source": [
    "# extract data for training and validation\n",
    "\n",
    "X = df_train.clean_message.values # predictor variable\n",
    "\n",
    "\n",
    "y = df_train.sentiment.values # target variable"
   ]
  },
  {
   "cell_type": "markdown",
   "id": "_MVDL6Nq3Tmq",
   "metadata": {
    "id": "_MVDL6Nq3Tmq"
   },
   "source": [
    "Data is randomly split into training and validation data sets. 75% is for training the model and 25% is reserved for validation. "
   ]
  },
  {
   "cell_type": "markdown",
   "id": "0Yct4kPNIf2o",
   "metadata": {
    "id": "0Yct4kPNIf2o"
   },
   "source": [
    "- **The training** set is a subset of the dataset to build predictive models.\n",
    "\n",
    "- **The validation** set is a subset of the dataset to assess the performance of the model built in the training phase. It provides a test platform for fine-tuning model’s parameters and selecting the best-performing model.\n",
    "\n",
    "- **Test** set or unseen examples is a subset of the dataset to assess the likely future performance of a model. If a model fit to the training set much better than it fits the test set, overfitting is probably the cause."
   ]
  },
  {
   "cell_type": "code",
   "execution_count": null,
   "id": "89a6a283",
   "metadata": {
    "id": "89a6a283"
   },
   "outputs": [],
   "source": [
    "# split data for training and validation\n",
    "\n",
    "x_train, x_test, y_train, y_test = train_test_split(X,\n",
    "                                                    y, \n",
    "                                                   random_state = 42,\n",
    "                                                   test_size = 0.25,\n",
    "                                                   shuffle = True)"
   ]
  },
  {
   "cell_type": "markdown",
   "id": "tZPcZaPDyX_e",
   "metadata": {
    "id": "tZPcZaPDyX_e"
   },
   "source": [
    "Models are put in a pipeline with a vectorizer. Machine learning algorithms operate on a numeric feature space, expecting input as a two-dimensional array where rows are instances and columns are features. In order to perform machine learning on text, we need to transform our documents into vector representations such that we can apply numeric machine learning. This process is called feature extraction or more simply, vectorization, and is an essential first step toward language-aware analysis.\n",
    "\n",
    "- CountVectorizer creates a matrix in which each unique word is represented by a column of the matrix, and each text sample from the document is a row in the matrix. The value of each cell is nothing but the count of the word in that particular text sample.\n",
    "\n",
    "- Frequency–Inverse Document Frequency Vectorizer Transforms text to feature vectors that can be used as input to estimator. vocabulary_ Is a dictionary that converts each token (word) to feature index in the matrix, each unique token gets a feature index. "
   ]
  },
  {
   "cell_type": "markdown",
   "id": "OhzQnIeFpLfV",
   "metadata": {
    "id": "OhzQnIeFpLfV"
   },
   "source": [
    "**Logistic Regression**"
   ]
  },
  {
   "cell_type": "markdown",
   "id": "AXls7iAEmcpy",
   "metadata": {
    "id": "AXls7iAEmcpy"
   },
   "source": [
    "Logistic regression works by measuring the relationship between the target variable (what we want to predict) and one or more predictor. It does this by estimating the probabilities with the help of its underlying logistic function.\n",
    "\n",
    "Logistic regression is named after the function used at its heart, the logistic function. Statisticians initially used it to describe the properties of population growth. Sigmoid function and logit function are some variations of the logistic function. Logit function is the inverse of the standard logistic function.\n",
    "\n",
    "It's represented by the equation:  $${y}=\\frac{e^{b0 + b1*x}}{1 + e^{b0 + b1*x}}$$\n",
    "where :\n",
    "- ${y}$ = the output of the function\n",
    "-  $b_0$  = the bias or intercept\n",
    "-  $e$  = the base of the natural logarithms\n",
    "- $b_1$ = the coefficient for the input\n",
    "-$x$ = the predictor variable\n",
    "\n",
    "In our case, the outcome variable can have three or more possible unordered types –  types having no quantitative significance.\n"
   ]
  },
  {
   "cell_type": "code",
   "execution_count": null,
   "id": "a47496e8",
   "metadata": {
    "colab": {
     "base_uri": "https://localhost:8080/"
    },
    "id": "a47496e8",
    "outputId": "e056a10a-fb55-4055-b153-a2506fa1ec59"
   },
   "outputs": [
    {
     "data": {
      "text/plain": [
       "Pipeline(steps=[('vect',\n",
       "                 CountVectorizer(max_df=0.8, ngram_range=(1, 2),\n",
       "                                 stop_words='english')),\n",
       "                ('lr', LogisticRegression())])"
      ]
     },
     "execution_count": 108,
     "metadata": {},
     "output_type": "execute_result"
    }
   ],
   "source": [
    "# LogisticRegression and countVectorizer\n",
    "\n",
    "lr = Pipeline([('vect', CountVectorizer(stop_words = 'english',\n",
    "                                              max_df = 0.8, min_df = 1,\n",
    "                                          ngram_range = (1,2))),\n",
    "                         ('lr', LogisticRegression()),])\n",
    "\n",
    "# train model\n",
    "\n",
    "lr.fit(x_train,y_train)"
   ]
  },
  {
   "cell_type": "markdown",
   "id": "ffd-7-327yN0",
   "metadata": {
    "id": "ffd-7-327yN0"
   },
   "source": [
    "**Random Forest Classifier**"
   ]
  },
  {
   "cell_type": "markdown",
   "id": "xrd2XoHM74Nf",
   "metadata": {
    "id": "xrd2XoHM74Nf"
   },
   "source": [
    "The random forest is a classification algorithm consisting of many decisions trees. It uses bagging and feature randomness when building each individual tree to try to create an uncorrelated forest of trees whose prediction by committee is more accurate than that of any individual tree.\n",
    "\n",
    "A random forest is a meta estimator that fits a number of decision tree classifiers on various sub-samples of the dataset and uses averaging to improve the predictive accuracy and control over-fitting.\n"
   ]
  },
  {
   "cell_type": "code",
   "execution_count": null,
   "id": "o6XYWsbB68gU",
   "metadata": {
    "colab": {
     "base_uri": "https://localhost:8080/"
    },
    "id": "o6XYWsbB68gU",
    "outputId": "560605af-6dd6-4d73-e975-7e828f7f7c63"
   },
   "outputs": [
    {
     "name": "stderr",
     "output_type": "stream",
     "text": [
      "COMET ERROR: Failed to extract parameters from estimator\n"
     ]
    },
    {
     "data": {
      "text/plain": [
       "Pipeline(steps=[('vect',\n",
       "                 CountVectorizer(max_df=0.8, ngram_range=(1, 2),\n",
       "                                 stop_words='english')),\n",
       "                ('rfc', RandomForestClassifier())])"
      ]
     },
     "execution_count": 109,
     "metadata": {},
     "output_type": "execute_result"
    }
   ],
   "source": [
    "# Random Forest Classifier and CountVectorizer\n",
    "\n",
    "rfc = Pipeline([('vect', CountVectorizer(stop_words = 'english',\n",
    "                                              max_df = 0.8, min_df = 1,\n",
    "                                          ngram_range = (1,2))),\n",
    "                         ('rfc', RandomForestClassifier()),])\n",
    "\n",
    "# Train model\n",
    "\n",
    "rfc.fit(x_train, y_train)"
   ]
  },
  {
   "cell_type": "markdown",
   "id": "qZYA3ML59JIy",
   "metadata": {
    "id": "qZYA3ML59JIy"
   },
   "source": [
    "**Linear Support Vector Classifier**"
   ]
  },
  {
   "cell_type": "markdown",
   "id": "BVB3XyPR90RH",
   "metadata": {
    "id": "BVB3XyPR90RH"
   },
   "source": [
    "SVM or Support Vector Machine is a linear model for classification and regression problems. It can solve linear and non-linear problems and work well for many practical problems. The idea of SVM is simple: The algorithm creates a line or a hyperplane which separates the data into classes.\n",
    "\n",
    "According to the SVM algorithm we find the points closest to the line from both the classes.These points are called support vectors. Now, we compute the distance between the line and the support vectors. This distance is called the margin. Our goal is to maximize the margin. The hyperplane for which the margin is maximum is the optimal hyperplane."
   ]
  },
  {
   "cell_type": "code",
   "execution_count": null,
   "id": "3yiyyHAd9WT5",
   "metadata": {
    "colab": {
     "base_uri": "https://localhost:8080/"
    },
    "id": "3yiyyHAd9WT5",
    "outputId": "c9b0a200-ed84-4595-c01b-fe3d40464876"
   },
   "outputs": [
    {
     "data": {
      "text/plain": [
       "Pipeline(steps=[('tfidf', TfidfVectorizer(max_df=0.8, ngram_range=(1, 2))),\n",
       "                ('lsvc',\n",
       "                 LinearSVC(C=0.4, class_weight='balanced', max_iter=3000))])"
      ]
     },
     "execution_count": 110,
     "metadata": {},
     "output_type": "execute_result"
    }
   ],
   "source": [
    "# Linear Support Vector Classifier with TfidfVectorizer\n",
    "\n",
    "lsvc = Pipeline([('tfidf', TfidfVectorizer(max_df = 0.8, min_df = 1,\n",
    "                                          ngram_range = (1,2))), \n",
    "                 ('lsvc', LinearSVC(C = 0.4, class_weight='balanced',\n",
    "                                  max_iter = 3000))])\n",
    "\n",
    "# Train model\n",
    "lsvc.fit(x_train, y_train)"
   ]
  },
  {
   "cell_type": "markdown",
   "id": "kxHut2LoACha",
   "metadata": {
    "id": "kxHut2LoACha"
   },
   "source": [
    "**Stochastic Gradient Descent (SGD) Classifier**"
   ]
  },
  {
   "cell_type": "markdown",
   "id": "phXHhmkz_Vq0",
   "metadata": {
    "id": "phXHhmkz_Vq0"
   },
   "source": [
    "This estimator implements regularized linear models with stochastic gradient descent (SGD) learning: the gradient of the loss is estimated each sample at a time and the model is updated along the way with a decreasing strength schedule (aka learning rate). SGD allows minibatch (online/out-of-core) learning via the partial_fit method.\n",
    "This implementation works with data represented as dense or sparse arrays of floating point values for the features.\n",
    "\n",
    "The regularizer is a penalty added to the loss function that shrinks model parameters towards the zero vector using either the squared euclidean norm L2 or the absolute norm L1 or a combination of both (Elastic Net). If the parameter update crosses the 0.0 value because of the regularizer, the update is truncated to 0.0 to allow for learning sparse models and achieve online feature selection."
   ]
  },
  {
   "cell_type": "code",
   "execution_count": null,
   "id": "veppY1NFAYoq",
   "metadata": {
    "colab": {
     "base_uri": "https://localhost:8080/"
    },
    "id": "veppY1NFAYoq",
    "outputId": "f0dd053c-e3df-4c33-bdc1-7f4423c42bb6"
   },
   "outputs": [
    {
     "data": {
      "text/plain": [
       "Pipeline(steps=[('cv', CountVectorizer()), ('tfidf', TfidfTransformer()),\n",
       "                ('clf_svm', SGDClassifier(alpha=0.001, random_state=42))])"
      ]
     },
     "execution_count": 111,
     "metadata": {},
     "output_type": "execute_result"
    }
   ],
   "source": [
    "# SGDClassifier and CountVectorizer\n",
    "\n",
    "clf_svm = Pipeline([('cv', CountVectorizer()),\n",
    "                      ('tfidf', TfidfTransformer()),\n",
    "                     ('clf_svm', SGDClassifier(loss = 'hinge', penalty = 'l2',\n",
    "                        alpha = 1e-3, random_state = 42)),])\n",
    "\n",
    "# Train model\n",
    "\n",
    "clf_svm.fit(x_train, y_train)\n"
   ]
  },
  {
   "cell_type": "markdown",
   "id": "6e011abd",
   "metadata": {
    "id": "6e011abd"
   },
   "source": [
    "<a id=\"tuning\"></a>\n",
    "## 6. Model Performance Evaluation"
   ]
  },
  {
   "cell_type": "markdown",
   "id": "LEqWtz5qG4Ac",
   "metadata": {
    "id": "LEqWtz5qG4Ac"
   },
   "source": [
    "Evaluating a model is a very important step throughout the development of the model. It is important to note that we can evaluate models successfully. Especially, when working in a supervised learning environment as the actual values are available. These values help in order for the evaluation methods to function.\n",
    "\n",
    "Model Evaluation is an integral part of the model development process. It helps to find the best model that represents our data. It also focuses on how well the chosen model will work in the future.\n",
    "\n",
    "Evaluating model performance with the training data is not acceptable in data science. It can easily generate overoptimistically and overfit models. There are two methods of evaluating models in data science, Hold-Out and Cross-Validation. To avoid overfitting, both methods use a test set (not seen by the model) to evaluate model performance.\n",
    "\n",
    "We use the f-score to evaluate model performance. The F1-score or F1-measure is a measure of a model's accuracy in test data set. It is calculated from the precision and recall of the test data, where the precision is the number of true positive results divided by the number of all positive results, including those not identified correctly, and the recall is the number of true positive results divided by the number of all samples that should have been identified as positive."
   ]
  },
  {
   "cell_type": "code",
   "execution_count": null,
   "id": "ZgvD8L3_4FRh",
   "metadata": {
    "id": "ZgvD8L3_4FRh"
   },
   "outputs": [],
   "source": [
    "# train prediction\n",
    "\n",
    "yt_rfc = rfc.predict(x_train) # y_train for random forest classifier\n",
    "yt_lr = lr.predict(x_train) # y_train for logistic regression\n",
    "yt_SGD_clas = clf_svm.predict(x_train) # y_train for SGD classifier\n",
    "yt_l_svc = lsvc.predict(x_train) # y_train for linear SVC"
   ]
  },
  {
   "cell_type": "code",
   "execution_count": null,
   "id": "S28NrtAAA6ZF",
   "metadata": {
    "id": "S28NrtAAA6ZF"
   },
   "outputs": [],
   "source": [
    "# test prediction\n",
    "\n",
    "y_rfc = rfc.predict(x_test) # y_train for random forest classifier\n",
    "y_lr = lr.predict(x_test) # y_train for logistic regression\n",
    "y_SGD_clas = clf_svm.predict(x_test) # y_train for SGD classifier\n",
    "y_l_svc = lsvc.predict(x_test) # y_train for linear SVC"
   ]
  },
  {
   "cell_type": "code",
   "execution_count": null,
   "id": "iQwna1ORA_pD",
   "metadata": {
    "colab": {
     "base_uri": "https://localhost:8080/",
     "height": 175
    },
    "id": "iQwna1ORA_pD",
    "outputId": "656322d0-2a50-4ed7-ce4b-6d04c5946ee1"
   },
   "outputs": [
    {
     "data": {
      "text/html": [
       "<div>\n",
       "<style scoped>\n",
       "    .dataframe tbody tr th:only-of-type {\n",
       "        vertical-align: middle;\n",
       "    }\n",
       "\n",
       "    .dataframe tbody tr th {\n",
       "        vertical-align: top;\n",
       "    }\n",
       "\n",
       "    .dataframe thead th {\n",
       "        text-align: right;\n",
       "    }\n",
       "</style>\n",
       "<table border=\"1\" class=\"dataframe\">\n",
       "  <thead>\n",
       "    <tr style=\"text-align: right;\">\n",
       "      <th></th>\n",
       "      <th>Training f1-score</th>\n",
       "      <th>Test f1-score</th>\n",
       "    </tr>\n",
       "  </thead>\n",
       "  <tbody>\n",
       "    <tr>\n",
       "      <th>LogisticRegression</th>\n",
       "      <td>0.991438</td>\n",
       "      <td>0.631503</td>\n",
       "    </tr>\n",
       "    <tr>\n",
       "      <th>RandomForestClassifier</th>\n",
       "      <td>0.995792</td>\n",
       "      <td>0.581523</td>\n",
       "    </tr>\n",
       "    <tr>\n",
       "      <th>LinearSVC</th>\n",
       "      <td>0.985484</td>\n",
       "      <td>0.672352</td>\n",
       "    </tr>\n",
       "    <tr>\n",
       "      <th>SGDClassifier</th>\n",
       "      <td>0.456078</td>\n",
       "      <td>0.418476</td>\n",
       "    </tr>\n",
       "  </tbody>\n",
       "</table>\n",
       "</div>"
      ],
      "text/plain": [
       "                        Training f1-score  Test f1-score\n",
       "LogisticRegression               0.991438       0.631503\n",
       "RandomForestClassifier           0.995792       0.581523\n",
       "LinearSVC                        0.985484       0.672352\n",
       "SGDClassifier                    0.456078       0.418476"
      ]
     },
     "execution_count": 114,
     "metadata": {},
     "output_type": "execute_result"
    }
   ],
   "source": [
    "# Dictionary of results\n",
    "results_dict = {'Training f1-score':\n",
    "                    {\n",
    "                        \"LogisticRegression\": f1_score(y_train, yt_lr , average = 'macro'),\n",
    "                        \"RandomForestClassifier\": f1_score(y_train, yt_rfc, average = 'macro'),\n",
    "                        \"LinearSVC\": f1_score(y_train, yt_l_svc , average = 'macro'),\n",
    "                        \"SGDClassifier\": f1_score(y_train, yt_SGD_clas , average = 'macro')\n",
    "                    },\n",
    "                    'Test f1-score':\n",
    "                    {\n",
    "                        \"LogisticRegression\": f1_score(y_test, y_lr , average = 'macro'),\n",
    "                        \"RandomForestClassifier\": f1_score(y_test, y_rfc, average = 'macro'),\n",
    "                        \"LinearSVC\": f1_score(y_test,y_l_svc , average='macro'),\n",
    "                        \"SGDClassifier\": f1_score(y_test,y_SGD_clas , average = 'macro')\n",
    "                        \n",
    "                    }\n",
    "\n",
    "                }\n",
    "\n",
    "# Create dataframe from dictionary\n",
    "results = pd.DataFrame(results_dict)\n",
    "\n",
    "results.head() # shows results\n"
   ]
  },
  {
   "cell_type": "markdown",
   "id": "365965f9",
   "metadata": {
    "id": "365965f9"
   },
   "source": [
    "<a id=\"evaluation\"></a>\n",
    "## 7. Model Parameter Tuning"
   ]
  },
  {
   "cell_type": "markdown",
   "id": "dSIm-LfpTtg2",
   "metadata": {
    "id": "dSIm-LfpTtg2"
   },
   "source": [
    "Hyperparameter optimization or tuning is the problem of choosing a set of optimal hyperparameters for a learning algorithm. A hyperparameter is a parameter whose value is used to control the learning process.\n",
    "\n",
    "Hyperparameters control the over-fitting and under-fitting of the model. Optimal hyperparameters often differ for different datasets. To get the best hyperparameters the following steps are followed:\n",
    "\n",
    "- For each proposed hyperparameter setting the model is evaluated.\n",
    "\n",
    "- The hyperparameters that give the best model are selected.\n",
    "\n",
    "Hyperparameters Search: Grid search picks out a grid of hyperparameter values and evaluates all of them. Guesswork is necessary to specify the min and max values for each hyperparameter. Hyperparameter tuning picks a few hyperparameter settings, evaluates the validation matrices, adjusts the hyperparameters, and re-evaluates the validation matrices."
   ]
  },
  {
   "cell_type": "code",
   "execution_count": null,
   "id": "RH2i2Vwq8Gwl",
   "metadata": {
    "colab": {
     "base_uri": "https://localhost:8080/"
    },
    "id": "RH2i2Vwq8Gwl",
    "outputId": "7e47ae6d-6be9-48ec-d3a4-9b501b453f87"
   },
   "outputs": [
    {
     "name": "stdout",
     "output_type": "stream",
     "text": [
      "Fitting 5 folds for each of 12 candidates, totalling 60 fits\n"
     ]
    },
    {
     "data": {
      "text/plain": [
       "GridSearchCV(cv=5,\n",
       "             estimator=LinearSVC(class_weight='balanced', random_state=42),\n",
       "             n_jobs=-1,\n",
       "             param_grid={'C': [0.1, 0.5, 1.0, 5.0],\n",
       "                         'max_iter': [5000, 6000, 7000]},\n",
       "             verbose=5)"
      ]
     },
     "execution_count": 116,
     "metadata": {},
     "output_type": "execute_result"
    }
   ],
   "source": [
    "# vectorized the data set\n",
    "\n",
    "vectorizer = CountVectorizer(stop_words = 'english', max_df = 0.8, min_df = 1,\n",
    "                                          ngram_range = (1,2))\n",
    "test_data = df_test['clean_message']\n",
    "vectorizer.fit(list(x_train) + list(x_test) + list(test_data))\n",
    "\n",
    "X_train = vectorizer.transform(x_train) # vectorized x_train\n",
    "X_test = vectorizer.transform(x_test) # vectorized x_test\n",
    "\n",
    "# defining parameters\n",
    "\n",
    "params = {\n",
    "            'C': [0.1, 0.5, 1.0, 5.0],'max_iter' : [5000, 6000, 7000]\n",
    "         }\n",
    "\n",
    "# GridSearch\n",
    "\n",
    "linear_svc_classifier_grid = GridSearchCV(LinearSVC(random_state = 42, class_weight='balanced'), \n",
    "                                          param_grid = params, n_jobs = -1, cv = 5, verbose = 5)\n",
    "\n",
    "# fit the data set\n",
    "\n",
    "linear_svc_classifier_grid.fit(X_train,y_train)"
   ]
  },
  {
   "cell_type": "code",
   "execution_count": null,
   "id": "fBQX39LCCENP",
   "metadata": {
    "colab": {
     "base_uri": "https://localhost:8080/"
    },
    "id": "fBQX39LCCENP",
    "outputId": "e597b34c-0cbe-4909-d187-75fb8ef4160a"
   },
   "outputs": [
    {
     "data": {
      "text/plain": [
       "{'C': 0.1, 'max_iter': 5000}"
      ]
     },
     "execution_count": 117,
     "metadata": {},
     "output_type": "execute_result"
    }
   ],
   "source": [
    "# print best parameters\n",
    "\n",
    "linear_svc_classifier_grid.best_params_"
   ]
  },
  {
   "cell_type": "code",
   "execution_count": null,
   "id": "NexqE8UCCKCu",
   "metadata": {
    "id": "NexqE8UCCKCu"
   },
   "outputs": [],
   "source": [
    "# fit the new hyperparameter\n",
    "\n",
    "svc = LinearSVC(C = 0.1, class_weight='balanced',\n",
    "                                  max_iter = 5000,random_state = 42)\n",
    "\n",
    "svc.fit(X_train, y_train) # fit the model\n",
    "\n",
    "# check performance\n",
    "\n",
    "score = f1_score(y_test, svc.predict(X_test) , average='macro')"
   ]
  },
  {
   "cell_type": "code",
   "execution_count": null,
   "id": "88id95NOQ7sS",
   "metadata": {
    "id": "88id95NOQ7sS"
   },
   "outputs": [],
   "source": [
    "params = {'random_state' : 42,\n",
    "          'model_name' : 'LinearSVC'}\n",
    "\n",
    "metrics = {'f1_score' : score}"
   ]
  },
  {
   "cell_type": "code",
   "execution_count": null,
   "id": "71ERGRWzQPty",
   "metadata": {
    "id": "71ERGRWzQPty"
   },
   "outputs": [],
   "source": [
    "# log our parameters and results\n",
    "\n",
    "experiment.log_parameters(params)\n",
    "\n",
    "experiment.log_parameters(metrics)"
   ]
  },
  {
   "cell_type": "code",
   "execution_count": null,
   "id": "D5BoNfs8QMIh",
   "metadata": {
    "colab": {
     "base_uri": "https://localhost:8080/"
    },
    "id": "D5BoNfs8QMIh",
    "outputId": "7d4381a4-ea28-4cae-866f-f9a7d94ca60a"
   },
   "outputs": [
    {
     "name": "stderr",
     "output_type": "stream",
     "text": [
      "COMET INFO: ---------------------------\n",
      "COMET INFO: Comet.ml Experiment Summary\n",
      "COMET INFO: ---------------------------\n",
      "COMET INFO:   Data:\n",
      "COMET INFO:     display_summary_level : 1\n",
      "COMET INFO:     url                   : https://www.comet.ml/kwanda2426/tweet-classifier/226fecb769344985b05a69f0f9992c0a\n",
      "COMET INFO:   Others:\n",
      "COMET INFO:     notebook_url : https://colab.research.google.com/notebook#fileId=https%3A%2F%2Fgithub.com%2Fkwanda2426%2Fclassification-predict-streamlit-template%2Fblob%2Fmaster%2FTeam%252010%2520Project.ipynb\n",
      "COMET INFO:   Parameters:\n",
      "COMET INFO:     C                             : 0.1\n",
      "COMET INFO:     alpha                         : 0.001\n",
      "COMET INFO:     average                       : False\n",
      "COMET INFO:     bootstrap                     : True\n",
      "COMET INFO:     ccp_alpha                     : 0.0\n",
      "COMET INFO:     class_weight                  : balanced\n",
      "COMET INFO:     clf_svm                       : SGDClassifier(alpha=0.001, random_state=42)\n",
      "COMET INFO:     clf_svm__alpha                : 0.001\n",
      "COMET INFO:     clf_svm__average              : False\n",
      "COMET INFO:     clf_svm__class_weight         : 1\n",
      "COMET INFO:     clf_svm__early_stopping       : False\n",
      "COMET INFO:     clf_svm__epsilon              : 0.1\n",
      "COMET INFO:     clf_svm__eta0                 : 0.0\n",
      "COMET INFO:     clf_svm__fit_intercept        : True\n",
      "COMET INFO:     clf_svm__l1_ratio             : 0.15\n",
      "COMET INFO:     clf_svm__learning_rate        : optimal\n",
      "COMET INFO:     clf_svm__loss                 : hinge\n",
      "COMET INFO:     clf_svm__max_iter             : 1000\n",
      "COMET INFO:     clf_svm__n_iter_no_change     : 5\n",
      "COMET INFO:     clf_svm__n_jobs               : 1\n",
      "COMET INFO:     clf_svm__penalty              : l2\n",
      "COMET INFO:     clf_svm__power_t              : 0.5\n",
      "COMET INFO:     clf_svm__random_state         : 42\n",
      "COMET INFO:     clf_svm__shuffle              : True\n",
      "COMET INFO:     clf_svm__tol                  : 0.001\n",
      "COMET INFO:     clf_svm__validation_fraction  : 0.1\n",
      "COMET INFO:     clf_svm__verbose              : 0\n",
      "COMET INFO:     clf_svm__warm_start           : False\n",
      "COMET INFO:     clf_svm_alpha                 : 0.001\n",
      "COMET INFO:     clf_svm_average               : False\n",
      "COMET INFO:     clf_svm_class_weight          : 1\n",
      "COMET INFO:     clf_svm_early_stopping        : False\n",
      "COMET INFO:     clf_svm_epsilon               : 0.1\n",
      "COMET INFO:     clf_svm_eta0                  : 0.0\n",
      "COMET INFO:     clf_svm_fit_intercept         : True\n",
      "COMET INFO:     clf_svm_l1_ratio              : 0.15\n",
      "COMET INFO:     clf_svm_learning_rate         : optimal\n",
      "COMET INFO:     clf_svm_loss                  : hinge\n",
      "COMET INFO:     clf_svm_max_iter              : 1000\n",
      "COMET INFO:     clf_svm_n_iter_no_change      : 5\n",
      "COMET INFO:     clf_svm_n_jobs                : 1\n",
      "COMET INFO:     clf_svm_penalty               : l2\n",
      "COMET INFO:     clf_svm_power_t               : 0.5\n",
      "COMET INFO:     clf_svm_random_state          : 42\n",
      "COMET INFO:     clf_svm_shuffle               : True\n",
      "COMET INFO:     clf_svm_tol                   : 0.001\n",
      "COMET INFO:     clf_svm_validation_fraction   : 0.1\n",
      "COMET INFO:     clf_svm_verbose               : 0\n",
      "COMET INFO:     clf_svm_warm_start            : False\n",
      "COMET INFO:     criterion                     : gini\n",
      "COMET INFO:     cv                            : 5\n",
      "COMET INFO:     cv__analyzer                  : word\n",
      "COMET INFO:     cv__binary                    : False\n",
      "COMET INFO:     cv__decode_error              : strict\n",
      "COMET INFO:     cv__dtype                     : <class 'numpy.int64'>\n",
      "COMET INFO:     cv__encoding                  : utf-8\n",
      "COMET INFO:     cv__input                     : content\n",
      "COMET INFO:     cv__lowercase                 : True\n",
      "COMET INFO:     cv__max_df                    : 1.0\n",
      "COMET INFO:     cv__max_features              : 1\n",
      "COMET INFO:     cv__min_df                    : 1\n",
      "COMET INFO:     cv__ngram_range               : (1, 1)\n",
      "COMET INFO:     cv__preprocessor              : 1\n",
      "COMET INFO:     cv__stop_words                : 1\n",
      "COMET INFO:     cv__strip_accents             : 1\n",
      "COMET INFO:     cv__token_pattern             : (?u)\\b\\w\\w+\\b\n",
      "COMET INFO:     cv__tokenizer                 : 1\n",
      "COMET INFO:     cv__vocabulary                : 1\n",
      "COMET INFO:     cv_analyzer                   : word\n",
      "COMET INFO:     cv_binary                     : False\n",
      "COMET INFO:     cv_decode_error               : strict\n",
      "COMET INFO:     cv_dtype                      : <class 'numpy.int64'>\n",
      "COMET INFO:     cv_encoding                   : utf-8\n",
      "COMET INFO:     cv_input                      : content\n",
      "COMET INFO:     cv_lowercase                  : True\n",
      "COMET INFO:     cv_max_df                     : 1.0\n",
      "COMET INFO:     cv_max_features               : 1\n",
      "COMET INFO:     cv_min_df                     : 1\n",
      "COMET INFO:     cv_ngram_range                : (1, 1)\n",
      "COMET INFO:     cv_preprocessor               : 1\n",
      "COMET INFO:     cv_stop_words                 : 1\n",
      "COMET INFO:     cv_strip_accents              : 1\n",
      "COMET INFO:     cv_token_pattern              : (?u)\\b\\w\\w+\\b\n",
      "COMET INFO:     cv_tokenizer                  : 1\n",
      "COMET INFO:     cv_vocabulary                 : 1\n",
      "COMET INFO:     dual                          : True\n",
      "COMET INFO:     early_stopping                : False\n",
      "COMET INFO:     epsilon                       : 0.1\n",
      "COMET INFO:     error_score                   : nan\n",
      "COMET INFO:     estimator                     : LinearSVC(class_weight='balanced', random_state=42)\n",
      "COMET INFO:     estimator__C                  : 1.0\n",
      "COMET INFO:     estimator__class_weight       : balanced\n",
      "COMET INFO:     estimator__dual               : True\n",
      "COMET INFO:     estimator__fit_intercept      : True\n",
      "COMET INFO:     estimator__intercept_scaling  : 1\n",
      "COMET INFO:     estimator__loss               : squared_hinge\n",
      "COMET INFO:     estimator__max_iter           : 1000\n",
      "COMET INFO:     estimator__multi_class        : ovr\n",
      "COMET INFO:     estimator__penalty            : l2\n",
      "COMET INFO:     estimator__random_state       : 42\n",
      "COMET INFO:     estimator__tol                : 0.0001\n",
      "COMET INFO:     estimator__verbose            : 0\n",
      "COMET INFO:     eta0                          : 0.0\n",
      "COMET INFO:     f1_score                      : 0.6487124840289685\n",
      "COMET INFO:     fit_intercept                 : True\n",
      "COMET INFO:     intercept_scaling             : 1\n",
      "COMET INFO:     l1_ratio                      : 0.15\n",
      "COMET INFO:     learning_rate                 : optimal\n",
      "COMET INFO:     loss                          : squared_hinge\n",
      "COMET INFO:     lr                            : LogisticRegression()\n",
      "COMET INFO:     lr_C                          : 1.0\n",
      "COMET INFO:     lr__C                         : 1.0\n",
      "COMET INFO:     lr__class_weight              : 1\n",
      "COMET INFO:     lr__dual                      : False\n",
      "COMET INFO:     lr__fit_intercept             : True\n",
      "COMET INFO:     lr__intercept_scaling         : 1\n",
      "COMET INFO:     lr__l1_ratio                  : 1\n",
      "COMET INFO:     lr__max_iter                  : 100\n",
      "COMET INFO:     lr__multi_class               : auto\n",
      "COMET INFO:     lr__n_jobs                    : 1\n",
      "COMET INFO:     lr__penalty                   : l2\n",
      "COMET INFO:     lr__random_state              : 1\n",
      "COMET INFO:     lr__solver                    : lbfgs\n",
      "COMET INFO:     lr__tol                       : 0.0001\n",
      "COMET INFO:     lr__verbose                   : 0\n",
      "COMET INFO:     lr__warm_start                : False\n",
      "COMET INFO:     lr_class_weight               : 1\n",
      "COMET INFO:     lr_dual                       : False\n",
      "COMET INFO:     lr_fit_intercept              : True\n",
      "COMET INFO:     lr_intercept_scaling          : 1\n",
      "COMET INFO:     lr_l1_ratio                   : 1\n",
      "COMET INFO:     lr_max_iter                   : 100\n",
      "COMET INFO:     lr_multi_class                : auto\n",
      "COMET INFO:     lr_n_jobs                     : 1\n",
      "COMET INFO:     lr_penalty                    : l2\n",
      "COMET INFO:     lr_random_state               : 1\n",
      "COMET INFO:     lr_solver                     : lbfgs\n",
      "COMET INFO:     lr_tol                        : 0.0001\n",
      "COMET INFO:     lr_verbose                    : 0\n",
      "COMET INFO:     lr_warm_start                 : False\n",
      "COMET INFO:     lsvc                          : LinearSVC(C=0.4, class_weight='balanced', max_iter=3000)\n",
      "COMET INFO:     lsvc_C                        : 0.4\n",
      "COMET INFO:     lsvc__C                       : 0.4\n",
      "COMET INFO:     lsvc__class_weight            : balanced\n",
      "COMET INFO:     lsvc__dual                    : True\n",
      "COMET INFO:     lsvc__fit_intercept           : True\n",
      "COMET INFO:     lsvc__intercept_scaling       : 1\n",
      "COMET INFO:     lsvc__loss                    : squared_hinge\n",
      "COMET INFO:     lsvc__max_iter                : 3000\n",
      "COMET INFO:     lsvc__multi_class             : ovr\n",
      "COMET INFO:     lsvc__penalty                 : l2\n",
      "COMET INFO:     lsvc__random_state            : 1\n",
      "COMET INFO:     lsvc__tol                     : 0.0001\n",
      "COMET INFO:     lsvc__verbose                 : 0\n",
      "COMET INFO:     lsvc_class_weight             : balanced\n",
      "COMET INFO:     lsvc_dual                     : True\n",
      "COMET INFO:     lsvc_fit_intercept            : True\n",
      "COMET INFO:     lsvc_intercept_scaling        : 1\n",
      "COMET INFO:     lsvc_loss                     : squared_hinge\n",
      "COMET INFO:     lsvc_max_iter                 : 3000\n",
      "COMET INFO:     lsvc_multi_class              : ovr\n",
      "COMET INFO:     lsvc_penalty                  : l2\n",
      "COMET INFO:     lsvc_random_state             : 1\n",
      "COMET INFO:     lsvc_tol                      : 0.0001\n",
      "COMET INFO:     lsvc_verbose                  : 0\n",
      "COMET INFO:     max_depth                     : 1\n",
      "COMET INFO:     max_features                  : auto\n",
      "COMET INFO:     max_iter                      : 5000\n",
      "COMET INFO:     max_leaf_nodes                : 1\n",
      "COMET INFO:     max_samples                   : 1\n",
      "COMET INFO:     memory                        : 1\n",
      "COMET INFO:     min_impurity_decrease         : 0.0\n",
      "COMET INFO:     min_samples_leaf              : 1\n",
      "COMET INFO:     min_samples_split             : 2\n",
      "COMET INFO:     min_weight_fraction_leaf      : 0.0\n",
      "COMET INFO:     model_name                    : LinearSVC\n",
      "COMET INFO:     multi_class                   : ovr\n",
      "COMET INFO:     n_estimators                  : 100\n",
      "COMET INFO:     n_iter_no_change              : 5\n",
      "COMET INFO:     n_jobs                        : -1\n",
      "COMET INFO:     neg_label                     : 0\n",
      "COMET INFO:     norm                          : l2\n",
      "COMET INFO:     oob_score                     : False\n",
      "COMET INFO:     param_grid                    : {\"C\": [0.1, 0.5, 1.0, 5.0], \"max_iter\": [5000, 6000, 7000]}\n",
      "COMET INFO:     penalty                       : l2\n",
      "COMET INFO:     pos_label                     : 1\n",
      "COMET INFO:     power_t                       : 0.5\n",
      "COMET INFO:     pre_dispatch                  : 2*n_jobs\n",
      "COMET INFO:     random_state                  : 42\n",
      "COMET INFO:     refit                         : True\n",
      "COMET INFO:     return_train_score            : False\n",
      "COMET INFO:     rfc                           : RandomForestClassifier()\n",
      "COMET INFO:     rfc__bootstrap                : True\n",
      "COMET INFO:     rfc__ccp_alpha                : 0.0\n",
      "COMET INFO:     rfc__class_weight             : 1\n",
      "COMET INFO:     rfc__criterion                : gini\n",
      "COMET INFO:     rfc__max_depth                : 1\n",
      "COMET INFO:     rfc__max_features             : auto\n",
      "COMET INFO:     rfc__max_leaf_nodes           : 1\n",
      "COMET INFO:     rfc__max_samples              : 1\n",
      "COMET INFO:     rfc__min_impurity_decrease    : 0.0\n",
      "COMET INFO:     rfc__min_samples_leaf         : 1\n",
      "COMET INFO:     rfc__min_samples_split        : 2\n",
      "COMET INFO:     rfc__min_weight_fraction_leaf : 0.0\n",
      "COMET INFO:     rfc__n_estimators             : 100\n",
      "COMET INFO:     rfc__n_jobs                   : 1\n",
      "COMET INFO:     rfc__oob_score                : False\n",
      "COMET INFO:     rfc__random_state             : 1\n",
      "COMET INFO:     rfc__verbose                  : 0\n",
      "COMET INFO:     rfc__warm_start               : False\n",
      "COMET INFO:     rfc_bootstrap                 : True\n",
      "COMET INFO:     rfc_ccp_alpha                 : 0.0\n",
      "COMET INFO:     rfc_class_weight              : 1\n",
      "COMET INFO:     rfc_criterion                 : gini\n",
      "COMET INFO:     rfc_max_depth                 : 1\n",
      "COMET INFO:     rfc_max_features              : auto\n",
      "COMET INFO:     rfc_max_leaf_nodes            : 1\n",
      "COMET INFO:     rfc_max_samples               : 1\n",
      "COMET INFO:     rfc_min_impurity_decrease     : 0.0\n",
      "COMET INFO:     rfc_min_samples_leaf          : 1\n",
      "COMET INFO:     rfc_min_samples_split         : 2\n",
      "COMET INFO:     rfc_min_weight_fraction_leaf  : 0.0\n",
      "COMET INFO:     rfc_n_estimators              : 100\n",
      "COMET INFO:     rfc_n_jobs                    : 1\n",
      "COMET INFO:     rfc_oob_score                 : False\n",
      "COMET INFO:     rfc_random_state              : 1\n",
      "COMET INFO:     rfc_verbose                   : 0\n",
      "COMET INFO:     rfc_warm_start                : False\n",
      "COMET INFO:     scoring                       : 1\n",
      "COMET INFO:     shuffle                       : True\n",
      "COMET INFO:     smooth_idf                    : True\n",
      "COMET INFO:     sparse_output                 : False\n",
      "COMET INFO:     steps                         : [('cv', CountVectorizer()), ('tfidf', TfidfTransformer()), ('clf_svm', SGDClassifier(alpha=0.001, random_state=42))]\n",
      "COMET INFO:     sublinear_tf                  : False\n",
      "COMET INFO:     tfidf                         : TfidfTransformer()\n",
      "COMET INFO:     tfidf__analyzer               : word\n",
      "COMET INFO:     tfidf__binary                 : False\n",
      "COMET INFO:     tfidf__decode_error           : strict\n",
      "COMET INFO:     tfidf__dtype                  : <class 'numpy.float64'>\n",
      "COMET INFO:     tfidf__encoding               : utf-8\n",
      "COMET INFO:     tfidf__input                  : content\n",
      "COMET INFO:     tfidf__lowercase              : True\n",
      "COMET INFO:     tfidf__max_df                 : 0.8\n",
      "COMET INFO:     tfidf__max_features           : 1\n",
      "COMET INFO:     tfidf__min_df                 : 1\n",
      "COMET INFO:     tfidf__ngram_range            : (1, 2)\n",
      "COMET INFO:     tfidf__norm                   : l2\n",
      "COMET INFO:     tfidf__preprocessor           : 1\n",
      "COMET INFO:     tfidf__smooth_idf             : True\n",
      "COMET INFO:     tfidf__stop_words             : 1\n",
      "COMET INFO:     tfidf__strip_accents          : 1\n",
      "COMET INFO:     tfidf__sublinear_tf           : False\n",
      "COMET INFO:     tfidf__token_pattern          : (?u)\\b\\w\\w+\\b\n",
      "COMET INFO:     tfidf__tokenizer              : 1\n",
      "COMET INFO:     tfidf__use_idf                : True\n",
      "COMET INFO:     tfidf__vocabulary             : 1\n",
      "COMET INFO:     tfidf_analyzer                : word\n",
      "COMET INFO:     tfidf_binary                  : False\n",
      "COMET INFO:     tfidf_decode_error            : strict\n",
      "COMET INFO:     tfidf_dtype                   : <class 'numpy.float64'>\n",
      "COMET INFO:     tfidf_encoding                : utf-8\n",
      "COMET INFO:     tfidf_input                   : content\n",
      "COMET INFO:     tfidf_lowercase               : True\n",
      "COMET INFO:     tfidf_max_df                  : 0.8\n",
      "COMET INFO:     tfidf_max_features            : 1\n",
      "COMET INFO:     tfidf_min_df                  : 1\n",
      "COMET INFO:     tfidf_ngram_range             : (1, 2)\n",
      "COMET INFO:     tfidf_norm                    : l2\n",
      "COMET INFO:     tfidf_preprocessor            : 1\n",
      "COMET INFO:     tfidf_smooth_idf              : True\n",
      "COMET INFO:     tfidf_stop_words              : 1\n",
      "COMET INFO:     tfidf_strip_accents           : 1\n",
      "COMET INFO:     tfidf_sublinear_tf            : False\n",
      "COMET INFO:     tfidf_token_pattern           : (?u)\\b\\w\\w+\\b\n",
      "COMET INFO:     tfidf_tokenizer               : 1\n",
      "COMET INFO:     tfidf_use_idf                 : True\n",
      "COMET INFO:     tfidf_vocabulary              : 1\n",
      "COMET INFO:     tol                           : 0.0001\n",
      "COMET INFO:     use_idf                       : True\n",
      "COMET INFO:     validation_fraction           : 0.1\n",
      "COMET INFO:     vect                          : CountVectorizer(max_df=0.8, ngram_range=(1, 2), stop_words='english')\n",
      "COMET INFO:     vect__analyzer                : word\n",
      "COMET INFO:     vect__binary                  : False\n",
      "COMET INFO:     vect__decode_error            : strict\n",
      "COMET INFO:     vect__dtype                   : <class 'numpy.int64'>\n",
      "COMET INFO:     vect__encoding                : utf-8\n",
      "COMET INFO:     vect__input                   : content\n",
      "COMET INFO:     vect__lowercase               : True\n",
      "COMET INFO:     vect__max_df                  : 0.8\n",
      "COMET INFO:     vect__max_features            : 1\n",
      "COMET INFO:     vect__min_df                  : 1\n",
      "COMET INFO:     vect__ngram_range             : (1, 2)\n",
      "COMET INFO:     vect__preprocessor            : 1\n",
      "COMET INFO:     vect__stop_words              : english\n",
      "COMET INFO:     vect__strip_accents           : 1\n",
      "COMET INFO:     vect__token_pattern           : (?u)\\b\\w\\w+\\b\n",
      "COMET INFO:     vect__tokenizer               : 1\n",
      "COMET INFO:     vect__vocabulary              : 1\n",
      "COMET INFO:     vect_analyzer                 : word\n",
      "COMET INFO:     vect_binary                   : False\n",
      "COMET INFO:     vect_decode_error             : strict\n",
      "COMET INFO:     vect_dtype                    : <class 'numpy.int64'>\n",
      "COMET INFO:     vect_encoding                 : utf-8\n",
      "COMET INFO:     vect_input                    : content\n",
      "COMET INFO:     vect_lowercase                : True\n",
      "COMET INFO:     vect_max_df                   : 0.8\n",
      "COMET INFO:     vect_max_features             : 1\n",
      "COMET INFO:     vect_min_df                   : 1\n",
      "COMET INFO:     vect_ngram_range              : (1, 2)\n",
      "COMET INFO:     vect_preprocessor             : 1\n",
      "COMET INFO:     vect_stop_words               : english\n",
      "COMET INFO:     vect_strip_accents            : 1\n",
      "COMET INFO:     vect_token_pattern            : (?u)\\b\\w\\w+\\b\n",
      "COMET INFO:     vect_tokenizer                : 1\n",
      "COMET INFO:     vect_vocabulary               : 1\n",
      "COMET INFO:     verbose                       : 0\n",
      "COMET INFO:     warm_start                    : False\n",
      "COMET INFO:   Uploads:\n",
      "COMET INFO:     environment details : 1\n",
      "COMET INFO:     filename            : 1\n",
      "COMET INFO:     installed packages  : 1\n",
      "COMET INFO:     notebook            : 1\n",
      "COMET INFO:     os packages         : 1\n",
      "COMET INFO:     source_code         : 1\n",
      "COMET INFO: ---------------------------\n",
      "COMET ERROR: Error sending a notification, make sure you have opted-in for notifications\n",
      "COMET INFO: Uploading metrics, params, and assets to Comet before program termination (may take several seconds)\n",
      "COMET INFO: The Python SDK has 3600 seconds to finish before aborting...\n"
     ]
    }
   ],
   "source": [
    "experiment.end()"
   ]
  },
  {
   "cell_type": "markdown",
   "id": "gtaUR1YeEn9N",
   "metadata": {
    "id": "gtaUR1YeEn9N"
   },
   "source": [
    "**Saving the model**"
   ]
  },
  {
   "cell_type": "markdown",
   "id": "fkg2flbB5yTs",
   "metadata": {
    "id": "fkg2flbB5yTs"
   },
   "source": [
    "We save the trained model and load the model back whenever you have new data to test it on. We save the model and test it on multiple data without training the model again."
   ]
  },
  {
   "cell_type": "code",
   "execution_count": null,
   "id": "-cljmtfh5MA0",
   "metadata": {
    "id": "-cljmtfh5MA0"
   },
   "outputs": [],
   "source": [
    "# pickle model\n",
    "\n",
    "#model_save_path = \"model_svc.pkl\"\n",
    "#with open(model_save_path,'wb') as file:\n",
    "#    pickle.dump(lsvc,file)"
   ]
  },
  {
   "cell_type": "markdown",
   "id": "h5swklgY5NhE",
   "metadata": {
    "id": "h5swklgY5NhE"
   },
   "source": [
    "Use the tuned model for the final results. We use the model to make predictions and save results to a csv file. The file contain the tweet_id and the sentiment corresponding to the tweet_id."
   ]
  },
  {
   "cell_type": "code",
   "execution_count": null,
   "id": "DdUHjFIL4LAf",
   "metadata": {
    "id": "DdUHjFIL4LAf"
   },
   "outputs": [],
   "source": [
    "# extract the predictor variable for testing\n",
    "\n",
    "test_data = df_test['clean_message']\n",
    "\n",
    "# extract tweet_id in test data\n",
    "\n",
    "tweet_id = df_test.tweetid.values\n",
    "\n",
    "# dictionary of tweet_id and sentiment predictions\n",
    "\n",
    "my_dict = {'tweetid' : tweet_id,'sentiment' : svc.predict(df_test['message'])}\n",
    "\n",
    "results = pd.DataFrame(my_dict) # convert dictionary to dataframe\n",
    "\n",
    "results.to_csv('Team_10.csv', index = False) # write results to csv file"
   ]
  },
  {
   "cell_type": "markdown",
   "id": "6abd1885",
   "metadata": {
    "id": "6abd1885"
   },
   "source": [
    "<a id=\"conclusion\"></a>\n",
    "## 8. Conclusion"
   ]
  },
  {
   "cell_type": "markdown",
   "id": "BBhv09cODrJy",
   "metadata": {
    "id": "BBhv09cODrJy"
   },
   "source": [
    "Based on the tweets that were explore, 54% belonged to the pro climate change class, which brings us to the conclusion that majority of the user's belief that climate change is man-made. It was observed that most of the tweets contained the words **climate change & trump** across all classes. There is also an indication that there was a massive amount of information that resonated with users and was shared with a broader audience, this is based on the of **retweets** present across all classes.\n",
    "\n",
    "The presence of the words **https, science, study** in the news climate chnage class suggests that the tweets were mostly about purely reporting about climate change.\n",
    "\n",
    "The pro climate change class words like **believe, real, think, deniers** which may suggest that the pro class has a desire to change the minds of deniers.\n",
    "\n",
    "The neutral climate change class has been the most interesting class to explore. The class has words such as **climate change, COP22, leornado** which are related to climate but the class also have words that are not related to climate change such as **game of thrones, hypocrite**. This is expected as this type of group is impartial.\n",
    "\n",
    "The presence of words such as **fake, MAGA, climate scam** in the anti cliamte class suggests that this class might comprise oF Donald Trump followers/supporters.\n",
    "\n",
    "The Linear Support Vector Machine model performed better on unseen data. The F1-score or F1-measure is a measure of a model's accuracy in test data set. The model has a score more than 0.7 on unseen data (Kaggle leaderboard submission).\n",
    "\n",
    "We managed to come up with a model that can succesfully classify a tweet on whether it is a news tweet or (neutral or positive or negative) with regards to climate change. Feature extraction was performed using two vectorization techniques, i.e CountVectorizer and Frequency–Inverse Document Frequency Vectorizer. The difference is that the latter returns floats while the former returns ints, but they achieve the same goal: feature extraction and turning those features into numbers.\n",
    "\n",
    "The model's performance is affected by many factors, such as data imbalance. Because many machine learning classifiers are lazy beasts.\n",
    "When trained on a highly imbalanced dataset, an statistical classifier has a natural tendency to pick up the patterns in the most popular classes and ignore the least popular ones — it’s the easiest way to achieve the requested metric (typically classification accuracy). In that it’s actually not much different to how humans do the same: find a salient pattern and do a hasty generalization.\n",
    "\n",
    "The classifier has a number of parameters that get optimized through training, and it makes more sense (from a blind statistical point of view) to use them up trying to recognize the popular classes, since they give the greatest payoff in terms of raw accuracy. Small classes need to be very salient to avoid getting overlooked.\n",
    "\n",
    "In the extreme cases (the less-frequent class turns to be extremely rare) this actually changes the type of problem to another category of techniques, outlier detection.\n"
   ]
  },
  {
   "cell_type": "markdown",
   "id": "339491d3",
   "metadata": {
    "id": "339491d3"
   },
   "source": [
    "<a id=\"references\"></a>\n",
    "## 9. References"
   ]
  },
  {
   "cell_type": "markdown",
   "id": "213a2b7f",
   "metadata": {
    "id": "213a2b7f"
   },
   "source": [
    "- https://learn.g2.com/logistic-regression\n",
    "\n",
    "- https://www.nationalgeographic.com/environment/article/global-warming-overview\n",
    "\n",
    "- https://www.pewresearch.org/fact-tank/2020/10/15/64-of-americans-say-social-media-have-a-mostly-negative-effect-on-the-way-things-are-going-in-the-u-s-today/\n",
    "\n",
    "- https://machinelearningmastery.com/what-is-imbalanced-classification/\n",
    "\n",
    "- https://www.un.org/en/climatechange/cop26"
   ]
  }
 ],
 "metadata": {
  "colab": {
   "name": "Team 10 Project.ipynb",
   "provenance": []
  },
  "kernelspec": {
   "display_name": "Python 3",
   "language": "python",
   "name": "python3"
  },
  "language_info": {
   "codemirror_mode": {
    "name": "ipython",
    "version": 3
   },
   "file_extension": ".py",
   "mimetype": "text/x-python",
   "name": "python",
   "nbconvert_exporter": "python",
   "pygments_lexer": "ipython3",
   "version": "3.8.8"
  }
 },
 "nbformat": 4,
 "nbformat_minor": 5
}
