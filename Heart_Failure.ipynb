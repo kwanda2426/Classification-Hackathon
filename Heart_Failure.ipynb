{
  "nbformat": 4,
  "nbformat_minor": 0,
  "metadata": {
    "colab": {
      "name": "Heart Failure.ipynb",
      "provenance": [],
      "include_colab_link": true
    },
    "kernelspec": {
      "name": "python3",
      "display_name": "Python 3"
    },
    "language_info": {
      "name": "python"
    }
  },
  "cells": [
    {
      "cell_type": "markdown",
      "metadata": {
        "id": "view-in-github",
        "colab_type": "text"
      },
      "source": [
        "<a href=\"https://colab.research.google.com/github/kwanda2426/Classification-Hackathon/blob/main/Heart_Failure.ipynb\" target=\"_parent\"><img src=\"https://colab.research.google.com/assets/colab-badge.svg\" alt=\"Open In Colab\"/></a>"
      ]
    },
    {
      "cell_type": "markdown",
      "source": [
        "## **HEART FAILURE PREDICTIONS**"
      ],
      "metadata": {
        "id": "fU7bEYD4hTkp"
      }
    },
    {
      "cell_type": "markdown",
      "source": [
        "<img src=\"https://images.ctfassets.net/yixw23k2v6vo/6BezXYKnMqcG4LSEcWyXlt/b490656e99f34bc18999f3563470eae6/iStock-1156928054.jpg?fm=webp&fit=thumb&q=65&w=864&h=576\" >"
      ],
      "metadata": {
        "id": "PqYO-jzQXXGo"
      }
    },
    {
      "cell_type": "markdown",
      "source": [
        "**By:**\n",
        "\n",
        "**Kwanda Mazibuko and Nokulunga Twala** \n",
        "\n",
        "\n",
        "\n"
      ],
      "metadata": {
        "id": "j7lZQXV2Ud8g"
      }
    },
    {
      "cell_type": "markdown",
      "source": [
        "## Table of contents\n",
        "1. [Introduction](#intro)\n",
        "2. [Data Collection](#data)\n",
        "3. [Data Preprocessing](#cleaning)\n",
        "4. [Exploratory Data Analysis](#EDA)\n",
        "5. [Feature Engineering And Selection](#features)\n",
        "6. [Model Building And Evaluation](#model)\n",
        "7. [Model Hyperparameter Tuning](#tuning)\n",
        "8. [Conclusion](#conclusion)\n",
        "9. [References](#references)"
      ],
      "metadata": {
        "id": "51DXzvcGoZ20"
      }
    },
    {
      "cell_type": "markdown",
      "source": [
        "<a id=\"intro\"></a>\n",
        "# 1. **Introduction**"
      ],
      "metadata": {
        "id": "xvPWLro4h1RJ"
      }
    },
    {
      "cell_type": "markdown",
      "source": [
        "Heart diseases are often used in exchange for cardiovascular diseases. These kinds of diseases mainly refer to the conditions of blocked or narrowed blood vessels, resulting in a stroke, chest pain or angina, and heart attack.\n",
        "\n",
        "Other kinds of heart conditions, such as those affecting the rhythm, valve, or muscle of the heart, are other types of heart diseases. On the other hand, machine learning is crucial for determining whether anyone has suffered from heart disease. In either case, if these are predicted ahead of time, doctors would have a much easier time gaining crucial information for treating and diagnosing patients. Heart disease is mainly an incorrect symptom of coronary artery disease. It is also known as a cardiac disease; therefore, it is not with cardiovascular disease, which is any blood vessel disease."
      ],
      "metadata": {
        "id": "8tFwlS8Ohunp"
      }
    },
    {
      "cell_type": "markdown",
      "source": [
        "**Context**\n",
        "\n",
        "\n",
        "Cardiovascular diseases (CVDs) are the number 1 cause of death globally, taking an estimated 17.9 million lives each year, which accounts for 31% of all deaths worldwide. Four out of 5CVD deaths are due to heart attacks and strokes, and one-third of these deaths occur prematurely in people under 70 years of age. Heart failure is a common event caused by CVDs and this dataset contains 11 features that can be used to predict a possible heart disease.\n",
        "\n",
        "People with cardiovascular disease or who are at high cardiovascular risk (due to the presence of one or more risk factors such as hypertension, diabetes, hyperlipidaemia or already established disease) need early detection and management wherein a machine learning model can be of great help.\n",
        "\n",
        "**Symptoms of heart attacks and strokes**\n",
        "\n",
        "Often, there are no symptoms of the underlying disease of the blood vessels. A heart attack or stroke may be the first sign of underlying disease. Symptoms of a heart attack include:\n",
        "\n",
        "- pain or discomfort in the centre of the chest; and/or\n",
        "- pain or discomfort in the arms, the left shoulder, elbows, jaw, or back."
      ],
      "metadata": {
        "id": "vf70v7hitdjI"
      }
    },
    {
      "cell_type": "markdown",
      "source": [
        "**Problem Statement**\n",
        "\n",
        "Day by day the cases of heart diseases are increasing at a rapid rate and it’s very Important\n",
        "and concerning to predict any such diseases beforehand. This diagnosis is a difficult task for instances it should\n",
        "be performed precisely and efficiently. This project mainly focuses on which patient is more\n",
        "likely to have a heart disease based on various medical attributes."
      ],
      "metadata": {
        "id": "HZcY9jzFiNU4"
      }
    },
    {
      "cell_type": "markdown",
      "source": [
        "**Objective / Aim**\n",
        "\n",
        "The objective of this project is to check whether the patient is likely to be diagnosed with any\n",
        "cardiovascular heart diseases based on their medical attributes such as gender, age and chest pain. "
      ],
      "metadata": {
        "id": "R7d7dhWeiTqN"
      }
    },
    {
      "cell_type": "markdown",
      "source": [
        "<a id=\"data\"></a>\n",
        "# 2. **Data Collection**"
      ],
      "metadata": {
        "id": "TmzBd96Lk6cq"
      }
    },
    {
      "cell_type": "code",
      "execution_count": 1,
      "metadata": {
        "id": "CfK43j_1UGM6",
        "outputId": "dc707035-c573-4d64-db28-e92e66068f7b",
        "colab": {
          "base_uri": "https://localhost:8080/"
        }
      },
      "outputs": [
        {
          "output_type": "stream",
          "name": "stderr",
          "text": [
            "/usr/local/lib/python3.7/dist-packages/statsmodels/tools/_testing.py:19: FutureWarning: pandas.util.testing is deprecated. Use the functions in the public API at pandas.testing instead.\n",
            "  import pandas.util.testing as tm\n"
          ]
        }
      ],
      "source": [
        "# Libraries for data loading, data manipulation and data visulisation\n",
        "import numpy as np\n",
        "import pandas as pd\n",
        "\n",
        "import requests\n",
        "import io\n",
        "#\n",
        "import matplotlib.pyplot as plt\n",
        "from matplotlib import rc\n",
        "import seaborn as sns\n",
        "from statsmodels.graphics.correlation import plot_corr\n",
        "from scipy.stats import skew\n",
        "from scipy.stats import kurtosis\n",
        "import statistics\n",
        "\n",
        "# datetime\n",
        "import datetime\n",
        "\n",
        "# Libraries for data preparation and model building\n",
        "from sklearn.utils import resample\n",
        "from sklearn.preprocessing import LabelEncoder\n",
        "import statsmodels.formula.api as sm\n",
        "from statsmodels.formula.api import ols\n",
        "from sklearn import metrics\n",
        "from sklearn.svm import SVR\n",
        "from xgboost.sklearn import XGBRegressor\n",
        "from sklearn.feature_selection import RFE\n",
        "from sklearn.feature_selection import RFECV\n",
        "from sklearn.feature_selection import SelectKBest, chi2\n",
        "from scipy.stats import boxcox, zscore\n",
        "from sklearn.metrics import mean_squared_error\n",
        "from sklearn.tree import DecisionTreeRegressor\n",
        "from sklearn.compose import ColumnTransformer\n",
        "from sklearn.ensemble import RandomForestRegressor, VotingRegressor, StackingRegressor, BaggingRegressor, AdaBoostRegressor\n",
        "from sklearn.linear_model import Lasso, Ridge, LinearRegression\n",
        "from sklearn.model_selection import train_test_split, KFold, cross_val_score, GridSearchCV\n",
        "from sklearn.preprocessing import LabelEncoder, OneHotEncoder, StandardScaler, PolynomialFeatures\n",
        "\n",
        "# Deep Learning\n",
        "\n",
        "# for operating system\n",
        "import os\n",
        "\n",
        "#tensorflow\n",
        "import tensorflow as tf\n",
        "\n",
        "from tensorflow import keras\n",
        "from tensorflow.keras.models import Sequential\n",
        "from tensorflow.keras.layers import Activation, Dense, BatchNormalization, Dropout\n",
        "from tensorflow.keras import optimizers\n",
        "\n",
        "# saving my model\n",
        "import pickle\n",
        "\n",
        "#ignoring warnings\n",
        "import warnings\n",
        "warnings.filterwarnings('ignore')\n",
        "\n",
        "#ignoring warnings\n",
        "import warnings\n",
        "warnings.filterwarnings('ignore')\n",
        "%matplotlib inline\n",
        "\n",
        "#making sure that we can see all rows and cols\n",
        "pd.set_option('display.max_columns', None)\n",
        "\n",
        "pd.set_option('display.max_rows', None)"
      ]
    },
    {
      "cell_type": "code",
      "source": [
        "url = \"https://github.com/Nokulunga77/Heart-Failure-kaggle/blob/main/heart.csv?raw=true\" # Make sure the url is the raw version of the file on GitHub\n",
        "download = requests.get(url).content\n",
        "\n",
        "# Reading the downloaded content and turning it into a pandas dataframe\n",
        "df = pd.read_csv(io.StringIO(download.decode('utf-8')))"
      ],
      "metadata": {
        "id": "wWqaMPCTVKN9"
      },
      "execution_count": 2,
      "outputs": []
    },
    {
      "cell_type": "markdown",
      "source": [
        "**Attribute Information**\n",
        "\n",
        "1. Age: age of the patient [years]\n",
        "\n",
        "2. Sex: sex of the patient [M: Male, F: Female]\n",
        "\n",
        "3. ChestPainType: chest pain type [TA: Typical Angina, ATA: Atypical Angina, NAP: Non-Anginal Pain, ASY: Asymptomatic]\n",
        "\n",
        "4. RestingBP: resting blood pressure [mm Hg]\n",
        "\n",
        "5. Cholesterol: serum cholesterol [mm/dl]\n",
        "\n",
        "6. FastingBS: fasting blood sugar [1: if FastingBS > 120 mg/dl, 0: otherwise]\n",
        "\n",
        "7. RestingECG: resting electrocardiogram results [Normal: Normal, ST: having ST-T wave abnormality (T wave inversions and/or ST elevation or depression of > 0.05 mV), LVH: showing probable or definite left ventricular hypertrophy by Estes' criteria]\n",
        "\n",
        "8. MaxHR: maximum heart rate achieved [Numeric value between 60 and 202]\n",
        "\n",
        "9. ExerciseAngina: exercise-induced angina [Y: Yes, N: No]\n",
        "\n",
        "10. Oldpeak: oldpeak = ST [Numeric value measured in depression]\n",
        "\n",
        "11. ST_Slope: the slope of the peak exercise ST segment [Up: upsloping, Flat: flat, Down: downsloping]\n",
        "\n",
        "12. HeartDisease: output class [1: heart disease, 0: Normal]"
      ],
      "metadata": {
        "id": "89mBKf9LYjMq"
      }
    },
    {
      "cell_type": "markdown",
      "source": [
        "<a id=\"cleaning\"></a>\n",
        "## 3. **Data Preprocessing**"
      ],
      "metadata": {
        "id": "nE3-VkgAlD7Y"
      }
    },
    {
      "cell_type": "code",
      "source": [
        "df.head()"
      ],
      "metadata": {
        "colab": {
          "base_uri": "https://localhost:8080/",
          "height": 206
        },
        "id": "XHCM8daddtwR",
        "outputId": "05b823f2-305e-4435-e4bf-15a5760b4aaa"
      },
      "execution_count": null,
      "outputs": [
        {
          "output_type": "execute_result",
          "data": {
            "text/plain": [
              "   Age Sex ChestPainType  RestingBP  Cholesterol  FastingBS RestingECG  MaxHR  \\\n",
              "0   40   M           ATA        140          289          0     Normal    172   \n",
              "1   49   F           NAP        160          180          0     Normal    156   \n",
              "2   37   M           ATA        130          283          0         ST     98   \n",
              "3   48   F           ASY        138          214          0     Normal    108   \n",
              "4   54   M           NAP        150          195          0     Normal    122   \n",
              "\n",
              "  ExerciseAngina  Oldpeak ST_Slope  HeartDisease  \n",
              "0              N      0.0       Up             0  \n",
              "1              N      1.0     Flat             1  \n",
              "2              N      0.0       Up             0  \n",
              "3              Y      1.5     Flat             1  \n",
              "4              N      0.0       Up             0  "
            ],
            "text/html": [
              "\n",
              "  <div id=\"df-580e2107-b2f5-4e20-bb6f-64db6f32457a\">\n",
              "    <div class=\"colab-df-container\">\n",
              "      <div>\n",
              "<style scoped>\n",
              "    .dataframe tbody tr th:only-of-type {\n",
              "        vertical-align: middle;\n",
              "    }\n",
              "\n",
              "    .dataframe tbody tr th {\n",
              "        vertical-align: top;\n",
              "    }\n",
              "\n",
              "    .dataframe thead th {\n",
              "        text-align: right;\n",
              "    }\n",
              "</style>\n",
              "<table border=\"1\" class=\"dataframe\">\n",
              "  <thead>\n",
              "    <tr style=\"text-align: right;\">\n",
              "      <th></th>\n",
              "      <th>Age</th>\n",
              "      <th>Sex</th>\n",
              "      <th>ChestPainType</th>\n",
              "      <th>RestingBP</th>\n",
              "      <th>Cholesterol</th>\n",
              "      <th>FastingBS</th>\n",
              "      <th>RestingECG</th>\n",
              "      <th>MaxHR</th>\n",
              "      <th>ExerciseAngina</th>\n",
              "      <th>Oldpeak</th>\n",
              "      <th>ST_Slope</th>\n",
              "      <th>HeartDisease</th>\n",
              "    </tr>\n",
              "  </thead>\n",
              "  <tbody>\n",
              "    <tr>\n",
              "      <th>0</th>\n",
              "      <td>40</td>\n",
              "      <td>M</td>\n",
              "      <td>ATA</td>\n",
              "      <td>140</td>\n",
              "      <td>289</td>\n",
              "      <td>0</td>\n",
              "      <td>Normal</td>\n",
              "      <td>172</td>\n",
              "      <td>N</td>\n",
              "      <td>0.0</td>\n",
              "      <td>Up</td>\n",
              "      <td>0</td>\n",
              "    </tr>\n",
              "    <tr>\n",
              "      <th>1</th>\n",
              "      <td>49</td>\n",
              "      <td>F</td>\n",
              "      <td>NAP</td>\n",
              "      <td>160</td>\n",
              "      <td>180</td>\n",
              "      <td>0</td>\n",
              "      <td>Normal</td>\n",
              "      <td>156</td>\n",
              "      <td>N</td>\n",
              "      <td>1.0</td>\n",
              "      <td>Flat</td>\n",
              "      <td>1</td>\n",
              "    </tr>\n",
              "    <tr>\n",
              "      <th>2</th>\n",
              "      <td>37</td>\n",
              "      <td>M</td>\n",
              "      <td>ATA</td>\n",
              "      <td>130</td>\n",
              "      <td>283</td>\n",
              "      <td>0</td>\n",
              "      <td>ST</td>\n",
              "      <td>98</td>\n",
              "      <td>N</td>\n",
              "      <td>0.0</td>\n",
              "      <td>Up</td>\n",
              "      <td>0</td>\n",
              "    </tr>\n",
              "    <tr>\n",
              "      <th>3</th>\n",
              "      <td>48</td>\n",
              "      <td>F</td>\n",
              "      <td>ASY</td>\n",
              "      <td>138</td>\n",
              "      <td>214</td>\n",
              "      <td>0</td>\n",
              "      <td>Normal</td>\n",
              "      <td>108</td>\n",
              "      <td>Y</td>\n",
              "      <td>1.5</td>\n",
              "      <td>Flat</td>\n",
              "      <td>1</td>\n",
              "    </tr>\n",
              "    <tr>\n",
              "      <th>4</th>\n",
              "      <td>54</td>\n",
              "      <td>M</td>\n",
              "      <td>NAP</td>\n",
              "      <td>150</td>\n",
              "      <td>195</td>\n",
              "      <td>0</td>\n",
              "      <td>Normal</td>\n",
              "      <td>122</td>\n",
              "      <td>N</td>\n",
              "      <td>0.0</td>\n",
              "      <td>Up</td>\n",
              "      <td>0</td>\n",
              "    </tr>\n",
              "  </tbody>\n",
              "</table>\n",
              "</div>\n",
              "      <button class=\"colab-df-convert\" onclick=\"convertToInteractive('df-580e2107-b2f5-4e20-bb6f-64db6f32457a')\"\n",
              "              title=\"Convert this dataframe to an interactive table.\"\n",
              "              style=\"display:none;\">\n",
              "        \n",
              "  <svg xmlns=\"http://www.w3.org/2000/svg\" height=\"24px\"viewBox=\"0 0 24 24\"\n",
              "       width=\"24px\">\n",
              "    <path d=\"M0 0h24v24H0V0z\" fill=\"none\"/>\n",
              "    <path d=\"M18.56 5.44l.94 2.06.94-2.06 2.06-.94-2.06-.94-.94-2.06-.94 2.06-2.06.94zm-11 1L8.5 8.5l.94-2.06 2.06-.94-2.06-.94L8.5 2.5l-.94 2.06-2.06.94zm10 10l.94 2.06.94-2.06 2.06-.94-2.06-.94-.94-2.06-.94 2.06-2.06.94z\"/><path d=\"M17.41 7.96l-1.37-1.37c-.4-.4-.92-.59-1.43-.59-.52 0-1.04.2-1.43.59L10.3 9.45l-7.72 7.72c-.78.78-.78 2.05 0 2.83L4 21.41c.39.39.9.59 1.41.59.51 0 1.02-.2 1.41-.59l7.78-7.78 2.81-2.81c.8-.78.8-2.07 0-2.86zM5.41 20L4 18.59l7.72-7.72 1.47 1.35L5.41 20z\"/>\n",
              "  </svg>\n",
              "      </button>\n",
              "      \n",
              "  <style>\n",
              "    .colab-df-container {\n",
              "      display:flex;\n",
              "      flex-wrap:wrap;\n",
              "      gap: 12px;\n",
              "    }\n",
              "\n",
              "    .colab-df-convert {\n",
              "      background-color: #E8F0FE;\n",
              "      border: none;\n",
              "      border-radius: 50%;\n",
              "      cursor: pointer;\n",
              "      display: none;\n",
              "      fill: #1967D2;\n",
              "      height: 32px;\n",
              "      padding: 0 0 0 0;\n",
              "      width: 32px;\n",
              "    }\n",
              "\n",
              "    .colab-df-convert:hover {\n",
              "      background-color: #E2EBFA;\n",
              "      box-shadow: 0px 1px 2px rgba(60, 64, 67, 0.3), 0px 1px 3px 1px rgba(60, 64, 67, 0.15);\n",
              "      fill: #174EA6;\n",
              "    }\n",
              "\n",
              "    [theme=dark] .colab-df-convert {\n",
              "      background-color: #3B4455;\n",
              "      fill: #D2E3FC;\n",
              "    }\n",
              "\n",
              "    [theme=dark] .colab-df-convert:hover {\n",
              "      background-color: #434B5C;\n",
              "      box-shadow: 0px 1px 3px 1px rgba(0, 0, 0, 0.15);\n",
              "      filter: drop-shadow(0px 1px 2px rgba(0, 0, 0, 0.3));\n",
              "      fill: #FFFFFF;\n",
              "    }\n",
              "  </style>\n",
              "\n",
              "      <script>\n",
              "        const buttonEl =\n",
              "          document.querySelector('#df-580e2107-b2f5-4e20-bb6f-64db6f32457a button.colab-df-convert');\n",
              "        buttonEl.style.display =\n",
              "          google.colab.kernel.accessAllowed ? 'block' : 'none';\n",
              "\n",
              "        async function convertToInteractive(key) {\n",
              "          const element = document.querySelector('#df-580e2107-b2f5-4e20-bb6f-64db6f32457a');\n",
              "          const dataTable =\n",
              "            await google.colab.kernel.invokeFunction('convertToInteractive',\n",
              "                                                     [key], {});\n",
              "          if (!dataTable) return;\n",
              "\n",
              "          const docLinkHtml = 'Like what you see? Visit the ' +\n",
              "            '<a target=\"_blank\" href=https://colab.research.google.com/notebooks/data_table.ipynb>data table notebook</a>'\n",
              "            + ' to learn more about interactive tables.';\n",
              "          element.innerHTML = '';\n",
              "          dataTable['output_type'] = 'display_data';\n",
              "          await google.colab.output.renderOutput(dataTable, element);\n",
              "          const docLink = document.createElement('div');\n",
              "          docLink.innerHTML = docLinkHtml;\n",
              "          element.appendChild(docLink);\n",
              "        }\n",
              "      </script>\n",
              "    </div>\n",
              "  </div>\n",
              "  "
            ]
          },
          "metadata": {},
          "execution_count": 4
        }
      ]
    },
    {
      "cell_type": "code",
      "source": [
        "df.info()"
      ],
      "metadata": {
        "colab": {
          "base_uri": "https://localhost:8080/"
        },
        "id": "QdiliFV5wbSM",
        "outputId": "33bf4485-6f25-48a1-b4cd-5d23072efb18"
      },
      "execution_count": null,
      "outputs": [
        {
          "output_type": "stream",
          "name": "stdout",
          "text": [
            "<class 'pandas.core.frame.DataFrame'>\n",
            "RangeIndex: 918 entries, 0 to 917\n",
            "Data columns (total 12 columns):\n",
            " #   Column          Non-Null Count  Dtype  \n",
            "---  ------          --------------  -----  \n",
            " 0   Age             918 non-null    int64  \n",
            " 1   Sex             918 non-null    object \n",
            " 2   ChestPainType   918 non-null    object \n",
            " 3   RestingBP       918 non-null    int64  \n",
            " 4   Cholesterol     918 non-null    int64  \n",
            " 5   FastingBS       918 non-null    int64  \n",
            " 6   RestingECG      918 non-null    object \n",
            " 7   MaxHR           918 non-null    int64  \n",
            " 8   ExerciseAngina  918 non-null    object \n",
            " 9   Oldpeak         918 non-null    float64\n",
            " 10  ST_Slope        918 non-null    object \n",
            " 11  HeartDisease    918 non-null    int64  \n",
            "dtypes: float64(1), int64(6), object(5)\n",
            "memory usage: 86.2+ KB\n"
          ]
        }
      ]
    },
    {
      "cell_type": "code",
      "source": [
        "df.HeartDisease.value_counts()"
      ],
      "metadata": {
        "colab": {
          "base_uri": "https://localhost:8080/"
        },
        "id": "NNjiuicykXMD",
        "outputId": "0871b892-288b-4d6a-cd5d-df375548727e"
      },
      "execution_count": null,
      "outputs": [
        {
          "output_type": "execute_result",
          "data": {
            "text/plain": [
              "1    508\n",
              "0    410\n",
              "Name: HeartDisease, dtype: int64"
            ]
          },
          "metadata": {},
          "execution_count": 16
        }
      ]
    },
    {
      "cell_type": "code",
      "source": [
        "df.Cholesterol.describe()"
      ],
      "metadata": {
        "id": "h6FI6p67olMj",
        "outputId": "de2b9d30-ca9b-4f7d-f458-384fbe8bb4dd",
        "colab": {
          "base_uri": "https://localhost:8080/"
        }
      },
      "execution_count": null,
      "outputs": [
        {
          "output_type": "execute_result",
          "data": {
            "text/plain": [
              "count    918.000000\n",
              "mean     198.799564\n",
              "std      109.384145\n",
              "min        0.000000\n",
              "25%      173.250000\n",
              "50%      223.000000\n",
              "75%      267.000000\n",
              "max      603.000000\n",
              "Name: Cholesterol, dtype: float64"
            ]
          },
          "metadata": {},
          "execution_count": 16
        }
      ]
    },
    {
      "cell_type": "markdown",
      "source": [
        "<a id=\"EDA\"></a>\n",
        "## 4. **Exploratory Data Analysis**"
      ],
      "metadata": {
        "id": "Iwmpv8H8lK5E"
      }
    },
    {
      "cell_type": "code",
      "source": [
        "sns.countplot(x = 'HeartDisease', data = df, palette=\"hls\" )"
      ],
      "metadata": {
        "id": "rYFXSyZvl_8n",
        "outputId": "55f5cd5a-3834-4635-8492-006874f5340d",
        "colab": {
          "base_uri": "https://localhost:8080/",
          "height": 296
        }
      },
      "execution_count": null,
      "outputs": [
        {
          "output_type": "execute_result",
          "data": {
            "text/plain": [
              "<matplotlib.axes._subplots.AxesSubplot at 0x7f39bd13a5d0>"
            ]
          },
          "metadata": {},
          "execution_count": 5
        },
        {
          "output_type": "display_data",
          "data": {
            "text/plain": [
              "<Figure size 432x288 with 1 Axes>"
            ],
            "image/png": "[encoded data removed]"
          },
          "metadata": {
            "needs_background": "light"
          }
        }
      ]
    },
    {
      "cell_type": "code",
      "source": [
        "from matplotlib import rcParams\n",
        "sns.countplot(x = 'Age', data = df[df['Sex'] == 'M'], palette=\"hls\", hue = 'HeartDisease' )\n",
        "rcParams['figure.figsize'] = 30,10\n",
        "plt.title(\"Distribution of Age and Sex (M)\");"
      ],
      "metadata": {
        "colab": {
          "base_uri": "https://localhost:8080/",
          "height": 453
        },
        "id": "JSzcYIz04Bsm",
        "outputId": "cdc7ff94-fbd9-4158-dba8-15c7d6a4e8c7"
      },
      "execution_count": null,
      "outputs": [
        {
          "output_type": "display_data",
          "data": {
            "text/plain": [
              "<Figure size 2160x720 with 1 Axes>"
            ],
            "image/png": "[encoded data removed]"
          },
          "metadata": {
            "needs_background": "light"
          }
        }
      ]
    },
    {
      "cell_type": "code",
      "source": [
        "sns.countplot(x = 'Age', data = df[df['Sex'] == 'F'] , palette=\"hls\", hue = 'HeartDisease')\n",
        "rcParams['figure.figsize'] = 30,10\n",
        "plt.title(\"Distribution of Age and Sex (F)\");"
      ],
      "metadata": {
        "id": "7uBulQwGu4mD",
        "outputId": "0e73aa51-ddc2-43d3-fd58-36d99ef10e89",
        "colab": {
          "base_uri": "https://localhost:8080/",
          "height": 641
        }
      },
      "execution_count": null,
      "outputs": [
        {
          "output_type": "display_data",
          "data": {
            "text/plain": [
              "<Figure size 2160x720 with 1 Axes>"
            ],
            "image/png": "[encoded data removed]"
          },
          "metadata": {
            "needs_background": "light"
          }
        }
      ]
    },
    {
      "cell_type": "code",
      "source": [
        "fig, ax = plt.subplots(2, 3, figsize=(16, 8))\n",
        "\n",
        "sns.countplot(x = 'Sex', data = df, hue = \"HeartDisease\", palette = \"rocket\", ax = ax[0,0])\n",
        "sns.countplot(x = 'ChestPainType', data = df, hue = \"HeartDisease\", palette = \"rocket\", ax = ax[0,1])\n",
        "sns.countplot(x = 'RestingECG', data = df, hue = \"HeartDisease\",palette = \"rocket\", ax = ax[0,2])\n",
        "\n",
        "sns.countplot(x = 'ExerciseAngina', data = df, hue = \"HeartDisease\", palette = \"rocket\", ax = ax[1,0])\n",
        "sns.countplot(x = 'ST_Slope', data = df, hue = \"HeartDisease\", palette = \"rocket\", ax = ax[1,1])\n",
        "sns.countplot(x = 'FastingBS', data = df, hue = \"HeartDisease\", palette = \"rocket\", ax = ax[1,2])\n",
        "\n",
        "fig.tight_layout()"
      ],
      "metadata": {
        "id": "a8n7WAnn48A0",
        "outputId": "2010d40f-84aa-4db1-e3d9-19b6990573aa",
        "colab": {
          "base_uri": "https://localhost:8080/",
          "height": 585
        }
      },
      "execution_count": null,
      "outputs": [
        {
          "output_type": "display_data",
          "data": {
            "text/plain": [
              "<Figure size 1152x576 with 6 Axes>"
            ],
            "image/png": "[encoded data removed]"
          },
          "metadata": {
            "needs_background": "light"
          }
        }
      ]
    },
    {
      "cell_type": "markdown",
      "source": [
        "<a id=\"features\"></a>\n",
        "## 5. **Feature engineering And Selection**"
      ],
      "metadata": {
        "id": "uATEgA9ZlToh"
      }
    },
    {
      "cell_type": "markdown",
      "source": [
        "Label Encoding refers to converting the labels into a numeric form so as to convert them into the machine-readable form. Machine learning algorithms can then decide in a better way how those labels must be operated. It is an important pre-processing step for the structured dataset in supervised learning."
      ],
      "metadata": {
        "id": "JjHcU8susNJ4"
      }
    },
    {
      "cell_type": "markdown",
      "source": [
        "**Dealing With Zero Cholesterol Values**"
      ],
      "metadata": {
        "id": "MsOG0duAAmZU"
      }
    },
    {
      "cell_type": "markdown",
      "source": [
        "There are rows where the Cholesterol is equal to zero. We replace the zero with the mean value of the age group."
      ],
      "metadata": {
        "id": "w8QiV_GCAu-Y"
      }
    },
    {
      "cell_type": "code",
      "source": [
        "df.groupby('Age').mean()"
      ],
      "metadata": {
        "id": "9GFeBDpHAlNM",
        "outputId": "24cd7da5-3075-4deb-e626-34be588c0780",
        "colab": {
          "base_uri": "https://localhost:8080/",
          "height": 1000
        }
      },
      "execution_count": 31,
      "outputs": [
        {
          "output_type": "execute_result",
          "data": {
            "text/plain": [
              "      RestingBP  Cholesterol  FastingBS       MaxHR   Oldpeak  HeartDisease\n",
              "Age                                                                        \n",
              "28   130.000000   132.000000   0.000000  185.000000  0.000000      0.000000\n",
              "29   130.000000   236.666667   0.000000  177.333333  0.000000      0.000000\n",
              "30   170.000000   237.000000   0.000000  170.000000  0.000000      0.000000\n",
              "31   110.000000   244.500000   0.000000  151.500000  0.750000      0.500000\n",
              "32   110.600000   241.200000   0.200000  152.200000  0.140000      0.400000\n",
              "33   110.000000   272.000000   0.000000  167.500000  0.500000      0.500000\n",
              "34   124.142857   163.285714   0.142857  172.571429  0.128571      0.285714\n",
              "35   126.272727   197.454545   0.090909  158.909091  0.372727      0.363636\n",
              "36   123.666667   190.333333   0.166667  166.500000  0.833333      0.333333\n",
              "37   127.090909   233.727273   0.000000  152.909091  0.545455      0.090909\n",
              "38   120.000000   146.500000   0.187500  149.250000  0.700000      0.687500\n",
              "39   127.333333   239.200000   0.066667  150.800000  0.280000      0.133333\n",
              "40   128.307692   229.384615   0.230769  150.692308  0.492308      0.461538\n",
              "41   120.458333   216.500000   0.083333  154.416667  0.520833      0.250000\n",
              "42   129.166667   212.222222   0.111111  150.833333  0.222222      0.166667\n",
              "43   126.666667   202.333333   0.125000  147.875000  0.829167      0.458333\n",
              "44   125.947368   249.578947   0.000000  154.263158  0.531579      0.315789\n",
              "45   129.222222   229.333333   0.055556  148.277778  0.333333      0.166667\n",
              "46   126.375000   217.166667   0.125000  136.250000  0.520833      0.541667\n",
              "47   132.526316   193.421053   0.210526  139.842105  0.773684      0.578947\n",
              "48   128.000000   228.193548   0.258065  136.161290  0.729032      0.483871\n",
              "49   129.047619   213.476190   0.000000  146.619048  0.661905      0.523810\n",
              "50   135.000000   199.200000   0.080000  139.360000  0.824000      0.560000\n",
              "51   127.742857   175.885714   0.342857  135.742857  0.825714      0.428571\n",
              "52   133.638889   200.277778   0.250000  141.944444  0.866667      0.527778\n",
              "53   131.090909   181.030303   0.272727  131.575758  0.718182      0.454545\n",
              "54   133.568627   231.980392   0.156863  137.294118  0.845098      0.450980\n",
              "55   131.317073   218.463415   0.195122  133.390244  1.034146      0.585366\n",
              "56   133.894737   174.789474   0.368421  128.894737  0.978947      0.657895\n",
              "57   136.368421   202.315789   0.342105  133.631579  1.002632      0.684211\n",
              "58   132.000000   217.285714   0.285714  130.380952  1.007143      0.666667\n",
              "59   141.085714   175.714286   0.257143  134.600000  0.982857      0.657143\n",
              "60   135.468750   167.656250   0.343750  135.250000  1.218750      0.750000\n",
              "61   137.483871   162.580645   0.354839  121.000000  1.303226      0.838710\n",
              "62   134.885714   166.742857   0.314286  121.028571  1.214286      0.714286\n",
              "63   136.833333   157.600000   0.300000  128.933333  1.420000      0.766667\n",
              "64   137.590909   205.318182   0.272727  128.318182  1.204545      0.681818\n",
              "65   141.761905   207.571429   0.333333  125.904762  1.171429      0.714286\n",
              "66   139.461538   179.461538   0.230769  124.846154  0.900000      0.538462\n",
              "67   133.533333   254.866667   0.266667  132.133333  1.120000      0.800000\n",
              "68   140.300000   158.500000   0.600000  136.100000  1.250000      0.600000\n",
              "69   139.461538   156.230769   0.538462  122.307692  1.238462      0.769231\n",
              "70   145.142857   171.714286   0.142857  123.857143  1.842857      0.857143\n",
              "71   131.200000   231.600000   0.200000  128.000000  0.760000      0.400000\n",
              "72   145.750000   137.000000   0.250000  113.750000  1.375000      0.750000\n",
              "73   160.000000     0.000000   0.000000  121.000000  0.000000      1.000000\n",
              "74   141.857143   184.285714   0.571429  116.000000  1.285714      0.714286\n",
              "75   155.333333   246.000000   0.666667  110.666667  1.666667      0.666667\n",
              "76   122.000000   155.000000   0.000000  118.000000  2.300000      0.500000\n",
              "77   124.500000   237.500000   0.000000  136.000000  1.000000      1.000000"
            ],
            "text/html": [
              "\n",
              "  <div id=\"df-c726b997-86ac-431f-804d-ce1ec6903930\">\n",
              "    <div class=\"colab-df-container\">\n",
              "      <div>\n",
              "<style scoped>\n",
              "    .dataframe tbody tr th:only-of-type {\n",
              "        vertical-align: middle;\n",
              "    }\n",
              "\n",
              "    .dataframe tbody tr th {\n",
              "        vertical-align: top;\n",
              "    }\n",
              "\n",
              "    .dataframe thead th {\n",
              "        text-align: right;\n",
              "    }\n",
              "</style>\n",
              "<table border=\"1\" class=\"dataframe\">\n",
              "  <thead>\n",
              "    <tr style=\"text-align: right;\">\n",
              "      <th></th>\n",
              "      <th>RestingBP</th>\n",
              "      <th>Cholesterol</th>\n",
              "      <th>FastingBS</th>\n",
              "      <th>MaxHR</th>\n",
              "      <th>Oldpeak</th>\n",
              "      <th>HeartDisease</th>\n",
              "    </tr>\n",
              "    <tr>\n",
              "      <th>Age</th>\n",
              "      <th></th>\n",
              "      <th></th>\n",
              "      <th></th>\n",
              "      <th></th>\n",
              "      <th></th>\n",
              "      <th></th>\n",
              "    </tr>\n",
              "  </thead>\n",
              "  <tbody>\n",
              "    <tr>\n",
              "      <th>28</th>\n",
              "      <td>130.000000</td>\n",
              "      <td>132.000000</td>\n",
              "      <td>0.000000</td>\n",
              "      <td>185.000000</td>\n",
              "      <td>0.000000</td>\n",
              "      <td>0.000000</td>\n",
              "    </tr>\n",
              "    <tr>\n",
              "      <th>29</th>\n",
              "      <td>130.000000</td>\n",
              "      <td>236.666667</td>\n",
              "      <td>0.000000</td>\n",
              "      <td>177.333333</td>\n",
              "      <td>0.000000</td>\n",
              "      <td>0.000000</td>\n",
              "    </tr>\n",
              "    <tr>\n",
              "      <th>30</th>\n",
              "      <td>170.000000</td>\n",
              "      <td>237.000000</td>\n",
              "      <td>0.000000</td>\n",
              "      <td>170.000000</td>\n",
              "      <td>0.000000</td>\n",
              "      <td>0.000000</td>\n",
              "    </tr>\n",
              "    <tr>\n",
              "      <th>31</th>\n",
              "      <td>110.000000</td>\n",
              "      <td>244.500000</td>\n",
              "      <td>0.000000</td>\n",
              "      <td>151.500000</td>\n",
              "      <td>0.750000</td>\n",
              "      <td>0.500000</td>\n",
              "    </tr>\n",
              "    <tr>\n",
              "      <th>32</th>\n",
              "      <td>110.600000</td>\n",
              "      <td>241.200000</td>\n",
              "      <td>0.200000</td>\n",
              "      <td>152.200000</td>\n",
              "      <td>0.140000</td>\n",
              "      <td>0.400000</td>\n",
              "    </tr>\n",
              "    <tr>\n",
              "      <th>33</th>\n",
              "      <td>110.000000</td>\n",
              "      <td>272.000000</td>\n",
              "      <td>0.000000</td>\n",
              "      <td>167.500000</td>\n",
              "      <td>0.500000</td>\n",
              "      <td>0.500000</td>\n",
              "    </tr>\n",
              "    <tr>\n",
              "      <th>34</th>\n",
              "      <td>124.142857</td>\n",
              "      <td>163.285714</td>\n",
              "      <td>0.142857</td>\n",
              "      <td>172.571429</td>\n",
              "      <td>0.128571</td>\n",
              "      <td>0.285714</td>\n",
              "    </tr>\n",
              "    <tr>\n",
              "      <th>35</th>\n",
              "      <td>126.272727</td>\n",
              "      <td>197.454545</td>\n",
              "      <td>0.090909</td>\n",
              "      <td>158.909091</td>\n",
              "      <td>0.372727</td>\n",
              "      <td>0.363636</td>\n",
              "    </tr>\n",
              "    <tr>\n",
              "      <th>36</th>\n",
              "      <td>123.666667</td>\n",
              "      <td>190.333333</td>\n",
              "      <td>0.166667</td>\n",
              "      <td>166.500000</td>\n",
              "      <td>0.833333</td>\n",
              "      <td>0.333333</td>\n",
              "    </tr>\n",
              "    <tr>\n",
              "      <th>37</th>\n",
              "      <td>127.090909</td>\n",
              "      <td>233.727273</td>\n",
              "      <td>0.000000</td>\n",
              "      <td>152.909091</td>\n",
              "      <td>0.545455</td>\n",
              "      <td>0.090909</td>\n",
              "    </tr>\n",
              "    <tr>\n",
              "      <th>38</th>\n",
              "      <td>120.000000</td>\n",
              "      <td>146.500000</td>\n",
              "      <td>0.187500</td>\n",
              "      <td>149.250000</td>\n",
              "      <td>0.700000</td>\n",
              "      <td>0.687500</td>\n",
              "    </tr>\n",
              "    <tr>\n",
              "      <th>39</th>\n",
              "      <td>127.333333</td>\n",
              "      <td>239.200000</td>\n",
              "      <td>0.066667</td>\n",
              "      <td>150.800000</td>\n",
              "      <td>0.280000</td>\n",
              "      <td>0.133333</td>\n",
              "    </tr>\n",
              "    <tr>\n",
              "      <th>40</th>\n",
              "      <td>128.307692</td>\n",
              "      <td>229.384615</td>\n",
              "      <td>0.230769</td>\n",
              "      <td>150.692308</td>\n",
              "      <td>0.492308</td>\n",
              "      <td>0.461538</td>\n",
              "    </tr>\n",
              "    <tr>\n",
              "      <th>41</th>\n",
              "      <td>120.458333</td>\n",
              "      <td>216.500000</td>\n",
              "      <td>0.083333</td>\n",
              "      <td>154.416667</td>\n",
              "      <td>0.520833</td>\n",
              "      <td>0.250000</td>\n",
              "    </tr>\n",
              "    <tr>\n",
              "      <th>42</th>\n",
              "      <td>129.166667</td>\n",
              "      <td>212.222222</td>\n",
              "      <td>0.111111</td>\n",
              "      <td>150.833333</td>\n",
              "      <td>0.222222</td>\n",
              "      <td>0.166667</td>\n",
              "    </tr>\n",
              "    <tr>\n",
              "      <th>43</th>\n",
              "      <td>126.666667</td>\n",
              "      <td>202.333333</td>\n",
              "      <td>0.125000</td>\n",
              "      <td>147.875000</td>\n",
              "      <td>0.829167</td>\n",
              "      <td>0.458333</td>\n",
              "    </tr>\n",
              "    <tr>\n",
              "      <th>44</th>\n",
              "      <td>125.947368</td>\n",
              "      <td>249.578947</td>\n",
              "      <td>0.000000</td>\n",
              "      <td>154.263158</td>\n",
              "      <td>0.531579</td>\n",
              "      <td>0.315789</td>\n",
              "    </tr>\n",
              "    <tr>\n",
              "      <th>45</th>\n",
              "      <td>129.222222</td>\n",
              "      <td>229.333333</td>\n",
              "      <td>0.055556</td>\n",
              "      <td>148.277778</td>\n",
              "      <td>0.333333</td>\n",
              "      <td>0.166667</td>\n",
              "    </tr>\n",
              "    <tr>\n",
              "      <th>46</th>\n",
              "      <td>126.375000</td>\n",
              "      <td>217.166667</td>\n",
              "      <td>0.125000</td>\n",
              "      <td>136.250000</td>\n",
              "      <td>0.520833</td>\n",
              "      <td>0.541667</td>\n",
              "    </tr>\n",
              "    <tr>\n",
              "      <th>47</th>\n",
              "      <td>132.526316</td>\n",
              "      <td>193.421053</td>\n",
              "      <td>0.210526</td>\n",
              "      <td>139.842105</td>\n",
              "      <td>0.773684</td>\n",
              "      <td>0.578947</td>\n",
              "    </tr>\n",
              "    <tr>\n",
              "      <th>48</th>\n",
              "      <td>128.000000</td>\n",
              "      <td>228.193548</td>\n",
              "      <td>0.258065</td>\n",
              "      <td>136.161290</td>\n",
              "      <td>0.729032</td>\n",
              "      <td>0.483871</td>\n",
              "    </tr>\n",
              "    <tr>\n",
              "      <th>49</th>\n",
              "      <td>129.047619</td>\n",
              "      <td>213.476190</td>\n",
              "      <td>0.000000</td>\n",
              "      <td>146.619048</td>\n",
              "      <td>0.661905</td>\n",
              "      <td>0.523810</td>\n",
              "    </tr>\n",
              "    <tr>\n",
              "      <th>50</th>\n",
              "      <td>135.000000</td>\n",
              "      <td>199.200000</td>\n",
              "      <td>0.080000</td>\n",
              "      <td>139.360000</td>\n",
              "      <td>0.824000</td>\n",
              "      <td>0.560000</td>\n",
              "    </tr>\n",
              "    <tr>\n",
              "      <th>51</th>\n",
              "      <td>127.742857</td>\n",
              "      <td>175.885714</td>\n",
              "      <td>0.342857</td>\n",
              "      <td>135.742857</td>\n",
              "      <td>0.825714</td>\n",
              "      <td>0.428571</td>\n",
              "    </tr>\n",
              "    <tr>\n",
              "      <th>52</th>\n",
              "      <td>133.638889</td>\n",
              "      <td>200.277778</td>\n",
              "      <td>0.250000</td>\n",
              "      <td>141.944444</td>\n",
              "      <td>0.866667</td>\n",
              "      <td>0.527778</td>\n",
              "    </tr>\n",
              "    <tr>\n",
              "      <th>53</th>\n",
              "      <td>131.090909</td>\n",
              "      <td>181.030303</td>\n",
              "      <td>0.272727</td>\n",
              "      <td>131.575758</td>\n",
              "      <td>0.718182</td>\n",
              "      <td>0.454545</td>\n",
              "    </tr>\n",
              "    <tr>\n",
              "      <th>54</th>\n",
              "      <td>133.568627</td>\n",
              "      <td>231.980392</td>\n",
              "      <td>0.156863</td>\n",
              "      <td>137.294118</td>\n",
              "      <td>0.845098</td>\n",
              "      <td>0.450980</td>\n",
              "    </tr>\n",
              "    <tr>\n",
              "      <th>55</th>\n",
              "      <td>131.317073</td>\n",
              "      <td>218.463415</td>\n",
              "      <td>0.195122</td>\n",
              "      <td>133.390244</td>\n",
              "      <td>1.034146</td>\n",
              "      <td>0.585366</td>\n",
              "    </tr>\n",
              "    <tr>\n",
              "      <th>56</th>\n",
              "      <td>133.894737</td>\n",
              "      <td>174.789474</td>\n",
              "      <td>0.368421</td>\n",
              "      <td>128.894737</td>\n",
              "      <td>0.978947</td>\n",
              "      <td>0.657895</td>\n",
              "    </tr>\n",
              "    <tr>\n",
              "      <th>57</th>\n",
              "      <td>136.368421</td>\n",
              "      <td>202.315789</td>\n",
              "      <td>0.342105</td>\n",
              "      <td>133.631579</td>\n",
              "      <td>1.002632</td>\n",
              "      <td>0.684211</td>\n",
              "    </tr>\n",
              "    <tr>\n",
              "      <th>58</th>\n",
              "      <td>132.000000</td>\n",
              "      <td>217.285714</td>\n",
              "      <td>0.285714</td>\n",
              "      <td>130.380952</td>\n",
              "      <td>1.007143</td>\n",
              "      <td>0.666667</td>\n",
              "    </tr>\n",
              "    <tr>\n",
              "      <th>59</th>\n",
              "      <td>141.085714</td>\n",
              "      <td>175.714286</td>\n",
              "      <td>0.257143</td>\n",
              "      <td>134.600000</td>\n",
              "      <td>0.982857</td>\n",
              "      <td>0.657143</td>\n",
              "    </tr>\n",
              "    <tr>\n",
              "      <th>60</th>\n",
              "      <td>135.468750</td>\n",
              "      <td>167.656250</td>\n",
              "      <td>0.343750</td>\n",
              "      <td>135.250000</td>\n",
              "      <td>1.218750</td>\n",
              "      <td>0.750000</td>\n",
              "    </tr>\n",
              "    <tr>\n",
              "      <th>61</th>\n",
              "      <td>137.483871</td>\n",
              "      <td>162.580645</td>\n",
              "      <td>0.354839</td>\n",
              "      <td>121.000000</td>\n",
              "      <td>1.303226</td>\n",
              "      <td>0.838710</td>\n",
              "    </tr>\n",
              "    <tr>\n",
              "      <th>62</th>\n",
              "      <td>134.885714</td>\n",
              "      <td>166.742857</td>\n",
              "      <td>0.314286</td>\n",
              "      <td>121.028571</td>\n",
              "      <td>1.214286</td>\n",
              "      <td>0.714286</td>\n",
              "    </tr>\n",
              "    <tr>\n",
              "      <th>63</th>\n",
              "      <td>136.833333</td>\n",
              "      <td>157.600000</td>\n",
              "      <td>0.300000</td>\n",
              "      <td>128.933333</td>\n",
              "      <td>1.420000</td>\n",
              "      <td>0.766667</td>\n",
              "    </tr>\n",
              "    <tr>\n",
              "      <th>64</th>\n",
              "      <td>137.590909</td>\n",
              "      <td>205.318182</td>\n",
              "      <td>0.272727</td>\n",
              "      <td>128.318182</td>\n",
              "      <td>1.204545</td>\n",
              "      <td>0.681818</td>\n",
              "    </tr>\n",
              "    <tr>\n",
              "      <th>65</th>\n",
              "      <td>141.761905</td>\n",
              "      <td>207.571429</td>\n",
              "      <td>0.333333</td>\n",
              "      <td>125.904762</td>\n",
              "      <td>1.171429</td>\n",
              "      <td>0.714286</td>\n",
              "    </tr>\n",
              "    <tr>\n",
              "      <th>66</th>\n",
              "      <td>139.461538</td>\n",
              "      <td>179.461538</td>\n",
              "      <td>0.230769</td>\n",
              "      <td>124.846154</td>\n",
              "      <td>0.900000</td>\n",
              "      <td>0.538462</td>\n",
              "    </tr>\n",
              "    <tr>\n",
              "      <th>67</th>\n",
              "      <td>133.533333</td>\n",
              "      <td>254.866667</td>\n",
              "      <td>0.266667</td>\n",
              "      <td>132.133333</td>\n",
              "      <td>1.120000</td>\n",
              "      <td>0.800000</td>\n",
              "    </tr>\n",
              "    <tr>\n",
              "      <th>68</th>\n",
              "      <td>140.300000</td>\n",
              "      <td>158.500000</td>\n",
              "      <td>0.600000</td>\n",
              "      <td>136.100000</td>\n",
              "      <td>1.250000</td>\n",
              "      <td>0.600000</td>\n",
              "    </tr>\n",
              "    <tr>\n",
              "      <th>69</th>\n",
              "      <td>139.461538</td>\n",
              "      <td>156.230769</td>\n",
              "      <td>0.538462</td>\n",
              "      <td>122.307692</td>\n",
              "      <td>1.238462</td>\n",
              "      <td>0.769231</td>\n",
              "    </tr>\n",
              "    <tr>\n",
              "      <th>70</th>\n",
              "      <td>145.142857</td>\n",
              "      <td>171.714286</td>\n",
              "      <td>0.142857</td>\n",
              "      <td>123.857143</td>\n",
              "      <td>1.842857</td>\n",
              "      <td>0.857143</td>\n",
              "    </tr>\n",
              "    <tr>\n",
              "      <th>71</th>\n",
              "      <td>131.200000</td>\n",
              "      <td>231.600000</td>\n",
              "      <td>0.200000</td>\n",
              "      <td>128.000000</td>\n",
              "      <td>0.760000</td>\n",
              "      <td>0.400000</td>\n",
              "    </tr>\n",
              "    <tr>\n",
              "      <th>72</th>\n",
              "      <td>145.750000</td>\n",
              "      <td>137.000000</td>\n",
              "      <td>0.250000</td>\n",
              "      <td>113.750000</td>\n",
              "      <td>1.375000</td>\n",
              "      <td>0.750000</td>\n",
              "    </tr>\n",
              "    <tr>\n",
              "      <th>73</th>\n",
              "      <td>160.000000</td>\n",
              "      <td>0.000000</td>\n",
              "      <td>0.000000</td>\n",
              "      <td>121.000000</td>\n",
              "      <td>0.000000</td>\n",
              "      <td>1.000000</td>\n",
              "    </tr>\n",
              "    <tr>\n",
              "      <th>74</th>\n",
              "      <td>141.857143</td>\n",
              "      <td>184.285714</td>\n",
              "      <td>0.571429</td>\n",
              "      <td>116.000000</td>\n",
              "      <td>1.285714</td>\n",
              "      <td>0.714286</td>\n",
              "    </tr>\n",
              "    <tr>\n",
              "      <th>75</th>\n",
              "      <td>155.333333</td>\n",
              "      <td>246.000000</td>\n",
              "      <td>0.666667</td>\n",
              "      <td>110.666667</td>\n",
              "      <td>1.666667</td>\n",
              "      <td>0.666667</td>\n",
              "    </tr>\n",
              "    <tr>\n",
              "      <th>76</th>\n",
              "      <td>122.000000</td>\n",
              "      <td>155.000000</td>\n",
              "      <td>0.000000</td>\n",
              "      <td>118.000000</td>\n",
              "      <td>2.300000</td>\n",
              "      <td>0.500000</td>\n",
              "    </tr>\n",
              "    <tr>\n",
              "      <th>77</th>\n",
              "      <td>124.500000</td>\n",
              "      <td>237.500000</td>\n",
              "      <td>0.000000</td>\n",
              "      <td>136.000000</td>\n",
              "      <td>1.000000</td>\n",
              "      <td>1.000000</td>\n",
              "    </tr>\n",
              "  </tbody>\n",
              "</table>\n",
              "</div>\n",
              "      <button class=\"colab-df-convert\" onclick=\"convertToInteractive('df-c726b997-86ac-431f-804d-ce1ec6903930')\"\n",
              "              title=\"Convert this dataframe to an interactive table.\"\n",
              "              style=\"display:none;\">\n",
              "        \n",
              "  <svg xmlns=\"http://www.w3.org/2000/svg\" height=\"24px\"viewBox=\"0 0 24 24\"\n",
              "       width=\"24px\">\n",
              "    <path d=\"M0 0h24v24H0V0z\" fill=\"none\"/>\n",
              "    <path d=\"M18.56 5.44l.94 2.06.94-2.06 2.06-.94-2.06-.94-.94-2.06-.94 2.06-2.06.94zm-11 1L8.5 8.5l.94-2.06 2.06-.94-2.06-.94L8.5 2.5l-.94 2.06-2.06.94zm10 10l.94 2.06.94-2.06 2.06-.94-2.06-.94-.94-2.06-.94 2.06-2.06.94z\"/><path d=\"M17.41 7.96l-1.37-1.37c-.4-.4-.92-.59-1.43-.59-.52 0-1.04.2-1.43.59L10.3 9.45l-7.72 7.72c-.78.78-.78 2.05 0 2.83L4 21.41c.39.39.9.59 1.41.59.51 0 1.02-.2 1.41-.59l7.78-7.78 2.81-2.81c.8-.78.8-2.07 0-2.86zM5.41 20L4 18.59l7.72-7.72 1.47 1.35L5.41 20z\"/>\n",
              "  </svg>\n",
              "      </button>\n",
              "      \n",
              "  <style>\n",
              "    .colab-df-container {\n",
              "      display:flex;\n",
              "      flex-wrap:wrap;\n",
              "      gap: 12px;\n",
              "    }\n",
              "\n",
              "    .colab-df-convert {\n",
              "      background-color: #E8F0FE;\n",
              "      border: none;\n",
              "      border-radius: 50%;\n",
              "      cursor: pointer;\n",
              "      display: none;\n",
              "      fill: #1967D2;\n",
              "      height: 32px;\n",
              "      padding: 0 0 0 0;\n",
              "      width: 32px;\n",
              "    }\n",
              "\n",
              "    .colab-df-convert:hover {\n",
              "      background-color: #E2EBFA;\n",
              "      box-shadow: 0px 1px 2px rgba(60, 64, 67, 0.3), 0px 1px 3px 1px rgba(60, 64, 67, 0.15);\n",
              "      fill: #174EA6;\n",
              "    }\n",
              "\n",
              "    [theme=dark] .colab-df-convert {\n",
              "      background-color: #3B4455;\n",
              "      fill: #D2E3FC;\n",
              "    }\n",
              "\n",
              "    [theme=dark] .colab-df-convert:hover {\n",
              "      background-color: #434B5C;\n",
              "      box-shadow: 0px 1px 3px 1px rgba(0, 0, 0, 0.15);\n",
              "      filter: drop-shadow(0px 1px 2px rgba(0, 0, 0, 0.3));\n",
              "      fill: #FFFFFF;\n",
              "    }\n",
              "  </style>\n",
              "\n",
              "      <script>\n",
              "        const buttonEl =\n",
              "          document.querySelector('#df-c726b997-86ac-431f-804d-ce1ec6903930 button.colab-df-convert');\n",
              "        buttonEl.style.display =\n",
              "          google.colab.kernel.accessAllowed ? 'block' : 'none';\n",
              "\n",
              "        async function convertToInteractive(key) {\n",
              "          const element = document.querySelector('#df-c726b997-86ac-431f-804d-ce1ec6903930');\n",
              "          const dataTable =\n",
              "            await google.colab.kernel.invokeFunction('convertToInteractive',\n",
              "                                                     [key], {});\n",
              "          if (!dataTable) return;\n",
              "\n",
              "          const docLinkHtml = 'Like what you see? Visit the ' +\n",
              "            '<a target=\"_blank\" href=https://colab.research.google.com/notebooks/data_table.ipynb>data table notebook</a>'\n",
              "            + ' to learn more about interactive tables.';\n",
              "          element.innerHTML = '';\n",
              "          dataTable['output_type'] = 'display_data';\n",
              "          await google.colab.output.renderOutput(dataTable, element);\n",
              "          const docLink = document.createElement('div');\n",
              "          docLink.innerHTML = docLinkHtml;\n",
              "          element.appendChild(docLink);\n",
              "        }\n",
              "      </script>\n",
              "    </div>\n",
              "  </div>\n",
              "  "
            ]
          },
          "metadata": {},
          "execution_count": 31
        }
      ]
    },
    {
      "cell_type": "code",
      "source": [
        "# age mean of the features\n",
        "mean_age_values = df.groupby('Age').mean()\n",
        "df_filled = df.copy()"
      ],
      "metadata": {
        "id": "2w51dh9MA-DT"
      },
      "execution_count": 16,
      "outputs": []
    },
    {
      "cell_type": "code",
      "source": [
        "# looping through the df\n",
        "\n",
        "for i in range(0, len(df_filled)):\n",
        "\n",
        "  if df_filled.loc[i,'Cholesterol'] == float(0):\n",
        "\n",
        "    age = df_filled.loc[i,'Age']\n",
        "\n",
        "    df_filled.loc[i, 'Cholesterol'] = mean_age_values.loc[age,'Cholesterol']\n"
      ],
      "metadata": {
        "id": "JDINg1pYBrzK"
      },
      "execution_count": 32,
      "outputs": []
    },
    {
      "cell_type": "markdown",
      "source": [
        "### **Manual encoding**\n",
        "\n",
        "Here we encode numerically according to the results observe in our EDA. If the feature appears to have more values of a certain class, that may indicate a strong influence for the class, hence we assign more or less weight, depending on how the feature affect the class."
      ],
      "metadata": {
        "id": "Px4rOcn3skPW"
      }
    },
    {
      "cell_type": "code",
      "source": [
        "# copying the df\n",
        "df_train_man = df.copy()\n",
        "\n",
        "# creating encoding dict\n",
        "Sex = {'M': 1, 'F': 0}\n",
        "ChestPainType = {'ATA': 1, 'NAP': 2, 'ASY': 3, 'TA': 0}\n",
        "RestingECG = {'Normal': 3, 'ST': 1.5, 'LVH': 1}\n",
        "ExerciseAngina = {'N': 1, 'Y': 0}\n",
        "ST_Slope = {'Down': 0, 'Flat': 2, 'Up': 1}\n",
        "\n",
        "# Encoding data\n",
        "\n",
        "df_train_man['Sex'] = df_train_man['Sex'].replace(Sex)\n",
        "df_train_man['ChestPainType'] = df_train_man['ChestPainType'].replace(ChestPainType)\n",
        "df_train_man['RestingECG'] = df_train_man['RestingECG'].replace(RestingECG)\n",
        "df_train_man['ExerciseAngina'] = df_train_man['ExerciseAngina'].replace(ExerciseAngina)\n",
        "df_train_man['ST_Slope'] = df_train_man['ST_Slope'].replace(ST_Slope)"
      ],
      "metadata": {
        "id": "6X_xsUkHqvjG"
      },
      "execution_count": null,
      "outputs": []
    },
    {
      "cell_type": "markdown",
      "source": [
        "### **Get Dummies encoding**\n",
        "\n",
        "Dummies are any variables that are either one or zero for each observation. pd.get_dummies when applied to a column of categories where we have one category per observation will produce a new column (variable) for each unique categorical value. It will place a one in the column corresponding to the categorical value present for that observation. This is equivalent to one hot encoding."
      ],
      "metadata": {
        "id": "auTdhupEur04"
      }
    },
    {
      "cell_type": "code",
      "source": [
        "# training data\n",
        "df_train_dummies = pd.get_dummies(df, drop_first = True)"
      ],
      "metadata": {
        "id": "YpMEtgBluz7v"
      },
      "execution_count": null,
      "outputs": []
    },
    {
      "cell_type": "markdown",
      "source": [
        "<a id=\"model\"></a>\n",
        "## 6. **Model Building And Evaluation**"
      ],
      "metadata": {
        "id": "t0F-ucaslj97"
      }
    },
    {
      "cell_type": "markdown",
      "source": [
        "The train-test split is a technique for evaluating the performance of a machine learning algorithm.\n",
        "\n",
        "It can be used for classification or regression problems and can be used for any supervised learning algorithm.\n",
        "\n",
        "The procedure involves taking a dataset and dividing it into two subsets. The first subset is used to fit the model and is referred to as the training dataset. The second subset is not used to train the model; instead, the input element of the dataset is provided to the model, then predictions are made and compared to the expected values. This second dataset is referred to as the test dataset.\n",
        "\n",
        "**Train Dataset**: Used to fit the machine learning model.\n",
        "**Test Dataset**: Used to evaluate the fit machine learning model."
      ],
      "metadata": {
        "id": "wca-ZzrSwLXp"
      }
    },
    {
      "cell_type": "markdown",
      "source": [
        "**Data Encoded using manual encoding**"
      ],
      "metadata": {
        "id": "uR7_jlTcxR1r"
      }
    },
    {
      "cell_type": "code",
      "source": [
        "# X and y\n",
        "X = df_train_man.drop(['HeartDisease'], axis = 1)\n",
        "\n",
        "y = df_train_man['HeartDisease']\n",
        "\n",
        "# splitting data for training and testing\n",
        "\n",
        "X_train, X_test, y_train, y_test = train_test_split(X, y, test_size = 0.2, random_state = 42)"
      ],
      "metadata": {
        "id": "nxD60MSavKX-"
      },
      "execution_count": null,
      "outputs": []
    },
    {
      "cell_type": "markdown",
      "source": [
        "**Data Encoded using get_dummies**"
      ],
      "metadata": {
        "id": "HQuSApibw8od"
      }
    },
    {
      "cell_type": "code",
      "source": [
        "# X and y\n",
        "X = df_train_dummies.drop(['HeartDisease'], axis = 1)\n",
        "\n",
        "y = df_train_dummies['HeartDisease']\n",
        "\n",
        "# splitting data for training and testing\n",
        "\n",
        "X_train_d, X_test_d, y_train_d, y_test_d = train_test_split(X, y, test_size = 0.2, random_state = 42)"
      ],
      "metadata": {
        "id": "nHeOrLEewptB"
      },
      "execution_count": null,
      "outputs": []
    },
    {
      "cell_type": "markdown",
      "source": [
        "#### **LogisticRegression**\n",
        "\n",
        "The logistic model is a statistical model that models the probability of one event taking place by having the log-odds for the event be a linear combination of one or more independent variables. "
      ],
      "metadata": {
        "id": "dhPV_JtT0GeU"
      }
    },
    {
      "cell_type": "code",
      "source": [
        "from sklearn.linear_model import LogisticRegression\n",
        "\n",
        "# Train model\n",
        "clf = LogisticRegression()\n",
        "clf.fit(X_train, y_train)\n",
        "\n",
        "clf_d = LogisticRegression()\n",
        "clf_d.fit(X_train_d, y_train_d)"
      ],
      "metadata": {
        "colab": {
          "base_uri": "https://localhost:8080/"
        },
        "id": "PJdm3H6T0aIY",
        "outputId": "b59af0b1-d0b3-4043-ad5d-bd9b13303f99"
      },
      "execution_count": null,
      "outputs": [
        {
          "output_type": "execute_result",
          "data": {
            "text/plain": [
              "LogisticRegression()"
            ]
          },
          "metadata": {},
          "execution_count": 17
        }
      ]
    },
    {
      "cell_type": "markdown",
      "source": [
        "#### **GradientBoostingClassifier**\n",
        "\n",
        "Gradient-boosted trees (GBTs) are a popular classification and regression method using ensembles of decision trees. A decision tree is a decision support tool that uses a tree-like model of decisions and their possible consequences, including chance event outcomes, resource costs, and utility. Gradient boosting is a machine learning technique used in regression and classification tasks, among others. It gives a prediction model in the form of an ensemble of weak prediction models, which are typically decision trees.When a decision tree is the weak learner, the resulting algorithm is called gradient-boosted trees."
      ],
      "metadata": {
        "id": "bXj_YnFdy_aS"
      }
    },
    {
      "cell_type": "code",
      "source": [
        "from sklearn.ensemble import GradientBoostingClassifier\n",
        "from sklearn.metrics import f1_score\n",
        "\n",
        "# train model\n",
        "GBC = GradientBoostingClassifier(n_estimators = 200, learning_rate = 1.0, max_depth = 5)\n",
        "GBC.fit(X_train, y_train)\n",
        "\n",
        "GBC_d = GradientBoostingClassifier(n_estimators = 200, learning_rate = 1.0, max_depth = 5)\n",
        "GBC_d.fit(X_train_d, y_train_d)\n"
      ],
      "metadata": {
        "colab": {
          "base_uri": "https://localhost:8080/"
        },
        "id": "duKXqxzbx19r",
        "outputId": "115c1947-c5ff-4279-8165-634c9934fb8d"
      },
      "execution_count": null,
      "outputs": [
        {
          "output_type": "execute_result",
          "data": {
            "text/plain": [
              "GradientBoostingClassifier(learning_rate=1.0, max_depth=5, n_estimators=200)"
            ]
          },
          "metadata": {},
          "execution_count": 27
        }
      ]
    },
    {
      "cell_type": "markdown",
      "source": [
        "#### **Random Forest Classifier**\n",
        "\n",
        "Random forests or random decision forests is an ensemble learning method for classification, regression and other tasks that operates by constructing a multitude of decision trees at training time. For classification tasks, the output of the random forest is the class selected by most trees."
      ],
      "metadata": {
        "id": "FJdw6aRPzVdJ"
      }
    },
    {
      "cell_type": "code",
      "source": [
        "from sklearn.ensemble import RandomForestClassifier\n",
        "from sklearn.metrics import f1_score\n",
        "from sklearn.metrics import accuracy_score\n",
        "rfc = RandomForestClassifier(n_estimators=100, max_depth=5,\n",
        "                                     random_state=0, class_weight=\"balanced\")\n",
        "\n",
        "rfc_d = RandomForestClassifier(n_estimators=100, max_depth=5,\n",
        "                                     random_state=0, class_weight=\"balanced\")\n",
        "#train the model \n",
        "rfc.fit(X_train, y_train)\n",
        "\n",
        "\n",
        "rfc_d.fit(X_train_d, y_train_d)\n"
      ],
      "metadata": {
        "colab": {
          "base_uri": "https://localhost:8080/"
        },
        "id": "8DIqG-cmzQyU",
        "outputId": "486fc8da-fbab-4560-f778-d7c9765650e1"
      },
      "execution_count": null,
      "outputs": [
        {
          "output_type": "execute_result",
          "data": {
            "text/plain": [
              "RandomForestClassifier(class_weight='balanced', max_depth=5, random_state=0)"
            ]
          },
          "metadata": {},
          "execution_count": 28
        }
      ]
    },
    {
      "cell_type": "markdown",
      "source": [
        "#### **Support Vector Machine**\n",
        "\n",
        "SVM works by mapping data to a high-dimensional feature space so that data points can be categorized, even when the data are not otherwise linearly separable. A separator between the categories is found, then the data are transformed in such a way that the separator could be drawn as a hyperplane."
      ],
      "metadata": {
        "id": "egit7ZSS3Mq6"
      }
    },
    {
      "cell_type": "code",
      "source": [
        "from sklearn import svm\n",
        "\n",
        "# Train model\n",
        "SVM = svm.SVC()\n",
        "SVM.fit(X_train, y_train)\n",
        "\n",
        "SVM_d = svm.SVC()\n",
        "SVM_d.fit(X_train_d, y_train_d)"
      ],
      "metadata": {
        "colab": {
          "base_uri": "https://localhost:8080/"
        },
        "id": "2yeb_x4I1TAO",
        "outputId": "9d4ec899-0c2b-4edb-f62d-758882f6a59c"
      },
      "execution_count": null,
      "outputs": [
        {
          "output_type": "execute_result",
          "data": {
            "text/plain": [
              "SVC()"
            ]
          },
          "metadata": {},
          "execution_count": 20
        }
      ]
    },
    {
      "cell_type": "markdown",
      "source": [
        "## **Model Evaluation**\n",
        "\n",
        "Model Evaluation is an integral part of the model development process. It helps to find the best model that represents our data and how well the chosen model will work in the future."
      ],
      "metadata": {
        "id": "HDVTKe4Z15vQ"
      }
    },
    {
      "cell_type": "code",
      "source": [
        "# Dictionary of results\n",
        "results_dict = {'Manual Encoding':\n",
        "                    {\n",
        "                        \"GradientBoostingClassifier\": accuracy_score(y_test, GBC.predict(X_test)),\n",
        "                        \"RandomForestClassifier\": accuracy_score(y_test, rfc.predict(X_test)),\n",
        "                        \"SupportVectorMachine\": accuracy_score(y_test, SVM.predict(X_test)),\n",
        "                        \"LogisticRegression\": accuracy_score(y_test, clf.predict(X_test))\n",
        "                        \n",
        "                    },\n",
        "                    'Get_Dummies Encoding':\n",
        "                    {\n",
        "                        \"GradientBoostingClassifier\": accuracy_score(y_test_d, GBC_d.predict(X_test_d)),\n",
        "                        \"RandomForestClassifier\": accuracy_score(y_test_d, rfc_d.predict(X_test_d)),\n",
        "                        \"SupportVectorMachine\": accuracy_score(y_test_d, SVM_d.predict(X_test_d)),\n",
        "                        \"LogisticRegression\": accuracy_score(y_test_d, clf_d.predict(X_test_d))\n",
        "                        \n",
        "                    }\n",
        "\n",
        "                }\n",
        "\n",
        "# Create dataframe from dictionary\n",
        "results = pd.DataFrame(results_dict)\n",
        "results.head()"
      ],
      "metadata": {
        "colab": {
          "base_uri": "https://localhost:8080/",
          "height": 175
        },
        "id": "1cZMfNIf2HMe",
        "outputId": "10852855-abb8-4a6a-9784-5e14b8c6d47c"
      },
      "execution_count": null,
      "outputs": [
        {
          "output_type": "execute_result",
          "data": {
            "text/plain": [
              "                            Manual Encoding  Get_Dummies Encoding\n",
              "GradientBoostingClassifier         0.847826              0.853261\n",
              "RandomForestClassifier             0.885870              0.858696\n",
              "SupportVectorMachine               0.684783              0.684783\n",
              "LogisticRegression                 0.842391              0.847826"
            ],
            "text/html": [
              "\n",
              "  <div id=\"df-c7c88ad0-61d4-45d5-93b9-2c32ab67a130\">\n",
              "    <div class=\"colab-df-container\">\n",
              "      <div>\n",
              "<style scoped>\n",
              "    .dataframe tbody tr th:only-of-type {\n",
              "        vertical-align: middle;\n",
              "    }\n",
              "\n",
              "    .dataframe tbody tr th {\n",
              "        vertical-align: top;\n",
              "    }\n",
              "\n",
              "    .dataframe thead th {\n",
              "        text-align: right;\n",
              "    }\n",
              "</style>\n",
              "<table border=\"1\" class=\"dataframe\">\n",
              "  <thead>\n",
              "    <tr style=\"text-align: right;\">\n",
              "      <th></th>\n",
              "      <th>Manual Encoding</th>\n",
              "      <th>Get_Dummies Encoding</th>\n",
              "    </tr>\n",
              "  </thead>\n",
              "  <tbody>\n",
              "    <tr>\n",
              "      <th>GradientBoostingClassifier</th>\n",
              "      <td>0.847826</td>\n",
              "      <td>0.853261</td>\n",
              "    </tr>\n",
              "    <tr>\n",
              "      <th>RandomForestClassifier</th>\n",
              "      <td>0.885870</td>\n",
              "      <td>0.858696</td>\n",
              "    </tr>\n",
              "    <tr>\n",
              "      <th>SupportVectorMachine</th>\n",
              "      <td>0.684783</td>\n",
              "      <td>0.684783</td>\n",
              "    </tr>\n",
              "    <tr>\n",
              "      <th>LogisticRegression</th>\n",
              "      <td>0.842391</td>\n",
              "      <td>0.847826</td>\n",
              "    </tr>\n",
              "  </tbody>\n",
              "</table>\n",
              "</div>\n",
              "      <button class=\"colab-df-convert\" onclick=\"convertToInteractive('df-c7c88ad0-61d4-45d5-93b9-2c32ab67a130')\"\n",
              "              title=\"Convert this dataframe to an interactive table.\"\n",
              "              style=\"display:none;\">\n",
              "        \n",
              "  <svg xmlns=\"http://www.w3.org/2000/svg\" height=\"24px\"viewBox=\"0 0 24 24\"\n",
              "       width=\"24px\">\n",
              "    <path d=\"M0 0h24v24H0V0z\" fill=\"none\"/>\n",
              "    <path d=\"M18.56 5.44l.94 2.06.94-2.06 2.06-.94-2.06-.94-.94-2.06-.94 2.06-2.06.94zm-11 1L8.5 8.5l.94-2.06 2.06-.94-2.06-.94L8.5 2.5l-.94 2.06-2.06.94zm10 10l.94 2.06.94-2.06 2.06-.94-2.06-.94-.94-2.06-.94 2.06-2.06.94z\"/><path d=\"M17.41 7.96l-1.37-1.37c-.4-.4-.92-.59-1.43-.59-.52 0-1.04.2-1.43.59L10.3 9.45l-7.72 7.72c-.78.78-.78 2.05 0 2.83L4 21.41c.39.39.9.59 1.41.59.51 0 1.02-.2 1.41-.59l7.78-7.78 2.81-2.81c.8-.78.8-2.07 0-2.86zM5.41 20L4 18.59l7.72-7.72 1.47 1.35L5.41 20z\"/>\n",
              "  </svg>\n",
              "      </button>\n",
              "      \n",
              "  <style>\n",
              "    .colab-df-container {\n",
              "      display:flex;\n",
              "      flex-wrap:wrap;\n",
              "      gap: 12px;\n",
              "    }\n",
              "\n",
              "    .colab-df-convert {\n",
              "      background-color: #E8F0FE;\n",
              "      border: none;\n",
              "      border-radius: 50%;\n",
              "      cursor: pointer;\n",
              "      display: none;\n",
              "      fill: #1967D2;\n",
              "      height: 32px;\n",
              "      padding: 0 0 0 0;\n",
              "      width: 32px;\n",
              "    }\n",
              "\n",
              "    .colab-df-convert:hover {\n",
              "      background-color: #E2EBFA;\n",
              "      box-shadow: 0px 1px 2px rgba(60, 64, 67, 0.3), 0px 1px 3px 1px rgba(60, 64, 67, 0.15);\n",
              "      fill: #174EA6;\n",
              "    }\n",
              "\n",
              "    [theme=dark] .colab-df-convert {\n",
              "      background-color: #3B4455;\n",
              "      fill: #D2E3FC;\n",
              "    }\n",
              "\n",
              "    [theme=dark] .colab-df-convert:hover {\n",
              "      background-color: #434B5C;\n",
              "      box-shadow: 0px 1px 3px 1px rgba(0, 0, 0, 0.15);\n",
              "      filter: drop-shadow(0px 1px 2px rgba(0, 0, 0, 0.3));\n",
              "      fill: #FFFFFF;\n",
              "    }\n",
              "  </style>\n",
              "\n",
              "      <script>\n",
              "        const buttonEl =\n",
              "          document.querySelector('#df-c7c88ad0-61d4-45d5-93b9-2c32ab67a130 button.colab-df-convert');\n",
              "        buttonEl.style.display =\n",
              "          google.colab.kernel.accessAllowed ? 'block' : 'none';\n",
              "\n",
              "        async function convertToInteractive(key) {\n",
              "          const element = document.querySelector('#df-c7c88ad0-61d4-45d5-93b9-2c32ab67a130');\n",
              "          const dataTable =\n",
              "            await google.colab.kernel.invokeFunction('convertToInteractive',\n",
              "                                                     [key], {});\n",
              "          if (!dataTable) return;\n",
              "\n",
              "          const docLinkHtml = 'Like what you see? Visit the ' +\n",
              "            '<a target=\"_blank\" href=https://colab.research.google.com/notebooks/data_table.ipynb>data table notebook</a>'\n",
              "            + ' to learn more about interactive tables.';\n",
              "          element.innerHTML = '';\n",
              "          dataTable['output_type'] = 'display_data';\n",
              "          await google.colab.output.renderOutput(dataTable, element);\n",
              "          const docLink = document.createElement('div');\n",
              "          docLink.innerHTML = docLinkHtml;\n",
              "          element.appendChild(docLink);\n",
              "        }\n",
              "      </script>\n",
              "    </div>\n",
              "  </div>\n",
              "  "
            ]
          },
          "metadata": {},
          "execution_count": 22
        }
      ]
    },
    {
      "cell_type": "markdown",
      "source": [
        "<a id=\"evaluation\"></a>\n",
        "## 7. **Model Parameter Tuning**"
      ],
      "metadata": {
        "id": "geMNKPR1pe1a"
      }
    },
    {
      "cell_type": "markdown",
      "source": [
        "<a id=\"conclusion\"></a>\n",
        "## 8. **Conclusion**"
      ],
      "metadata": {
        "id": "5l4TGiU4pjbp"
      }
    },
    {
      "cell_type": "markdown",
      "source": [
        "<a id=\"references\"></a>\n",
        "## 9. **References**"
      ],
      "metadata": {
        "id": "D6yfMmBTps4K"
      }
    }
  ]
}